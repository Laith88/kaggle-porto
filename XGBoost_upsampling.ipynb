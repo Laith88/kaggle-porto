{
 "cells": [
  {
   "cell_type": "code",
   "execution_count": 1,
   "metadata": {
    "collapsed": true
   },
   "outputs": [],
   "source": [
    "import time\n",
    "\n",
    "import numpy as np\n",
    "import pandas as pd\n",
    "import seaborn as sns\n",
    "import datetime as dt\n",
    "import xgboost as xgb\n",
    "\n",
    "from itertools import combinations\n",
    "\n",
    "import matplotlib.pyplot as plt\n",
    "from matplotlib.pylab import rcParams\n",
    "rcParams['figure.figsize'] = 24, 8\n",
    "%matplotlib inline\n",
    "\n",
    "from sklearn.model_selection import StratifiedKFold\n",
    "from sklearn.preprocessing import StandardScaler, RobustScaler, MaxAbsScaler, LabelEncoder, OneHotEncoder\n",
    "from sklearn.cluster import KMeans, MiniBatchKMeans\n",
    "\n",
    "sns.set_context(context='notebook')"
   ]
  },
  {
   "cell_type": "code",
   "execution_count": 2,
   "metadata": {
    "collapsed": true
   },
   "outputs": [],
   "source": [
    "import numpy as np\n",
    "import pandas as pd\n",
    "from xgboost import XGBClassifier\n",
    "from sklearn.model_selection import train_test_split\n",
    "from sklearn.model_selection import KFold\n",
    "from sklearn.preprocessing import LabelEncoder\n",
    "from numba import jit\n",
    "import time\n",
    "import gc"
   ]
  },
  {
   "cell_type": "code",
   "execution_count": 3,
   "metadata": {
    "collapsed": true
   },
   "outputs": [],
   "source": [
    "# Compute gini\n",
    "@jit\n",
    "def eval_gini(y_true, y_prob):\n",
    "    y_true = np.asarray(y_true)\n",
    "    y_true = y_true[np.argsort(y_prob)]\n",
    "    ntrue = 0\n",
    "    gini = 0\n",
    "    delta = 0\n",
    "    n = len(y_true)\n",
    "    for i in range(n-1, -1, -1):\n",
    "        y_i = y_true[i]\n",
    "        ntrue += y_i\n",
    "        gini += y_i * delta\n",
    "        delta += 1 - y_i\n",
    "    gini = 1 - 2 * gini / (ntrue * (n - ntrue))\n",
    "    return gini\n",
    "\n",
    "def gini_xgb(preds, dtrain):\n",
    "    labels = dtrain.get_label()\n",
    "    gini_score = -eval_gini(labels, preds)\n",
    "    return [('gini', gini_score)]"
   ]
  },
  {
   "cell_type": "code",
   "execution_count": 4,
   "metadata": {
    "collapsed": true
   },
   "outputs": [],
   "source": [
    "def prepare_data_kmeans(features_selection ='all'):\n",
    "    train = (pd.read_csv('../data/train.csv', na_values=-1)\n",
    "           .fillna(value=999))\n",
    "            \n",
    "    test  = (pd.read_csv('../data/test.csv', na_values=-1)\n",
    "               .fillna(value=999)) \n",
    "    test_id = test.id\n",
    "    y = train.target.values\n",
    "    train = train.drop(['id','target'], axis=1)\n",
    "\n",
    "    features = train.columns\n",
    "    \n",
    "    features_bin = [i for i in features if set(i)&set('bin')==set('bin')]\n",
    "    features_cat = [i for i in features if set(i)&set('cat')==set('cat')]\n",
    "    features_con = list(set(features) - (set(features_bin)|set(features_cat)))\n",
    "\n",
    "    if features_selection == 'all':\n",
    "        feature_category = features\n",
    "    elif features_selection == 'ind':\n",
    "        feature_category = [i for i in features if set(i)&set('ind')==set('ind')]\n",
    "    elif features_selection == 'reg':\n",
    "        feature_category = [i for i in features if set(i)&set('reg')==set('reg')]\n",
    "    elif features_selection == 'car':\n",
    "        feature_category = [i for i in features if set(i)&set('car')==set('car')]\n",
    "    elif features_selection == 'calc':\n",
    "        feature_category = [i for i in features if set(i)&set('calc')==set('calc')]    \n",
    "    \n",
    "    cat_features = list(set(feature_category)&set(features_cat))\n",
    "    train_cat, test_cat =[], []\n",
    "    if len(cat_features)>0:\n",
    "        train_cat = np.array(train[cat_features])\n",
    "        train_cat[:,:] = np.add(train_cat[:,:],np.ones((train_cat.shape[0],train_cat.shape[1])))\n",
    "        test_cat  = np.array(test[cat_features])\n",
    "        test_cat[:,:] =  np.add(test_cat[:,:],np.ones((test_cat.shape[0],train_cat.shape[1])))\n",
    "\n",
    "        OH = OneHotEncoder()\n",
    "        OH.fit(np.array(list(train_cat) + list(test_cat)))\n",
    "        train_cat = OH.transform(train_cat).toarray()\n",
    "        test_cat = OH.transform(test_cat).toarray()\n",
    "    \n",
    "    con_features = list(set(feature_category)&set(features_con))\n",
    "    train_con, test_con = [], []\n",
    "    if len(con_features)>0:\n",
    "        train_con = np.array(train[con_features])\n",
    "        test_con  = np.array(test[con_features])\n",
    "        RS = StandardScaler()\n",
    "        RS.fit(list(train_con) + list(test_con))\n",
    "        train_con = RS.transform(train_con)\n",
    "        train_con = RS.transform(train_con)\n",
    "    \n",
    "    bin_features = list(set(feature_category)&set(features_bin))\n",
    "\n",
    "    train_bin = np.array(train[bin_features])\n",
    "    test_bin = np.array(test[bin_features])\n",
    "\n",
    "    if len(cat_features)==0:\n",
    "        X = np.hstack((train_con,train_bin))\n",
    "        X_test = np.hstack((test_con,test_bin))\n",
    "    else:\n",
    "        X = np.hstack((train_cat,train_con,train_bin))\n",
    "        X_test = np.hstack((test_cat,test_con,test_bin))\n",
    "\n",
    "    \n",
    "    \n",
    "    return X, y, X_test, test_id"
   ]
  },
  {
   "cell_type": "code",
   "execution_count": 5,
   "metadata": {
    "collapsed": true
   },
   "outputs": [],
   "source": [
    "def add_kmeans_features():\n",
    "    #calc\n",
    "    X, y, X_test, _ = prepare_data_kmeans('ind')\n",
    "    X_all = np.vstack((X, X_test))\n",
    "    mbk = MiniBatchKMeans(init='k-means++', n_clusters=8, batch_size=100,\n",
    "                      n_init=10, max_no_improvement=10, verbose=0,\n",
    "                      random_state=0, compute_labels=True)\n",
    "    mbk.fit(X_all)\n",
    "    label_train_ind= mbk.predict(X)\n",
    "    label_test_ind = mbk.predict(X_test)\n",
    "    \n",
    "    #car\n",
    "    X, y, X_test, _ = prepare_data_kmeans('car')\n",
    "    X_all = np.vstack((X, X_test))\n",
    "    mbk = MiniBatchKMeans(init='k-means++', n_clusters=8, batch_size=100,\n",
    "                      n_init=10, max_no_improvement=10, verbose=0,\n",
    "                      random_state=0, compute_labels=True)\n",
    "    mbk.fit(X_all)\n",
    "    label_train_car = mbk.predict(X)\n",
    "    label_test_car = mbk.predict(X_test)\n",
    "    \n",
    "    #reg\n",
    "    X, y, X_test, _ = prepare_data_kmeans('reg')\n",
    "    X_all = np.vstack((X, X_test))\n",
    "    mbk = MiniBatchKMeans(init='k-means++', n_clusters=8, batch_size=100,\n",
    "                      n_init=10, max_no_improvement=10, verbose=0,\n",
    "                      random_state=0, compute_labels=True)\n",
    "    mbk.fit(X_all)\n",
    "    label_train_reg = mbk.predict(X)\n",
    "    label_test_reg = mbk.predict(X_test)\n",
    "    \n",
    "    #car\n",
    "    X, y, X_test, _ = prepare_data_kmeans('calc')\n",
    "    X_all = np.vstack((X, X_test))\n",
    "    mbk = MiniBatchKMeans(init='k-means++', n_clusters=2, batch_size=100,\n",
    "                      n_init=10, max_no_improvement=10, verbose=0,\n",
    "                      random_state=0, compute_labels=True)\n",
    "    mbk.fit(X_all)\n",
    "    label_train_calc = mbk.predict(X)\n",
    "    label_test_calc = mbk.predict(X_test)\n",
    "    \n",
    "    #X, y, X_test, test_id = prepare_data_kmeans('all')\n",
    "    \n",
    "    X = np.hstack((label_train_calc[:, np.newaxis],label_train_car[:, np.newaxis], label_train_reg[:, np.newaxis], label_train_calc[:, np.newaxis]))\n",
    "    X_test = np.hstack((label_test_calc[:, np.newaxis], label_test_car[:, np.newaxis], label_test_reg[:, np.newaxis], label_test_calc[:, np.newaxis]))\n",
    "    \n",
    "    additional_X_train = pd.DataFrame(data=X, columns=['ind_cluster_cat','car_cluster_cat','reg_cluster_cat','clac_cluster_cat'])\n",
    "    additional_X_test = pd.DataFrame(data=X, columns=['ind_cluster_cat','car_cluster_cat','reg_cluster_cat','clac_cluster_cat'])\n",
    "    \n",
    "    return additional_X_train, additional_X_test"
   ]
  },
  {
   "cell_type": "code",
   "execution_count": 6,
   "metadata": {},
   "outputs": [
    {
     "name": "stderr",
     "output_type": "stream",
     "text": [
      "/home/laith/anaconda3/lib/python3.6/site-packages/sklearn/utils/validation.py:444: DataConversionWarning: Data with input dtype int64 was converted to float64 by StandardScaler.\n",
      "  warnings.warn(msg, DataConversionWarning)\n"
     ]
    }
   ],
   "source": [
    "additional_X_train, additional_X_test = add_kmeans_features()"
   ]
  },
  {
   "cell_type": "code",
   "execution_count": 7,
   "metadata": {
    "collapsed": true
   },
   "outputs": [],
   "source": [
    "def recon_ps_reg_03(reg):\n",
    "    integer = int(np.round((40*reg)**2)) # gives 2060 for our example\n",
    "    for f in range(28):\n",
    "        if (integer - f) % 27 == 0:\n",
    "            F = f\n",
    "    M = (integer - F)//27\n",
    "    return F, M"
   ]
  },
  {
   "cell_type": "code",
   "execution_count": 8,
   "metadata": {
    "collapsed": true
   },
   "outputs": [],
   "source": [
    "def add_noise(series, noise_level):\n",
    "    return series * (1 + noise_level * np.random.randn(len(series)))"
   ]
  },
  {
   "cell_type": "code",
   "execution_count": 26,
   "metadata": {
    "collapsed": true
   },
   "outputs": [],
   "source": [
    "def target_encode(trn_series=None,    # Revised to encode validation series\n",
    "                  val_series=None,\n",
    "                  tst_series=None,\n",
    "                  target=None,\n",
    "                  min_samples_leaf=1,\n",
    "                  smoothing=1,\n",
    "                  noise_level=0):\n",
    "    \"\"\"\n",
    "    Smoothing is computed like in the following paper by Daniele Micci-Barreca\n",
    "    https://kaggle2.blob.core.windows.net/forum-message-attachments/225952/7441/high%20cardinality%20categoricals.pdf\n",
    "    trn_series : training categorical feature as a pd.Series\n",
    "    tst_series : test categorical feature as a pd.Series\n",
    "    target : target data as a pd.Series\n",
    "    min_samples_leaf (int) : minimum samples to take category average into account\n",
    "    smoothing (int) : smoothing effect to balance categorical average vs prior\n",
    "    \"\"\"\n",
    "    assert len(trn_series) == len(target)\n",
    "    #assert trn_series.name == tst_series.name\n",
    "    temp = pd.concat([trn_series, target], axis=1)\n",
    "    # Compute target mean\n",
    "    averages = temp.groupby(by=trn_series.name)[target.name].agg([\"mean\", \"count\"])\n",
    "    # Compute smoothing\n",
    "    smoothing = 1 / (1 + np.exp(-(averages[\"count\"] - min_samples_leaf) / smoothing))\n",
    "    # Apply average function to all target data\n",
    "    prior = target.mean()\n",
    "    # The bigger the count the less full_avg is taken into account\n",
    "    averages[target.name] = prior * (1 - smoothing) + averages[\"mean\"] * smoothing\n",
    "    averages.drop([\"mean\", \"count\"], axis=1, inplace=True)\n",
    "    # Apply averages to trn and tst series\n",
    "    ft_trn_series = pd.merge(\n",
    "        trn_series.to_frame(trn_series.name),\n",
    "        averages.reset_index().rename(columns={'index': target.name, target.name: 'average'}),\n",
    "        on=trn_series.name,\n",
    "        how='left')['average'].rename(trn_series.name + '_mean').fillna(prior)\n",
    "    # pd.merge does not keep the index so restore it\n",
    "    ft_trn_series.index = trn_series.index\n",
    "    ft_val_series = pd.merge(\n",
    "        val_series.to_frame(val_series.name),\n",
    "        averages.reset_index().rename(columns={'index': target.name, target.name: 'average'}),\n",
    "        on=val_series.name,\n",
    "        how='left')['average'].rename(trn_series.name + '_mean').fillna(prior)\n",
    "    # pd.merge does not keep the index so restore it\n",
    "    ft_val_series.index = val_series.index\n",
    "    ft_tst_series = pd.merge(\n",
    "        tst_series.to_frame(tst_series.name),\n",
    "        averages.reset_index().rename(columns={'index': target.name, target.name: 'average'}),\n",
    "        on=tst_series.name,\n",
    "        how='left')['average'].rename(trn_series.name + '_mean').fillna(prior)\n",
    "    # pd.merge does not keep the index so restore it\n",
    "    ft_tst_series.index = tst_series.index\n",
    "    return add_noise(ft_trn_series, noise_level), add_noise(ft_val_series, noise_level), add_noise(ft_tst_series, noise_level)"
   ]
  },
  {
   "cell_type": "code",
   "execution_count": 27,
   "metadata": {
    "collapsed": true
   },
   "outputs": [],
   "source": [
    "# Read data\n",
    "train_df = pd.read_csv('../data/train.csv', na_values=\"-1\") # .iloc[0:200,:]\n",
    "test_df = pd.read_csv('../data/test.csv', na_values=\"-1\")"
   ]
  },
  {
   "cell_type": "code",
   "execution_count": 28,
   "metadata": {
    "collapsed": true
   },
   "outputs": [],
   "source": [
    "train_df = pd.concat([train_df, additional_X_train], axis =1)\n",
    "test_df =  pd.concat([test_df, additional_X_test], axis =1)"
   ]
  },
  {
   "cell_type": "code",
   "execution_count": 29,
   "metadata": {
    "collapsed": true
   },
   "outputs": [],
   "source": [
    "train_features = [\n",
    "    \"ps_car_13\",  #            : 1571.65 / shadow  609.23\n",
    "\t\"ps_reg_03\",  #            : 1408.42 / shadow  511.15\n",
    "\t\"ps_ind_05_cat\",  #        : 1387.87 / shadow   84.72\n",
    "\t\"ps_ind_03\",  #            : 1219.47 / shadow  230.55\n",
    "\t\"ps_ind_15\",  #            :  922.18 / shadow  242.00\n",
    "\t\"ps_reg_02\",  #            :  920.65 / shadow  267.50\n",
    "\t\"ps_car_14\",  #            :  798.48 / shadow  549.58\n",
    "\t\"ps_car_12\",  #            :  731.93 / shadow  293.62\n",
    "\t\"ps_car_01_cat\",  #        :  698.07 / shadow  178.72\n",
    "\t\"ps_car_07_cat\",  #        :  694.53 / shadow   36.35\n",
    "\t\"ps_ind_17_bin\",  #        :  620.77 / shadow   23.15\n",
    "\t\"ps_car_03_cat\",  #        :  611.73 / shadow   50.67\n",
    "\t\"ps_reg_01\",  #            :  598.60 / shadow  178.57\n",
    "\t\"ps_car_15\",  #            :  593.35 / shadow  226.43\n",
    "\t\"ps_ind_01\",  #            :  547.32 / shadow  154.58\n",
    "\t\"ps_ind_16_bin\",  #        :  475.37 / shadow   34.17\n",
    "\t\"ps_ind_07_bin\",  #        :  435.28 / shadow   28.92\n",
    "\t\"ps_car_06_cat\",  #        :  398.02 / shadow  212.43\n",
    "\t\"ps_car_04_cat\",  #        :  376.87 / shadow   76.98\n",
    "\t\"ps_ind_06_bin\",  #        :  370.97 / shadow   36.13\n",
    "\t\"ps_car_09_cat\",  #        :  214.12 / shadow   81.38\n",
    "\t\"ps_car_02_cat\",  #        :  203.03 / shadow   26.67\n",
    "\t\"ps_ind_02_cat\",  #        :  189.47 / shadow   65.68\n",
    "\t\"ps_car_11\",  #            :  173.28 / shadow   76.45\n",
    "\t\"ps_car_05_cat\",  #        :  172.75 / shadow   62.92\n",
    "\t\"ps_calc_09\",  #           :  169.13 / shadow  129.72\n",
    "\t\"ps_calc_05\",  #           :  148.83 / shadow  120.68\n",
    "\t\"ps_ind_08_bin\",  #        :  140.73 / shadow   27.63\n",
    "\t\"ps_car_08_cat\",  #        :  120.87 / shadow   28.82\n",
    "\t\"ps_ind_09_bin\",  #        :  113.92 / shadow   27.05\n",
    "\t\"ps_ind_04_cat\",  #        :  107.27 / shadow   37.43\n",
    "\t\"ps_ind_18_bin\",  #        :   77.42 / shadow   25.97\n",
    "\t#\"ps_ind_12_bin\",  #        :   39.67 / shadow   15.52\n",
    "\t#\"ps_ind_14\",  #            :   37.37 / shadow   16.65\n",
    "    #'ind_cluster_cat',\n",
    "    'car_cluster_cat',\n",
    "    'reg_cluster_cat',\n",
    "    #'clac_cluster_cat'\n",
    "    #'ps_reg_F',\n",
    "    #'ps_reg_M'\n",
    "]\n",
    "# add combinations\n",
    "combs = [\n",
    "    ('ps_reg_01', 'ps_car_02_cat'),  \n",
    "    ('ps_reg_01', 'ps_car_04_cat'),\n",
    "]\n"
   ]
  },
  {
   "cell_type": "code",
   "execution_count": 30,
   "metadata": {
    "collapsed": true
   },
   "outputs": [],
   "source": [
    "# interaction_features = ['ps_car_13', 'ps_reg_03', 'ps_car_14','ps_ind_03', 'ps_reg_01', 'ps_car_04_cat']\n",
    "# combs  = list(combinations(interaction_features, 2))"
   ]
  },
  {
   "cell_type": "code",
   "execution_count": 31,
   "metadata": {
    "collapsed": true
   },
   "outputs": [],
   "source": [
    "# combs = [\n",
    "#     ('ps_reg_01', 'ps_car_02_cat'),  \n",
    "#     ('ps_reg_01', 'ps_car_04_cat'),\n",
    "#     ('ps_reg_F', 'ps_reg_M'),\n",
    "# ]"
   ]
  },
  {
   "cell_type": "code",
   "execution_count": 32,
   "metadata": {
    "collapsed": true
   },
   "outputs": [],
   "source": [
    "# # Add 'ps_reg_03' reconstruction\n",
    "# train_df['ps_reg_03'] = train_df['ps_reg_03'].fillna(-1)\n",
    "# test_df['ps_reg_03'] = test_df['ps_reg_03'].fillna(-1)\n",
    "\n",
    "# train_df['ps_reg_F'] = train_df['ps_reg_03'].apply(lambda x: recon_ps_reg_03(x)[0] if x!=-1 else -1)\n",
    "# train_df['ps_reg_M'] = train_df['ps_reg_03'].apply(lambda x: recon_ps_reg_03(x)[1] if x!=-1 else -1)\n",
    "\n",
    "# test_df['ps_reg_F'] = test_df['ps_reg_03'].apply(lambda x: recon_ps_reg_03(x)[0] if x!=-1 else -1)\n",
    "# test_df['ps_reg_M'] = test_df['ps_reg_03'].apply(lambda x: recon_ps_reg_03(x)[1] if x!=-1 else -1)"
   ]
  },
  {
   "cell_type": "code",
   "execution_count": 33,
   "metadata": {},
   "outputs": [
    {
     "name": "stdout",
     "output_type": "stream",
     "text": [
      "\n",
      "Current feature                                 ps_reg_01_plus_ps_car_02_cat    1 in   0.0\n",
      "Current feature                                 ps_reg_01_plus_ps_car_04_cat    2 in   0.0"
     ]
    }
   ],
   "source": [
    "# Process data\n",
    "id_test = test_df['id'].values\n",
    "id_train = train_df['id'].values\n",
    "y = train_df['target']\n",
    "\n",
    "start = time.time()\n",
    "for n_c, (f1, f2) in enumerate(combs):\n",
    "    name1 = f1 + \"_plus_\" + f2\n",
    "    print('\\nCurrent feature %60s %4d in %5.1f'\n",
    "          % (name1, n_c + 1, (time.time() - start) / 60), end='')\n",
    "    print('\\r' * 75, end='')\n",
    "    train_df[name1] = train_df[f1].apply(lambda x: str(x)) + \"_\" + train_df[f2].apply(lambda x: str(x))\n",
    "    test_df[name1] = test_df[f1].apply(lambda x: str(x)) + \"_\" + test_df[f2].apply(lambda x: str(x))\n",
    "    # Label Encode\n",
    "    lbl = LabelEncoder()\n",
    "    lbl.fit(list(train_df[name1].values) + list(test_df[name1].values))\n",
    "    train_df[name1] = lbl.transform(list(train_df[name1].values))\n",
    "    test_df[name1] = lbl.transform(list(test_df[name1].values))\n",
    "\n",
    "    train_features.append(name1)\n",
    "    \n"
   ]
  },
  {
   "cell_type": "code",
   "execution_count": 34,
   "metadata": {
    "collapsed": true
   },
   "outputs": [],
   "source": [
    "X = train_df[train_features]\n",
    "test_df = test_df[train_features]\n",
    "\n",
    "f_cats = [f for f in X.columns if \"_cat\" in f]"
   ]
  },
  {
   "cell_type": "code",
   "execution_count": 35,
   "metadata": {
    "collapsed": true
   },
   "outputs": [],
   "source": [
    "X = X.fillna(-1)\n",
    "test_df = test_df.fillna(-1)\n",
    "y_valid_pred = 0*y\n",
    "y_test_pred = 0"
   ]
  },
  {
   "cell_type": "code",
   "execution_count": 177,
   "metadata": {
    "collapsed": true
   },
   "outputs": [],
   "source": [
    "train_df = pd.read_csv('../data/train2.csv', na_values=\"999\") # .iloc[0:200,:]\n",
    "test_df = pd.read_csv('../data/test2.csv', na_values=\"999\")\n",
    "\n",
    "X = train_df\n",
    "X = X.drop(['target'], axis=1)\n",
    "y = train_df['target']\n",
    "\n",
    "X = X.fillna(999)\n",
    "test_df = test_df.fillna(999)\n",
    "test_df = test_df.drop(['id'], axis=1)"
   ]
  },
  {
   "cell_type": "code",
   "execution_count": 178,
   "metadata": {
    "collapsed": true
   },
   "outputs": [],
   "source": []
  },
  {
   "cell_type": "code",
   "execution_count": 152,
   "metadata": {
    "collapsed": true
   },
   "outputs": [],
   "source": [
    "K = 5\n",
    "kf = StratifiedKFold(n_splits = K, random_state = 1, shuffle = True)\n",
    "np.random.seed(42)"
   ]
  },
  {
   "cell_type": "code",
   "execution_count": 184,
   "metadata": {
    "collapsed": true
   },
   "outputs": [],
   "source": [
    "INCREASE = False\n",
    "MAX_ROUNDS = 400 #220\n",
    "OPTIMIZE_ROUNDS = 1\n",
    "LEARNING_RATE = 0.07\n",
    "EARLY_STOPPING_ROUNDS = 70"
   ]
  },
  {
   "cell_type": "code",
   "execution_count": 185,
   "metadata": {
    "collapsed": true
   },
   "outputs": [],
   "source": [
    "#optimized with lower learning rate\n",
    "params = {'tree_method':'gpu_hist', 'predictor':'gpu_predictor'}\n",
    "\n",
    "model = XGBClassifier(    \n",
    "                        n_estimators=MAX_ROUNDS,\n",
    "                        max_depth=4,\n",
    "                        objective=\"binary:logistic\",\n",
    "                        learning_rate=0.07,\n",
    "                        max_delta_step=1.8,\n",
    "                        subsample=.8,\n",
    "                        min_child_weight=1,#??\n",
    "                        colsample_bytree=0.8,\n",
    "                        colsample_bylevel=0.432,\n",
    "                        scale_pos_weight=1.6,\n",
    "                        gamma=10,\n",
    "                        reg_alpha=8,\n",
    "                        reg_lambda=1.3,\n",
    "                        n_jobs=12,\n",
    "                        missing=999,\n",
    "                        **params\n",
    "                     )"
   ]
  },
  {
   "cell_type": "code",
   "execution_count": 186,
   "metadata": {},
   "outputs": [
    {
     "name": "stdout",
     "output_type": "stream",
     "text": [
      "\n",
      "Fold  0\n",
      "  Best N trees =  350\n",
      "  Best gini =  -0.295246\n",
      "  Gini =  0.2944701523559977\n",
      "\n",
      "Fold  1\n",
      "  Best N trees =  273\n",
      "  Best gini =  -0.286483\n",
      "  Gini =  0.28610334401488113\n",
      "\n",
      "Fold  2\n",
      "  Best N trees =  392\n",
      "  Best gini =  -0.27792\n",
      "  Gini =  0.2776370019492198\n",
      "\n",
      "Fold  3\n",
      "  Best N trees =  206\n",
      "  Best gini =  -0.28013\n",
      "  Gini =  0.2796135479539825\n",
      "\n",
      "Fold  4\n",
      "  Best N trees =  222\n",
      "  Best gini =  -0.298926\n",
      "  Gini =  0.29824903056003993\n"
     ]
    }
   ],
   "source": [
    "# Run CV\n",
    "\n",
    "for i, (train_index, test_index) in enumerate(kf.split(X, y)):\n",
    "    \n",
    "    # Create data for this fold\n",
    "    y_train, y_valid = y.iloc[train_index].copy(), y.iloc[test_index]\n",
    "    X_train, X_valid = X.iloc[train_index,:].copy(), X.iloc[test_index,:].copy()\n",
    "    X_test = test_df.copy()\n",
    "    print( \"\\nFold \", i)\n",
    "    \n",
    "#     for f in f_cats:\n",
    "#         X_train[f + \"_avg\"], X_valid[f + \"_avg\"], X_test[f + \"_avg\"] = target_encode(\n",
    "#                                                         trn_series=X_train[f],\n",
    "#                                                         val_series=X_valid[f],\n",
    "#                                                         tst_series=X_test[f],\n",
    "                       \n",
    "#             target=y_train,\n",
    "#                                                         min_samples_leaf=200,\n",
    "#                                                         smoothing=10,\n",
    "#                                                         noise_level=0\n",
    "#                                                         )\n",
    "    #X_train = X_train[list(set(X_train.columns.tolist())&set(test_features))]\n",
    "    #X_valid = X_train[list(set(X_valid.columns.tolist())&set(test_features))]\n",
    "    #X_test = X_train[list(set(X_test.columns.tolist())&set(test_features))]\n",
    "    if INCREASE:\n",
    "        # Get positive examples\n",
    "        pos = pd.Series(y_train == 1)\n",
    "        # Add positive examples\n",
    "        X_train = pd.concat([X_train, X_train.loc[pos]], axis=0)\n",
    "        y_train = pd.concat([y_train, y_train.loc[pos]], axis=0)\n",
    "        # Shuffle data\n",
    "        idx = np.arange(len(X_train))\n",
    "        np.random.shuffle(idx)\n",
    "        X_train = X_train.iloc[idx]\n",
    "        y_train = y_train.iloc[idx]\n",
    "        \n",
    "    features_list=X_train.columns.tolist()\n",
    "    # Run model for this fold\n",
    "    if OPTIMIZE_ROUNDS:\n",
    "        eval_set=[(X_valid,y_valid)]\n",
    "        fit_model = model.fit( X_train, y_train, \n",
    "                               eval_set=eval_set,\n",
    "                               eval_metric=gini_xgb,\n",
    "                               early_stopping_rounds=EARLY_STOPPING_ROUNDS,\n",
    "                               verbose=False\n",
    "                             )\n",
    "        print( \"  Best N trees = \", model.best_ntree_limit )\n",
    "        print( \"  Best gini = \", model.best_score )\n",
    "    else:\n",
    "        fit_model = model.fit( X_train, y_train )\n",
    "        \n",
    "    # Generate validation predictions for this fold\n",
    "    pred = fit_model.predict_proba(X_valid)[:,1]\n",
    "    print( \"  Gini = \", eval_gini(y_valid, pred) )\n",
    "    y_valid_pred.iloc[test_index] = pred\n",
    "    \n",
    "    # Accumulate test set predictions\n",
    "    y_test_pred += fit_model.predict_proba(X_test)[:,1]\n",
    "    \n",
    "    del X_test, X_train, X_valid, y_train\n",
    "    \n",
    "y_test_pred /= K  # Average test set predictions\n",
    "\n",
    "#print( \"\\nGini for full training set:\" )\n",
    "#eval_gini(y, y_valid_pred)"
   ]
  },
  {
   "cell_type": "markdown",
   "metadata": {},
   "source": [
    "## To beat\n",
    "Fold  0\n",
    "  Gini =  0.28577479476034384\n",
    "\n",
    "Fold  1\n",
    "  Gini =  0.2820181021610354\n",
    "\n",
    "Fold  2\n",
    "  Gini =  0.27447821899775116\n",
    "\n",
    "Fold  3\n",
    "  Gini =  0.3002858171526739\n",
    "\n",
    "Fold  4\n",
    "  Gini =  0.28670001163168546\n",
    "\n",
    "Gini for full training set:\n",
    "\n",
    "0.285616567975407\n",
    "\n",
    "_________________\n",
    "with col_Sample_bylevel = 0.432\n",
    "\n",
    "Fold  0\n",
    "  Gini =  0.28603964906233725\n",
    "\n",
    "Fold  1\n",
    "  Gini =  0.2832226324605184\n",
    "\n",
    "Fold  2\n",
    "  Gini =  0.2745468628496861\n",
    "\n",
    "Fold  3\n",
    "  Gini =  0.29956956674946655\n",
    "\n",
    "Fold  4\n",
    "  Gini =  0.2864886533468135\n",
    "\n",
    "Gini for full training set:\n",
    "\n",
    "0.2857499513065509"
   ]
  },
  {
   "cell_type": "code",
   "execution_count": 156,
   "metadata": {
    "collapsed": true
   },
   "outputs": [],
   "source": [
    "y_test_hard = y_test_pred"
   ]
  },
  {
   "cell_type": "code",
   "execution_count": 149,
   "metadata": {
    "collapsed": true
   },
   "outputs": [],
   "source": [
    "y_test_easy = y_test_pred"
   ]
  },
  {
   "cell_type": "code",
   "execution_count": 183,
   "metadata": {},
   "outputs": [
    {
     "data": {
      "text/plain": [
       "0"
      ]
     },
     "execution_count": 183,
     "metadata": {},
     "output_type": "execute_result"
    }
   ],
   "source": [
    "(y_test_easy>y_test_hard).sum()"
   ]
  },
  {
   "cell_type": "code",
   "execution_count": 179,
   "metadata": {
    "collapsed": true
   },
   "outputs": [],
   "source": [
    "y_test_pred = (0.2*y_test_easy+0.8*y_test_hard)"
   ]
  },
  {
   "cell_type": "code",
   "execution_count": 157,
   "metadata": {},
   "outputs": [
    {
     "data": {
      "text/plain": [
       "(array([  7.76390000e+04,   2.45420000e+05,   2.33389000e+05,\n",
       "          1.62820000e+05,   9.71790000e+04,   4.94760000e+04,\n",
       "          2.03110000e+04,   5.75500000e+03,   7.92000000e+02,\n",
       "          3.50000000e+01]),\n",
       " array([ 0.1320623 ,  0.22724798,  0.32243365,  0.41761933,  0.512805  ,\n",
       "         0.60799067,  0.70317635,  0.79836202,  0.8935477 ,  0.98873337,\n",
       "         1.08391905]),\n",
       " <a list of 10 Patch objects>)"
      ]
     },
     "execution_count": 157,
     "metadata": {},
     "output_type": "execute_result"
    },
    {
     "data": {
      "image/png": "[encoded data removed]",
      "text/plain": [
       "<matplotlib.figure.Figure at 0x7f7c4d680e48>"
      ]
     },
     "metadata": {},
     "output_type": "display_data"
    }
   ],
   "source": [
    "plt.hist(y_test_easy, alpha=0.5)"
   ]
  },
  {
   "cell_type": "code",
   "execution_count": 161,
   "metadata": {},
   "outputs": [
    {
     "data": {
      "text/plain": [
       "(0.1320623, 1.083919)"
      ]
     },
     "execution_count": 161,
     "metadata": {},
     "output_type": "execute_result"
    }
   ],
   "source": [
    "y_test_easy.min(),y_test_hard.max()"
   ]
  },
  {
   "cell_type": "code",
   "execution_count": 167,
   "metadata": {
    "collapsed": true
   },
   "outputs": [],
   "source": [
    "y_test_hard[y_test_hard>1]=1"
   ]
  },
  {
   "cell_type": "code",
   "execution_count": 168,
   "metadata": {},
   "outputs": [
    {
     "data": {
      "text/plain": [
       "0"
      ]
     },
     "execution_count": 168,
     "metadata": {},
     "output_type": "execute_result"
    }
   ],
   "source": [
    "(y_test_hard>1).sum()"
   ]
  },
  {
   "cell_type": "code",
   "execution_count": 169,
   "metadata": {},
   "outputs": [
    {
     "data": {
      "text/plain": [
       "(array([  61493.,  215788.,  223510.,  169202.,  110928.,   63524.,\n",
       "          31770.,   12698.,    3459.,     444.]),\n",
       " array([ 0.1320623 ,  0.21885607,  0.30564984,  0.39244361,  0.47923738,\n",
       "         0.56603115,  0.65282492,  0.73961869,  0.82641246,  0.91320623,  1.        ]),\n",
       " <a list of 10 Patch objects>)"
      ]
     },
     "execution_count": 169,
     "metadata": {},
     "output_type": "execute_result"
    },
    {
     "data": {
      "image/png": "[encoded data removed]",
      "text/plain": [
       "<matplotlib.figure.Figure at 0x7f7c4d672080>"
      ]
     },
     "metadata": {},
     "output_type": "display_data"
    }
   ],
   "source": [
    "plt.hist(y_test_hard)\n"
   ]
  },
  {
   "cell_type": "code",
   "execution_count": 172,
   "metadata": {},
   "outputs": [
    {
     "data": {
      "text/plain": [
       "(0.1320623, 1.0)"
      ]
     },
     "execution_count": 172,
     "metadata": {},
     "output_type": "execute_result"
    }
   ],
   "source": [
    "y_test_pred.min(), y_test_pred.max()"
   ]
  },
  {
   "cell_type": "code",
   "execution_count": 180,
   "metadata": {},
   "outputs": [
    {
     "data": {
      "text/plain": [
       "(array([  61493.,  215788.,  223510.,  169202.,  110928.,   63524.,\n",
       "          31770.,   12698.,    3459.,     444.]),\n",
       " array([ 0.1320623 ,  0.21885607,  0.30564984,  0.39244361,  0.47923738,\n",
       "         0.56603115,  0.65282492,  0.73961869,  0.82641246,  0.91320623,  1.        ]),\n",
       " <a list of 10 Patch objects>)"
      ]
     },
     "execution_count": 180,
     "metadata": {},
     "output_type": "execute_result"
    },
    {
     "data": {
      "image/png": "[encoded data removed]",
      "text/plain": [
       "<matplotlib.figure.Figure at 0x7f7c4d7695f8>"
      ]
     },
     "metadata": {},
     "output_type": "display_data"
    }
   ],
   "source": [
    "plt.hist(y_test_pred)"
   ]
  },
  {
   "cell_type": "code",
   "execution_count": 174,
   "metadata": {},
   "outputs": [
    {
     "data": {
      "text/plain": [
       "array([], dtype=float32)"
      ]
     },
     "execution_count": 174,
     "metadata": {},
     "output_type": "execute_result"
    }
   ],
   "source": [
    "y_test_pred[y_test_pred>1]"
   ]
  },
  {
   "cell_type": "code",
   "execution_count": 175,
   "metadata": {
    "collapsed": true
   },
   "outputs": [],
   "source": [
    "# Create submission file\n",
    "sub = pd.DataFrame()\n",
    "sub['id'] = id_test\n",
    "sub['target'] = y_test_pred\n",
    "filename = 'model_'+str(dt.datetime.now()).replace(' ','_').replace(':','').replace('.','')\n",
    "sub.id = sub.id.astype('Int32')\n",
    "sub.to_csv('../output/'+filename+'.csv.gz', index=False, compression='gzip')"
   ]
  },
  {
   "cell_type": "code",
   "execution_count": 131,
   "metadata": {},
   "outputs": [
    {
     "data": {
      "image/png": "[encoded data removed]",
      "text/plain": [
       "<matplotlib.figure.Figure at 0x7f7c4d867d30>"
      ]
     },
     "metadata": {},
     "output_type": "display_data"
    }
   ],
   "source": [
    "feat_imp = pd.Series(fit_model.feature_importances_).sort_values(ascending=False)\n",
    "feat_imp.rename(index={i:features_list[i] for i in feat_imp.index.tolist()}, inplace=True)\n",
    "feat_imp.plot(kind='bar', title='Feature Importances', figsize=(16,9))\n",
    "plt.ylabel('Feature Importance Score')\n",
    "plt.grid()\n",
    "plt.show()"
   ]
  },
  {
   "cell_type": "code",
   "execution_count": null,
   "metadata": {
    "collapsed": true
   },
   "outputs": [],
   "source": []
  }
 ],
 "metadata": {
  "kernelspec": {
   "display_name": "Python 3",
   "language": "python",
   "name": "python3"
  },
  "language_info": {
   "codemirror_mode": {
    "name": "ipython",
    "version": 3
   },
   "file_extension": ".py",
   "mimetype": "text/x-python",
   "name": "python",
   "nbconvert_exporter": "python",
   "pygments_lexer": "ipython3",
   "version": "3.6.2"
  }
 },
 "nbformat": 4,
 "nbformat_minor": 2
}
