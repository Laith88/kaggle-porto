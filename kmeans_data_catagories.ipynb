{
 "cells": [
  {
   "cell_type": "code",
   "execution_count": 3,
   "metadata": {
    "collapsed": true
   },
   "outputs": [],
   "source": [
    "import pandas as pd\n",
    "import numpy as np\n",
    "from time import time\n",
    "from scipy import sparse\n",
    "import matplotlib.pylab as plt\n",
    "\n",
    "from sklearn.cluster import KMeans, MiniBatchKMeans\n",
    "from sklearn.model_selection import cross_val_score,  train_test_split\n",
    "from sklearn.preprocessing import StandardScaler, OneHotEncoder\n",
    "from sklearn.metrics import adjusted_mutual_info_score, calinski_harabaz_score, silhouette_score"
   ]
  },
  {
   "cell_type": "code",
   "execution_count": 4,
   "metadata": {
    "collapsed": true
   },
   "outputs": [],
   "source": [
    "%matplotlib inline"
   ]
  },
  {
   "cell_type": "code",
   "execution_count": 5,
   "metadata": {
    "collapsed": true
   },
   "outputs": [],
   "source": [
    "def prepare_data(features_selection ='all'):\n",
    "    train = (pd.read_csv('../data/train.csv', na_values=-1)\n",
    "           .fillna(value=999))\n",
    "            \n",
    "    test  = (pd.read_csv('../data/test.csv', na_values=-1)\n",
    "               .fillna(value=999)) \n",
    "    test_id = test.id\n",
    "    y = train.target.values\n",
    "    train = train.drop(['id','target'], axis=1)\n",
    "\n",
    "    features = train.columns\n",
    "    \n",
    "    features_bin = [i for i in features if set(i)&set('bin')==set('bin')]\n",
    "    features_cat = [i for i in features if set(i)&set('cat')==set('cat')]\n",
    "    features_con = list(set(features) - (set(features_bin)|set(features_cat)))\n",
    "\n",
    "    if features_selection == 'all':\n",
    "        feature_category = features\n",
    "    elif features_selection == 'ind':\n",
    "        feature_category = [i for i in features if set(i)&set('ind')==set('ind')]\n",
    "    elif features_selection == 'reg':\n",
    "        feature_category = [i for i in features if set(i)&set('reg')==set('reg')]\n",
    "    elif features_selection == 'car':\n",
    "        feature_category = [i for i in features if set(i)&set('car')==set('car')]\n",
    "    elif features_selection == 'calc':\n",
    "        feature_category = [i for i in features if set(i)&set('calc')==set('calc')]    \n",
    "    \n",
    "    cat_features = list(set(feature_category)&set(features_cat))\n",
    "    train_cat, test_cat =[], []\n",
    "    if len(cat_features)>0:\n",
    "        train_cat = np.array(train[cat_features])\n",
    "        train_cat[:,:] = np.add(train_cat[:,:],np.ones((train_cat.shape[0],train_cat.shape[1])))\n",
    "        test_cat  = np.array(test[cat_features])\n",
    "        test_cat[:,:] =  np.add(test_cat[:,:],np.ones((test_cat.shape[0],train_cat.shape[1])))\n",
    "\n",
    "        OH = OneHotEncoder()\n",
    "        OH.fit(np.array(list(train_cat) + list(test_cat)))\n",
    "        train_cat = OH.transform(train_cat).toarray()\n",
    "        test_cat = OH.transform(test_cat).toarray()\n",
    "    \n",
    "    con_features = list(set(feature_category)&set(features_con))\n",
    "    train_con, test_con = [], []\n",
    "    if len(con_features)>0:\n",
    "        train_con = np.array(train[con_features])\n",
    "        test_con  = np.array(test[con_features])\n",
    "        RS = StandardScaler()\n",
    "        RS.fit(list(train_con) + list(test_con))\n",
    "        train_con = RS.transform(train_con)\n",
    "        train_con = RS.transform(train_con)\n",
    "    \n",
    "    bin_features = list(set(feature_category)&set(features_bin))\n",
    "\n",
    "    train_bin = np.array(train[bin_features])\n",
    "    test_bin = np.array(test[bin_features])\n",
    "\n",
    "    if len(cat_features)==0:\n",
    "        X = np.hstack((train_con,train_bin))\n",
    "        X_test = np.hstack((test_con,test_bin))\n",
    "    else:\n",
    "        X = np.hstack((train_cat,train_con,train_bin))\n",
    "        X_test = np.hstack((test_cat,test_con,test_bin))\n",
    "\n",
    "    \n",
    "    \n",
    "    return X, y, X_test, test_id"
   ]
  },
  {
   "cell_type": "code",
   "execution_count": 6,
   "metadata": {
    "collapsed": true
   },
   "outputs": [],
   "source": [
    "def add_kmeans_features():\n",
    "    #calc\n",
    "    X, y, X_test, _ = prepare_data('ind')\n",
    "    X_all = np.vstack((X, X_test))\n",
    "    mbk = MiniBatchKMeans(init='k-means++', n_clusters=8, batch_size=100,\n",
    "                      n_init=10, max_no_improvement=10, verbose=0,\n",
    "                      random_state=0, compute_labels=True)\n",
    "    mbk.fit(X_all)\n",
    "    label_train_ind = mbk.predict(X)\n",
    "    label_test_ind = mbk.predict(X_test)\n",
    "    \n",
    "    #car\n",
    "    X, y, X_test, _ = prepare_data('car')\n",
    "    X_all = np.vstack((X, X_test))\n",
    "    mbk = MiniBatchKMeans(init='k-means++', n_clusters=5, batch_size=100,\n",
    "                      n_init=10, max_no_improvement=10, verbose=0,\n",
    "                      random_state=0, compute_labels=True)\n",
    "    mbk.fit(X_all)\n",
    "    label_train_car = mbk.predict(X)\n",
    "    label_test_car = mbk.predict(X_test)\n",
    "    \n",
    "    #reg\n",
    "    X, y, X_test, _ = prepare_data('reg')\n",
    "    X_all = np.vstack((X, X_test))\n",
    "    mbk = MiniBatchKMeans(init='k-means++', n_clusters=5, batch_size=100,\n",
    "                      n_init=10, max_no_improvement=10, verbose=0,\n",
    "                      random_state=0, compute_labels=True)\n",
    "    mbk.fit(X_all)\n",
    "    label_train_reg = mbk.predict(X)\n",
    "    label_test_reg = mbk.predict(X_test)\n",
    "    \n",
    "    #car\n",
    "    X, y, X_test, _ = prepare_data('calc')\n",
    "    X_all = np.vstack((X, X_test))\n",
    "    mbk = MiniBatchKMeans(init='k-means++', n_clusters=8, batch_size=100,\n",
    "                      n_init=10, max_no_improvement=10, verbose=0,\n",
    "                      random_state=0, compute_labels=True)\n",
    "    mbk.fit(X_all)\n",
    "    label_train_calc = mbk.predict(X)\n",
    "    label_test_calc = mbk.predict(X_test)\n",
    "    \n",
    "    X, y, X_test, test_id = prepare_data('all')\n",
    "    \n",
    "    X = np.hstack((X, label_train_calc[:, np.newaxis],label_train_car[:, np.newaxis], label_train_reg[:, np.newaxis], label_train_calc[:, np.newaxis]))\n",
    "    X_test = np.hstack((X_test, label_test_calc[:, np.newaxis], label_test_car[:, np.newaxis], label_test_reg[:, np.newaxis], label_test_calc[:, np.newaxis]))\n",
    "    \n",
    "    return X, y, X_test, test_id"
   ]
  },
  {
   "cell_type": "code",
   "execution_count": 121,
   "metadata": {
    "collapsed": true
   },
   "outputs": [],
   "source": [
    "X, y, X_test, _ = prepare_data('all')"
   ]
  },
  {
   "cell_type": "code",
   "execution_count": 140,
   "metadata": {},
   "outputs": [
    {
     "name": "stdout",
     "output_type": "stream",
     "text": [
      "135113124 595212 595212 595212 595212\n"
     ]
    }
   ],
   "source": [
    "X, y, X_test, test_id = add_kmeans_features()"
   ]
  },
  {
   "cell_type": "code",
   "execution_count": 103,
   "metadata": {
    "collapsed": true
   },
   "outputs": [],
   "source": [
    "#X_train, X_test, y_train, y_test = train_test_split(X, y, test_size=0.1, random_state=512, stratify=y, shuffle=True)"
   ]
  },
  {
   "cell_type": "code",
   "execution_count": 15,
   "metadata": {},
   "outputs": [],
   "source": [
    "X, y, X_test, _ = prepare_data('reg')\n",
    "X = np.vstack((X, X_test))"
   ]
  },
  {
   "cell_type": "code",
   "execution_count": 16,
   "metadata": {},
   "outputs": [
    {
     "data": {
      "image/png": "[encoded data removed]",
      "text/plain": [
       "<matplotlib.figure.Figure at 0x7f3bab888c50>"
      ]
     },
     "metadata": {},
     "output_type": "display_data"
    }
   ],
   "source": [
    "scores = []\n",
    "nclusters =[]\n",
    "for clusters in range(1,50):\n",
    "    mbk = MiniBatchKMeans(init='k-means++', n_clusters=clusters, batch_size=100,\n",
    "                      n_init=10, max_no_improvement=10, verbose=0,\n",
    "                      random_state=0, compute_labels=True)\n",
    "    mbk.fit(X)\n",
    "    scores.append(mbk.inertia_)\n",
    "    nclusters.append(clusters)\n",
    "    #print(\"For n_clusters={}, The Silhouette Coefficient is {}\".format(clusters, mbk.inertia_))\n",
    "clusters_df = pd.DataFrame( { \"num_clusters\":nclusters, \"cluster_errors\": scores } )\n",
    "plt.figure(figsize=(12,6))\n",
    "plt.plot( clusters_df.num_clusters, clusters_df.cluster_errors, marker = \"o\" )\n",
    "plt.show()"
   ]
  },
  {
   "cell_type": "code",
   "execution_count": 86,
   "metadata": {
    "collapsed": true
   },
   "outputs": [],
   "source": [
    "mbk = MiniBatchKMeans(init='k-means++', n_clusters=8, batch_size=100,\n",
    "                      n_init=10, max_no_improvement=10, verbose=0,\n",
    "                      random_state=0, compute_labels=True)"
   ]
  },
  {
   "cell_type": "code",
   "execution_count": 87,
   "metadata": {},
   "outputs": [
    {
     "data": {
      "text/plain": [
       "MiniBatchKMeans(batch_size=100, compute_labels=True, init='k-means++',\n",
       "        init_size=None, max_iter=100, max_no_improvement=10, n_clusters=8,\n",
       "        n_init=10, random_state=0, reassignment_ratio=0.01, tol=0.0,\n",
       "        verbose=0)"
      ]
     },
     "execution_count": 87,
     "metadata": {},
     "output_type": "execute_result"
    }
   ],
   "source": [
    "mbk.fit(X_all)"
   ]
  },
  {
   "cell_type": "code",
   "execution_count": 88,
   "metadata": {
    "collapsed": true
   },
   "outputs": [],
   "source": [
    "label_train = mbk.predict(X)"
   ]
  },
  {
   "cell_type": "code",
   "execution_count": 89,
   "metadata": {
    "collapsed": true
   },
   "outputs": [],
   "source": [
    "label_test = mbk.predict(X_test)"
   ]
  },
  {
   "cell_type": "code",
   "execution_count": 93,
   "metadata": {},
   "outputs": [
    {
     "data": {
      "text/plain": [
       "(892816,)"
      ]
     },
     "execution_count": 93,
     "metadata": {},
     "output_type": "execute_result"
    }
   ],
   "source": [
    "label_test.shape"
   ]
  },
  {
   "cell_type": "code",
   "execution_count": null,
   "metadata": {
    "collapsed": true
   },
   "outputs": [],
   "source": []
  }
 ],
 "metadata": {
  "kernelspec": {
   "display_name": "Python 3",
   "language": "python",
   "name": "python3"
  },
  "language_info": {
   "codemirror_mode": {
    "name": "ipython",
    "version": 3
   },
   "file_extension": ".py",
   "mimetype": "text/x-python",
   "name": "python",
   "nbconvert_exporter": "python",
   "pygments_lexer": "ipython3",
   "version": "3.6.2"
  }
 },
 "nbformat": 4,
 "nbformat_minor": 2
}
