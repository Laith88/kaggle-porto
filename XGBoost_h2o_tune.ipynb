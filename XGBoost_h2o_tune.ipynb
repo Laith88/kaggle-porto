{
 "cells": [
  {
   "cell_type": "code",
   "execution_count": 1,
   "metadata": {
    "collapsed": true
   },
   "outputs": [],
   "source": [
    "import os\n",
    "import h2o\n",
    "import pandas as pd\n",
    "import numpy as np\n",
    "import datetime as dt\n",
    "from h2o.grid.grid_search import H2OGridSearch\n",
    "from h2o.estimators import H2OXGBoostEstimator"
   ]
  },
  {
   "cell_type": "code",
   "execution_count": 3,
   "metadata": {},
   "outputs": [
    {
     "name": "stdout",
     "output_type": "stream",
     "text": [
      "Checking whether there is an H2O instance running at http://localhost:54321. connected.\n"
     ]
    },
    {
     "data": {
      "text/html": [
       "<div style=\"overflow:auto\"><table style=\"width:50%\"><tr><td>H2O cluster uptime:</td>\n",
       "<td>1 hour 22 mins</td></tr>\n",
       "<tr><td>H2O cluster version:</td>\n",
       "<td>3.14.0.7</td></tr>\n",
       "<tr><td>H2O cluster version age:</td>\n",
       "<td>17 days </td></tr>\n",
       "<tr><td>H2O cluster name:</td>\n",
       "<td>H2O_from_python_laith_wzp11j</td></tr>\n",
       "<tr><td>H2O cluster total nodes:</td>\n",
       "<td>1</td></tr>\n",
       "<tr><td>H2O cluster free memory:</td>\n",
       "<td>17.03 Gb</td></tr>\n",
       "<tr><td>H2O cluster total cores:</td>\n",
       "<td>12</td></tr>\n",
       "<tr><td>H2O cluster allowed cores:</td>\n",
       "<td>12</td></tr>\n",
       "<tr><td>H2O cluster status:</td>\n",
       "<td>locked, healthy</td></tr>\n",
       "<tr><td>H2O connection url:</td>\n",
       "<td>http://localhost:54321</td></tr>\n",
       "<tr><td>H2O connection proxy:</td>\n",
       "<td>None</td></tr>\n",
       "<tr><td>H2O internal security:</td>\n",
       "<td>False</td></tr>\n",
       "<tr><td>H2O API Extensions:</td>\n",
       "<td>XGBoost, Algos, AutoML, Core V3, Core V4</td></tr>\n",
       "<tr><td>Python version:</td>\n",
       "<td>3.6.2 final</td></tr></table></div>"
      ],
      "text/plain": [
       "--------------------------  ----------------------------------------\n",
       "H2O cluster uptime:         1 hour 22 mins\n",
       "H2O cluster version:        3.14.0.7\n",
       "H2O cluster version age:    17 days\n",
       "H2O cluster name:           H2O_from_python_laith_wzp11j\n",
       "H2O cluster total nodes:    1\n",
       "H2O cluster free memory:    17.03 Gb\n",
       "H2O cluster total cores:    12\n",
       "H2O cluster allowed cores:  12\n",
       "H2O cluster status:         locked, healthy\n",
       "H2O connection url:         http://localhost:54321\n",
       "H2O connection proxy:\n",
       "H2O internal security:      False\n",
       "H2O API Extensions:         XGBoost, Algos, AutoML, Core V3, Core V4\n",
       "Python version:             3.6.2 final\n",
       "--------------------------  ----------------------------------------"
      ]
     },
     "metadata": {},
     "output_type": "display_data"
    }
   ],
   "source": [
    "h2o.init(nthreads = -1, max_mem_size = 25)"
   ]
  },
  {
   "cell_type": "code",
   "execution_count": 6,
   "metadata": {},
   "outputs": [
    {
     "data": {
      "text/plain": [
       "True"
      ]
     },
     "execution_count": 6,
     "metadata": {},
     "output_type": "execute_result"
    }
   ],
   "source": [
    "H2OXGBoostEstimator.available()"
   ]
  },
  {
   "cell_type": "code",
   "execution_count": 7,
   "metadata": {
    "collapsed": true
   },
   "outputs": [],
   "source": [
    "def prepare_data(with_validation = True):\n",
    "    train = h2o.import_file(os.path.realpath(\"../data/train2.csv\"))\n",
    "    test  = h2o.import_file(os.path.realpath(\"../data/test2.csv\"))\n",
    "    \n",
    "    x = train.columns\n",
    "    y = \"target\"\n",
    "    x.remove(y)\n",
    "    \n",
    "    test_id = test['id'].as_data_frame(True).id.values\n",
    "    \n",
    "    features_bin = [i for i in x if set(i)&set('bin')==set('bin')]\n",
    "    features_cat = [i for i in x if (set(i)&set('cat')==set('cat'))&(set(i)&set('avg')!=set('avg'))]\n",
    "    features_con = list(set(x) - (set(features_bin)|set(features_cat)))\n",
    "    \n",
    "    train[features_cat] = train[features_cat].asfactor()\n",
    "    train[features_bin] = train[features_bin].asfactor()\n",
    "    train[features_con] = train[features_con].asnumeric()\n",
    "    \n",
    "    test[features_cat] = test[features_cat].asfactor()\n",
    "    test[features_bin] = test[features_bin].asfactor()\n",
    "    test[features_con] = test[features_con].asnumeric()\n",
    "    \n",
    "    train['target'] = train['target'].asfactor()\n",
    "    \n",
    "    return train, test, x, y, test_id"
   ]
  },
  {
   "cell_type": "code",
   "execution_count": 8,
   "metadata": {},
   "outputs": [
    {
     "name": "stdout",
     "output_type": "stream",
     "text": [
      "Parse progress: |█████████████████████████████████████████████████████████| 100%\n",
      "Parse progress: |█████████████████████████████████████████████████████████| 100%\n"
     ]
    }
   ],
   "source": [
    "train, test, x, y, test_id = prepare_data()"
   ]
  },
  {
   "cell_type": "code",
   "execution_count": 23,
   "metadata": {
    "collapsed": true
   },
   "outputs": [],
   "source": [
    "param = {\n",
    "      \"ntrees\" : 100\n",
    "    , \"max_depth\" : 10\n",
    "    , \"learn_rate\" : 0.02\n",
    "    , \"sample_rate\" : 0.7\n",
    "    , \"col_sample_rate_per_tree\" : 0.9\n",
    "    , \"min_rows\" : 5\n",
    "    , \"seed\": 4241\n",
    "    , \"score_tree_interval\": 100\n",
    "}"
   ]
  },
  {
   "cell_type": "code",
   "execution_count": 24,
   "metadata": {
    "collapsed": true
   },
   "outputs": [],
   "source": [
    "model = H2OXGBoostEstimator(**param)"
   ]
  },
  {
   "cell_type": "code",
   "execution_count": 25,
   "metadata": {},
   "outputs": [
    {
     "name": "stdout",
     "output_type": "stream",
     "text": [
      "xgboost Model Build progress: |███████████████████████████████████████████| 100%\n"
     ]
    }
   ],
   "source": [
    "model.train(x,y,train)"
   ]
  },
  {
   "cell_type": "code",
   "execution_count": 26,
   "metadata": {},
   "outputs": [
    {
     "name": "stdout",
     "output_type": "stream",
     "text": [
      "Model Details\n",
      "=============\n",
      "H2OXGBoostEstimator :  XGBoost\n",
      "Model Key:  XGBoost_model_python_1510054492941_640\n",
      "\n",
      "\n",
      "ModelMetricsBinomial: xgboost\n",
      "** Reported on train data. **\n",
      "\n",
      "MSE: 0.25\n",
      "RMSE: 0.5\n",
      "LogLoss: 0.6931471805576873\n",
      "Mean Per-Class Error: 0.5\n",
      "AUC: 0.5\n",
      "Gini: 0.0\n",
      "Confusion Matrix (Act/Pred) for max f1 @ threshold = 0.5: \n"
     ]
    },
    {
     "data": {
      "text/html": [
       "<div style=\"overflow:auto\"><table style=\"width:50%\"><tr><td><b></b></td>\n",
       "<td><b>0</b></td>\n",
       "<td><b>1</b></td>\n",
       "<td><b>Error</b></td>\n",
       "<td><b>Rate</b></td></tr>\n",
       "<tr><td>0</td>\n",
       "<td>0.0</td>\n",
       "<td>573518.0</td>\n",
       "<td>1.0</td>\n",
       "<td> (573518.0/573518.0)</td></tr>\n",
       "<tr><td>1</td>\n",
       "<td>0.0</td>\n",
       "<td>21694.0</td>\n",
       "<td>0.0</td>\n",
       "<td> (0.0/21694.0)</td></tr>\n",
       "<tr><td>Total</td>\n",
       "<td>0.0</td>\n",
       "<td>595212.0</td>\n",
       "<td>0.9636</td>\n",
       "<td> (573518.0/595212.0)</td></tr></table></div>"
      ],
      "text/plain": [
       "       0    1       Error    Rate\n",
       "-----  ---  ------  -------  -------------------\n",
       "0      0    573518  1        (573518.0/573518.0)\n",
       "1      0    21694   0        (0.0/21694.0)\n",
       "Total  0    595212  0.9636   (573518.0/595212.0)"
      ]
     },
     "metadata": {},
     "output_type": "display_data"
    },
    {
     "name": "stdout",
     "output_type": "stream",
     "text": [
      "Maximum Metrics: Maximum metrics at their respective thresholds\n",
      "\n"
     ]
    },
    {
     "data": {
      "text/html": [
       "<div style=\"overflow:auto\"><table style=\"width:50%\"><tr><td><b>metric</b></td>\n",
       "<td><b>threshold</b></td>\n",
       "<td><b>value</b></td>\n",
       "<td><b>idx</b></td></tr>\n",
       "<tr><td>max f1</td>\n",
       "<td>0.5</td>\n",
       "<td>0.0703316</td>\n",
       "<td>0.0</td></tr>\n",
       "<tr><td>max f2</td>\n",
       "<td>0.5</td>\n",
       "<td>0.1590497</td>\n",
       "<td>0.0</td></tr>\n",
       "<tr><td>max f0point5</td>\n",
       "<td>0.5</td>\n",
       "<td>0.0451480</td>\n",
       "<td>0.0</td></tr>\n",
       "<tr><td>max accuracy</td>\n",
       "<td>0.5</td>\n",
       "<td>0.0364475</td>\n",
       "<td>0.0</td></tr>\n",
       "<tr><td>max precision</td>\n",
       "<td>0.5</td>\n",
       "<td>0.0364475</td>\n",
       "<td>0.0</td></tr>\n",
       "<tr><td>max recall</td>\n",
       "<td>0.5</td>\n",
       "<td>1.0</td>\n",
       "<td>0.0</td></tr>\n",
       "<tr><td>max specificity</td>\n",
       "<td>0.5</td>\n",
       "<td>0.0</td>\n",
       "<td>0.0</td></tr>\n",
       "<tr><td>max absolute_mcc</td>\n",
       "<td>0.5</td>\n",
       "<td>0.0</td>\n",
       "<td>0.0</td></tr>\n",
       "<tr><td>max min_per_class_accuracy</td>\n",
       "<td>0.5</td>\n",
       "<td>0.0</td>\n",
       "<td>0.0</td></tr>\n",
       "<tr><td>max mean_per_class_accuracy</td>\n",
       "<td>0.5</td>\n",
       "<td>0.5</td>\n",
       "<td>0.0</td></tr></table></div>"
      ],
      "text/plain": [
       "metric                       threshold    value      idx\n",
       "---------------------------  -----------  ---------  -----\n",
       "max f1                       0.5          0.0703316  0\n",
       "max f2                       0.5          0.15905    0\n",
       "max f0point5                 0.5          0.045148   0\n",
       "max accuracy                 0.5          0.0364475  0\n",
       "max precision                0.5          0.0364475  0\n",
       "max recall                   0.5          1          0\n",
       "max specificity              0.5          0          0\n",
       "max absolute_mcc             0.5          0          0\n",
       "max min_per_class_accuracy   0.5          0          0\n",
       "max mean_per_class_accuracy  0.5          0.5        0"
      ]
     },
     "metadata": {},
     "output_type": "display_data"
    },
    {
     "name": "stdout",
     "output_type": "stream",
     "text": [
      "Gains/Lift Table: Avg response rate:  3.64 %\n",
      "\n"
     ]
    },
    {
     "data": {
      "text/html": [
       "<div style=\"overflow:auto\"><table style=\"width:50%\"><tr><td><b></b></td>\n",
       "<td><b>group</b></td>\n",
       "<td><b>cumulative_data_fraction</b></td>\n",
       "<td><b>lower_threshold</b></td>\n",
       "<td><b>lift</b></td>\n",
       "<td><b>cumulative_lift</b></td>\n",
       "<td><b>response_rate</b></td>\n",
       "<td><b>cumulative_response_rate</b></td>\n",
       "<td><b>capture_rate</b></td>\n",
       "<td><b>cumulative_capture_rate</b></td>\n",
       "<td><b>gain</b></td>\n",
       "<td><b>cumulative_gain</b></td></tr>\n",
       "<tr><td></td>\n",
       "<td>1</td>\n",
       "<td>1.0</td>\n",
       "<td>0.5</td>\n",
       "<td>1.0</td>\n",
       "<td>1.0</td>\n",
       "<td>0.0364475</td>\n",
       "<td>0.0364475</td>\n",
       "<td>1.0</td>\n",
       "<td>1.0</td>\n",
       "<td>0.0</td>\n",
       "<td>0.0</td></tr></table></div>"
      ],
      "text/plain": [
       "    group    cumulative_data_fraction    lower_threshold    lift    cumulative_lift    response_rate    cumulative_response_rate    capture_rate    cumulative_capture_rate    gain    cumulative_gain\n",
       "--  -------  --------------------------  -----------------  ------  -----------------  ---------------  --------------------------  --------------  -------------------------  ------  -----------------\n",
       "    1        1                           0.5                1       1                  0.0364475        0.0364475                   1               1                          0       0"
      ]
     },
     "metadata": {},
     "output_type": "display_data"
    },
    {
     "name": "stdout",
     "output_type": "stream",
     "text": [
      "\n",
      "Scoring History: \n"
     ]
    },
    {
     "data": {
      "text/html": [
       "<div style=\"overflow:auto\"><table style=\"width:50%\"><tr><td><b></b></td>\n",
       "<td><b>timestamp</b></td>\n",
       "<td><b>duration</b></td>\n",
       "<td><b>number_of_trees</b></td>\n",
       "<td><b>training_rmse</b></td>\n",
       "<td><b>training_logloss</b></td>\n",
       "<td><b>training_auc</b></td>\n",
       "<td><b>training_lift</b></td>\n",
       "<td><b>training_classification_error</b></td></tr>\n",
       "<tr><td></td>\n",
       "<td>2017-11-07 14:10:20</td>\n",
       "<td> 0.620 sec</td>\n",
       "<td>0.0</td>\n",
       "<td>0.5</td>\n",
       "<td>0.6931472</td>\n",
       "<td>0.5</td>\n",
       "<td>1.0</td>\n",
       "<td>0.9635525</td></tr>\n",
       "<tr><td></td>\n",
       "<td>2017-11-07 14:10:24</td>\n",
       "<td> 5.300 sec</td>\n",
       "<td>100.0</td>\n",
       "<td>0.5</td>\n",
       "<td>0.6931472</td>\n",
       "<td>0.5</td>\n",
       "<td>1.0</td>\n",
       "<td>0.9635525</td></tr></table></div>"
      ],
      "text/plain": [
       "    timestamp            duration    number_of_trees    training_rmse    training_logloss    training_auc    training_lift    training_classification_error\n",
       "--  -------------------  ----------  -----------------  ---------------  ------------------  --------------  ---------------  -------------------------------\n",
       "    2017-11-07 14:10:20  0.620 sec   0                  0.5              0.693147            0.5             1                0.963552\n",
       "    2017-11-07 14:10:24  5.300 sec   100                0.5              0.693147            0.5             1                0.963552"
      ]
     },
     "metadata": {},
     "output_type": "display_data"
    },
    {
     "data": {
      "text/plain": []
     },
     "execution_count": 26,
     "metadata": {},
     "output_type": "execute_result"
    }
   ],
   "source": [
    "model"
   ]
  },
  {
   "cell_type": "code",
   "execution_count": 35,
   "metadata": {},
   "outputs": [],
   "source": [
    "myxgb = H2OXGBoostEstimator(distribution = \"bernoulli\",\n",
    "                            tree_method = 'exact',\n",
    "                           ntrees = 50,\n",
    "                           max_depth = 8,\n",
    "                           min_rows = 1,\n",
    "                           learn_rate = 0.1,\n",
    "                           sample_rate = 0.7,\n",
    "                           col_sample_rate = 0.9,\n",
    "                           nfolds = 5,\n",
    "                           fold_assignment = \"Stratified\",\n",
    "                           keep_cross_validation_predictions = True,\n",
    "                            stopping_rounds = 5,\n",
    "                                 stopping_metric = \"auc\",\n",
    "                                 stopping_tolerance = 1e-4,\n",
    "                            backend='cpu',\n",
    "                            quiet_mode=False,\n",
    "                            \n",
    "                           seed = 1)"
   ]
  },
  {
   "cell_type": "code",
   "execution_count": 36,
   "metadata": {},
   "outputs": [
    {
     "name": "stdout",
     "output_type": "stream",
     "text": [
      "xgboost Model Build progress: |███████████████████████████████████████████| 100%\n"
     ]
    }
   ],
   "source": [
    "myxgb.train(x=x, y=y, training_frame=train)"
   ]
  },
  {
   "cell_type": "code",
   "execution_count": 37,
   "metadata": {},
   "outputs": [
    {
     "name": "stdout",
     "output_type": "stream",
     "text": [
      "Model Details\n",
      "=============\n",
      "H2OXGBoostEstimator :  XGBoost\n",
      "Model Key:  XGBoost_model_python_1510054492941_865\n",
      "\n",
      "\n",
      "ModelMetricsBinomial: xgboost\n",
      "** Reported on train data. **\n",
      "\n",
      "MSE: 0.25\n",
      "RMSE: 0.5\n",
      "LogLoss: 0.6931471805576873\n",
      "Mean Per-Class Error: 0.5\n",
      "AUC: 0.5\n",
      "Gini: 0.0\n",
      "Confusion Matrix (Act/Pred) for max f1 @ threshold = 0.5: \n"
     ]
    },
    {
     "data": {
      "text/html": [
       "<div style=\"overflow:auto\"><table style=\"width:50%\"><tr><td><b></b></td>\n",
       "<td><b>0</b></td>\n",
       "<td><b>1</b></td>\n",
       "<td><b>Error</b></td>\n",
       "<td><b>Rate</b></td></tr>\n",
       "<tr><td>0</td>\n",
       "<td>0.0</td>\n",
       "<td>573518.0</td>\n",
       "<td>1.0</td>\n",
       "<td> (573518.0/573518.0)</td></tr>\n",
       "<tr><td>1</td>\n",
       "<td>0.0</td>\n",
       "<td>21694.0</td>\n",
       "<td>0.0</td>\n",
       "<td> (0.0/21694.0)</td></tr>\n",
       "<tr><td>Total</td>\n",
       "<td>0.0</td>\n",
       "<td>595212.0</td>\n",
       "<td>0.9636</td>\n",
       "<td> (573518.0/595212.0)</td></tr></table></div>"
      ],
      "text/plain": [
       "       0    1       Error    Rate\n",
       "-----  ---  ------  -------  -------------------\n",
       "0      0    573518  1        (573518.0/573518.0)\n",
       "1      0    21694   0        (0.0/21694.0)\n",
       "Total  0    595212  0.9636   (573518.0/595212.0)"
      ]
     },
     "metadata": {},
     "output_type": "display_data"
    },
    {
     "name": "stdout",
     "output_type": "stream",
     "text": [
      "Maximum Metrics: Maximum metrics at their respective thresholds\n",
      "\n"
     ]
    },
    {
     "data": {
      "text/html": [
       "<div style=\"overflow:auto\"><table style=\"width:50%\"><tr><td><b>metric</b></td>\n",
       "<td><b>threshold</b></td>\n",
       "<td><b>value</b></td>\n",
       "<td><b>idx</b></td></tr>\n",
       "<tr><td>max f1</td>\n",
       "<td>0.5</td>\n",
       "<td>0.0703316</td>\n",
       "<td>0.0</td></tr>\n",
       "<tr><td>max f2</td>\n",
       "<td>0.5</td>\n",
       "<td>0.1590497</td>\n",
       "<td>0.0</td></tr>\n",
       "<tr><td>max f0point5</td>\n",
       "<td>0.5</td>\n",
       "<td>0.0451480</td>\n",
       "<td>0.0</td></tr>\n",
       "<tr><td>max accuracy</td>\n",
       "<td>0.5</td>\n",
       "<td>0.0364475</td>\n",
       "<td>0.0</td></tr>\n",
       "<tr><td>max precision</td>\n",
       "<td>0.5</td>\n",
       "<td>0.0364475</td>\n",
       "<td>0.0</td></tr>\n",
       "<tr><td>max recall</td>\n",
       "<td>0.5</td>\n",
       "<td>1.0</td>\n",
       "<td>0.0</td></tr>\n",
       "<tr><td>max specificity</td>\n",
       "<td>0.5</td>\n",
       "<td>0.0</td>\n",
       "<td>0.0</td></tr>\n",
       "<tr><td>max absolute_mcc</td>\n",
       "<td>0.5</td>\n",
       "<td>0.0</td>\n",
       "<td>0.0</td></tr>\n",
       "<tr><td>max min_per_class_accuracy</td>\n",
       "<td>0.5</td>\n",
       "<td>0.0</td>\n",
       "<td>0.0</td></tr>\n",
       "<tr><td>max mean_per_class_accuracy</td>\n",
       "<td>0.5</td>\n",
       "<td>0.5</td>\n",
       "<td>0.0</td></tr></table></div>"
      ],
      "text/plain": [
       "metric                       threshold    value      idx\n",
       "---------------------------  -----------  ---------  -----\n",
       "max f1                       0.5          0.0703316  0\n",
       "max f2                       0.5          0.15905    0\n",
       "max f0point5                 0.5          0.045148   0\n",
       "max accuracy                 0.5          0.0364475  0\n",
       "max precision                0.5          0.0364475  0\n",
       "max recall                   0.5          1          0\n",
       "max specificity              0.5          0          0\n",
       "max absolute_mcc             0.5          0          0\n",
       "max min_per_class_accuracy   0.5          0          0\n",
       "max mean_per_class_accuracy  0.5          0.5        0"
      ]
     },
     "metadata": {},
     "output_type": "display_data"
    },
    {
     "name": "stdout",
     "output_type": "stream",
     "text": [
      "Gains/Lift Table: Avg response rate:  3.64 %\n",
      "\n"
     ]
    },
    {
     "data": {
      "text/html": [
       "<div style=\"overflow:auto\"><table style=\"width:50%\"><tr><td><b></b></td>\n",
       "<td><b>group</b></td>\n",
       "<td><b>cumulative_data_fraction</b></td>\n",
       "<td><b>lower_threshold</b></td>\n",
       "<td><b>lift</b></td>\n",
       "<td><b>cumulative_lift</b></td>\n",
       "<td><b>response_rate</b></td>\n",
       "<td><b>cumulative_response_rate</b></td>\n",
       "<td><b>capture_rate</b></td>\n",
       "<td><b>cumulative_capture_rate</b></td>\n",
       "<td><b>gain</b></td>\n",
       "<td><b>cumulative_gain</b></td></tr>\n",
       "<tr><td></td>\n",
       "<td>1</td>\n",
       "<td>1.0</td>\n",
       "<td>0.5</td>\n",
       "<td>1.0</td>\n",
       "<td>1.0</td>\n",
       "<td>0.0364475</td>\n",
       "<td>0.0364475</td>\n",
       "<td>1.0</td>\n",
       "<td>1.0</td>\n",
       "<td>0.0</td>\n",
       "<td>0.0</td></tr></table></div>"
      ],
      "text/plain": [
       "    group    cumulative_data_fraction    lower_threshold    lift    cumulative_lift    response_rate    cumulative_response_rate    capture_rate    cumulative_capture_rate    gain    cumulative_gain\n",
       "--  -------  --------------------------  -----------------  ------  -----------------  ---------------  --------------------------  --------------  -------------------------  ------  -----------------\n",
       "    1        1                           0.5                1       1                  0.0364475        0.0364475                   1               1                          0       0"
      ]
     },
     "metadata": {},
     "output_type": "display_data"
    },
    {
     "name": "stdout",
     "output_type": "stream",
     "text": [
      "\n",
      "\n",
      "ModelMetricsBinomial: xgboost\n",
      "** Reported on cross-validation data. **\n",
      "\n",
      "MSE: 0.25\n",
      "RMSE: 0.5\n",
      "LogLoss: 0.6931471805599071\n",
      "Mean Per-Class Error: 0.5\n",
      "AUC: 0.5\n",
      "Gini: 0.0\n",
      "Confusion Matrix (Act/Pred) for max f1 @ threshold = 0.5: \n"
     ]
    },
    {
     "data": {
      "text/html": [
       "<div style=\"overflow:auto\"><table style=\"width:50%\"><tr><td><b></b></td>\n",
       "<td><b>0</b></td>\n",
       "<td><b>1</b></td>\n",
       "<td><b>Error</b></td>\n",
       "<td><b>Rate</b></td></tr>\n",
       "<tr><td>0</td>\n",
       "<td>0.0</td>\n",
       "<td>573518.0</td>\n",
       "<td>1.0</td>\n",
       "<td> (573518.0/573518.0)</td></tr>\n",
       "<tr><td>1</td>\n",
       "<td>0.0</td>\n",
       "<td>21694.0</td>\n",
       "<td>0.0</td>\n",
       "<td> (0.0/21694.0)</td></tr>\n",
       "<tr><td>Total</td>\n",
       "<td>0.0</td>\n",
       "<td>595212.0</td>\n",
       "<td>0.9636</td>\n",
       "<td> (573518.0/595212.0)</td></tr></table></div>"
      ],
      "text/plain": [
       "       0    1       Error    Rate\n",
       "-----  ---  ------  -------  -------------------\n",
       "0      0    573518  1        (573518.0/573518.0)\n",
       "1      0    21694   0        (0.0/21694.0)\n",
       "Total  0    595212  0.9636   (573518.0/595212.0)"
      ]
     },
     "metadata": {},
     "output_type": "display_data"
    },
    {
     "name": "stdout",
     "output_type": "stream",
     "text": [
      "Maximum Metrics: Maximum metrics at their respective thresholds\n",
      "\n"
     ]
    },
    {
     "data": {
      "text/html": [
       "<div style=\"overflow:auto\"><table style=\"width:50%\"><tr><td><b>metric</b></td>\n",
       "<td><b>threshold</b></td>\n",
       "<td><b>value</b></td>\n",
       "<td><b>idx</b></td></tr>\n",
       "<tr><td>max f1</td>\n",
       "<td>0.5</td>\n",
       "<td>0.0703316</td>\n",
       "<td>0.0</td></tr>\n",
       "<tr><td>max f2</td>\n",
       "<td>0.5</td>\n",
       "<td>0.1590497</td>\n",
       "<td>0.0</td></tr>\n",
       "<tr><td>max f0point5</td>\n",
       "<td>0.5</td>\n",
       "<td>0.0451480</td>\n",
       "<td>0.0</td></tr>\n",
       "<tr><td>max accuracy</td>\n",
       "<td>0.5</td>\n",
       "<td>0.0364475</td>\n",
       "<td>0.0</td></tr>\n",
       "<tr><td>max precision</td>\n",
       "<td>0.5</td>\n",
       "<td>0.0364475</td>\n",
       "<td>0.0</td></tr>\n",
       "<tr><td>max recall</td>\n",
       "<td>0.5</td>\n",
       "<td>1.0</td>\n",
       "<td>0.0</td></tr>\n",
       "<tr><td>max specificity</td>\n",
       "<td>0.5</td>\n",
       "<td>0.0</td>\n",
       "<td>0.0</td></tr>\n",
       "<tr><td>max absolute_mcc</td>\n",
       "<td>0.5</td>\n",
       "<td>0.0</td>\n",
       "<td>0.0</td></tr>\n",
       "<tr><td>max min_per_class_accuracy</td>\n",
       "<td>0.5</td>\n",
       "<td>0.0</td>\n",
       "<td>0.0</td></tr>\n",
       "<tr><td>max mean_per_class_accuracy</td>\n",
       "<td>0.5</td>\n",
       "<td>0.5</td>\n",
       "<td>0.0</td></tr></table></div>"
      ],
      "text/plain": [
       "metric                       threshold    value      idx\n",
       "---------------------------  -----------  ---------  -----\n",
       "max f1                       0.5          0.0703316  0\n",
       "max f2                       0.5          0.15905    0\n",
       "max f0point5                 0.5          0.045148   0\n",
       "max accuracy                 0.5          0.0364475  0\n",
       "max precision                0.5          0.0364475  0\n",
       "max recall                   0.5          1          0\n",
       "max specificity              0.5          0          0\n",
       "max absolute_mcc             0.5          0          0\n",
       "max min_per_class_accuracy   0.5          0          0\n",
       "max mean_per_class_accuracy  0.5          0.5        0"
      ]
     },
     "metadata": {},
     "output_type": "display_data"
    },
    {
     "name": "stdout",
     "output_type": "stream",
     "text": [
      "Gains/Lift Table: Avg response rate:  3.64 %\n",
      "\n"
     ]
    },
    {
     "data": {
      "text/html": [
       "<div style=\"overflow:auto\"><table style=\"width:50%\"><tr><td><b></b></td>\n",
       "<td><b>group</b></td>\n",
       "<td><b>cumulative_data_fraction</b></td>\n",
       "<td><b>lower_threshold</b></td>\n",
       "<td><b>lift</b></td>\n",
       "<td><b>cumulative_lift</b></td>\n",
       "<td><b>response_rate</b></td>\n",
       "<td><b>cumulative_response_rate</b></td>\n",
       "<td><b>capture_rate</b></td>\n",
       "<td><b>cumulative_capture_rate</b></td>\n",
       "<td><b>gain</b></td>\n",
       "<td><b>cumulative_gain</b></td></tr>\n",
       "<tr><td></td>\n",
       "<td>1</td>\n",
       "<td>1.0</td>\n",
       "<td>0.5</td>\n",
       "<td>1.0</td>\n",
       "<td>1.0</td>\n",
       "<td>0.0364475</td>\n",
       "<td>0.0364475</td>\n",
       "<td>1.0</td>\n",
       "<td>1.0</td>\n",
       "<td>0.0</td>\n",
       "<td>0.0</td></tr></table></div>"
      ],
      "text/plain": [
       "    group    cumulative_data_fraction    lower_threshold    lift    cumulative_lift    response_rate    cumulative_response_rate    capture_rate    cumulative_capture_rate    gain    cumulative_gain\n",
       "--  -------  --------------------------  -----------------  ------  -----------------  ---------------  --------------------------  --------------  -------------------------  ------  -----------------\n",
       "    1        1                           0.5                1       1                  0.0364475        0.0364475                   1               1                          0       0"
      ]
     },
     "metadata": {},
     "output_type": "display_data"
    },
    {
     "name": "stdout",
     "output_type": "stream",
     "text": [
      "\n",
      "Cross-Validation Metrics Summary: \n"
     ]
    },
    {
     "data": {
      "text/html": [
       "<div style=\"overflow:auto\"><table style=\"width:50%\"><tr><td><b></b></td>\n",
       "<td><b>mean</b></td>\n",
       "<td><b>sd</b></td>\n",
       "<td><b>cv_1_valid</b></td>\n",
       "<td><b>cv_2_valid</b></td>\n",
       "<td><b>cv_3_valid</b></td>\n",
       "<td><b>cv_4_valid</b></td>\n",
       "<td><b>cv_5_valid</b></td></tr>\n",
       "<tr><td>accuracy</td>\n",
       "<td>0.0364487</td>\n",
       "<td>0.0005329</td>\n",
       "<td>0.0372700</td>\n",
       "<td>0.0352393</td>\n",
       "<td>0.0363691</td>\n",
       "<td>0.0361406</td>\n",
       "<td>0.0372245</td></tr>\n",
       "<tr><td>auc</td>\n",
       "<td>0.5</td>\n",
       "<td>0.0</td>\n",
       "<td>0.5</td>\n",
       "<td>0.5</td>\n",
       "<td>0.5</td>\n",
       "<td>0.5</td>\n",
       "<td>0.5</td></tr>\n",
       "<tr><td>err</td>\n",
       "<td>0.9635513</td>\n",
       "<td>0.0005329</td>\n",
       "<td>0.9627301</td>\n",
       "<td>0.9647607</td>\n",
       "<td>0.9636309</td>\n",
       "<td>0.9638594</td>\n",
       "<td>0.9627755</td></tr>\n",
       "<tr><td>err_count</td>\n",
       "<td>114703.6</td>\n",
       "<td>382.424</td>\n",
       "<td>114200.0</td>\n",
       "<td>114684.0</td>\n",
       "<td>114621.0</td>\n",
       "<td>115720.0</td>\n",
       "<td>114293.0</td></tr>\n",
       "<tr><td>f0point5</td>\n",
       "<td>0.0451493</td>\n",
       "<td>0.0006543</td>\n",
       "<td>0.0461574</td>\n",
       "<td>0.0436644</td>\n",
       "<td>0.0450518</td>\n",
       "<td>0.0447712</td>\n",
       "<td>0.0461017</td></tr>\n",
       "<tr><td>f1</td>\n",
       "<td>0.0703328</td>\n",
       "<td>0.0009925</td>\n",
       "<td>0.0718616</td>\n",
       "<td>0.0680795</td>\n",
       "<td>0.0701857</td>\n",
       "<td>0.0697600</td>\n",
       "<td>0.0717772</td></tr>\n",
       "<tr><td>f2</td>\n",
       "<td>0.1590467</td>\n",
       "<td>0.0020317</td>\n",
       "<td>0.1621731</td>\n",
       "<td>0.1544286</td>\n",
       "<td>0.1587511</td>\n",
       "<td>0.1578794</td>\n",
       "<td>0.1620011</td></tr>\n",
       "<tr><td>lift_top_group</td>\n",
       "<td>1.0</td>\n",
       "<td>0.0</td>\n",
       "<td>1.0</td>\n",
       "<td>1.0</td>\n",
       "<td>1.0</td>\n",
       "<td>1.0</td>\n",
       "<td>1.0</td></tr>\n",
       "<tr><td>logloss</td>\n",
       "<td>0.6931472</td>\n",
       "<td>0.0000000</td>\n",
       "<td>0.6931472</td>\n",
       "<td>0.6931472</td>\n",
       "<td>0.6931472</td>\n",
       "<td>0.6931472</td>\n",
       "<td>0.6931472</td></tr>\n",
       "<tr><td>max_per_class_error</td>\n",
       "<td>1.0</td>\n",
       "<td>0.0</td>\n",
       "<td>1.0</td>\n",
       "<td>1.0</td>\n",
       "<td>1.0</td>\n",
       "<td>1.0</td>\n",
       "<td>1.0</td></tr>\n",
       "<tr><td>mcc</td>\n",
       "<td>0.0</td>\n",
       "<td>NaN</td>\n",
       "<td>NaN</td>\n",
       "<td>NaN</td>\n",
       "<td>NaN</td>\n",
       "<td>NaN</td>\n",
       "<td>NaN</td></tr>\n",
       "<tr><td>mean_per_class_accuracy</td>\n",
       "<td>0.5</td>\n",
       "<td>0.0</td>\n",
       "<td>0.5</td>\n",
       "<td>0.5</td>\n",
       "<td>0.5</td>\n",
       "<td>0.5</td>\n",
       "<td>0.5</td></tr>\n",
       "<tr><td>mean_per_class_error</td>\n",
       "<td>0.5</td>\n",
       "<td>0.0</td>\n",
       "<td>0.5</td>\n",
       "<td>0.5</td>\n",
       "<td>0.5</td>\n",
       "<td>0.5</td>\n",
       "<td>0.5</td></tr>\n",
       "<tr><td>mse</td>\n",
       "<td>0.25</td>\n",
       "<td>0.0</td>\n",
       "<td>0.25</td>\n",
       "<td>0.25</td>\n",
       "<td>0.25</td>\n",
       "<td>0.25</td>\n",
       "<td>0.25</td></tr>\n",
       "<tr><td>precision</td>\n",
       "<td>0.0364487</td>\n",
       "<td>0.0005329</td>\n",
       "<td>0.0372700</td>\n",
       "<td>0.0352393</td>\n",
       "<td>0.0363691</td>\n",
       "<td>0.0361406</td>\n",
       "<td>0.0372245</td></tr>\n",
       "<tr><td>r2</td>\n",
       "<td>-6.12137</td>\n",
       "<td>0.1009970</td>\n",
       "<td>-5.967493</td>\n",
       "<td>-6.353486</td>\n",
       "<td>-6.133395</td>\n",
       "<td>-6.176809</td>\n",
       "<td>-5.975665</td></tr>\n",
       "<tr><td>recall</td>\n",
       "<td>1.0</td>\n",
       "<td>0.0</td>\n",
       "<td>1.0</td>\n",
       "<td>1.0</td>\n",
       "<td>1.0</td>\n",
       "<td>1.0</td>\n",
       "<td>1.0</td></tr>\n",
       "<tr><td>rmse</td>\n",
       "<td>0.5</td>\n",
       "<td>0.0</td>\n",
       "<td>0.5</td>\n",
       "<td>0.5</td>\n",
       "<td>0.5</td>\n",
       "<td>0.5</td>\n",
       "<td>0.5</td></tr>\n",
       "<tr><td>specificity</td>\n",
       "<td>0.0</td>\n",
       "<td>0.0</td>\n",
       "<td>0.0</td>\n",
       "<td>0.0</td>\n",
       "<td>0.0</td>\n",
       "<td>0.0</td>\n",
       "<td>0.0</td></tr></table></div>"
      ],
      "text/plain": [
       "                         mean       sd           cv_1_valid    cv_2_valid    cv_3_valid    cv_4_valid    cv_5_valid\n",
       "-----------------------  ---------  -----------  ------------  ------------  ------------  ------------  ------------\n",
       "accuracy                 0.0364487  0.00053295   0.03727       0.0352393     0.0363691     0.0361406     0.0372245\n",
       "auc                      0.5        0            0.5           0.5           0.5           0.5           0.5\n",
       "err                      0.963551   0.00053295   0.96273       0.964761      0.963631      0.963859      0.962775\n",
       "err_count                114704     382.424      114200        114684        114621        115720        114293\n",
       "f0point5                 0.0451493  0.000654255  0.0461574     0.0436644     0.0450518     0.0447712     0.0461017\n",
       "f1                       0.0703328  0.000992512  0.0718616     0.0680795     0.0701857     0.06976       0.0717772\n",
       "f2                       0.159047   0.00203172   0.162173      0.154429      0.158751      0.157879      0.162001\n",
       "lift_top_group           1          0            1             1             1             1             1\n",
       "logloss                  0.693147   1.08479e-15  0.693147      0.693147      0.693147      0.693147      0.693147\n",
       "max_per_class_error      1          0            1             1             1             1             1\n",
       "mcc                      0          nan          nan           nan           nan           nan           nan\n",
       "mean_per_class_accuracy  0.5        0            0.5           0.5           0.5           0.5           0.5\n",
       "mean_per_class_error     0.5        0            0.5           0.5           0.5           0.5           0.5\n",
       "mse                      0.25       0            0.25          0.25          0.25          0.25          0.25\n",
       "precision                0.0364487  0.00053295   0.03727       0.0352393     0.0363691     0.0361406     0.0372245\n",
       "r2                       -6.12137   0.100997     -5.96749      -6.35349      -6.1334       -6.17681      -5.97567\n",
       "recall                   1          0            1             1             1             1             1\n",
       "rmse                     0.5        0            0.5           0.5           0.5           0.5           0.5\n",
       "specificity              0          0            0             0             0             0             0"
      ]
     },
     "metadata": {},
     "output_type": "display_data"
    },
    {
     "name": "stdout",
     "output_type": "stream",
     "text": [
      "Scoring History: \n"
     ]
    },
    {
     "data": {
      "text/html": [
       "<div style=\"overflow:auto\"><table style=\"width:50%\"><tr><td><b></b></td>\n",
       "<td><b>timestamp</b></td>\n",
       "<td><b>duration</b></td>\n",
       "<td><b>number_of_trees</b></td>\n",
       "<td><b>training_rmse</b></td>\n",
       "<td><b>training_logloss</b></td>\n",
       "<td><b>training_auc</b></td>\n",
       "<td><b>training_lift</b></td>\n",
       "<td><b>training_classification_error</b></td></tr>\n",
       "<tr><td></td>\n",
       "<td>2017-11-07 14:28:47</td>\n",
       "<td> 2 min 21.512 sec</td>\n",
       "<td>0.0</td>\n",
       "<td>0.5</td>\n",
       "<td>0.6931472</td>\n",
       "<td>0.5</td>\n",
       "<td>1.0</td>\n",
       "<td>0.9635525</td></tr>\n",
       "<tr><td></td>\n",
       "<td>2017-11-07 14:28:49</td>\n",
       "<td> 2 min 23.641 sec</td>\n",
       "<td>1.0</td>\n",
       "<td>0.5</td>\n",
       "<td>0.6931472</td>\n",
       "<td>0.5</td>\n",
       "<td>1.0</td>\n",
       "<td>0.9635525</td></tr>\n",
       "<tr><td></td>\n",
       "<td>2017-11-07 14:28:50</td>\n",
       "<td> 2 min 24.116 sec</td>\n",
       "<td>2.0</td>\n",
       "<td>0.5</td>\n",
       "<td>0.6931472</td>\n",
       "<td>0.5</td>\n",
       "<td>1.0</td>\n",
       "<td>0.9635525</td></tr>\n",
       "<tr><td></td>\n",
       "<td>2017-11-07 14:28:50</td>\n",
       "<td> 2 min 24.691 sec</td>\n",
       "<td>3.0</td>\n",
       "<td>0.5</td>\n",
       "<td>0.6931472</td>\n",
       "<td>0.5</td>\n",
       "<td>1.0</td>\n",
       "<td>0.9635525</td></tr>\n",
       "<tr><td></td>\n",
       "<td>2017-11-07 14:28:51</td>\n",
       "<td> 2 min 25.276 sec</td>\n",
       "<td>4.0</td>\n",
       "<td>0.5</td>\n",
       "<td>0.6931472</td>\n",
       "<td>0.5</td>\n",
       "<td>1.0</td>\n",
       "<td>0.9635525</td></tr>\n",
       "<tr><td></td>\n",
       "<td>2017-11-07 14:28:52</td>\n",
       "<td> 2 min 25.811 sec</td>\n",
       "<td>5.0</td>\n",
       "<td>0.5</td>\n",
       "<td>0.6931472</td>\n",
       "<td>0.5</td>\n",
       "<td>1.0</td>\n",
       "<td>0.9635525</td></tr>\n",
       "<tr><td></td>\n",
       "<td>2017-11-07 14:28:52</td>\n",
       "<td> 2 min 26.350 sec</td>\n",
       "<td>6.0</td>\n",
       "<td>0.5</td>\n",
       "<td>0.6931472</td>\n",
       "<td>0.5</td>\n",
       "<td>1.0</td>\n",
       "<td>0.9635525</td></tr>\n",
       "<tr><td></td>\n",
       "<td>2017-11-07 14:28:54</td>\n",
       "<td> 2 min 28.406 sec</td>\n",
       "<td>50.0</td>\n",
       "<td>0.5</td>\n",
       "<td>0.6931472</td>\n",
       "<td>0.5</td>\n",
       "<td>1.0</td>\n",
       "<td>0.9635525</td></tr></table></div>"
      ],
      "text/plain": [
       "    timestamp            duration          number_of_trees    training_rmse    training_logloss    training_auc    training_lift    training_classification_error\n",
       "--  -------------------  ----------------  -----------------  ---------------  ------------------  --------------  ---------------  -------------------------------\n",
       "    2017-11-07 14:28:47  2 min 21.512 sec  0                  0.5              0.693147            0.5             1                0.963552\n",
       "    2017-11-07 14:28:49  2 min 23.641 sec  1                  0.5              0.693147            0.5             1                0.963552\n",
       "    2017-11-07 14:28:50  2 min 24.116 sec  2                  0.5              0.693147            0.5             1                0.963552\n",
       "    2017-11-07 14:28:50  2 min 24.691 sec  3                  0.5              0.693147            0.5             1                0.963552\n",
       "    2017-11-07 14:28:51  2 min 25.276 sec  4                  0.5              0.693147            0.5             1                0.963552\n",
       "    2017-11-07 14:28:52  2 min 25.811 sec  5                  0.5              0.693147            0.5             1                0.963552\n",
       "    2017-11-07 14:28:52  2 min 26.350 sec  6                  0.5              0.693147            0.5             1                0.963552\n",
       "    2017-11-07 14:28:54  2 min 28.406 sec  50                 0.5              0.693147            0.5             1                0.963552"
      ]
     },
     "metadata": {},
     "output_type": "display_data"
    },
    {
     "data": {
      "text/plain": []
     },
     "execution_count": 37,
     "metadata": {},
     "output_type": "execute_result"
    }
   ],
   "source": [
    "myxgb"
   ]
  },
  {
   "cell_type": "code",
   "execution_count": null,
   "metadata": {
    "collapsed": true
   },
   "outputs": [],
   "source": []
  }
 ],
 "metadata": {
  "kernelspec": {
   "display_name": "Python 3",
   "language": "python",
   "name": "python3"
  },
  "language_info": {
   "codemirror_mode": {
    "name": "ipython",
    "version": 3
   },
   "file_extension": ".py",
   "mimetype": "text/x-python",
   "name": "python",
   "nbconvert_exporter": "python",
   "pygments_lexer": "ipython3",
   "version": "3.6.2"
  }
 },
 "nbformat": 4,
 "nbformat_minor": 2
}
