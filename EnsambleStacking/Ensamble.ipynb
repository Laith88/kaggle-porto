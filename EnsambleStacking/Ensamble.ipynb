{
 "cells": [
  {
   "cell_type": "code",
   "execution_count": 1,
   "metadata": {
    "collapsed": true
   },
   "outputs": [],
   "source": [
    "import pandas as pd\n",
    "import numpy as np\n",
    "import datetime as dt\n",
    "import re\n",
    "import sklearn\n",
    "import xgboost as xgb\n",
    "import seaborn as sns\n",
    "import matplotlib.pyplot as plt\n",
    "%matplotlib inline\n",
    "\n",
    "import warnings\n",
    "warnings.filterwarnings('ignore')\n",
    "\n",
    "# Going to use these 5 base models for the stacking\n",
    "from sklearn.preprocessing import StandardScaler, RobustScaler, MaxAbsScaler, LabelEncoder, OneHotEncoder\n",
    "from sklearn.ensemble import RandomForestClassifier, AdaBoostClassifier, GradientBoostingClassifier, ExtraTreesClassifier\n",
    "from sklearn.tree import DecisionTreeClassifier\n",
    "from sklearn.svm import SVC\n",
    "from sklearn.model_selection import KFold, StratifiedKFold\n",
    "from sklearn.calibration import CalibratedClassifierCV\n",
    "\n",
    "from xgboost import XGBClassifier\n",
    "\n",
    "from numba import jit\n",
    "import time\n",
    "import gc"
   ]
  },
  {
   "cell_type": "code",
   "execution_count": 2,
   "metadata": {
    "collapsed": true
   },
   "outputs": [],
   "source": [
    "from sklearn.model_selection import train_test_split  "
   ]
  },
  {
   "cell_type": "code",
   "execution_count": 3,
   "metadata": {},
   "outputs": [
    {
     "data": {
      "text/html": [
       "<script>requirejs.config({paths: { 'plotly': ['https://cdn.plot.ly/plotly-latest.min']},});if(!window.Plotly) {{require(['plotly'],function(plotly) {window.Plotly=plotly;});}}</script>"
      ],
      "text/vnd.plotly.v1+html": [
       "<script>requirejs.config({paths: { 'plotly': ['https://cdn.plot.ly/plotly-latest.min']},});if(!window.Plotly) {{require(['plotly'],function(plotly) {window.Plotly=plotly;});}}</script>"
      ]
     },
     "metadata": {},
     "output_type": "display_data"
    }
   ],
   "source": [
    "import plotly.offline as py\n",
    "py.init_notebook_mode(connected=True)\n",
    "import plotly.graph_objs as go\n",
    "import plotly.tools as tls"
   ]
  },
  {
   "cell_type": "code",
   "execution_count": 4,
   "metadata": {
    "collapsed": true
   },
   "outputs": [],
   "source": [
    "# Compute gini\n",
    "@jit\n",
    "def eval_gini(y_true, y_prob):\n",
    "    y_true = np.asarray(y_true)\n",
    "    y_true = y_true[np.argsort(y_prob)]\n",
    "    ntrue = 0\n",
    "    gini = 0\n",
    "    delta = 0\n",
    "    n = len(y_true)\n",
    "    for i in range(n-1, -1, -1):\n",
    "        y_i = y_true[i]\n",
    "        ntrue += y_i\n",
    "        gini += y_i * delta\n",
    "        delta += 1 - y_i\n",
    "    gini = 1 - 2 * gini / (ntrue * (n - ntrue))\n",
    "    return gini\n",
    "\n",
    "def gini_xgb(preds, dtrain):\n",
    "    labels = dtrain.get_label()\n",
    "    gini_score = -eval_gini(labels, preds)\n",
    "    return [('gini', gini_score)]"
   ]
  },
  {
   "cell_type": "code",
   "execution_count": 5,
   "metadata": {
    "collapsed": true
   },
   "outputs": [],
   "source": [
    "def add_noise(series, noise_level):\n",
    "    return series * (1 + noise_level * np.random.randn(len(series)))"
   ]
  },
  {
   "cell_type": "code",
   "execution_count": 6,
   "metadata": {
    "collapsed": true
   },
   "outputs": [],
   "source": [
    "def target_encode(trn_series=None,\n",
    "                  tst_series=None,\n",
    "                  target=None,\n",
    "                  min_samples_leaf=1,\n",
    "                  smoothing=1,\n",
    "                  noise_level=0):\n",
    "    \"\"\"\n",
    "    Smoothing is computed like in the following paper by Daniele Micci-Barreca\n",
    "    https://kaggle2.blob.core.windows.net/forum-message-attachments/225952/7441/high%20cardinality%20categoricals.pdf\n",
    "    trn_series : training categorical feature as a pd.Series\n",
    "    tst_series : test categorical feature as a pd.Series\n",
    "    target : target data as a pd.Series\n",
    "    min_samples_leaf (int) : minimum samples to take category average into account\n",
    "    smoothing (int) : smoothing effect to balance categorical average vs prior\n",
    "    \"\"\"\n",
    "    assert len(trn_series) == len(target)\n",
    "    #assert trn_series.name == tst_series.name\n",
    "    temp = pd.concat([trn_series, target], axis=1)\n",
    "    # Compute target mean\n",
    "    averages = temp.groupby(by=trn_series.name)['target'].agg([\"mean\", \"count\"])\n",
    "    # Compute smoothing\n",
    "    smoothing = 1 / (1 + np.exp(-(averages[\"count\"] - min_samples_leaf) / smoothing))\n",
    "    # Apply average function to all target data\n",
    "    prior = target.mean()\n",
    "    # The bigger the count the less full_avg is taken into account\n",
    "    averages[target.name] = prior * (1 - smoothing) + averages[\"mean\"] * smoothing\n",
    "    averages.drop([\"mean\", \"count\"], axis=1, inplace=True)\n",
    "    # Apply averages to trn and tst series\n",
    "    ft_trn_series = pd.merge(\n",
    "        trn_series.to_frame(trn_series.name),\n",
    "        averages.reset_index().rename(columns={'index': 'target', 'target': 'average'}),\n",
    "        on=trn_series.name,\n",
    "        how='left')['average'].rename(trn_series.name + '_mean').fillna(prior)\n",
    "    # pd.merge does not keep the index so restore it\n",
    "    ft_trn_series.index = trn_series.index\n",
    "    ft_tst_series = pd.merge(\n",
    "        tst_series.to_frame(tst_series.name),\n",
    "        averages.reset_index().rename(columns={'index': 'target', 'target': 'average'}),\n",
    "        on=tst_series.name,\n",
    "        how='left')['average'].rename(trn_series.name + '_mean').fillna(prior)\n",
    "    # pd.merge does not keep the index so restore it\n",
    "    ft_tst_series.index = tst_series.index\n",
    "    return add_noise(ft_trn_series, noise_level), add_noise(ft_tst_series, noise_level)\n"
   ]
  },
  {
   "cell_type": "code",
   "execution_count": 7,
   "metadata": {
    "collapsed": true
   },
   "outputs": [],
   "source": [
    "train_features = [\n",
    "    \"ps_car_13\",  #            : 1571.65 / shadow  609.23\n",
    "\t\"ps_reg_03\",  #            : 1408.42 / shadow  511.15\n",
    "\t\"ps_ind_05_cat\",  #        : 1387.87 / shadow   84.72\n",
    "\t\"ps_ind_03\",  #            : 1219.47 / shadow  230.55\n",
    "\t\"ps_ind_15\",  #            :  922.18 / shadow  242.00\n",
    "\t\"ps_reg_02\",  #            :  920.65 / shadow  267.50\n",
    "\t\"ps_car_14\",  #            :  798.48 / shadow  549.58\n",
    "\t\"ps_car_12\",  #            :  731.93 / shadow  293.62\n",
    "\t\"ps_car_01_cat\",  #        :  698.07 / shadow  178.72\n",
    "\t\"ps_car_07_cat\",  #        :  694.53 / shadow   36.35\n",
    "\t\"ps_ind_17_bin\",  #        :  620.77 / shadow   23.15\n",
    "\t\"ps_car_03_cat\",  #        :  611.73 / shadow   50.67\n",
    "\t\"ps_reg_01\",  #            :  598.60 / shadow  178.57\n",
    "\t\"ps_car_15\",  #            :  593.35 / shadow  226.43\n",
    "\t\"ps_ind_01\",  #            :  547.32 / shadow  154.58\n",
    "\t\"ps_ind_16_bin\",  #        :  475.37 / shadow   34.17\n",
    "\t\"ps_ind_07_bin\",  #        :  435.28 / shadow   28.92\n",
    "\t\"ps_car_06_cat\",  #        :  398.02 / shadow  212.43\n",
    "\t\"ps_car_04_cat\",  #        :  376.87 / shadow   76.98\n",
    "\t\"ps_ind_06_bin\",  #        :  370.97 / shadow   36.13\n",
    "\t\"ps_car_09_cat\",  #        :  214.12 / shadow   81.38\n",
    "\t\"ps_car_02_cat\",  #        :  203.03 / shadow   26.67\n",
    "\t\"ps_ind_02_cat\",  #        :  189.47 / shadow   65.68\n",
    "\t\"ps_car_11\",  #            :  173.28 / shadow   76.45\n",
    "\t\"ps_car_05_cat\",  #        :  172.75 / shadow   62.92\n",
    "\t\"ps_calc_09\",  #           :  169.13 / shadow  129.72\n",
    "\t\"ps_calc_05\",  #           :  148.83 / shadow  120.68\n",
    "\t\"ps_ind_08_bin\",  #        :  140.73 / shadow   27.63\n",
    "\t\"ps_car_08_cat\",  #        :  120.87 / shadow   28.82\n",
    "\t\"ps_ind_09_bin\",  #        :  113.92 / shadow   27.05\n",
    "\t\"ps_ind_04_cat\",  #        :  107.27 / shadow   37.43\n",
    "\t\"ps_ind_18_bin\",  #        :   77.42 / shadow   25.97\n",
    "\t\"ps_ind_12_bin\",  #        :   39.67 / shadow   15.52\n",
    "\t\"ps_ind_14\",  #            :   37.37 / shadow   16.65\n",
    "    #'ps_reg_F',\n",
    "    #'ps_reg_M'\n",
    "]\n",
    "# add combinations\n",
    "combs = [\n",
    "    ('ps_reg_01', 'ps_car_02_cat'),  \n",
    "    ('ps_reg_01', 'ps_car_04_cat'),\n",
    "]\n"
   ]
  },
  {
   "cell_type": "code",
   "execution_count": 8,
   "metadata": {},
   "outputs": [
    {
     "name": "stdout",
     "output_type": "stream",
     "text": [
      "imported data\n",
      "begining feature engineering\n",
      "\n",
      "\tCurrent feature                                 ps_reg_01_plus_ps_car_02_cat    1 in   0.0\n",
      "\tCurrent feature                                 ps_reg_01_plus_ps_car_04_cat    2 in   0.0\n",
      "Done adding features, smoothing categorical featuers now.. \n",
      "Done ... I can start learning now.. \n"
     ]
    }
   ],
   "source": [
    "# Read data\n",
    "train_df = pd.read_csv('../../data/train.csv', na_values=\"-1\") # .iloc[0:200,:]\n",
    "test_df = pd.read_csv('../../data/test.csv', na_values=\"-1\")\n",
    "print('imported data')\n",
    "\n",
    "# Process data\n",
    "id_test = test_df['id'].values\n",
    "id_train = train_df['id'].values\n",
    "y = train_df['target']\n",
    "\n",
    "print('begining feature engineering')\n",
    "start = time.time()\n",
    "for n_c, (f1, f2) in enumerate(combs):\n",
    "    name1 = f1 + \"_plus_\" + f2\n",
    "    print('\\n\\tCurrent feature %60s %4d in %5.1f'\n",
    "          % (name1, n_c + 1, (time.time() - start) / 60), end='')\n",
    "    print('\\r' * 75, end='')\n",
    "    train_df[name1] = train_df[f1].apply(lambda x: str(x)) + \"_\" + train_df[f2].apply(lambda x: str(x))\n",
    "    test_df[name1] = test_df[f1].apply(lambda x: str(x)) + \"_\" + test_df[f2].apply(lambda x: str(x))\n",
    "    # Label Encode\n",
    "    lbl = LabelEncoder()\n",
    "    lbl.fit(list(train_df[name1].values) + list(test_df[name1].values))\n",
    "    train_df[name1] = lbl.transform(list(train_df[name1].values))\n",
    "    test_df[name1] = lbl.transform(list(test_df[name1].values))\n",
    "\n",
    "    train_features.append(name1)\n",
    "    \n",
    "X = train_df[train_features]\n",
    "test_df = test_df[train_features]\n",
    "\n",
    "print('\\nDone adding features, smoothing categorical featuers now.. ')\n",
    "#target categoricals \n",
    "f_cats = [f for f in X.columns if \"_cat\" in f]\n",
    "\n",
    "for f in f_cats:\n",
    "    X[f + \"_avg\"], test_df[f + \"_avg\"] = target_encode(trn_series=X[f],\n",
    "                                         tst_series=test_df[f],\n",
    "                                         target=train_df['target'],\n",
    "                                         min_samples_leaf=200,\n",
    "                                         smoothing=10,\n",
    "                                         noise_level=0)\n",
    "print('Done ... I can start learning now.. ')"
   ]
  },
  {
   "cell_type": "code",
   "execution_count": 9,
   "metadata": {
    "collapsed": true
   },
   "outputs": [],
   "source": [
    "X = X.fillna(-1)\n",
    "test_df = test_df.fillna(-1)\n",
    "y_valid_pred = 0*y\n",
    "y_test_pred = 0"
   ]
  },
  {
   "cell_type": "code",
   "execution_count": 10,
   "metadata": {
    "collapsed": true
   },
   "outputs": [],
   "source": [
    "class EnsambleHelper(object):\n",
    "    def __init__(self, clf, seed=0, params=None):\n",
    "        params['random_state']= seed\n",
    "        self.clf = clf(**params)\n",
    "        #self.clf = CalibratedClassifierCV(clf(**params), cv=5)\n",
    "#         if clf != XGBClassifier:\n",
    "#             self.clf = CalibratedClassifierCV(clf(**params), cv=5)\n",
    "#         else:\n",
    "#             self.clf = clf(**params)\n",
    "    \n",
    "    def train(self,X_train, y_train):\n",
    "        #cccv = CalibratedClassifierCV(self.clf, cv=StratifiedKFold(y_train, n_folds=5, random_state=42, shuffle=True))\n",
    "        #cccv.fit(X_train, y_train)\n",
    "        self.clf.fit(X_train, y_train)\n",
    "    \n",
    "    def predict(self, x):\n",
    "        return self.clf.predict(x)\n",
    "    \n",
    "    def predict_proba(self, x):\n",
    "        return self.clf.predict_proba(x)\n",
    "    \n",
    "    def fit(self, x, y):\n",
    "        return self.clf.fit(x, y)\n",
    "    \n",
    "    def features_importance(self, x, y):\n",
    "        print(self.clf.fit(x,y).features_importance_)"
   ]
  },
  {
   "cell_type": "code",
   "execution_count": 11,
   "metadata": {
    "collapsed": true
   },
   "outputs": [],
   "source": [
    "def get_oof(clf, X_train, y_train, X_test, K =5, SEED =43 ):\n",
    "    \n",
    "    skf = StratifiedKFold(n_splits=5, random_state=42, shuffle=True)\n",
    "    kf = KFold(n_splits = K, random_state = 42, shuffle = True)\n",
    "    oof_train = np.zeros((X_train.shape[0],))\n",
    "    oof_test  = np.zeros((X_test.shape[0],))\n",
    "    oof_test_skf = np.empty((K, X_test.shape[0]))\n",
    "    \n",
    "    for i, (train_index, test_index) in enumerate(skf.split(X_train, y_train)):\n",
    "        X_train_k = X_train[train_index]\n",
    "        y_train_k = y_train[train_index]\n",
    "        X_test_k =  X_train[test_index]\n",
    "        y_test_k = y_train[test_index]\n",
    "        \n",
    "        clf.train(X_train_k, y_train_k)\n",
    "        \n",
    "        train_pred = clf.predict_proba(X_train_k)[:,1]\n",
    "        test_pred = clf.predict_proba(X_test_k)[:,1]\n",
    "        oof_train[test_index] = clf.predict_proba(X_test_k)[:,1]\n",
    "        oof_test_skf[i,:] = clf.predict_proba(X_test)[:,1]\n",
    "        \n",
    "        print( \"Fold {}:  Train-Gini = {:06.5f}, Eval-Gini = {:06.5f}\".format(i,eval_gini(y_train_k, train_pred),eval_gini(y_test_k, test_pred)))\n",
    "    \n",
    "    oof_test[:] = oof_test_skf.mean(axis=0)\n",
    "    return oof_train.reshape(-1, 1), oof_test.reshape(-1, 1)"
   ]
  },
  {
   "cell_type": "code",
   "execution_count": 39,
   "metadata": {
    "collapsed": true
   },
   "outputs": [],
   "source": [
    "def blend(clf, X_train, y_train, X_test, K =5, SEED =43 ):\n",
    "    y_test_pred = 0\n",
    "    skf = StratifiedKFold(n_splits=5, random_state=42, shuffle=True)\n",
    "    kf = KFold(n_splits = K, random_state = 1, shuffle = True)\n",
    "\n",
    "    \n",
    "    for i, (train_index, test_index) in enumerate(skf.split(X_train, y_train)):\n",
    "        X_train_k = X_train[train_index]\n",
    "        y_train_k = y_train[train_index]\n",
    "        X_test_k =  X_train[test_index]\n",
    "        y_test_k = y_train[test_index]\n",
    "        \n",
    "        clf.fit(X_train_k, y_train_k)\n",
    "        train_pred = clf.predict_proba(X_train_k)[:,1]\n",
    "        pred = clf.predict_proba(X_test_k)[:,1]\n",
    "        y_test_pred += clf.predict_proba(X_test)[:,1]/K\n",
    "        \n",
    "        print( \"Fold {}:  Train-Gini = {:06.5f}, Eval-Gini = {:06.5f}\".format(i,eval_gini(y_train_k, train_pred),eval_gini(y_test_k, pred)))\n",
    "    \n",
    "    return y_test_pred"
   ]
  },
  {
   "cell_type": "code",
   "execution_count": 13,
   "metadata": {
    "collapsed": true
   },
   "outputs": [],
   "source": [
    "x_train = X.values\n",
    "y_train = y.values\n",
    "x_test = test_df.values"
   ]
  },
  {
   "cell_type": "code",
   "execution_count": 30,
   "metadata": {
    "collapsed": true
   },
   "outputs": [],
   "source": [
    "rf_params = {\n",
    "     'n_jobs': -1,\n",
    "     'criterion': 'gini',\n",
    "     'max_depth': 20,\n",
    "     'max_features': 4,\n",
    "     'max_leaf_nodes': 20,\n",
    "     'min_samples_leaf': 0.1,\n",
    "     'min_samples_split': 0.15,\n",
    "     'n_estimators': 54,\n",
    "     'class_weight':'balanced_subsample'\n",
    "}\n",
    "\n",
    "\n",
    "#Extra Trees Parameters\n",
    "et_params = {\n",
    "    'n_jobs': -1,\n",
    "    'n_estimators':60,\n",
    "    'max_depth': 8,\n",
    "    'min_weight_fraction_leaf':0.0,\n",
    "    'min_samples_leaf': 3,\n",
    "    'verbose': 0,\n",
    "    'bootstrap': False,\n",
    "    #'min_samples_split': 4,\n",
    "    'max_features':  'log2',\n",
    "}\n",
    "\n",
    "# AdaBoost parameters\n",
    "# ada_params = {\n",
    "#     'base_estimator' :ExtraTreesClassifier(max_depth=4, n_estimators=5,n_jobs=-1,min_samples_leaf=1),\n",
    "#     'n_estimators': 50,\n",
    "#     'learning_rate' : 0.75\n",
    "# }\n",
    "\n",
    "# AdaBoost parameters\n",
    "ada_params = {\n",
    "    'base_estimator' :ExtraTreesClassifier(max_depth=4, n_estimators=50,n_jobs=-1,min_samples_leaf=1),\n",
    "    'n_estimators': 25,\n",
    "    'learning_rate' : 0.75\n",
    "}\n",
    "\n",
    "# Gradient Boosting parameters\n",
    "gb_params = {\n",
    "    'max_leaf_nodes':None,\n",
    "    'max_features':None,\n",
    "    'learning_rate':0.1,\n",
    "    'loss':'deviance',\n",
    "    'presort':True,\n",
    "    'min_samples_split':2,\n",
    "    'min_weight_fraction_leaf':0.0,\n",
    "    'min_impurity_decrease':0.0,\n",
    "    'subsample':1.0,\n",
    "    'min_impurity_split':None,\n",
    "    'n_estimators': 100,\n",
    "     #'max_features': 0.2,\n",
    "    'max_depth': 3,\n",
    "    'min_samples_leaf': 1,\n",
    "    'verbose': 0,\n",
    "    'max_leaf_nodes':None,\n",
    "}\n",
    "# # Gradient Boosting parameters\n",
    "# gb_params = {\n",
    "#     'learning_rate':0.1\n",
    "#     'n_estimators': 50,\n",
    "#      #'max_features': 0.2,\n",
    "#     'max_depth': 5,\n",
    "#     'min_samples_leaf': 2,\n",
    "#     'verbose': 0\n",
    "# }\n",
    "\n",
    "# Support Vector Classifier parameters \n",
    "svc_params = {\n",
    "    'kernel' : 'linear',\n",
    "    'C' : 0.025\n",
    "    }\n",
    "\n",
    "params = {'tree_method':'gpu_hist', 'predictor':'gpu_predictor'}\n",
    "\n",
    "xgb_params = {'n_estimators':450,\n",
    "                'max_depth':4,\n",
    "                'objective':\"binary:logistic\",\n",
    "                'learning_rate':0.07,\n",
    "                'max_delta_step':1.8,\n",
    "                'subsample':.8,\n",
    "                #min_child_weight=0.5,\n",
    "                'colsample_bytree': 0.8,\n",
    "                'min_child_weight':28,#??\n",
    "                'colsample_bylevel':0.432,#??\n",
    "                'gamma':10,\n",
    "                'reg_alpha':8,\n",
    "               'n_jobs':12,\n",
    "                'reg_lambda':1.3,\n",
    "                'missing':-1,\n",
    "                **params}"
   ]
  },
  {
   "cell_type": "code",
   "execution_count": 31,
   "metadata": {
    "collapsed": true
   },
   "outputs": [],
   "source": [
    "SEED=42"
   ]
  },
  {
   "cell_type": "code",
   "execution_count": 32,
   "metadata": {
    "collapsed": true
   },
   "outputs": [],
   "source": [
    "rf = EnsambleHelper(clf=RandomForestClassifier, seed=SEED, params=rf_params)\n",
    "et = EnsambleHelper(clf=ExtraTreesClassifier, seed=SEED, params=et_params)\n",
    "ada = EnsambleHelper(clf=AdaBoostClassifier, seed=SEED, params=ada_params)\n",
    "gb = EnsambleHelper(clf=GradientBoostingClassifier, seed=SEED, params=gb_params)\n",
    "svc = EnsambleHelper(clf=SVC, seed=SEED, params=svc_params)\n",
    "xgb = EnsambleHelper(clf=XGBClassifier, seed=SEED, params=xgb_params)"
   ]
  },
  {
   "cell_type": "code",
   "execution_count": 23,
   "metadata": {},
   "outputs": [
    {
     "name": "stdout",
     "output_type": "stream",
     "text": [
      "Fold 0:  Train-Gini = 0.36106, Eval-Gini = 0.27325\n",
      "Fold 1:  Train-Gini = 0.35715, Eval-Gini = 0.29476\n",
      "Fold 2:  Train-Gini = 0.35773, Eval-Gini = 0.28519\n",
      "Fold 3:  Train-Gini = 0.35739, Eval-Gini = 0.29556\n",
      "Fold 4:  Train-Gini = 0.35776, Eval-Gini = 0.28903\n"
     ]
    }
   ],
   "source": [
    "svc_oof_train, svc_oof_test = get_oof(xgb,x_train, y_train, x_test) # Support Vector Classifier"
   ]
  },
  {
   "cell_type": "code",
   "execution_count": 18,
   "metadata": {},
   "outputs": [
    {
     "name": "stdout",
     "output_type": "stream",
     "text": [
      "Fold 0:  Train-Gini = 0.29177, Eval-Gini = 0.23725\n",
      "Fold 1:  Train-Gini = 0.28925, Eval-Gini = 0.25948\n",
      "Fold 2:  Train-Gini = 0.28736, Eval-Gini = 0.25527\n",
      "Fold 3:  Train-Gini = 0.28646, Eval-Gini = 0.26026\n",
      "Fold 4:  Train-Gini = 0.28707, Eval-Gini = 0.26039\n"
     ]
    }
   ],
   "source": [
    "et_oof_train, et_oof_test = get_oof(et, x_train, y_train, x_test) # Extra Trees"
   ]
  },
  {
   "cell_type": "code",
   "execution_count": 24,
   "metadata": {},
   "outputs": [
    {
     "name": "stdout",
     "output_type": "stream",
     "text": [
      "Fold 0:  Train-Gini = 0.21055, Eval-Gini = 0.17645\n",
      "Fold 1:  Train-Gini = 0.20417, Eval-Gini = 0.20363\n",
      "Fold 2:  Train-Gini = 0.20484, Eval-Gini = 0.20837\n",
      "Fold 3:  Train-Gini = 0.20558, Eval-Gini = 0.21113\n",
      "Fold 4:  Train-Gini = 0.20039, Eval-Gini = 0.20930\n"
     ]
    }
   ],
   "source": [
    "rf_oof_train, rf_oof_test = get_oof(rf,x_train, y_train, x_test) # Random Forest"
   ]
  },
  {
   "cell_type": "code",
   "execution_count": 33,
   "metadata": {},
   "outputs": [
    {
     "name": "stdout",
     "output_type": "stream",
     "text": [
      "Fold 0:  Train-Gini = 0.31844, Eval-Gini = 0.26736\n",
      "Fold 1:  Train-Gini = 0.31323, Eval-Gini = 0.28808\n",
      "Fold 2:  Train-Gini = 0.31486, Eval-Gini = 0.28189\n",
      "Fold 3:  Train-Gini = 0.31397, Eval-Gini = 0.28856\n",
      "Fold 4:  Train-Gini = 0.31503, Eval-Gini = 0.28580\n"
     ]
    }
   ],
   "source": [
    "ada_oof_train, ada_oof_test = get_oof(ada, x_train, y_train, x_test) # AdaBoost "
   ]
  },
  {
   "cell_type": "code",
   "execution_count": 34,
   "metadata": {},
   "outputs": [
    {
     "name": "stdout",
     "output_type": "stream",
     "text": [
      "Fold 0:  Train-Gini = 0.30260, Eval-Gini = 0.26091\n",
      "Fold 1:  Train-Gini = 0.29840, Eval-Gini = 0.28695\n",
      "Fold 2:  Train-Gini = 0.29877, Eval-Gini = 0.27809\n",
      "Fold 3:  Train-Gini = 0.29790, Eval-Gini = 0.28616\n",
      "Fold 4:  Train-Gini = 0.29884, Eval-Gini = 0.28148\n"
     ]
    }
   ],
   "source": [
    "gb_oof_train, gb_oof_test = get_oof(gb,x_train, y_train, x_test) # Gradient Boost"
   ]
  },
  {
   "cell_type": "code",
   "execution_count": 35,
   "metadata": {},
   "outputs": [
    {
     "data": {
      "text/html": [
       "<div>\n",
       "<style>\n",
       "    .dataframe thead tr:only-child th {\n",
       "        text-align: right;\n",
       "    }\n",
       "\n",
       "    .dataframe thead th {\n",
       "        text-align: left;\n",
       "    }\n",
       "\n",
       "    .dataframe tbody tr th {\n",
       "        vertical-align: top;\n",
       "    }\n",
       "</style>\n",
       "<table border=\"1\" class=\"dataframe\">\n",
       "  <thead>\n",
       "    <tr style=\"text-align: right;\">\n",
       "      <th></th>\n",
       "      <th>AdaBoost</th>\n",
       "      <th>ExtraTrees</th>\n",
       "      <th>GBoost</th>\n",
       "      <th>RandomForest</th>\n",
       "      <th>XGBoost</th>\n",
       "    </tr>\n",
       "  </thead>\n",
       "  <tbody>\n",
       "    <tr>\n",
       "      <th>0</th>\n",
       "      <td>0.458870</td>\n",
       "      <td>0.047472</td>\n",
       "      <td>0.044198</td>\n",
       "      <td>0.505484</td>\n",
       "      <td>0.044113</td>\n",
       "    </tr>\n",
       "    <tr>\n",
       "      <th>1</th>\n",
       "      <td>0.454031</td>\n",
       "      <td>0.032741</td>\n",
       "      <td>0.035664</td>\n",
       "      <td>0.482431</td>\n",
       "      <td>0.026422</td>\n",
       "    </tr>\n",
       "    <tr>\n",
       "      <th>2</th>\n",
       "      <td>0.448267</td>\n",
       "      <td>0.027043</td>\n",
       "      <td>0.021208</td>\n",
       "      <td>0.448453</td>\n",
       "      <td>0.019910</td>\n",
       "    </tr>\n",
       "    <tr>\n",
       "      <th>3</th>\n",
       "      <td>0.446240</td>\n",
       "      <td>0.026823</td>\n",
       "      <td>0.017561</td>\n",
       "      <td>0.479430</td>\n",
       "      <td>0.017558</td>\n",
       "    </tr>\n",
       "    <tr>\n",
       "      <th>4</th>\n",
       "      <td>0.454641</td>\n",
       "      <td>0.028133</td>\n",
       "      <td>0.031373</td>\n",
       "      <td>0.479002</td>\n",
       "      <td>0.044170</td>\n",
       "    </tr>\n",
       "  </tbody>\n",
       "</table>\n",
       "</div>"
      ],
      "text/plain": [
       "   AdaBoost  ExtraTrees    GBoost  RandomForest   XGBoost\n",
       "0  0.458870    0.047472  0.044198      0.505484  0.044113\n",
       "1  0.454031    0.032741  0.035664      0.482431  0.026422\n",
       "2  0.448267    0.027043  0.021208      0.448453  0.019910\n",
       "3  0.446240    0.026823  0.017561      0.479430  0.017558\n",
       "4  0.454641    0.028133  0.031373      0.479002  0.044170"
      ]
     },
     "execution_count": 35,
     "metadata": {},
     "output_type": "execute_result"
    }
   ],
   "source": [
    "base_predictions_train = pd.DataFrame({'RandomForest': rf_oof_train.ravel(),\n",
    "                                       'ExtraTrees': et_oof_train.ravel(),\n",
    "                                       'XGBoost': svc_oof_train.ravel(),\n",
    "                                       'AdaBoost': ada_oof_train.ravel(),\n",
    "                                       'GBoost': gb_oof_train.ravel()})\n",
    "base_predictions_train.head()"
   ]
  },
  {
   "cell_type": "code",
   "execution_count": 36,
   "metadata": {},
   "outputs": [
    {
     "data": {
      "text/plain": [
       "array([[<matplotlib.axes._subplots.AxesSubplot object at 0x7fcbe86e8278>,\n",
       "        <matplotlib.axes._subplots.AxesSubplot object at 0x7fcbce9cdd68>],\n",
       "       [<matplotlib.axes._subplots.AxesSubplot object at 0x7fcbce91d978>,\n",
       "        <matplotlib.axes._subplots.AxesSubplot object at 0x7fcbe85e5ef0>],\n",
       "       [<matplotlib.axes._subplots.AxesSubplot object at 0x7fcbceab5e48>,\n",
       "        <matplotlib.axes._subplots.AxesSubplot object at 0x7fcbceab5320>]], dtype=object)"
      ]
     },
     "execution_count": 36,
     "metadata": {},
     "output_type": "execute_result"
    },
    {
     "data": {
      "image/png": "[encoded data removed]",
      "text/plain": [
       "<matplotlib.figure.Figure at 0x7fcbd08c1828>"
      ]
     },
     "metadata": {},
     "output_type": "display_data"
    }
   ],
   "source": [
    "base_predictions_train.hist()"
   ]
  },
  {
   "cell_type": "code",
   "execution_count": null,
   "metadata": {
    "collapsed": true
   },
   "outputs": [],
   "source": [
    "\n",
    "\n",
    "data = [\n",
    "    go.Heatmap(\n",
    "        z= base_predictions_train.astype(float).corr().values ,\n",
    "        x=base_predictions_train.columns.values,\n",
    "        y= base_predictions_train.columns.values,\n",
    "          colorscale='Viridis',\n",
    "            showscale=True,\n",
    "            reversescale = True\n",
    "    )\n",
    "]\n",
    "py.iplot(data, filename='labelled-heatmap')\n",
    "\n"
   ]
  },
  {
   "cell_type": "code",
   "execution_count": 57,
   "metadata": {
    "collapsed": true
   },
   "outputs": [],
   "source": [
    "x_train_blender= np.concatenate((et_oof_train, svc_oof_train,gb_oof_train,ada_oof_train), axis=1)\n",
    "x_test_blender = np.concatenate((et_oof_test, svc_oof_test,gb_oof_test,ada_oof_test), axis=1)"
   ]
  },
  {
   "cell_type": "code",
   "execution_count": 107,
   "metadata": {},
   "outputs": [
    {
     "name": "stdout",
     "output_type": "stream",
     "text": [
      "Fold 0:  Train-Gini = 0.29923, Eval-Gini = 0.27135\n",
      "Fold 1:  Train-Gini = 0.29363, Eval-Gini = 0.29476\n",
      "Fold 2:  Train-Gini = 0.29578, Eval-Gini = 0.28599\n",
      "Fold 3:  Train-Gini = 0.29340, Eval-Gini = 0.29443\n",
      "Fold 4:  Train-Gini = 0.29364, Eval-Gini = 0.29072\n"
     ]
    }
   ],
   "source": [
    "mdl = XGBClassifier(n_estimators= 500,learning_rate=0.007, max_depth= 4,min_child_weight= 1,gamma=.8,subsample=1,\n",
    "                    colsample_bytree=1,objective= 'binary:logistic',scale_pos_weight=2,**params)\n",
    "predictions = blend(mdl,x_train_blender, y_train, x_test_blender)"
   ]
  },
  {
   "cell_type": "code",
   "execution_count": 108,
   "metadata": {
    "collapsed": true
   },
   "outputs": [],
   "source": [
    "sub = pd.DataFrame()\n",
    "sub['id'] = id_test\n",
    "sub['target'] = predictions\n",
    "filename = 'ensamble_'+str(dt.datetime.now()).replace(' ','_').replace(':','').replace('.','')\n",
    "sub.id = sub.id.astype('Int32')\n",
    "sub.to_csv('../../output/'+filename+'.csv.gz', index=False,compression='gzip')"
   ]
  },
  {
   "cell_type": "code",
   "execution_count": 109,
   "metadata": {},
   "outputs": [
    {
     "data": {
      "text/plain": [
       "<matplotlib.axes._subplots.AxesSubplot at 0x7fcafff5b9b0>"
      ]
     },
     "execution_count": 109,
     "metadata": {},
     "output_type": "execute_result"
    },
    {
     "data": {
      "image/png": "[encoded data removed]",
      "text/plain": [
       "<matplotlib.figure.Figure at 0x7fcae632a4e0>"
      ]
     },
     "metadata": {},
     "output_type": "display_data"
    }
   ],
   "source": [
    "sub['target'].hist()"
   ]
  },
  {
   "cell_type": "code",
   "execution_count": 103,
   "metadata": {},
   "outputs": [
    {
     "data": {
      "image/png": "[encoded data removed]",
      "text/plain": [
       "<matplotlib.figure.Figure at 0x7fcae61a9ef0>"
      ]
     },
     "metadata": {},
     "output_type": "display_data"
    }
   ],
   "source": [
    "sub['target'].hist()\n",
    "plt.show()"
   ]
  },
  {
   "cell_type": "markdown",
   "metadata": {
    "collapsed": true
   },
   "source": [
    "## Keras"
   ]
  },
  {
   "cell_type": "code",
   "execution_count": null,
   "metadata": {
    "collapsed": true
   },
   "outputs": [],
   "source": [
    "import tensorflow as tf"
   ]
  },
  {
   "cell_type": "code",
   "execution_count": 47,
   "metadata": {},
   "outputs": [
    {
     "name": "stderr",
     "output_type": "stream",
     "text": [
      "Using TensorFlow backend.\n"
     ]
    }
   ],
   "source": [
    "from keras.models import Sequential\n",
    "from keras.layers.core import Dense, Dropout, Activation\n",
    "from keras.layers import BatchNormalization \n",
    "from keras.optimizers import RMSprop, Adam\n",
    "from keras.callbacks import EarlyStopping\n",
    "from keras.datasets import mnist\n",
    "from keras.utils import np_utils"
   ]
  },
  {
   "cell_type": "code",
   "execution_count": 48,
   "metadata": {
    "collapsed": true
   },
   "outputs": [],
   "source": [
    "from sklearn.metrics import f1_score, roc_auc_score\n",
    "import keras.callbacks as kc\n",
    "\n",
    "class Metrics(kc.Callback):\n",
    "    def on_epoch_end(self, batch, logs={}):\n",
    "        predict = np.asarray(self.model.predict_proba(self.validation_data[0])[:,0])\n",
    "        targ = self.validation_data[1]\n",
    "        self.ginis= eval_gini(targ, predict)\n",
    "        return\n",
    "metrics = Metrics()"
   ]
  },
  {
   "cell_type": "code",
   "execution_count": 126,
   "metadata": {
    "collapsed": true
   },
   "outputs": [],
   "source": [
    "# define base model\n",
    "def baseline_model():\n",
    "    # create model\n",
    "    model = Sequential()\n",
    "    model.add(Dense(16, input_dim=4, kernel_initializer='glorot_uniform',bias_initializer='zeros', activation='relu'))\n",
    "    model.add(Dropout(0.1))\n",
    "    model.add(Dense(1))\n",
    "    model.add(Activation('sigmoid'))\n",
    "    # Compile model\n",
    "    model.compile(loss='binary_crossentropy', optimizer=Adam(),metrics=['acc'])\n",
    "    return model"
   ]
  },
  {
   "cell_type": "code",
   "execution_count": 127,
   "metadata": {
    "collapsed": true
   },
   "outputs": [],
   "source": [
    "model = baseline_model()"
   ]
  },
  {
   "cell_type": "code",
   "execution_count": 128,
   "metadata": {
    "collapsed": true
   },
   "outputs": [],
   "source": [
    "RS = StandardScaler()\n",
    "RS.fit(list(x_train_blender) + list(x_test_blender))\n",
    "x_train_blender_in = RS.transform(x_train_blender)\n",
    "x_test_blender_in = RS.transform(x_test_blender)"
   ]
  },
  {
   "cell_type": "code",
   "execution_count": 129,
   "metadata": {},
   "outputs": [
    {
     "name": "stdout",
     "output_type": "stream",
     "text": [
      "[Fold 1/5]\n",
      "Train on 476169 samples, validate on 119043 samples\n",
      "Epoch 1/20\n",
      "476169/476169 [==============================] - 28s - loss: 0.1617 - acc: 0.9632 - val_loss: 0.1527 - val_acc: 0.9635\n",
      "Epoch 2/20\n",
      "476169/476169 [==============================] - 28s - loss: 0.1542 - acc: 0.9635 - val_loss: 0.1525 - val_acc: 0.9635\n",
      "Epoch 3/20\n",
      "476169/476169 [==============================] - 28s - loss: 0.1531 - acc: 0.9636 - val_loss: 0.1520 - val_acc: 0.9636\n",
      "Epoch 4/20\n",
      "476169/476169 [==============================] - 28s - loss: 0.1524 - acc: 0.9635 - val_loss: 0.1518 - val_acc: 0.9636\n",
      "Epoch 5/20\n",
      "476169/476169 [==============================] - 28s - loss: 0.1522 - acc: 0.9635 - val_loss: 0.1518 - val_acc: 0.9636\n",
      "Epoch 6/20\n",
      "476169/476169 [==============================] - 28s - loss: 0.1521 - acc: 0.9635 - val_loss: 0.1518 - val_acc: 0.9636\n",
      "Epoch 00005: early stopping\n",
      "[ 0.28844492]\n",
      "[Fold 1/5 Prediciton:]\n",
      "891136/892816 [============================>.] - ETA: 0s[Fold 2/5]\n",
      "Train on 476169 samples, validate on 119043 samples\n",
      "Epoch 1/20\n",
      "476169/476169 [==============================] - 28s - loss: 0.1520 - acc: 0.9635 - val_loss: 0.1518 - val_acc: 0.9635\n",
      "Epoch 2/20\n",
      "476169/476169 [==============================] - 28s - loss: 0.1520 - acc: 0.9635 - val_loss: 0.1523 - val_acc: 0.9635\n",
      "Epoch 3/20\n",
      "476169/476169 [==============================] - 28s - loss: 0.1519 - acc: 0.9636 - val_loss: 0.1520 - val_acc: 0.9636\n",
      "Epoch 00002: early stopping\n",
      "[ 0.28592662]\n",
      "[Fold 2/5 Prediciton:]\n",
      "889152/892816 [============================>.] - ETA: 0s[Fold 3/5]\n",
      "Train on 476169 samples, validate on 119043 samples\n",
      "Epoch 1/20\n",
      "476169/476169 [==============================] - 28s - loss: 0.1520 - acc: 0.9635 - val_loss: 0.1516 - val_acc: 0.9635\n",
      "Epoch 2/20\n",
      "476169/476169 [==============================] - 28s - loss: 0.1519 - acc: 0.9636 - val_loss: 0.1516 - val_acc: 0.9636\n",
      "Epoch 3/20\n",
      "476169/476169 [==============================] - 28s - loss: 0.1519 - acc: 0.9635 - val_loss: 0.1519 - val_acc: 0.9636\n",
      "Epoch 00002: early stopping\n",
      "[ 0.28792717]\n",
      "[Fold 3/5 Prediciton:]\n",
      "890528/892816 [============================>.] - ETA: 0s[Fold 4/5]\n",
      "Train on 476170 samples, validate on 119042 samples\n",
      "Epoch 1/20\n",
      "476170/476170 [==============================] - 28s - loss: 0.1519 - acc: 0.9635 - val_loss: 0.1514 - val_acc: 0.9636\n",
      "Epoch 2/20\n",
      "476170/476170 [==============================] - 28s - loss: 0.1519 - acc: 0.9635 - val_loss: 0.1515 - val_acc: 0.9636\n",
      "Epoch 3/20\n",
      "476170/476170 [==============================] - 28s - loss: 0.1519 - acc: 0.9636 - val_loss: 0.1515 - val_acc: 0.9636\n",
      "Epoch 00002: early stopping\n",
      "[ 0.29267199]\n",
      "[Fold 4/5 Prediciton:]\n",
      "889856/892816 [============================>.] - ETA: 0s[Fold 5/5]\n",
      "Train on 476171 samples, validate on 119041 samples\n",
      "Epoch 1/20\n",
      "476171/476171 [==============================] - 28s - loss: 0.1519 - acc: 0.9636 - val_loss: 0.1520 - val_acc: 0.9635\n",
      "Epoch 2/20\n",
      "476171/476171 [==============================] - 28s - loss: 0.1518 - acc: 0.9636 - val_loss: 0.1520 - val_acc: 0.9635\n",
      "Epoch 3/20\n",
      "476171/476171 [==============================] - 28s - loss: 0.1518 - acc: 0.9636 - val_loss: 0.1520 - val_acc: 0.9635\n",
      "Epoch 4/20\n",
      "476171/476171 [==============================] - 28s - loss: 0.1518 - acc: 0.9636 - val_loss: 0.1519 - val_acc: 0.9635\n",
      "Epoch 5/20\n",
      "476171/476171 [==============================] - 28s - loss: 0.1519 - acc: 0.9635 - val_loss: 0.1520 - val_acc: 0.9635\n",
      "Epoch 6/20\n",
      "476171/476171 [==============================] - 28s - loss: 0.1518 - acc: 0.9636 - val_loss: 0.1521 - val_acc: 0.9635\n",
      "Epoch 00005: early stopping\n",
      "[ 0.28075238]\n",
      "[Fold 5/5 Prediciton:]\n",
      "889184/892816 [============================>.] - ETA: 0s"
     ]
    }
   ],
   "source": [
    "kfold = 5\n",
    "skf = StratifiedKFold(n_splits=kfold, random_state=42)\n",
    "\n",
    "NUM_EPOCHS = 20\n",
    "BATCH_SIZE = 32\n",
    "\n",
    "sub = pd.DataFrame()\n",
    "sub['id'] = id_test\n",
    "sub['target'] = np.zeros_like(id_test)\n",
    "\n",
    "for i, (train_index, test_index) in enumerate(skf.split(x_train_blender_in, y_train)):\n",
    "    print('[Fold %d/%d]' % (i + 1, kfold))\n",
    "    X_train_blender_dl, X_valid_blender_dl = x_train_blender[train_index], x_train_blender[test_index]\n",
    "    y_train_blender_dl, y_valid_blender_dl = y_train[train_index], y_train[test_index]\n",
    "    #class_weight = {1 : (len(y_train) - sum(y_train))/y_train.shape[0], 0: sum(y_train)/y_train.shape[0]}\n",
    "    ES = EarlyStopping(monitor='val_loss', min_delta=0, patience=1, verbose=1, mode='auto')\n",
    "    history = model.fit(X_train_blender_dl, y_train_blender_dl, batch_size=BATCH_SIZE, epochs=NUM_EPOCHS,validation_data=(X_valid_blender_dl,y_valid_blender_dl), callbacks=[ES,metrics])#, class_weight = class_weight\n",
    "    print(metrics.ginis)\n",
    "    print('[Fold %d/%d Prediciton:]' % (i + 1, kfold))\n",
    "    # Predict on our test data\n",
    "    p_test =model.predict_proba(x_test_blender_in)[:,0]\n",
    "    sub['target'] += p_test/kfold"
   ]
  },
  {
   "cell_type": "code",
   "execution_count": 106,
   "metadata": {
    "collapsed": true
   },
   "outputs": [],
   "source": [
    "filename = 'dl_ensamble_'+str(dt.datetime.now()).replace(' ','_').replace(':','').replace('.','')\n",
    "sub.id = sub.id.astype('Int32')\n",
    "sub.to_csv('../../output/'+filename+'.csv.gz', index=False,compression='gzip')"
   ]
  },
  {
   "cell_type": "code",
   "execution_count": 94,
   "metadata": {
    "collapsed": true
   },
   "outputs": [],
   "source": [
    "sub['id'] = id_test"
   ]
  },
  {
   "cell_type": "code",
   "execution_count": 95,
   "metadata": {},
   "outputs": [
    {
     "data": {
      "text/html": [
       "<div>\n",
       "<style>\n",
       "    .dataframe thead tr:only-child th {\n",
       "        text-align: right;\n",
       "    }\n",
       "\n",
       "    .dataframe thead th {\n",
       "        text-align: left;\n",
       "    }\n",
       "\n",
       "    .dataframe tbody tr th {\n",
       "        vertical-align: top;\n",
       "    }\n",
       "</style>\n",
       "<table border=\"1\" class=\"dataframe\">\n",
       "  <thead>\n",
       "    <tr style=\"text-align: right;\">\n",
       "      <th></th>\n",
       "      <th>id</th>\n",
       "      <th>target</th>\n",
       "    </tr>\n",
       "  </thead>\n",
       "  <tbody>\n",
       "    <tr>\n",
       "      <th>0</th>\n",
       "      <td>0</td>\n",
       "      <td>6.046914e-10</td>\n",
       "    </tr>\n",
       "    <tr>\n",
       "      <th>1</th>\n",
       "      <td>1</td>\n",
       "      <td>4.148240e-09</td>\n",
       "    </tr>\n",
       "    <tr>\n",
       "      <th>2</th>\n",
       "      <td>2</td>\n",
       "      <td>1.253105e-09</td>\n",
       "    </tr>\n",
       "    <tr>\n",
       "      <th>3</th>\n",
       "      <td>3</td>\n",
       "      <td>8.457876e-17</td>\n",
       "    </tr>\n",
       "    <tr>\n",
       "      <th>4</th>\n",
       "      <td>4</td>\n",
       "      <td>3.579004e-04</td>\n",
       "    </tr>\n",
       "    <tr>\n",
       "      <th>5</th>\n",
       "      <td>5</td>\n",
       "      <td>8.017893e-01</td>\n",
       "    </tr>\n",
       "    <tr>\n",
       "      <th>6</th>\n",
       "      <td>6</td>\n",
       "      <td>1.420868e-12</td>\n",
       "    </tr>\n",
       "    <tr>\n",
       "      <th>7</th>\n",
       "      <td>8</td>\n",
       "      <td>1.048186e-04</td>\n",
       "    </tr>\n",
       "    <tr>\n",
       "      <th>8</th>\n",
       "      <td>10</td>\n",
       "      <td>9.900000e-01</td>\n",
       "    </tr>\n",
       "    <tr>\n",
       "      <th>9</th>\n",
       "      <td>11</td>\n",
       "      <td>9.900000e-01</td>\n",
       "    </tr>\n",
       "    <tr>\n",
       "      <th>10</th>\n",
       "      <td>12</td>\n",
       "      <td>9.604785e-08</td>\n",
       "    </tr>\n",
       "    <tr>\n",
       "      <th>11</th>\n",
       "      <td>14</td>\n",
       "      <td>3.156874e-11</td>\n",
       "    </tr>\n",
       "    <tr>\n",
       "      <th>12</th>\n",
       "      <td>15</td>\n",
       "      <td>9.257088e-01</td>\n",
       "    </tr>\n",
       "    <tr>\n",
       "      <th>13</th>\n",
       "      <td>18</td>\n",
       "      <td>6.436024e-01</td>\n",
       "    </tr>\n",
       "    <tr>\n",
       "      <th>14</th>\n",
       "      <td>21</td>\n",
       "      <td>9.010473e-01</td>\n",
       "    </tr>\n",
       "    <tr>\n",
       "      <th>15</th>\n",
       "      <td>23</td>\n",
       "      <td>1.182689e-10</td>\n",
       "    </tr>\n",
       "    <tr>\n",
       "      <th>16</th>\n",
       "      <td>24</td>\n",
       "      <td>3.418868e-11</td>\n",
       "    </tr>\n",
       "    <tr>\n",
       "      <th>17</th>\n",
       "      <td>25</td>\n",
       "      <td>9.680229e-01</td>\n",
       "    </tr>\n",
       "    <tr>\n",
       "      <th>18</th>\n",
       "      <td>27</td>\n",
       "      <td>2.613748e-16</td>\n",
       "    </tr>\n",
       "    <tr>\n",
       "      <th>19</th>\n",
       "      <td>29</td>\n",
       "      <td>9.900000e-01</td>\n",
       "    </tr>\n",
       "    <tr>\n",
       "      <th>20</th>\n",
       "      <td>30</td>\n",
       "      <td>1.121796e-03</td>\n",
       "    </tr>\n",
       "    <tr>\n",
       "      <th>21</th>\n",
       "      <td>31</td>\n",
       "      <td>9.900000e-01</td>\n",
       "    </tr>\n",
       "    <tr>\n",
       "      <th>22</th>\n",
       "      <td>32</td>\n",
       "      <td>9.900000e-01</td>\n",
       "    </tr>\n",
       "    <tr>\n",
       "      <th>23</th>\n",
       "      <td>33</td>\n",
       "      <td>2.109010e-15</td>\n",
       "    </tr>\n",
       "    <tr>\n",
       "      <th>24</th>\n",
       "      <td>37</td>\n",
       "      <td>7.585486e-08</td>\n",
       "    </tr>\n",
       "    <tr>\n",
       "      <th>25</th>\n",
       "      <td>38</td>\n",
       "      <td>4.190134e-09</td>\n",
       "    </tr>\n",
       "    <tr>\n",
       "      <th>26</th>\n",
       "      <td>39</td>\n",
       "      <td>9.900000e-01</td>\n",
       "    </tr>\n",
       "    <tr>\n",
       "      <th>27</th>\n",
       "      <td>40</td>\n",
       "      <td>1.044521e-01</td>\n",
       "    </tr>\n",
       "    <tr>\n",
       "      <th>28</th>\n",
       "      <td>41</td>\n",
       "      <td>1.233217e-09</td>\n",
       "    </tr>\n",
       "    <tr>\n",
       "      <th>29</th>\n",
       "      <td>42</td>\n",
       "      <td>1.420332e-14</td>\n",
       "    </tr>\n",
       "    <tr>\n",
       "      <th>...</th>\n",
       "      <td>...</td>\n",
       "      <td>...</td>\n",
       "    </tr>\n",
       "    <tr>\n",
       "      <th>892786</th>\n",
       "      <td>1487982</td>\n",
       "      <td>2.638974e-14</td>\n",
       "    </tr>\n",
       "    <tr>\n",
       "      <th>892787</th>\n",
       "      <td>1487984</td>\n",
       "      <td>1.032120e-01</td>\n",
       "    </tr>\n",
       "    <tr>\n",
       "      <th>892788</th>\n",
       "      <td>1487985</td>\n",
       "      <td>1.490985e-03</td>\n",
       "    </tr>\n",
       "    <tr>\n",
       "      <th>892789</th>\n",
       "      <td>1487986</td>\n",
       "      <td>3.892627e-03</td>\n",
       "    </tr>\n",
       "    <tr>\n",
       "      <th>892790</th>\n",
       "      <td>1487987</td>\n",
       "      <td>2.667233e-03</td>\n",
       "    </tr>\n",
       "    <tr>\n",
       "      <th>892791</th>\n",
       "      <td>1487989</td>\n",
       "      <td>4.792158e-10</td>\n",
       "    </tr>\n",
       "    <tr>\n",
       "      <th>892792</th>\n",
       "      <td>1487991</td>\n",
       "      <td>9.652494e-07</td>\n",
       "    </tr>\n",
       "    <tr>\n",
       "      <th>892793</th>\n",
       "      <td>1487993</td>\n",
       "      <td>1.576559e-01</td>\n",
       "    </tr>\n",
       "    <tr>\n",
       "      <th>892794</th>\n",
       "      <td>1487995</td>\n",
       "      <td>1.809902e-09</td>\n",
       "    </tr>\n",
       "    <tr>\n",
       "      <th>892795</th>\n",
       "      <td>1487997</td>\n",
       "      <td>1.413022e-04</td>\n",
       "    </tr>\n",
       "    <tr>\n",
       "      <th>892796</th>\n",
       "      <td>1487998</td>\n",
       "      <td>9.900000e-01</td>\n",
       "    </tr>\n",
       "    <tr>\n",
       "      <th>892797</th>\n",
       "      <td>1487999</td>\n",
       "      <td>9.900000e-01</td>\n",
       "    </tr>\n",
       "    <tr>\n",
       "      <th>892798</th>\n",
       "      <td>1488000</td>\n",
       "      <td>7.908485e-01</td>\n",
       "    </tr>\n",
       "    <tr>\n",
       "      <th>892799</th>\n",
       "      <td>1488002</td>\n",
       "      <td>9.900000e-01</td>\n",
       "    </tr>\n",
       "    <tr>\n",
       "      <th>892800</th>\n",
       "      <td>1488003</td>\n",
       "      <td>2.099458e-09</td>\n",
       "    </tr>\n",
       "    <tr>\n",
       "      <th>892801</th>\n",
       "      <td>1488004</td>\n",
       "      <td>6.440830e-05</td>\n",
       "    </tr>\n",
       "    <tr>\n",
       "      <th>892802</th>\n",
       "      <td>1488006</td>\n",
       "      <td>8.629573e-07</td>\n",
       "    </tr>\n",
       "    <tr>\n",
       "      <th>892803</th>\n",
       "      <td>1488007</td>\n",
       "      <td>1.482021e-06</td>\n",
       "    </tr>\n",
       "    <tr>\n",
       "      <th>892804</th>\n",
       "      <td>1488010</td>\n",
       "      <td>7.077401e-01</td>\n",
       "    </tr>\n",
       "    <tr>\n",
       "      <th>892805</th>\n",
       "      <td>1488012</td>\n",
       "      <td>9.192872e-02</td>\n",
       "    </tr>\n",
       "    <tr>\n",
       "      <th>892806</th>\n",
       "      <td>1488014</td>\n",
       "      <td>1.735133e-11</td>\n",
       "    </tr>\n",
       "    <tr>\n",
       "      <th>892807</th>\n",
       "      <td>1488015</td>\n",
       "      <td>2.210644e-09</td>\n",
       "    </tr>\n",
       "    <tr>\n",
       "      <th>892808</th>\n",
       "      <td>1488018</td>\n",
       "      <td>1.392106e-08</td>\n",
       "    </tr>\n",
       "    <tr>\n",
       "      <th>892809</th>\n",
       "      <td>1488019</td>\n",
       "      <td>1.251023e-14</td>\n",
       "    </tr>\n",
       "    <tr>\n",
       "      <th>892810</th>\n",
       "      <td>1488020</td>\n",
       "      <td>1.831262e-11</td>\n",
       "    </tr>\n",
       "    <tr>\n",
       "      <th>892811</th>\n",
       "      <td>1488022</td>\n",
       "      <td>9.900000e-01</td>\n",
       "    </tr>\n",
       "    <tr>\n",
       "      <th>892812</th>\n",
       "      <td>1488023</td>\n",
       "      <td>4.206994e-01</td>\n",
       "    </tr>\n",
       "    <tr>\n",
       "      <th>892813</th>\n",
       "      <td>1488024</td>\n",
       "      <td>2.530576e-03</td>\n",
       "    </tr>\n",
       "    <tr>\n",
       "      <th>892814</th>\n",
       "      <td>1488025</td>\n",
       "      <td>2.816096e-09</td>\n",
       "    </tr>\n",
       "    <tr>\n",
       "      <th>892815</th>\n",
       "      <td>1488026</td>\n",
       "      <td>1.306487e-04</td>\n",
       "    </tr>\n",
       "  </tbody>\n",
       "</table>\n",
       "<p>892816 rows × 2 columns</p>\n",
       "</div>"
      ],
      "text/plain": [
       "             id        target\n",
       "0             0  6.046914e-10\n",
       "1             1  4.148240e-09\n",
       "2             2  1.253105e-09\n",
       "3             3  8.457876e-17\n",
       "4             4  3.579004e-04\n",
       "5             5  8.017893e-01\n",
       "6             6  1.420868e-12\n",
       "7             8  1.048186e-04\n",
       "8            10  9.900000e-01\n",
       "9            11  9.900000e-01\n",
       "10           12  9.604785e-08\n",
       "11           14  3.156874e-11\n",
       "12           15  9.257088e-01\n",
       "13           18  6.436024e-01\n",
       "14           21  9.010473e-01\n",
       "15           23  1.182689e-10\n",
       "16           24  3.418868e-11\n",
       "17           25  9.680229e-01\n",
       "18           27  2.613748e-16\n",
       "19           29  9.900000e-01\n",
       "20           30  1.121796e-03\n",
       "21           31  9.900000e-01\n",
       "22           32  9.900000e-01\n",
       "23           33  2.109010e-15\n",
       "24           37  7.585486e-08\n",
       "25           38  4.190134e-09\n",
       "26           39  9.900000e-01\n",
       "27           40  1.044521e-01\n",
       "28           41  1.233217e-09\n",
       "29           42  1.420332e-14\n",
       "...         ...           ...\n",
       "892786  1487982  2.638974e-14\n",
       "892787  1487984  1.032120e-01\n",
       "892788  1487985  1.490985e-03\n",
       "892789  1487986  3.892627e-03\n",
       "892790  1487987  2.667233e-03\n",
       "892791  1487989  4.792158e-10\n",
       "892792  1487991  9.652494e-07\n",
       "892793  1487993  1.576559e-01\n",
       "892794  1487995  1.809902e-09\n",
       "892795  1487997  1.413022e-04\n",
       "892796  1487998  9.900000e-01\n",
       "892797  1487999  9.900000e-01\n",
       "892798  1488000  7.908485e-01\n",
       "892799  1488002  9.900000e-01\n",
       "892800  1488003  2.099458e-09\n",
       "892801  1488004  6.440830e-05\n",
       "892802  1488006  8.629573e-07\n",
       "892803  1488007  1.482021e-06\n",
       "892804  1488010  7.077401e-01\n",
       "892805  1488012  9.192872e-02\n",
       "892806  1488014  1.735133e-11\n",
       "892807  1488015  2.210644e-09\n",
       "892808  1488018  1.392106e-08\n",
       "892809  1488019  1.251023e-14\n",
       "892810  1488020  1.831262e-11\n",
       "892811  1488022  9.900000e-01\n",
       "892812  1488023  4.206994e-01\n",
       "892813  1488024  2.530576e-03\n",
       "892814  1488025  2.816096e-09\n",
       "892815  1488026  1.306487e-04\n",
       "\n",
       "[892816 rows x 2 columns]"
      ]
     },
     "execution_count": 95,
     "metadata": {},
     "output_type": "execute_result"
    }
   ],
   "source": [
    "sub"
   ]
  },
  {
   "cell_type": "code",
   "execution_count": 105,
   "metadata": {},
   "outputs": [],
   "source": [
    "sub[sub['target']>0.99]=0.99"
   ]
  },
  {
   "cell_type": "code",
   "execution_count": null,
   "metadata": {
    "collapsed": true
   },
   "outputs": [],
   "source": []
  }
 ],
 "metadata": {
  "kernelspec": {
   "display_name": "Python 3",
   "language": "python",
   "name": "python3"
  },
  "language_info": {
   "codemirror_mode": {
    "name": "ipython",
    "version": 3
   },
   "file_extension": ".py",
   "mimetype": "text/x-python",
   "name": "python",
   "nbconvert_exporter": "python",
   "pygments_lexer": "ipython3",
   "version": "3.6.2"
  }
 },
 "nbformat": 4,
 "nbformat_minor": 2
}
