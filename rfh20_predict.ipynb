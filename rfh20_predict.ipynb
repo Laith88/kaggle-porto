{
 "cells": [
  {
   "cell_type": "code",
   "execution_count": 1,
   "metadata": {
    "collapsed": true
   },
   "outputs": [],
   "source": [
    "import os\n",
    "import h2o\n",
    "import pandas as pd\n",
    "import numpy as np\n",
    "import datetime as dt\n",
    "from h2o.grid.grid_search import H2OGridSearch\n",
    "from h2o.estimators import H2ORandomForestEstimator\n",
    "from h2o.estimators.gbm import H2OGradientBoostingEstimator"
   ]
  },
  {
   "cell_type": "code",
   "execution_count": 2,
   "metadata": {
    "collapsed": true
   },
   "outputs": [],
   "source": [
    "import matplotlib.pylab as plt\n",
    "%matplotlib inline"
   ]
  },
  {
   "cell_type": "code",
   "execution_count": 4,
   "metadata": {
    "collapsed": true
   },
   "outputs": [],
   "source": [
    "pd_train = (pd.read_csv('../data/train.csv', na_values=999)\n",
    "           .fillna(value=999))\n",
    "            \n",
    "pd_test  = (pd.read_csv('../data/test.csv', na_values=999)\n",
    "           .fillna(value=999)) \n",
    "pd_targets = pd_train.target.values\n"
   ]
  },
  {
   "cell_type": "code",
   "execution_count": 6,
   "metadata": {
    "collapsed": true
   },
   "outputs": [],
   "source": [
    "pd_test_id = pd_test.id.values\n",
    "pd_test = pd_test.drop('id', axis=1)"
   ]
  },
  {
   "cell_type": "code",
   "execution_count": 65,
   "metadata": {
    "collapsed": true
   },
   "outputs": [],
   "source": [
    "only_col= testh2o_df['ps_reg_03'].as_data_frame(True)"
   ]
  },
  {
   "cell_type": "code",
   "execution_count": 70,
   "metadata": {
    "collapsed": true
   },
   "outputs": [],
   "source": [
    "only_col[only_col==-1] = np.mean(only_col).values[0]"
   ]
  },
  {
   "cell_type": "code",
   "execution_count": 71,
   "metadata": {},
   "outputs": [
    {
     "data": {
      "text/plain": [
       "0.83275160037282103"
      ]
     },
     "execution_count": 71,
     "metadata": {},
     "output_type": "execute_result"
    }
   ],
   "source": [
    "np.mean(only_col).values[0]"
   ]
  },
  {
   "cell_type": "code",
   "execution_count": 63,
   "metadata": {},
   "outputs": [
    {
     "data": {
      "text/plain": [
       "0.55174011649155985"
      ]
     },
     "execution_count": 63,
     "metadata": {},
     "output_type": "execute_result"
    }
   ],
   "source": [
    "np.mean(testh2o_df['ps_reg_03'].as_data_frame(True)).values[0]"
   ]
  },
  {
   "cell_type": "code",
   "execution_count": 81,
   "metadata": {
    "collapsed": true
   },
   "outputs": [],
   "source": [
    "def cut_column(train_df, train, test, col):\n",
    "    '''\n",
    "    Convenience function to change a column from numerical to categorical\n",
    "    We use train_df only for bucketing with histograms.\n",
    "    Uses np.histogram to generate a histogram, with the buckets forming the categories of our new categorical.\n",
    "    Picks buckets based on training data, then applies the same classification to the test and validation sets\n",
    "    \n",
    "    Assumes that train, valid, test will have the same histogram behavior.\n",
    "    '''\n",
    "    only_col= train_df[col]                         #Isolate the column in question from the training frame\n",
    "    only_col[only_col==-1] = np.mean(only_col)\n",
    "    counts, breaks = np.histogram(only_col, bins=20)   #Generate counts and breaks for our histogram\n",
    "    min_val = min(only_col)-1                          #Establish min and max values\n",
    "    max_val = max(only_col)+1\n",
    "    \n",
    "    new_b = [float(min_val)]                                  #Redefine breaks such that each bucket has enough support\n",
    "    for i in range(19):\n",
    "        if counts[i] > 1000 and counts[i+1] > 1000:\n",
    "            new_b.append(breaks[i+1])\n",
    "    new_b.append(float(max_val))\n",
    "    \n",
    "    names = [col + '_' + str(x) for x in range(len(new_b)-1)]  #Generate names for buckets, these will be categorical names\n",
    "    \n",
    "    train[col+\"_cut\"] = train[col].cut(breaks=new_b, labels=names)\n",
    "    test[col+\"_cut\"]  = test[col].cut(breaks=new_b, labels=names)"
   ]
  },
  {
   "cell_type": "code",
   "execution_count": 50,
   "metadata": {
    "collapsed": true
   },
   "outputs": [],
   "source": [
    "def add_features(train, test):\n",
    "    '''\n",
    "    Helper function to add a specific set of features to our covertype dataset\n",
    "    '''\n",
    "    #pull train dataset into Python\n",
    "    train_df = train.as_data_frame(True)\n",
    "    \n",
    "    #Make categoricals for several columns\n",
    "    cut_column(train_df, train, test, \"ps_car_13\")\n",
    "    cut_column(train_df, train, test, \"ps_ind_03\")\n",
    "    cut_column(train_df, train, test, \"ps_reg_03\")\n",
    "    cut_column(train_df, train, test, \"ps_reg_02\")\n",
    "    \n",
    "    \n",
    "    #Add interaction columns for a subset of columns\n",
    "    interaction_cols1 = ['ps_car_11_cat',\n",
    "                         'ps_ind_05_cat',\n",
    "                         'ps_car_13_cut',\n",
    "                         'ps_ind_17_bin',\n",
    "                         'ps_car_01_cat',\n",
    "                         'ps_ind_03_cut',\n",
    "                         'ps_car_07_cat',\n",
    "                         'ps_reg_03_cut',\n",
    "                         'ps_car_06_cat',\n",
    "                         'ps_reg_02_cut']\n",
    "\n",
    "    train_cols = train.interaction(factors=interaction_cols1,    #Generate pairwise columns\n",
    "                                   pairwise=True,\n",
    "                                   max_factors=1000,\n",
    "                                   min_occurrence=100,\n",
    "                                   destination_frame=\"itrain\")\n",
    "\n",
    "    test_cols = test.interaction(factors=interaction_cols1,\n",
    "                                   pairwise=True,\n",
    "                                   max_factors=1000,\n",
    "                                   min_occurrence=100,\n",
    "                                   destination_frame=\"itest\")\n",
    "    \n",
    "    train = train.cbind(train_cols)                              #Append pairwise columns to H2OFrames\n",
    "    test = test.cbind(test_cols)\n",
    "    \n",
    "    \n",
    "    #Add a three-way interaction for Hillshade\n",
    "    interaction_cols2 = ['ps_car_11_cat',\n",
    "                         'ps_ind_05_cat',\n",
    "                         'ps_car_13_cut']\n",
    "    \n",
    "    train_cols = train.interaction(factors=interaction_cols2,    #Generate pairwise columns\n",
    "                                   pairwise=False,\n",
    "                                   max_factors=1000,\n",
    "                                   min_occurrence=100,\n",
    "                                   destination_frame=\"itrain\")\n",
    "\n",
    "    test_cols = test.interaction(factors=interaction_cols2,\n",
    "                                   pairwise=False,\n",
    "                                   max_factors=1000,\n",
    "                                   min_occurrence=100,\n",
    "                                   destination_frame=\"itest\")\n",
    "    \n",
    "    train = train.cbind(train_cols)                              #Append pairwise columns to H2OFrames\n",
    "    test = test.cbind(test_cols)\n",
    "    \n",
    "    #Add a three-way interaction for Hillshade\n",
    "    interaction_cols3 = ['ps_car_11_cat',\n",
    "                         'ps_car_01_cat',\n",
    "                         'ps_reg_02_cut']\n",
    "    \n",
    "    train_cols = train.interaction(factors=interaction_cols3,    #Generate pairwise columns\n",
    "                                   pairwise=False,\n",
    "                                   max_factors=1000,\n",
    "                                   min_occurrence=100,\n",
    "                                   destination_frame=\"itrain\")\n",
    "\n",
    "    test_cols = test.interaction(factors=interaction_cols3,\n",
    "                                   pairwise=False,\n",
    "                                   max_factors=1000,\n",
    "                                   min_occurrence=100,\n",
    "                                   destination_frame=\"itest\")\n",
    "    \n",
    "    train = train.cbind(train_cols)                              #Append pairwise columns to H2OFrames\n",
    "    test = test.cbind(test_cols)\n",
    "    \n",
    "    #Add a three-way interaction for Hillshade\n",
    "    interaction_cols4 = ['ps_car_01_cat',\n",
    "                         'ps_ind_05_cat']\n",
    "    \n",
    "    train_cols = train.interaction(factors=interaction_cols4,    #Generate pairwise columns\n",
    "                                   pairwise=False,\n",
    "                                   max_factors=1000,\n",
    "                                   min_occurrence=100,\n",
    "                                   destination_frame=\"itrain\")\n",
    "\n",
    "    test_cols = test.interaction(factors=interaction_cols4,\n",
    "                                   pairwise=False,\n",
    "                                   max_factors=1000,\n",
    "                                   min_occurrence=100,\n",
    "                                   destination_frame=\"itest\")\n",
    "    \n",
    "    train = train.cbind(train_cols)                              #Append pairwise columns to H2OFrames\n",
    "    test = test.cbind(test_cols)\n",
    "    \n",
    "    return train, test"
   ]
  },
  {
   "cell_type": "code",
   "execution_count": 9,
   "metadata": {
    "collapsed": true
   },
   "outputs": [],
   "source": [
    "def make_dicts(df):\n",
    "    f_dicts ={}\n",
    "    \n",
    "    features_dict = {}\n",
    "    for x in ['ind', 'reg', 'car', 'calc']:\n",
    "        for y in ['cat', 'bin', 'con']:\n",
    "            features_dict[x+'_'+y] =[]\n",
    "            for i in df.columns.tolist()[2:]:\n",
    "                j = i.split('_')\n",
    "                if len(j) == 3:\n",
    "                    j.append('con')\n",
    "                if j[1]==x and j[3]==y:\n",
    "                    features_dict[x+'_'+y].append(i)\n",
    "    f_dicts['combo'] = features_dict\n",
    "    \n",
    "    features_dict_data_type = {}\n",
    "    for y in ['cat', 'bin', 'con']:\n",
    "        features_dict_data_type[y]=[]\n",
    "        for i in df.columns.tolist()[2:]:\n",
    "            j = i.split('_')\n",
    "            if len(j) == 3:\n",
    "                j.append('con')\n",
    "            if j[3]==y:\n",
    "                features_dict_data_type[y].append(i)\n",
    "    f_dicts['type'] = features_dict_data_type\n",
    "    \n",
    "    features_dict_data_label = {}\n",
    "    for x in ['ind', 'reg', 'car', 'calc']:\n",
    "        features_dict_data_label[x] =[]\n",
    "        for i in df.columns.tolist()[2:]:\n",
    "            j = i.split('_')\n",
    "            if j[1]==x:\n",
    "                features_dict_data_label[x].append(i)\n",
    "    f_dicts['label'] = features_dict_data_label\n",
    "    return f_dicts\n",
    "f_dicts = make_dicts(pd_train)"
   ]
  },
  {
   "cell_type": "code",
   "execution_count": 10,
   "metadata": {},
   "outputs": [
    {
     "name": "stdout",
     "output_type": "stream",
     "text": [
      "Checking whether there is an H2O instance running at http://localhost:54321..... not found.\n",
      "Attempting to start a local H2O server...\n",
      "  Java Version: openjdk version \"1.8.0_131\"; OpenJDK Runtime Environment (build 1.8.0_131-8u131-b11-2ubuntu1.16.04.3-b11); OpenJDK 64-Bit Server VM (build 25.131-b11, mixed mode)\n",
      "  Starting server from /home/laith/anaconda3/lib/python3.6/site-packages/h2o/backend/bin/h2o.jar\n",
      "  Ice root: /tmp/tmpflys33l4\n",
      "  JVM stdout: /tmp/tmpflys33l4/h2o_laith_started_from_python.out\n",
      "  JVM stderr: /tmp/tmpflys33l4/h2o_laith_started_from_python.err\n",
      "  Server is running at http://127.0.0.1:54321\n",
      "Connecting to H2O server at http://127.0.0.1:54321... successful.\n"
     ]
    },
    {
     "data": {
      "text/html": [
       "<div style=\"overflow:auto\"><table style=\"width:50%\"><tr><td>H2O cluster uptime:</td>\n",
       "<td>01 secs</td></tr>\n",
       "<tr><td>H2O cluster version:</td>\n",
       "<td>3.14.0.7</td></tr>\n",
       "<tr><td>H2O cluster version age:</td>\n",
       "<td>7 days, 19 hours and 56 minutes </td></tr>\n",
       "<tr><td>H2O cluster name:</td>\n",
       "<td>H2O_from_python_laith_2hjb5f</td></tr>\n",
       "<tr><td>H2O cluster total nodes:</td>\n",
       "<td>1</td></tr>\n",
       "<tr><td>H2O cluster free memory:</td>\n",
       "<td>22.22 Gb</td></tr>\n",
       "<tr><td>H2O cluster total cores:</td>\n",
       "<td>12</td></tr>\n",
       "<tr><td>H2O cluster allowed cores:</td>\n",
       "<td>12</td></tr>\n",
       "<tr><td>H2O cluster status:</td>\n",
       "<td>accepting new members, healthy</td></tr>\n",
       "<tr><td>H2O connection url:</td>\n",
       "<td>http://127.0.0.1:54321</td></tr>\n",
       "<tr><td>H2O connection proxy:</td>\n",
       "<td>None</td></tr>\n",
       "<tr><td>H2O internal security:</td>\n",
       "<td>False</td></tr>\n",
       "<tr><td>H2O API Extensions:</td>\n",
       "<td>XGBoost, Algos, AutoML, Core V3, Core V4</td></tr>\n",
       "<tr><td>Python version:</td>\n",
       "<td>3.6.2 final</td></tr></table></div>"
      ],
      "text/plain": [
       "--------------------------  ----------------------------------------\n",
       "H2O cluster uptime:         01 secs\n",
       "H2O cluster version:        3.14.0.7\n",
       "H2O cluster version age:    7 days, 19 hours and 56 minutes\n",
       "H2O cluster name:           H2O_from_python_laith_2hjb5f\n",
       "H2O cluster total nodes:    1\n",
       "H2O cluster free memory:    22.22 Gb\n",
       "H2O cluster total cores:    12\n",
       "H2O cluster allowed cores:  12\n",
       "H2O cluster status:         accepting new members, healthy\n",
       "H2O connection url:         http://127.0.0.1:54321\n",
       "H2O connection proxy:\n",
       "H2O internal security:      False\n",
       "H2O API Extensions:         XGBoost, Algos, AutoML, Core V3, Core V4\n",
       "Python version:             3.6.2 final\n",
       "--------------------------  ----------------------------------------"
      ]
     },
     "metadata": {},
     "output_type": "display_data"
    }
   ],
   "source": [
    "h2o.init(nthreads = -1, max_mem_size = 25)"
   ]
  },
  {
   "cell_type": "code",
   "execution_count": 165,
   "metadata": {},
   "outputs": [
    {
     "name": "stdout",
     "output_type": "stream",
     "text": [
      "Parse progress: |█████████████████████████████████████████████████████████| 100%\n",
      "Parse progress: |█████████████████████████████████████████████████████████| 100%\n"
     ]
    }
   ],
   "source": [
    "covtype_df = h2o.import_file(os.path.realpath(\"../data/train.csv\"))\n",
    "testh2o_df = h2o.import_file(os.path.realpath(\"../data/test.csv\"))"
   ]
  },
  {
   "cell_type": "code",
   "execution_count": 166,
   "metadata": {
    "collapsed": true
   },
   "outputs": [],
   "source": [
    "covtype_df['target'] = covtype_df['target'].asfactor()"
   ]
  },
  {
   "cell_type": "code",
   "execution_count": 167,
   "metadata": {
    "collapsed": true
   },
   "outputs": [],
   "source": [
    "covtype_df[f_dicts['type']['cat']] = covtype_df[f_dicts['type']['cat']].asfactor()\n",
    "covtype_df[f_dicts['type']['bin']] = covtype_df[f_dicts['type']['bin']].asfactor()\n",
    "covtype_df[f_dicts['type']['con']] = covtype_df[f_dicts['type']['con']].asnumeric()"
   ]
  },
  {
   "cell_type": "code",
   "execution_count": 168,
   "metadata": {
    "collapsed": true
   },
   "outputs": [],
   "source": [
    "testh2o_df[f_dicts['type']['cat']] = testh2o_df[f_dicts['type']['cat']].asfactor()\n",
    "testh2o_df[f_dicts['type']['bin']] = testh2o_df[f_dicts['type']['bin']].asfactor()\n",
    "testh2o_df[f_dicts['type']['con']] = testh2o_df[f_dicts['type']['con']].asnumeric()"
   ]
  },
  {
   "cell_type": "code",
   "execution_count": 169,
   "metadata": {
    "collapsed": true
   },
   "outputs": [],
   "source": [
    "covtype_df = covtype_df.drop('id')"
   ]
  },
  {
   "cell_type": "code",
   "execution_count": 170,
   "metadata": {
    "collapsed": true
   },
   "outputs": [],
   "source": [
    "testh2o_df = testh2o_df.drop('id')"
   ]
  },
  {
   "cell_type": "code",
   "execution_count": 171,
   "metadata": {
    "collapsed": true
   },
   "outputs": [],
   "source": [
    "testh20_X = testh2o_df.col_names"
   ]
  },
  {
   "cell_type": "code",
   "execution_count": 136,
   "metadata": {
    "collapsed": true
   },
   "outputs": [],
   "source": [
    "stratsplit = covtype_df['target'].stratified_split(test_frac=0.1, seed=12349453)\n",
    "\n",
    "train = covtype_df[stratsplit==\"train\"]\n",
    "\n",
    "valid = covtype_df[stratsplit==\"test\"]"
   ]
  },
  {
   "cell_type": "code",
   "execution_count": 172,
   "metadata": {
    "collapsed": true
   },
   "outputs": [],
   "source": [
    "covtype_X = covtype_df.col_names[1:]\n",
    "covtype_y = covtype_df.col_names[0]"
   ]
  },
  {
   "cell_type": "code",
   "execution_count": null,
   "metadata": {
    "collapsed": true
   },
   "outputs": [],
   "source": [
    "train_bf, test_bf = add_features(train, test)"
   ]
  },
  {
   "cell_type": "code",
   "execution_count": 90,
   "metadata": {},
   "outputs": [
    {
     "name": "stderr",
     "output_type": "stream",
     "text": [
      "/home/laith/anaconda3/lib/python3.6/site-packages/ipykernel_launcher.py:11: SettingWithCopyWarning: \n",
      "A value is trying to be set on a copy of a slice from a DataFrame\n",
      "\n",
      "See the caveats in the documentation: http://pandas.pydata.org/pandas-docs/stable/indexing.html#indexing-view-versus-copy\n",
      "  # This is added back by InteractiveShellApp.init_path()\n"
     ]
    },
    {
     "name": "stdout",
     "output_type": "stream",
     "text": [
      "Interactions progress: |██████████████████████████████████████████████████| 100%\n",
      "Interactions progress: |██████████████████████████████████████████████████| 100%\n",
      "Interactions progress: |██████████████████████████████████████████████████| 100%\n",
      "Interactions progress: |██████████████████████████████████████████████████| 100%\n",
      "Interactions progress: |██████████████████████████████████████████████████| 100%\n",
      "Interactions progress: |██████████████████████████████████████████████████| 100%\n",
      "Interactions progress: |██████████████████████████████████████████████████| 100%\n",
      "Interactions progress: |██████████████████████████████████████████████████| 100%\n"
     ]
    }
   ],
   "source": [
    "train_bf, test_bf = add_features(covtype_df, testh2o_df)"
   ]
  },
  {
   "cell_type": "code",
   "execution_count": 91,
   "metadata": {
    "collapsed": true
   },
   "outputs": [],
   "source": [
    "covtype_X = train_bf.col_names[1:]\n",
    "covtype_y = train_bf.col_names[0]"
   ]
  },
  {
   "cell_type": "code",
   "execution_count": 92,
   "metadata": {},
   "outputs": [
    {
     "data": {
      "text/html": [
       "<table>\n",
       "<thead>\n",
       "<tr><th style=\"text-align: right;\">  target</th><th style=\"text-align: right;\">  ps_ind_01</th><th style=\"text-align: right;\">  ps_ind_02_cat</th><th style=\"text-align: right;\">  ps_ind_03</th><th style=\"text-align: right;\">  ps_ind_04_cat</th><th style=\"text-align: right;\">  ps_ind_05_cat</th><th style=\"text-align: right;\">  ps_ind_06_bin</th><th style=\"text-align: right;\">  ps_ind_07_bin</th><th style=\"text-align: right;\">  ps_ind_08_bin</th><th style=\"text-align: right;\">  ps_ind_09_bin</th><th style=\"text-align: right;\">  ps_ind_10_bin</th><th style=\"text-align: right;\">  ps_ind_11_bin</th><th style=\"text-align: right;\">  ps_ind_12_bin</th><th style=\"text-align: right;\">  ps_ind_13_bin</th><th style=\"text-align: right;\">  ps_ind_14</th><th style=\"text-align: right;\">  ps_ind_15</th><th style=\"text-align: right;\">  ps_ind_16_bin</th><th style=\"text-align: right;\">  ps_ind_17_bin</th><th style=\"text-align: right;\">  ps_ind_18_bin</th><th style=\"text-align: right;\">  ps_reg_01</th><th style=\"text-align: right;\">  ps_reg_02</th><th style=\"text-align: right;\">  ps_reg_03</th><th style=\"text-align: right;\">  ps_car_01_cat</th><th style=\"text-align: right;\">  ps_car_02_cat</th><th style=\"text-align: right;\">  ps_car_03_cat</th><th style=\"text-align: right;\">  ps_car_04_cat</th><th style=\"text-align: right;\">  ps_car_05_cat</th><th style=\"text-align: right;\">  ps_car_06_cat</th><th style=\"text-align: right;\">  ps_car_07_cat</th><th style=\"text-align: right;\">  ps_car_08_cat</th><th style=\"text-align: right;\">  ps_car_09_cat</th><th style=\"text-align: right;\">  ps_car_10_cat</th><th style=\"text-align: right;\">  ps_car_11_cat</th><th style=\"text-align: right;\">  ps_car_11</th><th style=\"text-align: right;\">  ps_car_12</th><th style=\"text-align: right;\">  ps_car_13</th><th style=\"text-align: right;\">  ps_car_14</th><th style=\"text-align: right;\">  ps_car_15</th><th style=\"text-align: right;\">  ps_calc_01</th><th style=\"text-align: right;\">  ps_calc_02</th><th style=\"text-align: right;\">  ps_calc_03</th><th style=\"text-align: right;\">  ps_calc_04</th><th style=\"text-align: right;\">  ps_calc_05</th><th style=\"text-align: right;\">  ps_calc_06</th><th style=\"text-align: right;\">  ps_calc_07</th><th style=\"text-align: right;\">  ps_calc_08</th><th style=\"text-align: right;\">  ps_calc_09</th><th style=\"text-align: right;\">  ps_calc_10</th><th style=\"text-align: right;\">  ps_calc_11</th><th style=\"text-align: right;\">  ps_calc_12</th><th style=\"text-align: right;\">  ps_calc_13</th><th style=\"text-align: right;\">  ps_calc_14</th><th style=\"text-align: right;\">  ps_calc_15_bin</th><th style=\"text-align: right;\">  ps_calc_16_bin</th><th style=\"text-align: right;\">  ps_calc_17_bin</th><th style=\"text-align: right;\">  ps_calc_18_bin</th><th style=\"text-align: right;\">  ps_calc_19_bin</th><th style=\"text-align: right;\">  ps_calc_20_bin</th><th>ps_car_13_cut  </th><th>ps_ind_03_cut  </th><th>ps_reg_03_cut  </th><th>ps_reg_02_cut  </th><th style=\"text-align: right;\">  ps_car_01_cat_ps_ind_05_cat</th><th style=\"text-align: right;\">  ps_car_01_cat_ps_ind_05_cat0</th><th style=\"text-align: right;\">  ps_car_01_cat_ps_ind_05_cat1</th><th style=\"text-align: right;\">  ps_car_01_cat_ps_ind_05_cat2</th></tr>\n",
       "</thead>\n",
       "<tbody>\n",
       "<tr><td style=\"text-align: right;\">       0</td><td style=\"text-align: right;\">          2</td><td style=\"text-align: right;\">              2</td><td style=\"text-align: right;\">          5</td><td style=\"text-align: right;\">              1</td><td style=\"text-align: right;\">              0</td><td style=\"text-align: right;\">              0</td><td style=\"text-align: right;\">              1</td><td style=\"text-align: right;\">              0</td><td style=\"text-align: right;\">              0</td><td style=\"text-align: right;\">              0</td><td style=\"text-align: right;\">              0</td><td style=\"text-align: right;\">              0</td><td style=\"text-align: right;\">              0</td><td style=\"text-align: right;\">          0</td><td style=\"text-align: right;\">         11</td><td style=\"text-align: right;\">              0</td><td style=\"text-align: right;\">              1</td><td style=\"text-align: right;\">              0</td><td style=\"text-align: right;\">        0.7</td><td style=\"text-align: right;\">        0.2</td><td style=\"text-align: right;\">   0.71807 </td><td style=\"text-align: right;\">             10</td><td style=\"text-align: right;\">              1</td><td style=\"text-align: right;\">             -1</td><td style=\"text-align: right;\">              0</td><td style=\"text-align: right;\">              1</td><td style=\"text-align: right;\">              4</td><td style=\"text-align: right;\">              1</td><td style=\"text-align: right;\">              0</td><td style=\"text-align: right;\">              0</td><td style=\"text-align: right;\">              1</td><td style=\"text-align: right;\">             12</td><td style=\"text-align: right;\">          2</td><td style=\"text-align: right;\">   0.4     </td><td style=\"text-align: right;\">   0.883679</td><td style=\"text-align: right;\">   0.37081 </td><td style=\"text-align: right;\">    3.60555</td><td style=\"text-align: right;\">         0.6</td><td style=\"text-align: right;\">         0.5</td><td style=\"text-align: right;\">         0.2</td><td style=\"text-align: right;\">           3</td><td style=\"text-align: right;\">           1</td><td style=\"text-align: right;\">          10</td><td style=\"text-align: right;\">           1</td><td style=\"text-align: right;\">          10</td><td style=\"text-align: right;\">           1</td><td style=\"text-align: right;\">           5</td><td style=\"text-align: right;\">           9</td><td style=\"text-align: right;\">           1</td><td style=\"text-align: right;\">           5</td><td style=\"text-align: right;\">           8</td><td style=\"text-align: right;\">               0</td><td style=\"text-align: right;\">               1</td><td style=\"text-align: right;\">               1</td><td style=\"text-align: right;\">               0</td><td style=\"text-align: right;\">               0</td><td style=\"text-align: right;\">               1</td><td>ps_car_13_3    </td><td>ps_ind_03_1    </td><td>ps_reg_03_2    </td><td>ps_reg_02_2    </td><td style=\"text-align: right;\">                         10_0</td><td style=\"text-align: right;\">                          10_0</td><td style=\"text-align: right;\">                          10_0</td><td style=\"text-align: right;\">                          10_0</td></tr>\n",
       "<tr><td style=\"text-align: right;\">       0</td><td style=\"text-align: right;\">          1</td><td style=\"text-align: right;\">              1</td><td style=\"text-align: right;\">          7</td><td style=\"text-align: right;\">              0</td><td style=\"text-align: right;\">              0</td><td style=\"text-align: right;\">              0</td><td style=\"text-align: right;\">              0</td><td style=\"text-align: right;\">              1</td><td style=\"text-align: right;\">              0</td><td style=\"text-align: right;\">              0</td><td style=\"text-align: right;\">              0</td><td style=\"text-align: right;\">              0</td><td style=\"text-align: right;\">              0</td><td style=\"text-align: right;\">          0</td><td style=\"text-align: right;\">          3</td><td style=\"text-align: right;\">              0</td><td style=\"text-align: right;\">              0</td><td style=\"text-align: right;\">              1</td><td style=\"text-align: right;\">        0.8</td><td style=\"text-align: right;\">        0.4</td><td style=\"text-align: right;\">   0.766078</td><td style=\"text-align: right;\">             11</td><td style=\"text-align: right;\">              1</td><td style=\"text-align: right;\">             -1</td><td style=\"text-align: right;\">              0</td><td style=\"text-align: right;\">             -1</td><td style=\"text-align: right;\">             11</td><td style=\"text-align: right;\">              1</td><td style=\"text-align: right;\">              1</td><td style=\"text-align: right;\">              2</td><td style=\"text-align: right;\">              1</td><td style=\"text-align: right;\">             19</td><td style=\"text-align: right;\">          3</td><td style=\"text-align: right;\">   0.316228</td><td style=\"text-align: right;\">   0.618817</td><td style=\"text-align: right;\">   0.388716</td><td style=\"text-align: right;\">    2.44949</td><td style=\"text-align: right;\">         0.3</td><td style=\"text-align: right;\">         0.1</td><td style=\"text-align: right;\">         0.3</td><td style=\"text-align: right;\">           2</td><td style=\"text-align: right;\">           1</td><td style=\"text-align: right;\">           9</td><td style=\"text-align: right;\">           5</td><td style=\"text-align: right;\">           8</td><td style=\"text-align: right;\">           1</td><td style=\"text-align: right;\">           7</td><td style=\"text-align: right;\">           3</td><td style=\"text-align: right;\">           1</td><td style=\"text-align: right;\">           1</td><td style=\"text-align: right;\">           9</td><td style=\"text-align: right;\">               0</td><td style=\"text-align: right;\">               1</td><td style=\"text-align: right;\">               1</td><td style=\"text-align: right;\">               0</td><td style=\"text-align: right;\">               1</td><td style=\"text-align: right;\">               0</td><td>ps_car_13_2    </td><td>ps_ind_03_2    </td><td>ps_reg_03_2    </td><td>ps_reg_02_4    </td><td style=\"text-align: right;\">                         11_0</td><td style=\"text-align: right;\">                          11_0</td><td style=\"text-align: right;\">                          11_0</td><td style=\"text-align: right;\">                          11_0</td></tr>\n",
       "<tr><td style=\"text-align: right;\">       0</td><td style=\"text-align: right;\">          5</td><td style=\"text-align: right;\">              4</td><td style=\"text-align: right;\">          9</td><td style=\"text-align: right;\">              1</td><td style=\"text-align: right;\">              0</td><td style=\"text-align: right;\">              0</td><td style=\"text-align: right;\">              0</td><td style=\"text-align: right;\">              1</td><td style=\"text-align: right;\">              0</td><td style=\"text-align: right;\">              0</td><td style=\"text-align: right;\">              0</td><td style=\"text-align: right;\">              0</td><td style=\"text-align: right;\">              0</td><td style=\"text-align: right;\">          0</td><td style=\"text-align: right;\">         12</td><td style=\"text-align: right;\">              1</td><td style=\"text-align: right;\">              0</td><td style=\"text-align: right;\">              0</td><td style=\"text-align: right;\">        0  </td><td style=\"text-align: right;\">        0  </td><td style=\"text-align: right;\">  -1       </td><td style=\"text-align: right;\">              7</td><td style=\"text-align: right;\">              1</td><td style=\"text-align: right;\">             -1</td><td style=\"text-align: right;\">              0</td><td style=\"text-align: right;\">             -1</td><td style=\"text-align: right;\">             14</td><td style=\"text-align: right;\">              1</td><td style=\"text-align: right;\">              1</td><td style=\"text-align: right;\">              2</td><td style=\"text-align: right;\">              1</td><td style=\"text-align: right;\">             60</td><td style=\"text-align: right;\">          1</td><td style=\"text-align: right;\">   0.316228</td><td style=\"text-align: right;\">   0.641586</td><td style=\"text-align: right;\">   0.347275</td><td style=\"text-align: right;\">    3.31662</td><td style=\"text-align: right;\">         0.5</td><td style=\"text-align: right;\">         0.7</td><td style=\"text-align: right;\">         0.1</td><td style=\"text-align: right;\">           2</td><td style=\"text-align: right;\">           2</td><td style=\"text-align: right;\">           9</td><td style=\"text-align: right;\">           1</td><td style=\"text-align: right;\">           8</td><td style=\"text-align: right;\">           2</td><td style=\"text-align: right;\">           7</td><td style=\"text-align: right;\">           4</td><td style=\"text-align: right;\">           2</td><td style=\"text-align: right;\">           7</td><td style=\"text-align: right;\">           7</td><td style=\"text-align: right;\">               0</td><td style=\"text-align: right;\">               1</td><td style=\"text-align: right;\">               1</td><td style=\"text-align: right;\">               0</td><td style=\"text-align: right;\">               1</td><td style=\"text-align: right;\">               0</td><td>ps_car_13_2    </td><td>ps_ind_03_2    </td><td>               </td><td>ps_reg_02_0    </td><td style=\"text-align: right;\">                          7_0</td><td style=\"text-align: right;\">                           7_0</td><td style=\"text-align: right;\">                           7_0</td><td style=\"text-align: right;\">                           7_0</td></tr>\n",
       "<tr><td style=\"text-align: right;\">       0</td><td style=\"text-align: right;\">          0</td><td style=\"text-align: right;\">              1</td><td style=\"text-align: right;\">          2</td><td style=\"text-align: right;\">              0</td><td style=\"text-align: right;\">              0</td><td style=\"text-align: right;\">              1</td><td style=\"text-align: right;\">              0</td><td style=\"text-align: right;\">              0</td><td style=\"text-align: right;\">              0</td><td style=\"text-align: right;\">              0</td><td style=\"text-align: right;\">              0</td><td style=\"text-align: right;\">              0</td><td style=\"text-align: right;\">              0</td><td style=\"text-align: right;\">          0</td><td style=\"text-align: right;\">          8</td><td style=\"text-align: right;\">              1</td><td style=\"text-align: right;\">              0</td><td style=\"text-align: right;\">              0</td><td style=\"text-align: right;\">        0.9</td><td style=\"text-align: right;\">        0.2</td><td style=\"text-align: right;\">   0.580948</td><td style=\"text-align: right;\">              7</td><td style=\"text-align: right;\">              1</td><td style=\"text-align: right;\">              0</td><td style=\"text-align: right;\">              0</td><td style=\"text-align: right;\">              1</td><td style=\"text-align: right;\">             11</td><td style=\"text-align: right;\">              1</td><td style=\"text-align: right;\">              1</td><td style=\"text-align: right;\">              3</td><td style=\"text-align: right;\">              1</td><td style=\"text-align: right;\">            104</td><td style=\"text-align: right;\">          1</td><td style=\"text-align: right;\">   0.374166</td><td style=\"text-align: right;\">   0.542949</td><td style=\"text-align: right;\">   0.294958</td><td style=\"text-align: right;\">    2      </td><td style=\"text-align: right;\">         0.6</td><td style=\"text-align: right;\">         0.9</td><td style=\"text-align: right;\">         0.1</td><td style=\"text-align: right;\">           2</td><td style=\"text-align: right;\">           4</td><td style=\"text-align: right;\">           7</td><td style=\"text-align: right;\">           1</td><td style=\"text-align: right;\">           8</td><td style=\"text-align: right;\">           4</td><td style=\"text-align: right;\">           2</td><td style=\"text-align: right;\">           2</td><td style=\"text-align: right;\">           2</td><td style=\"text-align: right;\">           4</td><td style=\"text-align: right;\">           9</td><td style=\"text-align: right;\">               0</td><td style=\"text-align: right;\">               0</td><td style=\"text-align: right;\">               0</td><td style=\"text-align: right;\">               0</td><td style=\"text-align: right;\">               0</td><td style=\"text-align: right;\">               0</td><td>ps_car_13_1    </td><td>ps_ind_03_1    </td><td>ps_reg_03_1    </td><td>ps_reg_02_2    </td><td style=\"text-align: right;\">                          7_0</td><td style=\"text-align: right;\">                           7_0</td><td style=\"text-align: right;\">                           7_0</td><td style=\"text-align: right;\">                           7_0</td></tr>\n",
       "<tr><td style=\"text-align: right;\">       0</td><td style=\"text-align: right;\">          0</td><td style=\"text-align: right;\">              2</td><td style=\"text-align: right;\">          0</td><td style=\"text-align: right;\">              1</td><td style=\"text-align: right;\">              0</td><td style=\"text-align: right;\">              1</td><td style=\"text-align: right;\">              0</td><td style=\"text-align: right;\">              0</td><td style=\"text-align: right;\">              0</td><td style=\"text-align: right;\">              0</td><td style=\"text-align: right;\">              0</td><td style=\"text-align: right;\">              0</td><td style=\"text-align: right;\">              0</td><td style=\"text-align: right;\">          0</td><td style=\"text-align: right;\">          9</td><td style=\"text-align: right;\">              1</td><td style=\"text-align: right;\">              0</td><td style=\"text-align: right;\">              0</td><td style=\"text-align: right;\">        0.7</td><td style=\"text-align: right;\">        0.6</td><td style=\"text-align: right;\">   0.840759</td><td style=\"text-align: right;\">             11</td><td style=\"text-align: right;\">              1</td><td style=\"text-align: right;\">             -1</td><td style=\"text-align: right;\">              0</td><td style=\"text-align: right;\">             -1</td><td style=\"text-align: right;\">             14</td><td style=\"text-align: right;\">              1</td><td style=\"text-align: right;\">              1</td><td style=\"text-align: right;\">              2</td><td style=\"text-align: right;\">              1</td><td style=\"text-align: right;\">             82</td><td style=\"text-align: right;\">          3</td><td style=\"text-align: right;\">   0.31607 </td><td style=\"text-align: right;\">   0.565832</td><td style=\"text-align: right;\">   0.365103</td><td style=\"text-align: right;\">    2      </td><td style=\"text-align: right;\">         0.4</td><td style=\"text-align: right;\">         0.6</td><td style=\"text-align: right;\">         0  </td><td style=\"text-align: right;\">           2</td><td style=\"text-align: right;\">           2</td><td style=\"text-align: right;\">           6</td><td style=\"text-align: right;\">           3</td><td style=\"text-align: right;\">          10</td><td style=\"text-align: right;\">           2</td><td style=\"text-align: right;\">          12</td><td style=\"text-align: right;\">           3</td><td style=\"text-align: right;\">           1</td><td style=\"text-align: right;\">           1</td><td style=\"text-align: right;\">           3</td><td style=\"text-align: right;\">               0</td><td style=\"text-align: right;\">               0</td><td style=\"text-align: right;\">               0</td><td style=\"text-align: right;\">               1</td><td style=\"text-align: right;\">               1</td><td style=\"text-align: right;\">               0</td><td>ps_car_13_1    </td><td>ps_ind_03_0    </td><td>ps_reg_03_2    </td><td>ps_reg_02_6    </td><td style=\"text-align: right;\">                         11_0</td><td style=\"text-align: right;\">                          11_0</td><td style=\"text-align: right;\">                          11_0</td><td style=\"text-align: right;\">                          11_0</td></tr>\n",
       "<tr><td style=\"text-align: right;\">       0</td><td style=\"text-align: right;\">          5</td><td style=\"text-align: right;\">              1</td><td style=\"text-align: right;\">          4</td><td style=\"text-align: right;\">              0</td><td style=\"text-align: right;\">              0</td><td style=\"text-align: right;\">              0</td><td style=\"text-align: right;\">              0</td><td style=\"text-align: right;\">              0</td><td style=\"text-align: right;\">              1</td><td style=\"text-align: right;\">              0</td><td style=\"text-align: right;\">              0</td><td style=\"text-align: right;\">              0</td><td style=\"text-align: right;\">              0</td><td style=\"text-align: right;\">          0</td><td style=\"text-align: right;\">          6</td><td style=\"text-align: right;\">              1</td><td style=\"text-align: right;\">              0</td><td style=\"text-align: right;\">              0</td><td style=\"text-align: right;\">        0.9</td><td style=\"text-align: right;\">        1.8</td><td style=\"text-align: right;\">   2.33265 </td><td style=\"text-align: right;\">             10</td><td style=\"text-align: right;\">              0</td><td style=\"text-align: right;\">             -1</td><td style=\"text-align: right;\">              0</td><td style=\"text-align: right;\">              0</td><td style=\"text-align: right;\">             14</td><td style=\"text-align: right;\">              1</td><td style=\"text-align: right;\">              1</td><td style=\"text-align: right;\">              0</td><td style=\"text-align: right;\">              1</td><td style=\"text-align: right;\">            104</td><td style=\"text-align: right;\">          2</td><td style=\"text-align: right;\">   0.445982</td><td style=\"text-align: right;\">   0.879049</td><td style=\"text-align: right;\">   0.406202</td><td style=\"text-align: right;\">    3      </td><td style=\"text-align: right;\">         0.7</td><td style=\"text-align: right;\">         0.8</td><td style=\"text-align: right;\">         0.4</td><td style=\"text-align: right;\">           3</td><td style=\"text-align: right;\">           1</td><td style=\"text-align: right;\">           8</td><td style=\"text-align: right;\">           2</td><td style=\"text-align: right;\">          11</td><td style=\"text-align: right;\">           3</td><td style=\"text-align: right;\">           8</td><td style=\"text-align: right;\">           4</td><td style=\"text-align: right;\">           2</td><td style=\"text-align: right;\">           0</td><td style=\"text-align: right;\">           9</td><td style=\"text-align: right;\">               0</td><td style=\"text-align: right;\">               1</td><td style=\"text-align: right;\">               0</td><td style=\"text-align: right;\">               1</td><td style=\"text-align: right;\">               1</td><td style=\"text-align: right;\">               1</td><td>ps_car_13_3    </td><td>ps_ind_03_1    </td><td>ps_reg_03_8    </td><td>ps_reg_02_17   </td><td style=\"text-align: right;\">                         10_0</td><td style=\"text-align: right;\">                          10_0</td><td style=\"text-align: right;\">                          10_0</td><td style=\"text-align: right;\">                          10_0</td></tr>\n",
       "<tr><td style=\"text-align: right;\">       0</td><td style=\"text-align: right;\">          2</td><td style=\"text-align: right;\">              1</td><td style=\"text-align: right;\">          3</td><td style=\"text-align: right;\">              1</td><td style=\"text-align: right;\">              0</td><td style=\"text-align: right;\">              0</td><td style=\"text-align: right;\">              1</td><td style=\"text-align: right;\">              0</td><td style=\"text-align: right;\">              0</td><td style=\"text-align: right;\">              0</td><td style=\"text-align: right;\">              0</td><td style=\"text-align: right;\">              0</td><td style=\"text-align: right;\">              0</td><td style=\"text-align: right;\">          0</td><td style=\"text-align: right;\">          8</td><td style=\"text-align: right;\">              1</td><td style=\"text-align: right;\">              0</td><td style=\"text-align: right;\">              0</td><td style=\"text-align: right;\">        0.6</td><td style=\"text-align: right;\">        0.1</td><td style=\"text-align: right;\">   0.617454</td><td style=\"text-align: right;\">              6</td><td style=\"text-align: right;\">              1</td><td style=\"text-align: right;\">             -1</td><td style=\"text-align: right;\">              0</td><td style=\"text-align: right;\">              1</td><td style=\"text-align: right;\">             11</td><td style=\"text-align: right;\">              1</td><td style=\"text-align: right;\">              1</td><td style=\"text-align: right;\">              0</td><td style=\"text-align: right;\">              1</td><td style=\"text-align: right;\">             99</td><td style=\"text-align: right;\">          2</td><td style=\"text-align: right;\">   0.316228</td><td style=\"text-align: right;\">   0.639683</td><td style=\"text-align: right;\">   0.368782</td><td style=\"text-align: right;\">    3.16228</td><td style=\"text-align: right;\">         0.2</td><td style=\"text-align: right;\">         0.6</td><td style=\"text-align: right;\">         0.5</td><td style=\"text-align: right;\">           2</td><td style=\"text-align: right;\">           2</td><td style=\"text-align: right;\">           8</td><td style=\"text-align: right;\">           1</td><td style=\"text-align: right;\">           8</td><td style=\"text-align: right;\">           3</td><td style=\"text-align: right;\">          10</td><td style=\"text-align: right;\">           3</td><td style=\"text-align: right;\">           0</td><td style=\"text-align: right;\">           0</td><td style=\"text-align: right;\">          10</td><td style=\"text-align: right;\">               0</td><td style=\"text-align: right;\">               1</td><td style=\"text-align: right;\">               0</td><td style=\"text-align: right;\">               0</td><td style=\"text-align: right;\">               1</td><td style=\"text-align: right;\">               0</td><td>ps_car_13_2    </td><td>ps_ind_03_1    </td><td>ps_reg_03_1    </td><td>ps_reg_02_1    </td><td style=\"text-align: right;\">                          6_0</td><td style=\"text-align: right;\">                           6_0</td><td style=\"text-align: right;\">                           6_0</td><td style=\"text-align: right;\">                           6_0</td></tr>\n",
       "<tr><td style=\"text-align: right;\">       0</td><td style=\"text-align: right;\">          5</td><td style=\"text-align: right;\">              1</td><td style=\"text-align: right;\">          4</td><td style=\"text-align: right;\">              0</td><td style=\"text-align: right;\">              0</td><td style=\"text-align: right;\">              1</td><td style=\"text-align: right;\">              0</td><td style=\"text-align: right;\">              0</td><td style=\"text-align: right;\">              0</td><td style=\"text-align: right;\">              0</td><td style=\"text-align: right;\">              0</td><td style=\"text-align: right;\">              0</td><td style=\"text-align: right;\">              0</td><td style=\"text-align: right;\">          0</td><td style=\"text-align: right;\">         13</td><td style=\"text-align: right;\">              1</td><td style=\"text-align: right;\">              0</td><td style=\"text-align: right;\">              0</td><td style=\"text-align: right;\">        0.7</td><td style=\"text-align: right;\">        0.4</td><td style=\"text-align: right;\">   0.607248</td><td style=\"text-align: right;\">             11</td><td style=\"text-align: right;\">              1</td><td style=\"text-align: right;\">              0</td><td style=\"text-align: right;\">              0</td><td style=\"text-align: right;\">              0</td><td style=\"text-align: right;\">             11</td><td style=\"text-align: right;\">              1</td><td style=\"text-align: right;\">              1</td><td style=\"text-align: right;\">              2</td><td style=\"text-align: right;\">              1</td><td style=\"text-align: right;\">             30</td><td style=\"text-align: right;\">          3</td><td style=\"text-align: right;\">   0.44699 </td><td style=\"text-align: right;\">   0.900574</td><td style=\"text-align: right;\">   0.374833</td><td style=\"text-align: right;\">    3.31662</td><td style=\"text-align: right;\">         0.1</td><td style=\"text-align: right;\">         0.5</td><td style=\"text-align: right;\">         0.1</td><td style=\"text-align: right;\">           1</td><td style=\"text-align: right;\">           2</td><td style=\"text-align: right;\">           7</td><td style=\"text-align: right;\">           1</td><td style=\"text-align: right;\">           6</td><td style=\"text-align: right;\">           1</td><td style=\"text-align: right;\">          13</td><td style=\"text-align: right;\">           7</td><td style=\"text-align: right;\">           1</td><td style=\"text-align: right;\">           3</td><td style=\"text-align: right;\">           6</td><td style=\"text-align: right;\">               1</td><td style=\"text-align: right;\">               0</td><td style=\"text-align: right;\">               1</td><td style=\"text-align: right;\">               0</td><td style=\"text-align: right;\">               1</td><td style=\"text-align: right;\">               0</td><td>ps_car_13_3    </td><td>ps_ind_03_1    </td><td>ps_reg_03_1    </td><td>ps_reg_02_4    </td><td style=\"text-align: right;\">                         11_0</td><td style=\"text-align: right;\">                          11_0</td><td style=\"text-align: right;\">                          11_0</td><td style=\"text-align: right;\">                          11_0</td></tr>\n",
       "<tr><td style=\"text-align: right;\">       0</td><td style=\"text-align: right;\">          5</td><td style=\"text-align: right;\">              1</td><td style=\"text-align: right;\">          3</td><td style=\"text-align: right;\">              1</td><td style=\"text-align: right;\">              0</td><td style=\"text-align: right;\">              0</td><td style=\"text-align: right;\">              0</td><td style=\"text-align: right;\">              1</td><td style=\"text-align: right;\">              0</td><td style=\"text-align: right;\">              0</td><td style=\"text-align: right;\">              0</td><td style=\"text-align: right;\">              0</td><td style=\"text-align: right;\">              0</td><td style=\"text-align: right;\">          0</td><td style=\"text-align: right;\">          6</td><td style=\"text-align: right;\">              1</td><td style=\"text-align: right;\">              0</td><td style=\"text-align: right;\">              0</td><td style=\"text-align: right;\">        0.9</td><td style=\"text-align: right;\">        0.7</td><td style=\"text-align: right;\">   0.901388</td><td style=\"text-align: right;\">             10</td><td style=\"text-align: right;\">              1</td><td style=\"text-align: right;\">             -1</td><td style=\"text-align: right;\">              0</td><td style=\"text-align: right;\">              1</td><td style=\"text-align: right;\">             14</td><td style=\"text-align: right;\">              1</td><td style=\"text-align: right;\">              1</td><td style=\"text-align: right;\">              0</td><td style=\"text-align: right;\">              1</td><td style=\"text-align: right;\">             68</td><td style=\"text-align: right;\">          3</td><td style=\"text-align: right;\">   0.4     </td><td style=\"text-align: right;\">   0.780641</td><td style=\"text-align: right;\">   0.407431</td><td style=\"text-align: right;\">    2.82843</td><td style=\"text-align: right;\">         0.9</td><td style=\"text-align: right;\">         0.8</td><td style=\"text-align: right;\">         0.6</td><td style=\"text-align: right;\">           3</td><td style=\"text-align: right;\">           1</td><td style=\"text-align: right;\">           7</td><td style=\"text-align: right;\">           3</td><td style=\"text-align: right;\">           9</td><td style=\"text-align: right;\">           4</td><td style=\"text-align: right;\">          11</td><td style=\"text-align: right;\">           4</td><td style=\"text-align: right;\">           2</td><td style=\"text-align: right;\">           1</td><td style=\"text-align: right;\">           5</td><td style=\"text-align: right;\">               0</td><td style=\"text-align: right;\">               1</td><td style=\"text-align: right;\">               0</td><td style=\"text-align: right;\">               0</td><td style=\"text-align: right;\">               0</td><td style=\"text-align: right;\">               1</td><td>ps_car_13_3    </td><td>ps_ind_03_1    </td><td>ps_reg_03_3    </td><td>ps_reg_02_7    </td><td style=\"text-align: right;\">                         10_0</td><td style=\"text-align: right;\">                          10_0</td><td style=\"text-align: right;\">                          10_0</td><td style=\"text-align: right;\">                          10_0</td></tr>\n",
       "<tr><td style=\"text-align: right;\">       1</td><td style=\"text-align: right;\">          1</td><td style=\"text-align: right;\">              1</td><td style=\"text-align: right;\">          2</td><td style=\"text-align: right;\">              0</td><td style=\"text-align: right;\">              0</td><td style=\"text-align: right;\">              0</td><td style=\"text-align: right;\">              1</td><td style=\"text-align: right;\">              0</td><td style=\"text-align: right;\">              0</td><td style=\"text-align: right;\">              0</td><td style=\"text-align: right;\">              0</td><td style=\"text-align: right;\">              0</td><td style=\"text-align: right;\">              0</td><td style=\"text-align: right;\">          0</td><td style=\"text-align: right;\">          4</td><td style=\"text-align: right;\">              0</td><td style=\"text-align: right;\">              0</td><td style=\"text-align: right;\">              1</td><td style=\"text-align: right;\">        0.9</td><td style=\"text-align: right;\">        1.4</td><td style=\"text-align: right;\">   2.31665 </td><td style=\"text-align: right;\">             11</td><td style=\"text-align: right;\">              0</td><td style=\"text-align: right;\">              0</td><td style=\"text-align: right;\">              1</td><td style=\"text-align: right;\">              0</td><td style=\"text-align: right;\">             14</td><td style=\"text-align: right;\">              1</td><td style=\"text-align: right;\">              1</td><td style=\"text-align: right;\">              2</td><td style=\"text-align: right;\">              1</td><td style=\"text-align: right;\">            104</td><td style=\"text-align: right;\">          2</td><td style=\"text-align: right;\">   0.447214</td><td style=\"text-align: right;\">   1.45818 </td><td style=\"text-align: right;\">   0.390256</td><td style=\"text-align: right;\">    3.60555</td><td style=\"text-align: right;\">         0.7</td><td style=\"text-align: right;\">         0.8</td><td style=\"text-align: right;\">         0.8</td><td style=\"text-align: right;\">           2</td><td style=\"text-align: right;\">           2</td><td style=\"text-align: right;\">           8</td><td style=\"text-align: right;\">           2</td><td style=\"text-align: right;\">           9</td><td style=\"text-align: right;\">           1</td><td style=\"text-align: right;\">          11</td><td style=\"text-align: right;\">           3</td><td style=\"text-align: right;\">           5</td><td style=\"text-align: right;\">           0</td><td style=\"text-align: right;\">           6</td><td style=\"text-align: right;\">               0</td><td style=\"text-align: right;\">               1</td><td style=\"text-align: right;\">               0</td><td style=\"text-align: right;\">               0</td><td style=\"text-align: right;\">               1</td><td style=\"text-align: right;\">               0</td><td>ps_car_13_6    </td><td>ps_ind_03_1    </td><td>ps_reg_03_8    </td><td>ps_reg_02_13   </td><td style=\"text-align: right;\">                         11_0</td><td style=\"text-align: right;\">                          11_0</td><td style=\"text-align: right;\">                          11_0</td><td style=\"text-align: right;\">                          11_0</td></tr>\n",
       "</tbody>\n",
       "</table>"
      ]
     },
     "metadata": {},
     "output_type": "display_data"
    },
    {
     "data": {
      "text/plain": []
     },
     "execution_count": 92,
     "metadata": {},
     "output_type": "execute_result"
    }
   ],
   "source": [
    "train_bf"
   ]
  },
  {
   "cell_type": "code",
   "execution_count": null,
   "metadata": {
    "collapsed": true
   },
   "outputs": [],
   "source": [
    "train_bf.shape"
   ]
  },
  {
   "cell_type": "code",
   "execution_count": null,
   "metadata": {
    "collapsed": true
   },
   "outputs": [],
   "source": [
    "test_bf.shape"
   ]
  },
  {
   "cell_type": "code",
   "execution_count": 173,
   "metadata": {
    "collapsed": true
   },
   "outputs": [],
   "source": [
    "covtype_X = train_bf.col_names[2:]\n",
    "covtype_y = train_bf.col_names[1]"
   ]
  },
  {
   "cell_type": "code",
   "execution_count": 174,
   "metadata": {
    "collapsed": true
   },
   "outputs": [],
   "source": [
    "train['target'] = train['target'].asfactor()"
   ]
  },
  {
   "cell_type": "code",
   "execution_count": 119,
   "metadata": {},
   "outputs": [
    {
     "data": {
      "text/html": [
       "<table>\n",
       "<thead>\n",
       "<tr><th style=\"text-align: right;\">  target</th><th style=\"text-align: right;\">  ps_ind_01</th><th style=\"text-align: right;\">  ps_ind_02_cat</th><th style=\"text-align: right;\">  ps_ind_03</th><th style=\"text-align: right;\">  ps_ind_04_cat</th><th style=\"text-align: right;\">  ps_ind_05_cat</th><th style=\"text-align: right;\">  ps_ind_06_bin</th><th style=\"text-align: right;\">  ps_ind_07_bin</th><th style=\"text-align: right;\">  ps_ind_08_bin</th><th style=\"text-align: right;\">  ps_ind_09_bin</th><th style=\"text-align: right;\">  ps_ind_10_bin</th><th style=\"text-align: right;\">  ps_ind_11_bin</th><th style=\"text-align: right;\">  ps_ind_12_bin</th><th style=\"text-align: right;\">  ps_ind_13_bin</th><th style=\"text-align: right;\">  ps_ind_14</th><th style=\"text-align: right;\">  ps_ind_15</th><th style=\"text-align: right;\">  ps_ind_16_bin</th><th style=\"text-align: right;\">  ps_ind_17_bin</th><th style=\"text-align: right;\">  ps_ind_18_bin</th><th style=\"text-align: right;\">  ps_reg_01</th><th style=\"text-align: right;\">  ps_reg_02</th><th style=\"text-align: right;\">  ps_reg_03</th><th style=\"text-align: right;\">  ps_car_01_cat</th><th style=\"text-align: right;\">  ps_car_02_cat</th><th style=\"text-align: right;\">  ps_car_03_cat</th><th style=\"text-align: right;\">  ps_car_04_cat</th><th style=\"text-align: right;\">  ps_car_05_cat</th><th style=\"text-align: right;\">  ps_car_06_cat</th><th style=\"text-align: right;\">  ps_car_07_cat</th><th style=\"text-align: right;\">  ps_car_08_cat</th><th style=\"text-align: right;\">  ps_car_09_cat</th><th style=\"text-align: right;\">  ps_car_10_cat</th><th style=\"text-align: right;\">  ps_car_11_cat</th><th style=\"text-align: right;\">  ps_car_11</th><th style=\"text-align: right;\">  ps_car_12</th><th style=\"text-align: right;\">  ps_car_13</th><th style=\"text-align: right;\">  ps_car_14</th><th style=\"text-align: right;\">  ps_car_15</th><th style=\"text-align: right;\">  ps_calc_01</th><th style=\"text-align: right;\">  ps_calc_02</th><th style=\"text-align: right;\">  ps_calc_03</th><th style=\"text-align: right;\">  ps_calc_04</th><th style=\"text-align: right;\">  ps_calc_05</th><th style=\"text-align: right;\">  ps_calc_06</th><th style=\"text-align: right;\">  ps_calc_07</th><th style=\"text-align: right;\">  ps_calc_08</th><th style=\"text-align: right;\">  ps_calc_09</th><th style=\"text-align: right;\">  ps_calc_10</th><th style=\"text-align: right;\">  ps_calc_11</th><th style=\"text-align: right;\">  ps_calc_12</th><th style=\"text-align: right;\">  ps_calc_13</th><th style=\"text-align: right;\">  ps_calc_14</th><th style=\"text-align: right;\">  ps_calc_15_bin</th><th style=\"text-align: right;\">  ps_calc_16_bin</th><th style=\"text-align: right;\">  ps_calc_17_bin</th><th style=\"text-align: right;\">  ps_calc_18_bin</th><th style=\"text-align: right;\">  ps_calc_19_bin</th><th style=\"text-align: right;\">  ps_calc_20_bin</th></tr>\n",
       "</thead>\n",
       "<tbody>\n",
       "<tr><td style=\"text-align: right;\">       0</td><td style=\"text-align: right;\">          2</td><td style=\"text-align: right;\">              2</td><td style=\"text-align: right;\">          5</td><td style=\"text-align: right;\">              1</td><td style=\"text-align: right;\">              0</td><td style=\"text-align: right;\">              0</td><td style=\"text-align: right;\">              1</td><td style=\"text-align: right;\">              0</td><td style=\"text-align: right;\">              0</td><td style=\"text-align: right;\">              0</td><td style=\"text-align: right;\">              0</td><td style=\"text-align: right;\">              0</td><td style=\"text-align: right;\">              0</td><td style=\"text-align: right;\">          0</td><td style=\"text-align: right;\">         11</td><td style=\"text-align: right;\">              0</td><td style=\"text-align: right;\">              1</td><td style=\"text-align: right;\">              0</td><td style=\"text-align: right;\">        0.7</td><td style=\"text-align: right;\">        0.2</td><td style=\"text-align: right;\">   0.71807 </td><td style=\"text-align: right;\">             10</td><td style=\"text-align: right;\">              1</td><td style=\"text-align: right;\">             -1</td><td style=\"text-align: right;\">              0</td><td style=\"text-align: right;\">              1</td><td style=\"text-align: right;\">              4</td><td style=\"text-align: right;\">              1</td><td style=\"text-align: right;\">              0</td><td style=\"text-align: right;\">              0</td><td style=\"text-align: right;\">              1</td><td style=\"text-align: right;\">             12</td><td style=\"text-align: right;\">          2</td><td style=\"text-align: right;\">   0.4     </td><td style=\"text-align: right;\">   0.883679</td><td style=\"text-align: right;\">   0.37081 </td><td style=\"text-align: right;\">    3.60555</td><td style=\"text-align: right;\">         0.6</td><td style=\"text-align: right;\">         0.5</td><td style=\"text-align: right;\">         0.2</td><td style=\"text-align: right;\">           3</td><td style=\"text-align: right;\">           1</td><td style=\"text-align: right;\">          10</td><td style=\"text-align: right;\">           1</td><td style=\"text-align: right;\">          10</td><td style=\"text-align: right;\">           1</td><td style=\"text-align: right;\">           5</td><td style=\"text-align: right;\">           9</td><td style=\"text-align: right;\">           1</td><td style=\"text-align: right;\">           5</td><td style=\"text-align: right;\">           8</td><td style=\"text-align: right;\">               0</td><td style=\"text-align: right;\">               1</td><td style=\"text-align: right;\">               1</td><td style=\"text-align: right;\">               0</td><td style=\"text-align: right;\">               0</td><td style=\"text-align: right;\">               1</td></tr>\n",
       "<tr><td style=\"text-align: right;\">       0</td><td style=\"text-align: right;\">          1</td><td style=\"text-align: right;\">              1</td><td style=\"text-align: right;\">          7</td><td style=\"text-align: right;\">              0</td><td style=\"text-align: right;\">              0</td><td style=\"text-align: right;\">              0</td><td style=\"text-align: right;\">              0</td><td style=\"text-align: right;\">              1</td><td style=\"text-align: right;\">              0</td><td style=\"text-align: right;\">              0</td><td style=\"text-align: right;\">              0</td><td style=\"text-align: right;\">              0</td><td style=\"text-align: right;\">              0</td><td style=\"text-align: right;\">          0</td><td style=\"text-align: right;\">          3</td><td style=\"text-align: right;\">              0</td><td style=\"text-align: right;\">              0</td><td style=\"text-align: right;\">              1</td><td style=\"text-align: right;\">        0.8</td><td style=\"text-align: right;\">        0.4</td><td style=\"text-align: right;\">   0.766078</td><td style=\"text-align: right;\">             11</td><td style=\"text-align: right;\">              1</td><td style=\"text-align: right;\">             -1</td><td style=\"text-align: right;\">              0</td><td style=\"text-align: right;\">             -1</td><td style=\"text-align: right;\">             11</td><td style=\"text-align: right;\">              1</td><td style=\"text-align: right;\">              1</td><td style=\"text-align: right;\">              2</td><td style=\"text-align: right;\">              1</td><td style=\"text-align: right;\">             19</td><td style=\"text-align: right;\">          3</td><td style=\"text-align: right;\">   0.316228</td><td style=\"text-align: right;\">   0.618817</td><td style=\"text-align: right;\">   0.388716</td><td style=\"text-align: right;\">    2.44949</td><td style=\"text-align: right;\">         0.3</td><td style=\"text-align: right;\">         0.1</td><td style=\"text-align: right;\">         0.3</td><td style=\"text-align: right;\">           2</td><td style=\"text-align: right;\">           1</td><td style=\"text-align: right;\">           9</td><td style=\"text-align: right;\">           5</td><td style=\"text-align: right;\">           8</td><td style=\"text-align: right;\">           1</td><td style=\"text-align: right;\">           7</td><td style=\"text-align: right;\">           3</td><td style=\"text-align: right;\">           1</td><td style=\"text-align: right;\">           1</td><td style=\"text-align: right;\">           9</td><td style=\"text-align: right;\">               0</td><td style=\"text-align: right;\">               1</td><td style=\"text-align: right;\">               1</td><td style=\"text-align: right;\">               0</td><td style=\"text-align: right;\">               1</td><td style=\"text-align: right;\">               0</td></tr>\n",
       "<tr><td style=\"text-align: right;\">       0</td><td style=\"text-align: right;\">          0</td><td style=\"text-align: right;\">              1</td><td style=\"text-align: right;\">          2</td><td style=\"text-align: right;\">              0</td><td style=\"text-align: right;\">              0</td><td style=\"text-align: right;\">              1</td><td style=\"text-align: right;\">              0</td><td style=\"text-align: right;\">              0</td><td style=\"text-align: right;\">              0</td><td style=\"text-align: right;\">              0</td><td style=\"text-align: right;\">              0</td><td style=\"text-align: right;\">              0</td><td style=\"text-align: right;\">              0</td><td style=\"text-align: right;\">          0</td><td style=\"text-align: right;\">          8</td><td style=\"text-align: right;\">              1</td><td style=\"text-align: right;\">              0</td><td style=\"text-align: right;\">              0</td><td style=\"text-align: right;\">        0.9</td><td style=\"text-align: right;\">        0.2</td><td style=\"text-align: right;\">   0.580948</td><td style=\"text-align: right;\">              7</td><td style=\"text-align: right;\">              1</td><td style=\"text-align: right;\">              0</td><td style=\"text-align: right;\">              0</td><td style=\"text-align: right;\">              1</td><td style=\"text-align: right;\">             11</td><td style=\"text-align: right;\">              1</td><td style=\"text-align: right;\">              1</td><td style=\"text-align: right;\">              3</td><td style=\"text-align: right;\">              1</td><td style=\"text-align: right;\">            104</td><td style=\"text-align: right;\">          1</td><td style=\"text-align: right;\">   0.374166</td><td style=\"text-align: right;\">   0.542949</td><td style=\"text-align: right;\">   0.294958</td><td style=\"text-align: right;\">    2      </td><td style=\"text-align: right;\">         0.6</td><td style=\"text-align: right;\">         0.9</td><td style=\"text-align: right;\">         0.1</td><td style=\"text-align: right;\">           2</td><td style=\"text-align: right;\">           4</td><td style=\"text-align: right;\">           7</td><td style=\"text-align: right;\">           1</td><td style=\"text-align: right;\">           8</td><td style=\"text-align: right;\">           4</td><td style=\"text-align: right;\">           2</td><td style=\"text-align: right;\">           2</td><td style=\"text-align: right;\">           2</td><td style=\"text-align: right;\">           4</td><td style=\"text-align: right;\">           9</td><td style=\"text-align: right;\">               0</td><td style=\"text-align: right;\">               0</td><td style=\"text-align: right;\">               0</td><td style=\"text-align: right;\">               0</td><td style=\"text-align: right;\">               0</td><td style=\"text-align: right;\">               0</td></tr>\n",
       "<tr><td style=\"text-align: right;\">       0</td><td style=\"text-align: right;\">          2</td><td style=\"text-align: right;\">              1</td><td style=\"text-align: right;\">          3</td><td style=\"text-align: right;\">              1</td><td style=\"text-align: right;\">              0</td><td style=\"text-align: right;\">              0</td><td style=\"text-align: right;\">              1</td><td style=\"text-align: right;\">              0</td><td style=\"text-align: right;\">              0</td><td style=\"text-align: right;\">              0</td><td style=\"text-align: right;\">              0</td><td style=\"text-align: right;\">              0</td><td style=\"text-align: right;\">              0</td><td style=\"text-align: right;\">          0</td><td style=\"text-align: right;\">          8</td><td style=\"text-align: right;\">              1</td><td style=\"text-align: right;\">              0</td><td style=\"text-align: right;\">              0</td><td style=\"text-align: right;\">        0.6</td><td style=\"text-align: right;\">        0.1</td><td style=\"text-align: right;\">   0.617454</td><td style=\"text-align: right;\">              6</td><td style=\"text-align: right;\">              1</td><td style=\"text-align: right;\">             -1</td><td style=\"text-align: right;\">              0</td><td style=\"text-align: right;\">              1</td><td style=\"text-align: right;\">             11</td><td style=\"text-align: right;\">              1</td><td style=\"text-align: right;\">              1</td><td style=\"text-align: right;\">              0</td><td style=\"text-align: right;\">              1</td><td style=\"text-align: right;\">             99</td><td style=\"text-align: right;\">          2</td><td style=\"text-align: right;\">   0.316228</td><td style=\"text-align: right;\">   0.639683</td><td style=\"text-align: right;\">   0.368782</td><td style=\"text-align: right;\">    3.16228</td><td style=\"text-align: right;\">         0.2</td><td style=\"text-align: right;\">         0.6</td><td style=\"text-align: right;\">         0.5</td><td style=\"text-align: right;\">           2</td><td style=\"text-align: right;\">           2</td><td style=\"text-align: right;\">           8</td><td style=\"text-align: right;\">           1</td><td style=\"text-align: right;\">           8</td><td style=\"text-align: right;\">           3</td><td style=\"text-align: right;\">          10</td><td style=\"text-align: right;\">           3</td><td style=\"text-align: right;\">           0</td><td style=\"text-align: right;\">           0</td><td style=\"text-align: right;\">          10</td><td style=\"text-align: right;\">               0</td><td style=\"text-align: right;\">               1</td><td style=\"text-align: right;\">               0</td><td style=\"text-align: right;\">               0</td><td style=\"text-align: right;\">               1</td><td style=\"text-align: right;\">               0</td></tr>\n",
       "<tr><td style=\"text-align: right;\">       0</td><td style=\"text-align: right;\">          5</td><td style=\"text-align: right;\">              1</td><td style=\"text-align: right;\">          4</td><td style=\"text-align: right;\">              0</td><td style=\"text-align: right;\">              0</td><td style=\"text-align: right;\">              1</td><td style=\"text-align: right;\">              0</td><td style=\"text-align: right;\">              0</td><td style=\"text-align: right;\">              0</td><td style=\"text-align: right;\">              0</td><td style=\"text-align: right;\">              0</td><td style=\"text-align: right;\">              0</td><td style=\"text-align: right;\">              0</td><td style=\"text-align: right;\">          0</td><td style=\"text-align: right;\">         13</td><td style=\"text-align: right;\">              1</td><td style=\"text-align: right;\">              0</td><td style=\"text-align: right;\">              0</td><td style=\"text-align: right;\">        0.7</td><td style=\"text-align: right;\">        0.4</td><td style=\"text-align: right;\">   0.607248</td><td style=\"text-align: right;\">             11</td><td style=\"text-align: right;\">              1</td><td style=\"text-align: right;\">              0</td><td style=\"text-align: right;\">              0</td><td style=\"text-align: right;\">              0</td><td style=\"text-align: right;\">             11</td><td style=\"text-align: right;\">              1</td><td style=\"text-align: right;\">              1</td><td style=\"text-align: right;\">              2</td><td style=\"text-align: right;\">              1</td><td style=\"text-align: right;\">             30</td><td style=\"text-align: right;\">          3</td><td style=\"text-align: right;\">   0.44699 </td><td style=\"text-align: right;\">   0.900574</td><td style=\"text-align: right;\">   0.374833</td><td style=\"text-align: right;\">    3.31662</td><td style=\"text-align: right;\">         0.1</td><td style=\"text-align: right;\">         0.5</td><td style=\"text-align: right;\">         0.1</td><td style=\"text-align: right;\">           1</td><td style=\"text-align: right;\">           2</td><td style=\"text-align: right;\">           7</td><td style=\"text-align: right;\">           1</td><td style=\"text-align: right;\">           6</td><td style=\"text-align: right;\">           1</td><td style=\"text-align: right;\">          13</td><td style=\"text-align: right;\">           7</td><td style=\"text-align: right;\">           1</td><td style=\"text-align: right;\">           3</td><td style=\"text-align: right;\">           6</td><td style=\"text-align: right;\">               1</td><td style=\"text-align: right;\">               0</td><td style=\"text-align: right;\">               1</td><td style=\"text-align: right;\">               0</td><td style=\"text-align: right;\">               1</td><td style=\"text-align: right;\">               0</td></tr>\n",
       "<tr><td style=\"text-align: right;\">       0</td><td style=\"text-align: right;\">          5</td><td style=\"text-align: right;\">              1</td><td style=\"text-align: right;\">          3</td><td style=\"text-align: right;\">              1</td><td style=\"text-align: right;\">              0</td><td style=\"text-align: right;\">              0</td><td style=\"text-align: right;\">              0</td><td style=\"text-align: right;\">              1</td><td style=\"text-align: right;\">              0</td><td style=\"text-align: right;\">              0</td><td style=\"text-align: right;\">              0</td><td style=\"text-align: right;\">              0</td><td style=\"text-align: right;\">              0</td><td style=\"text-align: right;\">          0</td><td style=\"text-align: right;\">          6</td><td style=\"text-align: right;\">              1</td><td style=\"text-align: right;\">              0</td><td style=\"text-align: right;\">              0</td><td style=\"text-align: right;\">        0.9</td><td style=\"text-align: right;\">        0.7</td><td style=\"text-align: right;\">   0.901388</td><td style=\"text-align: right;\">             10</td><td style=\"text-align: right;\">              1</td><td style=\"text-align: right;\">             -1</td><td style=\"text-align: right;\">              0</td><td style=\"text-align: right;\">              1</td><td style=\"text-align: right;\">             14</td><td style=\"text-align: right;\">              1</td><td style=\"text-align: right;\">              1</td><td style=\"text-align: right;\">              0</td><td style=\"text-align: right;\">              1</td><td style=\"text-align: right;\">             68</td><td style=\"text-align: right;\">          3</td><td style=\"text-align: right;\">   0.4     </td><td style=\"text-align: right;\">   0.780641</td><td style=\"text-align: right;\">   0.407431</td><td style=\"text-align: right;\">    2.82843</td><td style=\"text-align: right;\">         0.9</td><td style=\"text-align: right;\">         0.8</td><td style=\"text-align: right;\">         0.6</td><td style=\"text-align: right;\">           3</td><td style=\"text-align: right;\">           1</td><td style=\"text-align: right;\">           7</td><td style=\"text-align: right;\">           3</td><td style=\"text-align: right;\">           9</td><td style=\"text-align: right;\">           4</td><td style=\"text-align: right;\">          11</td><td style=\"text-align: right;\">           4</td><td style=\"text-align: right;\">           2</td><td style=\"text-align: right;\">           1</td><td style=\"text-align: right;\">           5</td><td style=\"text-align: right;\">               0</td><td style=\"text-align: right;\">               1</td><td style=\"text-align: right;\">               0</td><td style=\"text-align: right;\">               0</td><td style=\"text-align: right;\">               0</td><td style=\"text-align: right;\">               1</td></tr>\n",
       "<tr><td style=\"text-align: right;\">       1</td><td style=\"text-align: right;\">          1</td><td style=\"text-align: right;\">              1</td><td style=\"text-align: right;\">          2</td><td style=\"text-align: right;\">              0</td><td style=\"text-align: right;\">              0</td><td style=\"text-align: right;\">              0</td><td style=\"text-align: right;\">              1</td><td style=\"text-align: right;\">              0</td><td style=\"text-align: right;\">              0</td><td style=\"text-align: right;\">              0</td><td style=\"text-align: right;\">              0</td><td style=\"text-align: right;\">              0</td><td style=\"text-align: right;\">              0</td><td style=\"text-align: right;\">          0</td><td style=\"text-align: right;\">          4</td><td style=\"text-align: right;\">              0</td><td style=\"text-align: right;\">              0</td><td style=\"text-align: right;\">              1</td><td style=\"text-align: right;\">        0.9</td><td style=\"text-align: right;\">        1.4</td><td style=\"text-align: right;\">   2.31665 </td><td style=\"text-align: right;\">             11</td><td style=\"text-align: right;\">              0</td><td style=\"text-align: right;\">              0</td><td style=\"text-align: right;\">              1</td><td style=\"text-align: right;\">              0</td><td style=\"text-align: right;\">             14</td><td style=\"text-align: right;\">              1</td><td style=\"text-align: right;\">              1</td><td style=\"text-align: right;\">              2</td><td style=\"text-align: right;\">              1</td><td style=\"text-align: right;\">            104</td><td style=\"text-align: right;\">          2</td><td style=\"text-align: right;\">   0.447214</td><td style=\"text-align: right;\">   1.45818 </td><td style=\"text-align: right;\">   0.390256</td><td style=\"text-align: right;\">    3.60555</td><td style=\"text-align: right;\">         0.7</td><td style=\"text-align: right;\">         0.8</td><td style=\"text-align: right;\">         0.8</td><td style=\"text-align: right;\">           2</td><td style=\"text-align: right;\">           2</td><td style=\"text-align: right;\">           8</td><td style=\"text-align: right;\">           2</td><td style=\"text-align: right;\">           9</td><td style=\"text-align: right;\">           1</td><td style=\"text-align: right;\">          11</td><td style=\"text-align: right;\">           3</td><td style=\"text-align: right;\">           5</td><td style=\"text-align: right;\">           0</td><td style=\"text-align: right;\">           6</td><td style=\"text-align: right;\">               0</td><td style=\"text-align: right;\">               1</td><td style=\"text-align: right;\">               0</td><td style=\"text-align: right;\">               0</td><td style=\"text-align: right;\">               1</td><td style=\"text-align: right;\">               0</td></tr>\n",
       "<tr><td style=\"text-align: right;\">       0</td><td style=\"text-align: right;\">          5</td><td style=\"text-align: right;\">              2</td><td style=\"text-align: right;\">          2</td><td style=\"text-align: right;\">              0</td><td style=\"text-align: right;\">              0</td><td style=\"text-align: right;\">              0</td><td style=\"text-align: right;\">              0</td><td style=\"text-align: right;\">              1</td><td style=\"text-align: right;\">              0</td><td style=\"text-align: right;\">              0</td><td style=\"text-align: right;\">              0</td><td style=\"text-align: right;\">              0</td><td style=\"text-align: right;\">              0</td><td style=\"text-align: right;\">          0</td><td style=\"text-align: right;\">          3</td><td style=\"text-align: right;\">              1</td><td style=\"text-align: right;\">              0</td><td style=\"text-align: right;\">              0</td><td style=\"text-align: right;\">        0.5</td><td style=\"text-align: right;\">        0.4</td><td style=\"text-align: right;\">   0.795692</td><td style=\"text-align: right;\">             11</td><td style=\"text-align: right;\">              1</td><td style=\"text-align: right;\">             -1</td><td style=\"text-align: right;\">              8</td><td style=\"text-align: right;\">             -1</td><td style=\"text-align: right;\">             13</td><td style=\"text-align: right;\">              1</td><td style=\"text-align: right;\">              1</td><td style=\"text-align: right;\">              2</td><td style=\"text-align: right;\">              1</td><td style=\"text-align: right;\">             20</td><td style=\"text-align: right;\">          3</td><td style=\"text-align: right;\">   0.447214</td><td style=\"text-align: right;\">   0.875198</td><td style=\"text-align: right;\">   0.429535</td><td style=\"text-align: right;\">    2.82843</td><td style=\"text-align: right;\">         0.8</td><td style=\"text-align: right;\">         0.1</td><td style=\"text-align: right;\">         0  </td><td style=\"text-align: right;\">           2</td><td style=\"text-align: right;\">           3</td><td style=\"text-align: right;\">           8</td><td style=\"text-align: right;\">           2</td><td style=\"text-align: right;\">           9</td><td style=\"text-align: right;\">           4</td><td style=\"text-align: right;\">           7</td><td style=\"text-align: right;\">           6</td><td style=\"text-align: right;\">           3</td><td style=\"text-align: right;\">           3</td><td style=\"text-align: right;\">           6</td><td style=\"text-align: right;\">               0</td><td style=\"text-align: right;\">               1</td><td style=\"text-align: right;\">               1</td><td style=\"text-align: right;\">               0</td><td style=\"text-align: right;\">               1</td><td style=\"text-align: right;\">               1</td></tr>\n",
       "<tr><td style=\"text-align: right;\">       0</td><td style=\"text-align: right;\">          2</td><td style=\"text-align: right;\">              1</td><td style=\"text-align: right;\">          3</td><td style=\"text-align: right;\">              1</td><td style=\"text-align: right;\">              0</td><td style=\"text-align: right;\">              0</td><td style=\"text-align: right;\">              1</td><td style=\"text-align: right;\">              0</td><td style=\"text-align: right;\">              0</td><td style=\"text-align: right;\">              0</td><td style=\"text-align: right;\">              0</td><td style=\"text-align: right;\">              0</td><td style=\"text-align: right;\">              0</td><td style=\"text-align: right;\">          0</td><td style=\"text-align: right;\">          9</td><td style=\"text-align: right;\">              1</td><td style=\"text-align: right;\">              0</td><td style=\"text-align: right;\">              0</td><td style=\"text-align: right;\">        0.9</td><td style=\"text-align: right;\">        0.1</td><td style=\"text-align: right;\">   0.378319</td><td style=\"text-align: right;\">             11</td><td style=\"text-align: right;\">              0</td><td style=\"text-align: right;\">             -1</td><td style=\"text-align: right;\">              0</td><td style=\"text-align: right;\">             -1</td><td style=\"text-align: right;\">             11</td><td style=\"text-align: right;\">              1</td><td style=\"text-align: right;\">              0</td><td style=\"text-align: right;\">              0</td><td style=\"text-align: right;\">              1</td><td style=\"text-align: right;\">             36</td><td style=\"text-align: right;\">          3</td><td style=\"text-align: right;\">   0.374166</td><td style=\"text-align: right;\">   0.954491</td><td style=\"text-align: right;\">   0.379342</td><td style=\"text-align: right;\">    3.74166</td><td style=\"text-align: right;\">         0.3</td><td style=\"text-align: right;\">         0.7</td><td style=\"text-align: right;\">         0.5</td><td style=\"text-align: right;\">           2</td><td style=\"text-align: right;\">           2</td><td style=\"text-align: right;\">           8</td><td style=\"text-align: right;\">           2</td><td style=\"text-align: right;\">          10</td><td style=\"text-align: right;\">           1</td><td style=\"text-align: right;\">           8</td><td style=\"text-align: right;\">           9</td><td style=\"text-align: right;\">           2</td><td style=\"text-align: right;\">           1</td><td style=\"text-align: right;\">          10</td><td style=\"text-align: right;\">               0</td><td style=\"text-align: right;\">               1</td><td style=\"text-align: right;\">               0</td><td style=\"text-align: right;\">               1</td><td style=\"text-align: right;\">               0</td><td style=\"text-align: right;\">               0</td></tr>\n",
       "<tr><td style=\"text-align: right;\">       0</td><td style=\"text-align: right;\">          2</td><td style=\"text-align: right;\">              1</td><td style=\"text-align: right;\">          1</td><td style=\"text-align: right;\">              1</td><td style=\"text-align: right;\">              0</td><td style=\"text-align: right;\">              0</td><td style=\"text-align: right;\">              0</td><td style=\"text-align: right;\">              1</td><td style=\"text-align: right;\">              0</td><td style=\"text-align: right;\">              0</td><td style=\"text-align: right;\">              0</td><td style=\"text-align: right;\">              0</td><td style=\"text-align: right;\">              0</td><td style=\"text-align: right;\">          0</td><td style=\"text-align: right;\">         10</td><td style=\"text-align: right;\">              1</td><td style=\"text-align: right;\">              0</td><td style=\"text-align: right;\">              0</td><td style=\"text-align: right;\">        0.5</td><td style=\"text-align: right;\">        0.2</td><td style=\"text-align: right;\">   0.548293</td><td style=\"text-align: right;\">              6</td><td style=\"text-align: right;\">              1</td><td style=\"text-align: right;\">             -1</td><td style=\"text-align: right;\">              0</td><td style=\"text-align: right;\">             -1</td><td style=\"text-align: right;\">             11</td><td style=\"text-align: right;\">              1</td><td style=\"text-align: right;\">              1</td><td style=\"text-align: right;\">              2</td><td style=\"text-align: right;\">              1</td><td style=\"text-align: right;\">            101</td><td style=\"text-align: right;\">          3</td><td style=\"text-align: right;\">   0.374166</td><td style=\"text-align: right;\">   0.765339</td><td style=\"text-align: right;\">   0.385097</td><td style=\"text-align: right;\">    3.16228</td><td style=\"text-align: right;\">         0.7</td><td style=\"text-align: right;\">         0.8</td><td style=\"text-align: right;\">         0.9</td><td style=\"text-align: right;\">           4</td><td style=\"text-align: right;\">           1</td><td style=\"text-align: right;\">           8</td><td style=\"text-align: right;\">           4</td><td style=\"text-align: right;\">          11</td><td style=\"text-align: right;\">           1</td><td style=\"text-align: right;\">           9</td><td style=\"text-align: right;\">           6</td><td style=\"text-align: right;\">           3</td><td style=\"text-align: right;\">           3</td><td style=\"text-align: right;\">           8</td><td style=\"text-align: right;\">               0</td><td style=\"text-align: right;\">               0</td><td style=\"text-align: right;\">               1</td><td style=\"text-align: right;\">               0</td><td style=\"text-align: right;\">               0</td><td style=\"text-align: right;\">               1</td></tr>\n",
       "</tbody>\n",
       "</table>"
      ]
     },
     "metadata": {},
     "output_type": "display_data"
    },
    {
     "data": {
      "text/plain": []
     },
     "execution_count": 119,
     "metadata": {},
     "output_type": "execute_result"
    }
   ],
   "source": [
    "train"
   ]
  },
  {
   "cell_type": "markdown",
   "metadata": {},
   "source": [
    "# Baseline Model"
   ]
  },
  {
   "cell_type": "code",
   "execution_count": 120,
   "metadata": {},
   "outputs": [
    {
     "name": "stdout",
     "output_type": "stream",
     "text": [
      "gbm Model Build progress: |███████████████████████████████████████████████| 100%\n",
      "Model Details\n",
      "=============\n",
      "H2OGradientBoostingEstimator :  Gradient Boosting Machine\n",
      "Model Key:  GBM_model_python_1509194048843_3\n",
      "\n",
      "\n",
      "ModelMetricsBinomial: gbm\n",
      "** Reported on train data. **\n",
      "\n",
      "MSE: 0.03419848069024549\n",
      "RMSE: 0.18492831230032217\n",
      "LogLoss: 0.14776883907617813\n",
      "Mean Per-Class Error: 0.3636849636204986\n",
      "AUC: 0.6884790136621572\n",
      "Gini: 0.3769580273243145\n",
      "Confusion Matrix (Act/Pred) for max f1 @ threshold = 0.06727442170984475: \n"
     ]
    },
    {
     "data": {
      "text/html": [
       "<div style=\"overflow:auto\"><table style=\"width:50%\"><tr><td><b></b></td>\n",
       "<td><b>0</b></td>\n",
       "<td><b>1</b></td>\n",
       "<td><b>Error</b></td>\n",
       "<td><b>Rate</b></td></tr>\n",
       "<tr><td>0</td>\n",
       "<td>487702.0</td>\n",
       "<td>28464.0</td>\n",
       "<td>0.0551</td>\n",
       "<td> (28464.0/516166.0)</td></tr>\n",
       "<tr><td>1</td>\n",
       "<td>15450.0</td>\n",
       "<td>4075.0</td>\n",
       "<td>0.7913</td>\n",
       "<td> (15450.0/19525.0)</td></tr>\n",
       "<tr><td>Total</td>\n",
       "<td>503152.0</td>\n",
       "<td>32539.0</td>\n",
       "<td>0.082</td>\n",
       "<td> (43914.0/535691.0)</td></tr></table></div>"
      ],
      "text/plain": [
       "       0       1      Error    Rate\n",
       "-----  ------  -----  -------  ------------------\n",
       "0      487702  28464  0.0551   (28464.0/516166.0)\n",
       "1      15450   4075   0.7913   (15450.0/19525.0)\n",
       "Total  503152  32539  0.082    (43914.0/535691.0)"
      ]
     },
     "metadata": {},
     "output_type": "display_data"
    },
    {
     "name": "stdout",
     "output_type": "stream",
     "text": [
      "Maximum Metrics: Maximum metrics at their respective thresholds\n",
      "\n"
     ]
    },
    {
     "data": {
      "text/html": [
       "<div style=\"overflow:auto\"><table style=\"width:50%\"><tr><td><b>metric</b></td>\n",
       "<td><b>threshold</b></td>\n",
       "<td><b>value</b></td>\n",
       "<td><b>idx</b></td></tr>\n",
       "<tr><td>max f1</td>\n",
       "<td>0.0672744</td>\n",
       "<td>0.1565381</td>\n",
       "<td>192.0</td></tr>\n",
       "<tr><td>max f2</td>\n",
       "<td>0.0448919</td>\n",
       "<td>0.2322916</td>\n",
       "<td>255.0</td></tr>\n",
       "<tr><td>max f0point5</td>\n",
       "<td>0.0982219</td>\n",
       "<td>0.1627195</td>\n",
       "<td>142.0</td></tr>\n",
       "<tr><td>max accuracy</td>\n",
       "<td>0.2331647</td>\n",
       "<td>0.9637272</td>\n",
       "<td>63.0</td></tr>\n",
       "<tr><td>max precision</td>\n",
       "<td>0.8523698</td>\n",
       "<td>1.0</td>\n",
       "<td>0.0</td></tr>\n",
       "<tr><td>max recall</td>\n",
       "<td>0.0132511</td>\n",
       "<td>1.0</td>\n",
       "<td>396.0</td></tr>\n",
       "<tr><td>max specificity</td>\n",
       "<td>0.8523698</td>\n",
       "<td>1.0</td>\n",
       "<td>0.0</td></tr>\n",
       "<tr><td>max absolute_mcc</td>\n",
       "<td>0.0613413</td>\n",
       "<td>0.1210478</td>\n",
       "<td>206.0</td></tr>\n",
       "<tr><td>max min_per_class_accuracy</td>\n",
       "<td>0.0358740</td>\n",
       "<td>0.6322830</td>\n",
       "<td>292.0</td></tr>\n",
       "<tr><td>max mean_per_class_accuracy</td>\n",
       "<td>0.0370482</td>\n",
       "<td>0.6363150</td>\n",
       "<td>287.0</td></tr></table></div>"
      ],
      "text/plain": [
       "metric                       threshold    value     idx\n",
       "---------------------------  -----------  --------  -----\n",
       "max f1                       0.0672744    0.156538  192\n",
       "max f2                       0.0448919    0.232292  255\n",
       "max f0point5                 0.0982219    0.162719  142\n",
       "max accuracy                 0.233165     0.963727  63\n",
       "max precision                0.85237      1         0\n",
       "max recall                   0.0132511    1         396\n",
       "max specificity              0.85237      1         0\n",
       "max absolute_mcc             0.0613413    0.121048  206\n",
       "max min_per_class_accuracy   0.035874     0.632283  292\n",
       "max mean_per_class_accuracy  0.0370482    0.636315  287"
      ]
     },
     "metadata": {},
     "output_type": "display_data"
    },
    {
     "name": "stdout",
     "output_type": "stream",
     "text": [
      "Gains/Lift Table: Avg response rate:  3.64 %\n",
      "\n"
     ]
    },
    {
     "data": {
      "text/html": [
       "<div style=\"overflow:auto\"><table style=\"width:50%\"><tr><td><b></b></td>\n",
       "<td><b>group</b></td>\n",
       "<td><b>cumulative_data_fraction</b></td>\n",
       "<td><b>lower_threshold</b></td>\n",
       "<td><b>lift</b></td>\n",
       "<td><b>cumulative_lift</b></td>\n",
       "<td><b>response_rate</b></td>\n",
       "<td><b>cumulative_response_rate</b></td>\n",
       "<td><b>capture_rate</b></td>\n",
       "<td><b>cumulative_capture_rate</b></td>\n",
       "<td><b>gain</b></td>\n",
       "<td><b>cumulative_gain</b></td></tr>\n",
       "<tr><td></td>\n",
       "<td>1</td>\n",
       "<td>0.0100002</td>\n",
       "<td>0.1129220</td>\n",
       "<td>6.6170463</td>\n",
       "<td>6.6170463</td>\n",
       "<td>0.2411798</td>\n",
       "<td>0.2411798</td>\n",
       "<td>0.0661716</td>\n",
       "<td>0.0661716</td>\n",
       "<td>561.7046319</td>\n",
       "<td>561.7046319</td></tr>\n",
       "<tr><td></td>\n",
       "<td>2</td>\n",
       "<td>0.0200003</td>\n",
       "<td>0.0925769</td>\n",
       "<td>3.6619103</td>\n",
       "<td>5.1394783</td>\n",
       "<td>0.1334702</td>\n",
       "<td>0.1873250</td>\n",
       "<td>0.0366197</td>\n",
       "<td>0.1027913</td>\n",
       "<td>266.1910308</td>\n",
       "<td>413.9478314</td></tr>\n",
       "<tr><td></td>\n",
       "<td>3</td>\n",
       "<td>0.0300005</td>\n",
       "<td>0.0824788</td>\n",
       "<td>2.9551360</td>\n",
       "<td>4.4113642</td>\n",
       "<td>0.1077095</td>\n",
       "<td>0.1607865</td>\n",
       "<td>0.0295519</td>\n",
       "<td>0.1323431</td>\n",
       "<td>195.5136011</td>\n",
       "<td>341.1364213</td></tr>\n",
       "<tr><td></td>\n",
       "<td>4</td>\n",
       "<td>0.0400007</td>\n",
       "<td>0.0759566</td>\n",
       "<td>2.6888153</td>\n",
       "<td>3.9807270</td>\n",
       "<td>0.0980026</td>\n",
       "<td>0.1450905</td>\n",
       "<td>0.0268886</td>\n",
       "<td>0.1592318</td>\n",
       "<td>168.8815261</td>\n",
       "<td>298.0726975</td></tr>\n",
       "<tr><td></td>\n",
       "<td>5</td>\n",
       "<td>0.0500008</td>\n",
       "<td>0.0712194</td>\n",
       "<td>2.5044394</td>\n",
       "<td>3.6854695</td>\n",
       "<td>0.0912824</td>\n",
       "<td>0.1343289</td>\n",
       "<td>0.0250448</td>\n",
       "<td>0.1842766</td>\n",
       "<td>150.4439358</td>\n",
       "<td>268.5469451</td></tr>\n",
       "<tr><td></td>\n",
       "<td>6</td>\n",
       "<td>0.1000017</td>\n",
       "<td>0.0574011</td>\n",
       "<td>2.0312079</td>\n",
       "<td>2.8583387</td>\n",
       "<td>0.0740340</td>\n",
       "<td>0.1041814</td>\n",
       "<td>0.1015621</td>\n",
       "<td>0.2858387</td>\n",
       "<td>103.1207872</td>\n",
       "<td>185.8338662</td></tr>\n",
       "<tr><td></td>\n",
       "<td>7</td>\n",
       "<td>0.1500007</td>\n",
       "<td>0.0502669</td>\n",
       "<td>1.6215442</td>\n",
       "<td>2.4460841</td>\n",
       "<td>0.0591024</td>\n",
       "<td>0.0891555</td>\n",
       "<td>0.0810755</td>\n",
       "<td>0.3669142</td>\n",
       "<td>62.1544181</td>\n",
       "<td>144.6084096</td></tr>\n",
       "<tr><td></td>\n",
       "<td>8</td>\n",
       "<td>0.2000015</td>\n",
       "<td>0.0455599</td>\n",
       "<td>1.4493995</td>\n",
       "<td>2.1969106</td>\n",
       "<td>0.0528281</td>\n",
       "<td>0.0800735</td>\n",
       "<td>0.0724712</td>\n",
       "<td>0.4393854</td>\n",
       "<td>44.9399465</td>\n",
       "<td>119.6910612</td></tr>\n",
       "<tr><td></td>\n",
       "<td>9</td>\n",
       "<td>0.3000013</td>\n",
       "<td>0.0392055</td>\n",
       "<td>1.2081969</td>\n",
       "<td>1.8673414</td>\n",
       "<td>0.0440367</td>\n",
       "<td>0.0680613</td>\n",
       "<td>0.1208195</td>\n",
       "<td>0.5602049</td>\n",
       "<td>20.8196878</td>\n",
       "<td>86.7341418</td></tr>\n",
       "<tr><td></td>\n",
       "<td>10</td>\n",
       "<td>0.4000011</td>\n",
       "<td>0.0348776</td>\n",
       "<td>1.0130621</td>\n",
       "<td>1.6537726</td>\n",
       "<td>0.0369243</td>\n",
       "<td>0.0602771</td>\n",
       "<td>0.1013060</td>\n",
       "<td>0.6615109</td>\n",
       "<td>1.3062070</td>\n",
       "<td>65.3772578</td></tr>\n",
       "<tr><td></td>\n",
       "<td>11</td>\n",
       "<td>0.5000009</td>\n",
       "<td>0.0315259</td>\n",
       "<td>0.8133178</td>\n",
       "<td>1.4856822</td>\n",
       "<td>0.0296440</td>\n",
       "<td>0.0541505</td>\n",
       "<td>0.0813316</td>\n",
       "<td>0.7428425</td>\n",
       "<td>-18.6682221</td>\n",
       "<td>48.5682246</td></tr>\n",
       "<tr><td></td>\n",
       "<td>12</td>\n",
       "<td>0.6000007</td>\n",
       "<td>0.0286207</td>\n",
       "<td>0.7062753</td>\n",
       "<td>1.3557815</td>\n",
       "<td>0.0257425</td>\n",
       "<td>0.0494159</td>\n",
       "<td>0.0706274</td>\n",
       "<td>0.8134699</td>\n",
       "<td>-29.3724674</td>\n",
       "<td>35.5781497</td></tr>\n",
       "<tr><td></td>\n",
       "<td>13</td>\n",
       "<td>0.7000006</td>\n",
       "<td>0.0258535</td>\n",
       "<td>0.6023059</td>\n",
       "<td>1.2481424</td>\n",
       "<td>0.0219530</td>\n",
       "<td>0.0454926</td>\n",
       "<td>0.0602305</td>\n",
       "<td>0.8737004</td>\n",
       "<td>-39.7694138</td>\n",
       "<td>24.8142407</td></tr>\n",
       "<tr><td></td>\n",
       "<td>14</td>\n",
       "<td>0.8000004</td>\n",
       "<td>0.0230174</td>\n",
       "<td>0.5295785</td>\n",
       "<td>1.1583221</td>\n",
       "<td>0.0193022</td>\n",
       "<td>0.0422188</td>\n",
       "<td>0.0529577</td>\n",
       "<td>0.9266581</td>\n",
       "<td>-47.0421547</td>\n",
       "<td>15.8322123</td></tr>\n",
       "<tr><td></td>\n",
       "<td>15</td>\n",
       "<td>0.9000002</td>\n",
       "<td>0.0198092</td>\n",
       "<td>0.4276576</td>\n",
       "<td>1.0771373</td>\n",
       "<td>0.0155874</td>\n",
       "<td>0.0392598</td>\n",
       "<td>0.0427657</td>\n",
       "<td>0.9694238</td>\n",
       "<td>-57.2342351</td>\n",
       "<td>7.7137349</td></tr>\n",
       "<tr><td></td>\n",
       "<td>16</td>\n",
       "<td>1.0</td>\n",
       "<td>0.0101603</td>\n",
       "<td>0.3057624</td>\n",
       "<td>1.0</td>\n",
       "<td>0.0111445</td>\n",
       "<td>0.0364483</td>\n",
       "<td>0.0305762</td>\n",
       "<td>1.0</td>\n",
       "<td>-69.4237585</td>\n",
       "<td>0.0</td></tr></table></div>"
      ],
      "text/plain": [
       "    group    cumulative_data_fraction    lower_threshold    lift      cumulative_lift    response_rate    cumulative_response_rate    capture_rate    cumulative_capture_rate    gain      cumulative_gain\n",
       "--  -------  --------------------------  -----------------  --------  -----------------  ---------------  --------------------------  --------------  -------------------------  --------  -----------------\n",
       "    1        0.0100002                   0.112922           6.61705   6.61705            0.24118          0.24118                     0.0661716       0.0661716                  561.705   561.705\n",
       "    2        0.0200003                   0.0925769          3.66191   5.13948            0.13347          0.187325                    0.0366197       0.102791                   266.191   413.948\n",
       "    3        0.0300005                   0.0824788          2.95514   4.41136            0.10771          0.160787                    0.0295519       0.132343                   195.514   341.136\n",
       "    4        0.0400007                   0.0759566          2.68882   3.98073            0.0980026        0.145091                    0.0268886       0.159232                   168.882   298.073\n",
       "    5        0.0500008                   0.0712194          2.50444   3.68547            0.0912824        0.134329                    0.0250448       0.184277                   150.444   268.547\n",
       "    6        0.100002                    0.0574011          2.03121   2.85834            0.074034         0.104181                    0.101562        0.285839                   103.121   185.834\n",
       "    7        0.150001                    0.0502669          1.62154   2.44608            0.0591024        0.0891555                   0.0810755       0.366914                   62.1544   144.608\n",
       "    8        0.200001                    0.0455599          1.4494    2.19691            0.0528281        0.0800735                   0.0724712       0.439385                   44.9399   119.691\n",
       "    9        0.300001                    0.0392055          1.2082    1.86734            0.0440367        0.0680613                   0.120819        0.560205                   20.8197   86.7341\n",
       "    10       0.400001                    0.0348776          1.01306   1.65377            0.0369243        0.0602771                   0.101306        0.661511                   1.30621   65.3773\n",
       "    11       0.500001                    0.0315259          0.813318  1.48568            0.029644         0.0541505                   0.0813316       0.742843                   -18.6682  48.5682\n",
       "    12       0.600001                    0.0286207          0.706275  1.35578            0.0257425        0.0494159                   0.0706274       0.81347                    -29.3725  35.5781\n",
       "    13       0.700001                    0.0258535          0.602306  1.24814            0.021953         0.0454926                   0.0602305       0.8737                     -39.7694  24.8142\n",
       "    14       0.8                         0.0230174          0.529578  1.15832            0.0193022        0.0422188                   0.0529577       0.926658                   -47.0422  15.8322\n",
       "    15       0.9                         0.0198092          0.427658  1.07714            0.0155874        0.0392598                   0.0427657       0.969424                   -57.2342  7.71373\n",
       "    16       1                           0.0101603          0.305762  1                  0.0111445        0.0364483                   0.0305762       1                          -69.4238  0"
      ]
     },
     "metadata": {},
     "output_type": "display_data"
    },
    {
     "name": "stdout",
     "output_type": "stream",
     "text": [
      "\n",
      "Scoring History: \n"
     ]
    },
    {
     "data": {
      "text/html": [
       "<div style=\"overflow:auto\"><table style=\"width:50%\"><tr><td><b></b></td>\n",
       "<td><b>timestamp</b></td>\n",
       "<td><b>duration</b></td>\n",
       "<td><b>number_of_trees</b></td>\n",
       "<td><b>training_rmse</b></td>\n",
       "<td><b>training_logloss</b></td>\n",
       "<td><b>training_auc</b></td>\n",
       "<td><b>training_lift</b></td>\n",
       "<td><b>training_classification_error</b></td></tr>\n",
       "<tr><td></td>\n",
       "<td>2017-10-28 16:11:16</td>\n",
       "<td> 0.019 sec</td>\n",
       "<td>0.0</td>\n",
       "<td>0.1874027</td>\n",
       "<td>0.1564874</td>\n",
       "<td>0.5</td>\n",
       "<td>1.0</td>\n",
       "<td>0.9635517</td></tr>\n",
       "<tr><td></td>\n",
       "<td>2017-10-28 16:11:17</td>\n",
       "<td> 0.816 sec</td>\n",
       "<td>1.0</td>\n",
       "<td>0.1872118</td>\n",
       "<td>0.1556505</td>\n",
       "<td>0.6110499</td>\n",
       "<td>3.4071355</td>\n",
       "<td>0.0917787</td></tr>\n",
       "<tr><td></td>\n",
       "<td>2017-10-28 16:11:17</td>\n",
       "<td> 1.484 sec</td>\n",
       "<td>2.0</td>\n",
       "<td>0.1870705</td>\n",
       "<td>0.1550443</td>\n",
       "<td>0.6200346</td>\n",
       "<td>3.7006323</td>\n",
       "<td>0.1064718</td></tr>\n",
       "<tr><td></td>\n",
       "<td>2017-10-28 16:11:18</td>\n",
       "<td> 1.922 sec</td>\n",
       "<td>3.0</td>\n",
       "<td>0.1869537</td>\n",
       "<td>0.1545640</td>\n",
       "<td>0.6235798</td>\n",
       "<td>3.7551902</td>\n",
       "<td>0.1027253</td></tr>\n",
       "<tr><td></td>\n",
       "<td>2017-10-28 16:11:18</td>\n",
       "<td> 2.371 sec</td>\n",
       "<td>4.0</td>\n",
       "<td>0.1868460</td>\n",
       "<td>0.1541303</td>\n",
       "<td>0.6292508</td>\n",
       "<td>4.0778645</td>\n",
       "<td>0.1014260</td></tr>\n",
       "<tr><td></td>\n",
       "<td>2017-10-28 16:11:19</td>\n",
       "<td> 2.963 sec</td>\n",
       "<td>5.0</td>\n",
       "<td>0.1867500</td>\n",
       "<td>0.1537549</td>\n",
       "<td>0.6336067</td>\n",
       "<td>4.2224979</td>\n",
       "<td>0.1031994</td></tr>\n",
       "<tr><td></td>\n",
       "<td>2017-10-28 16:11:19</td>\n",
       "<td> 3.701 sec</td>\n",
       "<td>6.0</td>\n",
       "<td>0.1866584</td>\n",
       "<td>0.1534022</td>\n",
       "<td>0.6363264</td>\n",
       "<td>4.2867398</td>\n",
       "<td>0.1215645</td></tr>\n",
       "<tr><td></td>\n",
       "<td>2017-10-28 16:11:25</td>\n",
       "<td> 8.917 sec</td>\n",
       "<td>25.0</td>\n",
       "<td>0.1856751</td>\n",
       "<td>0.1499856</td>\n",
       "<td>0.6679978</td>\n",
       "<td>5.4493323</td>\n",
       "<td>0.1080175</td></tr>\n",
       "<tr><td></td>\n",
       "<td>2017-10-28 16:11:32</td>\n",
       "<td>15.994 sec</td>\n",
       "<td>50.0</td>\n",
       "<td>0.1849283</td>\n",
       "<td>0.1477688</td>\n",
       "<td>0.6884790</td>\n",
       "<td>6.6170463</td>\n",
       "<td>0.0819764</td></tr></table></div>"
      ],
      "text/plain": [
       "    timestamp            duration    number_of_trees    training_rmse    training_logloss    training_auc    training_lift    training_classification_error\n",
       "--  -------------------  ----------  -----------------  ---------------  ------------------  --------------  ---------------  -------------------------------\n",
       "    2017-10-28 16:11:16  0.019 sec   0                  0.187403         0.156487            0.5             1                0.963552\n",
       "    2017-10-28 16:11:17  0.816 sec   1                  0.187212         0.155651            0.61105         3.40714          0.0917787\n",
       "    2017-10-28 16:11:17  1.484 sec   2                  0.187071         0.155044            0.620035        3.70063          0.106472\n",
       "    2017-10-28 16:11:18  1.922 sec   3                  0.186954         0.154564            0.62358         3.75519          0.102725\n",
       "    2017-10-28 16:11:18  2.371 sec   4                  0.186846         0.15413             0.629251        4.07786          0.101426\n",
       "    2017-10-28 16:11:19  2.963 sec   5                  0.18675          0.153755            0.633607        4.2225           0.103199\n",
       "    2017-10-28 16:11:19  3.701 sec   6                  0.186658         0.153402            0.636326        4.28674          0.121564\n",
       "    2017-10-28 16:11:25  8.917 sec   25                 0.185675         0.149986            0.667998        5.44933          0.108017\n",
       "    2017-10-28 16:11:32  15.994 sec  50                 0.184928         0.147769            0.688479        6.61705          0.0819764"
      ]
     },
     "metadata": {},
     "output_type": "display_data"
    },
    {
     "name": "stdout",
     "output_type": "stream",
     "text": [
      "Variable Importances: \n"
     ]
    },
    {
     "data": {
      "text/html": [
       "<div style=\"overflow:auto\"><table style=\"width:50%\"><tr><td><b>variable</b></td>\n",
       "<td><b>relative_importance</b></td>\n",
       "<td><b>scaled_importance</b></td>\n",
       "<td><b>percentage</b></td></tr>\n",
       "<tr><td>ps_car_11_cat</td>\n",
       "<td>776.4281006</td>\n",
       "<td>1.0</td>\n",
       "<td>0.3694369</td></tr>\n",
       "<tr><td>ps_car_13</td>\n",
       "<td>217.4578247</td>\n",
       "<td>0.2800746</td>\n",
       "<td>0.1034699</td></tr>\n",
       "<tr><td>ps_ind_05_cat</td>\n",
       "<td>216.1922913</td>\n",
       "<td>0.2784447</td>\n",
       "<td>0.1028677</td></tr>\n",
       "<tr><td>ps_ind_17_bin</td>\n",
       "<td>112.0194702</td>\n",
       "<td>0.1442754</td>\n",
       "<td>0.0533006</td></tr>\n",
       "<tr><td>ps_car_01_cat</td>\n",
       "<td>102.9694061</td>\n",
       "<td>0.1326194</td>\n",
       "<td>0.0489945</td></tr>\n",
       "<tr><td>---</td>\n",
       "<td>---</td>\n",
       "<td>---</td>\n",
       "<td>---</td></tr>\n",
       "<tr><td>ps_calc_15_bin</td>\n",
       "<td>0.0</td>\n",
       "<td>0.0</td>\n",
       "<td>0.0</td></tr>\n",
       "<tr><td>ps_calc_16_bin</td>\n",
       "<td>0.0</td>\n",
       "<td>0.0</td>\n",
       "<td>0.0</td></tr>\n",
       "<tr><td>ps_calc_17_bin</td>\n",
       "<td>0.0</td>\n",
       "<td>0.0</td>\n",
       "<td>0.0</td></tr>\n",
       "<tr><td>ps_calc_19_bin</td>\n",
       "<td>0.0</td>\n",
       "<td>0.0</td>\n",
       "<td>0.0</td></tr>\n",
       "<tr><td>ps_calc_20_bin</td>\n",
       "<td>0.0</td>\n",
       "<td>0.0</td>\n",
       "<td>0.0</td></tr></table></div>"
      ],
      "text/plain": [
       "variable        relative_importance    scaled_importance    percentage\n",
       "--------------  ---------------------  -------------------  --------------------\n",
       "ps_car_11_cat   776.4281005859375      1.0                  0.36943685954911715\n",
       "ps_car_13       217.45782470703125     0.28007464508680846  0.10346989732020408\n",
       "ps_ind_05_cat   216.19229125976562     0.27844470221597395  0.1028677363447585\n",
       "ps_ind_17_bin   112.01947021484375     0.14427539411609058  0.05330064851245967\n",
       "ps_car_01_cat   102.96940612792969     0.1326193707443394   0.048994483843168804\n",
       "---             ---                    ---                  ---\n",
       "ps_calc_15_bin  0.0                    0.0                  0.0\n",
       "ps_calc_16_bin  0.0                    0.0                  0.0\n",
       "ps_calc_17_bin  0.0                    0.0                  0.0\n",
       "ps_calc_19_bin  0.0                    0.0                  0.0\n",
       "ps_calc_20_bin  0.0                    0.0                  0.0"
      ]
     },
     "metadata": {},
     "output_type": "display_data"
    },
    {
     "name": "stdout",
     "output_type": "stream",
     "text": [
      "\n",
      "See the whole table with table.as_data_frame()\n",
      "\n"
     ]
    }
   ],
   "source": [
    "\n",
    "\n",
    "#We only provide the required parameters, everything else is default\n",
    "gbm = H2OGradientBoostingEstimator()\n",
    "gbm.train(x=covtype_X, y=covtype_y, training_frame=train)\n",
    "\n",
    "## Show a detailed model summary\n",
    "print (gbm)"
   ]
  },
  {
   "cell_type": "code",
   "execution_count": 124,
   "metadata": {},
   "outputs": [
    {
     "name": "stdout",
     "output_type": "stream",
     "text": [
      "0.261594008988421\n"
     ]
    }
   ],
   "source": [
    "perf = gbm.model_performance(test)\n",
    "print(perf.gini())"
   ]
  },
  {
   "cell_type": "code",
   "execution_count": 125,
   "metadata": {},
   "outputs": [
    {
     "name": "stdout",
     "output_type": "stream",
     "text": [
      "Confusion Matrix (Act/Pred) for max f1 @ threshold = 0.05474943472494336: \n"
     ]
    },
    {
     "data": {
      "text/html": [
       "<div style=\"overflow:auto\"><table style=\"width:50%\"><tr><td><b></b></td>\n",
       "<td><b>0</b></td>\n",
       "<td><b>1</b></td>\n",
       "<td><b>Error</b></td>\n",
       "<td><b>Rate</b></td></tr>\n",
       "<tr><td>0</td>\n",
       "<td>50874.0</td>\n",
       "<td>6478.0</td>\n",
       "<td>0.113</td>\n",
       "<td> (6478.0/57352.0)</td></tr>\n",
       "<tr><td>1</td>\n",
       "<td>1638.0</td>\n",
       "<td>531.0</td>\n",
       "<td>0.7552</td>\n",
       "<td> (1638.0/2169.0)</td></tr>\n",
       "<tr><td>Total</td>\n",
       "<td>52512.0</td>\n",
       "<td>7009.0</td>\n",
       "<td>0.1364</td>\n",
       "<td> (8116.0/59521.0)</td></tr></table></div>"
      ],
      "text/plain": [
       "       0      1     Error    Rate\n",
       "-----  -----  ----  -------  ----------------\n",
       "0      50874  6478  0.113    (6478.0/57352.0)\n",
       "1      1638   531   0.7552   (1638.0/2169.0)\n",
       "Total  52512  7009  0.1364   (8116.0/59521.0)"
      ]
     },
     "metadata": {},
     "output_type": "display_data"
    },
    {
     "data": {
      "text/plain": []
     },
     "execution_count": 125,
     "metadata": {},
     "output_type": "execute_result"
    }
   ],
   "source": [
    "perf.confusion_matrix()"
   ]
  },
  {
   "cell_type": "code",
   "execution_count": 132,
   "metadata": {},
   "outputs": [
    {
     "data": {
      "text/plain": [
       "(535691, 58)"
      ]
     },
     "execution_count": 132,
     "metadata": {},
     "output_type": "execute_result"
    }
   ],
   "source": [
    "train.shape"
   ]
  },
  {
   "cell_type": "code",
   "execution_count": 134,
   "metadata": {
    "collapsed": true
   },
   "outputs": [],
   "source": [
    "train = train.rbind(test)"
   ]
  },
  {
   "cell_type": "code",
   "execution_count": 135,
   "metadata": {},
   "outputs": [
    {
     "name": "stdout",
     "output_type": "stream",
     "text": [
      "gbm Model Build progress: |███████████████████████████████████████████████| 100%\n",
      "0.2585222544249115\n"
     ]
    }
   ],
   "source": [
    "\n",
    "\n",
    "## rbind() makes a copy here, so it's better to use split_frame with `ratios = c(0.8)` instead above\n",
    "cv_gbm = H2OGradientBoostingEstimator(nfolds = 4, seed = 0xDECAF)\n",
    "cv_gbm.train(x=covtype_X, y=covtype_y, training_frame = train)\n",
    "\n",
    "\n",
    "## Show a detailed summary of the cross validation metrics\n",
    "## This gives you an idea of the variance between the folds\n",
    "cv_summary = cv_gbm.cross_validation_metrics_summary().as_data_frame()\n",
    "#print(cv_summary) ## Full summary of all metrics\n",
    "#print(cv_summary.iloc[4]) ## get the row with just the AUCs\n",
    "\n",
    "## Get the cross-validated AUC by scoring the combined holdout predictions.\n",
    "## (Instead of taking the average of the metrics across the folds)\n",
    "perf_cv = cv_gbm.model_performance(xval=True)\n",
    "print(perf_cv.gini())\n",
    "\n",
    "\n"
   ]
  },
  {
   "cell_type": "code",
   "execution_count": null,
   "metadata": {
    "collapsed": true
   },
   "outputs": [],
   "source": [
    "gbm_lucky = H2OGradientBoostingEstimator(\n",
    "  ## more trees is better if the learning rate is small enough \n",
    "  ## here, use \"more than enough\" trees - we have early stopping\n",
    "  ntrees = 10000,                                                            \n",
    "\n",
    "  ## smaller learning rate is better (this is a good value for most datasets, but see below for annealing)\n",
    "  learn_rate = 0.01,                                                         \n",
    "\n",
    "  ## early stopping once the validation AUC doesn't improve by at least 0.01% for 5 consecutive scoring events\n",
    "  stopping_rounds = 5, stopping_tolerance = 1e-4, stopping_metric = \"AUC\", \n",
    "\n",
    "  ## sample 80% of rows per tree\n",
    "  sample_rate = 0.8,                                                       \n",
    "\n",
    "  ## sample 80% of columns per split\n",
    "  col_sample_rate = 0.8,                                                   \n",
    "\n",
    "  ## fix a random number generator seed for reproducibility\n",
    "  seed = 1234,                                                             \n",
    "\n",
    "  ## score every 10 trees to make early stopping reproducible (it depends on the scoring interval)\n",
    "  score_tree_interval = 10)\n",
    "\n",
    "gbm_lucky.train(x=covtype_X, y=covtype_y, training_frame=train, validation_frame=valid)"
   ]
  },
  {
   "cell_type": "markdown",
   "metadata": {},
   "source": [
    "# Tune"
   ]
  },
  {
   "cell_type": "code",
   "execution_count": 149,
   "metadata": {},
   "outputs": [
    {
     "data": {
      "text/plain": [
       "4096"
      ]
     },
     "execution_count": 149,
     "metadata": {},
     "output_type": "execute_result"
    }
   ],
   "source": [
    "2**12"
   ]
  },
  {
   "cell_type": "code",
   "execution_count": 139,
   "metadata": {
    "collapsed": true
   },
   "outputs": [],
   "source": []
  },
  {
   "cell_type": "code",
   "execution_count": 150,
   "metadata": {
    "collapsed": true
   },
   "outputs": [],
   "source": [
    "import math\n",
    "# create hyperameter and search criteria lists (ranges are inclusive..exclusive))\n",
    "hyper_params_tune = {'max_depth' : list(range(22,27,1)),\n",
    "                'sample_rate': [x/100. for x in range(20,101)],\n",
    "                'col_sample_rate' : [x/100. for x in range(50,101)],\n",
    "                'col_sample_rate_per_tree': [x/100. for x in range(60,101)],\n",
    "                'col_sample_rate_change_per_level': [x/100. for x in range(90,111)],\n",
    "                'min_rows': [2**x for x in range(0,int(math.log(train.nrow,2)-1)+1)],\n",
    "                'nbins': [2**x for x in range(4,10)],\n",
    "                'nbins_cats': [2**x for x in range(8,13)],\n",
    "                'min_split_improvement': [0,1e-8,1e-6,1e-4],\n",
    "                'histogram_type': [\"QuantilesGlobal\",\"RoundRobin\"]}\n",
    "search_criteria_tune = {'strategy': \"RandomDiscrete\",\n",
    "                   'max_runtime_secs': 60*60*2,  ## limit the runtime to 60 minutes\n",
    "                   'max_models': 100,  ## build no more than 100 models\n",
    "                   'seed' : 1234,\n",
    "                   'stopping_rounds' : 5,\n",
    "                   'stopping_metric' : \"AUC\",\n",
    "                   'stopping_tolerance': 1e-3\n",
    "                   }"
   ]
  },
  {
   "cell_type": "code",
   "execution_count": 151,
   "metadata": {},
   "outputs": [
    {
     "name": "stdout",
     "output_type": "stream",
     "text": [
      "gbm Grid Build progress: |████████████████████████████████████████████████| 100%\n",
      "     col_sample_rate col_sample_rate_change_per_level  \\\n",
      "0               0.63                              1.0   \n",
      "1               0.63                              1.0   \n",
      "2                0.5                             0.99   \n",
      "3               0.56                             0.99   \n",
      "4               0.57                              1.1   \n",
      "5                0.5                             1.02   \n",
      "6               0.47                             0.98   \n",
      "7               0.65                             1.02   \n",
      "8                0.9                              1.0   \n",
      "9               0.33                             1.06   \n",
      "10              0.88                             1.02   \n",
      "11              0.44                             1.03   \n",
      "12              0.27                             1.07   \n",
      "13               0.6                              1.0   \n",
      "14               0.4                             0.91   \n",
      "15              0.91                             1.02   \n",
      "16              0.66                             1.01   \n",
      "17              0.55                             1.05   \n",
      "18              0.42                             1.08   \n",
      "19              0.67                             1.04   \n",
      "20              0.96                             1.07   \n",
      "21               0.5                             0.94   \n",
      "22              0.75                             0.94   \n",
      "23              0.32                             1.02   \n",
      "24              0.95                             1.03   \n",
      "25              0.81                             0.99   \n",
      "26              0.52                              1.1   \n",
      "27              0.75                             0.99   \n",
      "28              0.83                             0.98   \n",
      "\n",
      "   col_sample_rate_per_tree   histogram_type max_depth  min_rows  \\\n",
      "0                      0.85       RoundRobin        27    2048.0   \n",
      "1                      0.65       RoundRobin        24    2048.0   \n",
      "2                      0.81  QuantilesGlobal        22    2048.0   \n",
      "3                       0.6  QuantilesGlobal        24    2048.0   \n",
      "4                      0.68       RoundRobin        20   16384.0   \n",
      "5                      0.65       RoundRobin        22    1024.0   \n",
      "6                      0.68  UniformAdaptive         8       4.0   \n",
      "7                      0.77       RoundRobin        24    1024.0   \n",
      "8                      0.74  QuantilesGlobal        23    1024.0   \n",
      "9                      0.69       RoundRobin        10    1024.0   \n",
      "10                     0.78  QuantilesGlobal        23    1024.0   \n",
      "11                     0.38  QuantilesGlobal        16     256.0   \n",
      "12                     0.39       RoundRobin        12      64.0   \n",
      "13                     0.89  UniformAdaptive        26    1024.0   \n",
      "14                     0.34  UniformAdaptive        14      64.0   \n",
      "15                     0.97  UniformAdaptive        21    1024.0   \n",
      "16                     0.22       RoundRobin         8   65536.0   \n",
      "17                      1.0  UniformAdaptive         9  131072.0   \n",
      "18                     0.45       RoundRobin        22   65536.0   \n",
      "19                     0.21  UniformAdaptive        27  131072.0   \n",
      "20                      0.6       RoundRobin        24      64.0   \n",
      "21                     0.92       RoundRobin        20      32.0   \n",
      "22                      0.6  QuantilesGlobal        21      16.0   \n",
      "23                     0.88  UniformAdaptive        23      32.0   \n",
      "24                     0.29  UniformAdaptive        22       2.0   \n",
      "25                     0.89       RoundRobin        24      16.0   \n",
      "26                     0.33  QuantilesGlobal        25       4.0   \n",
      "27                      0.8  UniformAdaptive        27      16.0   \n",
      "28                     0.68       RoundRobin        25       4.0   \n",
      "\n",
      "   min_split_improvement nbins nbins_cats sample_rate            model_ids  \\\n",
      "0                    0.0   128       4096        0.37   final_grid_model_5   \n",
      "1                    0.0    64       2048        0.37  final_grid_model_26   \n",
      "2                 1.0E-6   256       4096        0.76   final_grid_model_3   \n",
      "3                 1.0E-6    16       2048        0.76  final_grid_model_24   \n",
      "4                    0.0    16       4096        0.58   final_grid_model_8   \n",
      "5                 1.0E-8   512        512        0.64   final_grid_model_0   \n",
      "6                 1.0E-8   128        128        0.87   final_grid_model_2   \n",
      "7                 1.0E-8    64        256        0.64  final_grid_model_21   \n",
      "8                    0.0   256       4096        0.64  final_grid_model_27   \n",
      "9                 1.0E-4    64        256        0.35  final_grid_model_18   \n",
      "10                1.0E-6    16        512        0.26  final_grid_model_25   \n",
      "11                1.0E-6   256        512        0.55   final_grid_model_9   \n",
      "12                1.0E-6    16         64        0.57   final_grid_model_1   \n",
      "13                   0.0    16        128        0.64   final_grid_model_6   \n",
      "14                   0.0    64       2048        0.48  final_grid_model_15   \n",
      "15                1.0E-6    64       2048        0.26   final_grid_model_4   \n",
      "16                1.0E-6    16       4096        0.59  final_grid_model_19   \n",
      "17                1.0E-4  1024       2048        0.86  final_grid_model_17   \n",
      "18                1.0E-6    16        256        0.35  final_grid_model_16   \n",
      "19                   0.0    32         64         0.6  final_grid_model_10   \n",
      "20                1.0E-6   128       4096        0.57  final_grid_model_22   \n",
      "21                   0.0   128       2048        0.61  final_grid_model_14   \n",
      "22                1.0E-4    16        512         0.5  final_grid_model_11   \n",
      "23                1.0E-8   512       1024        0.46  final_grid_model_13   \n",
      "24                1.0E-4    32         64         0.7  final_grid_model_12   \n",
      "25                1.0E-6    16        256         0.5  final_grid_model_28   \n",
      "26                   0.0    64         64        0.65  final_grid_model_20   \n",
      "27                1.0E-6  1024        512         0.5   final_grid_model_7   \n",
      "28                1.0E-8   512       4096        0.87  final_grid_model_23   \n",
      "\n",
      "                logloss  \n",
      "0   0.15207088107492894  \n",
      "1   0.15211994397979486  \n",
      "2    0.1521268705359669  \n",
      "3   0.15215512278262291  \n",
      "4    0.1521639084999803  \n",
      "5   0.15228869727514666  \n",
      "6   0.15231543891973745  \n",
      "7   0.15233971790304748  \n",
      "8    0.1524136080845498  \n",
      "9   0.15244773479310883  \n",
      "10  0.15244964136192973  \n",
      "11  0.15247517980184438  \n",
      "12   0.1525058745644162  \n",
      "13  0.15257140863170435  \n",
      "14  0.15275473900483322  \n",
      "15  0.15278806650597518  \n",
      "16  0.15359445059531282  \n",
      "17  0.15372631453834693  \n",
      "18   0.1538375690054003  \n",
      "19  0.15419778312246601  \n",
      "20  0.15612764792055053  \n",
      "21   0.1567485399392319  \n",
      "22  0.15736292709223676  \n",
      "23  0.16340432082918138  \n",
      "24  0.17399088545511485  \n",
      "25  0.17910768850383266  \n",
      "26  0.18156958040420038  \n",
      "27  0.18263318847302848  \n",
      "28  0.22491991908713793  \n",
      "\n"
     ]
    }
   ],
   "source": [
    "gbm_final_grid = H2OGradientBoostingEstimator(distribution='bernoulli',\n",
    "                    ## more trees is better if the learning rate is small enough \n",
    "                    ## here, use \"more than enough\" trees - we have early stopping\n",
    "                    ntrees=10000,\n",
    "                    ## smaller learning rate is better\n",
    "                    ## since we have learning_rate_annealing, we can afford to start with a \n",
    "                    #bigger learning rate\n",
    "                    learn_rate=0.05,\n",
    "                    ## learning rate annealing: learning_rate shrinks by 1% after every tree \n",
    "                    ## (use 1.00 to disable, but then lower the learning_rate)\n",
    "                    learn_rate_annealing = 0.99,\n",
    "                    ## score every 10 trees to make early stopping reproducible \n",
    "                    #(it depends on the scoring interval)\n",
    "                    score_tree_interval = 10,\n",
    "                    ## fix a random number generator seed for reproducibility\n",
    "                    seed = 1234,\n",
    "                    ## early stopping once the validation AUC doesn't improve by at least 0.01% for \n",
    "                    #5 consecutive scoring events\n",
    "                    stopping_rounds = 5,\n",
    "                    stopping_metric = \"AUC\",\n",
    "                    stopping_tolerance = 1e-4)\n",
    "            \n",
    "#Build grid search with previously made GBM and hyper parameters\n",
    "final_grid = H2OGridSearch(gbm_final_grid, hyper_params = hyper_params_tune,\n",
    "                                    grid_id = 'final_grid',\n",
    "                                    search_criteria = search_criteria_tune)\n",
    "#Train grid search\n",
    "final_grid.train(x=covtype_X, y=covtype_y,\n",
    "           ## early stopping based on timeout (no model should take more than 1 hour - modify as needed)\n",
    "           max_runtime_secs = 3600, \n",
    "           training_frame = train,\n",
    "           validation_frame = valid)\n",
    "\n",
    "print(final_grid)"
   ]
  },
  {
   "cell_type": "code",
   "execution_count": 160,
   "metadata": {},
   "outputs": [
    {
     "name": "stdout",
     "output_type": "stream",
     "text": [
      "     col_sample_rate col_sample_rate_change_per_level  \\\n",
      "0               0.47                             0.98   \n",
      "1               0.63                              1.0   \n",
      "2                0.5                             0.99   \n",
      "3               0.57                              1.1   \n",
      "4               0.63                              1.0   \n",
      "5               0.56                             0.99   \n",
      "6               0.27                             1.07   \n",
      "7               0.33                             1.06   \n",
      "8                0.5                             1.02   \n",
      "9               0.65                             1.02   \n",
      "10               0.9                              1.0   \n",
      "11              0.88                             1.02   \n",
      "12               0.6                              1.0   \n",
      "13              0.44                             1.03   \n",
      "14               0.4                             0.91   \n",
      "15              0.91                             1.02   \n",
      "16              0.66                             1.01   \n",
      "17              0.42                             1.08   \n",
      "18              0.55                             1.05   \n",
      "19              0.67                             1.04   \n",
      "20              0.96                             1.07   \n",
      "21               0.5                             0.94   \n",
      "22              0.75                             0.99   \n",
      "23              0.81                             0.99   \n",
      "24              0.32                             1.02   \n",
      "25              0.75                             0.94   \n",
      "26              0.83                             0.98   \n",
      "27              0.52                              1.1   \n",
      "28              0.95                             1.03   \n",
      "\n",
      "   col_sample_rate_per_tree   histogram_type max_depth  min_rows  \\\n",
      "0                      0.68  UniformAdaptive         8       4.0   \n",
      "1                      0.85       RoundRobin        27    2048.0   \n",
      "2                      0.81  QuantilesGlobal        22    2048.0   \n",
      "3                      0.68       RoundRobin        20   16384.0   \n",
      "4                      0.65       RoundRobin        24    2048.0   \n",
      "5                       0.6  QuantilesGlobal        24    2048.0   \n",
      "6                      0.39       RoundRobin        12      64.0   \n",
      "7                      0.69       RoundRobin        10    1024.0   \n",
      "8                      0.65       RoundRobin        22    1024.0   \n",
      "9                      0.77       RoundRobin        24    1024.0   \n",
      "10                     0.74  QuantilesGlobal        23    1024.0   \n",
      "11                     0.78  QuantilesGlobal        23    1024.0   \n",
      "12                     0.89  UniformAdaptive        26    1024.0   \n",
      "13                     0.38  QuantilesGlobal        16     256.0   \n",
      "14                     0.34  UniformAdaptive        14      64.0   \n",
      "15                     0.97  UniformAdaptive        21    1024.0   \n",
      "16                     0.22       RoundRobin         8   65536.0   \n",
      "17                     0.45       RoundRobin        22   65536.0   \n",
      "18                      1.0  UniformAdaptive         9  131072.0   \n",
      "19                     0.21  UniformAdaptive        27  131072.0   \n",
      "20                      0.6       RoundRobin        24      64.0   \n",
      "21                     0.92       RoundRobin        20      32.0   \n",
      "22                      0.8  UniformAdaptive        27      16.0   \n",
      "23                     0.89       RoundRobin        24      16.0   \n",
      "24                     0.88  UniformAdaptive        23      32.0   \n",
      "25                      0.6  QuantilesGlobal        21      16.0   \n",
      "26                     0.68       RoundRobin        25       4.0   \n",
      "27                     0.33  QuantilesGlobal        25       4.0   \n",
      "28                     0.29  UniformAdaptive        22       2.0   \n",
      "\n",
      "   min_split_improvement nbins nbins_cats sample_rate            model_ids  \\\n",
      "0                 1.0E-8   128        128        0.87   final_grid_model_2   \n",
      "1                    0.0   128       4096        0.37   final_grid_model_5   \n",
      "2                 1.0E-6   256       4096        0.76   final_grid_model_3   \n",
      "3                    0.0    16       4096        0.58   final_grid_model_8   \n",
      "4                    0.0    64       2048        0.37  final_grid_model_26   \n",
      "5                 1.0E-6    16       2048        0.76  final_grid_model_24   \n",
      "6                 1.0E-6    16         64        0.57   final_grid_model_1   \n",
      "7                 1.0E-4    64        256        0.35  final_grid_model_18   \n",
      "8                 1.0E-8   512        512        0.64   final_grid_model_0   \n",
      "9                 1.0E-8    64        256        0.64  final_grid_model_21   \n",
      "10                   0.0   256       4096        0.64  final_grid_model_27   \n",
      "11                1.0E-6    16        512        0.26  final_grid_model_25   \n",
      "12                   0.0    16        128        0.64   final_grid_model_6   \n",
      "13                1.0E-6   256        512        0.55   final_grid_model_9   \n",
      "14                   0.0    64       2048        0.48  final_grid_model_15   \n",
      "15                1.0E-6    64       2048        0.26   final_grid_model_4   \n",
      "16                1.0E-6    16       4096        0.59  final_grid_model_19   \n",
      "17                1.0E-6    16        256        0.35  final_grid_model_16   \n",
      "18                1.0E-4  1024       2048        0.86  final_grid_model_17   \n",
      "19                   0.0    32         64         0.6  final_grid_model_10   \n",
      "20                1.0E-6   128       4096        0.57  final_grid_model_22   \n",
      "21                   0.0   128       2048        0.61  final_grid_model_14   \n",
      "22                1.0E-6  1024        512         0.5   final_grid_model_7   \n",
      "23                1.0E-6    16        256         0.5  final_grid_model_28   \n",
      "24                1.0E-8   512       1024        0.46  final_grid_model_13   \n",
      "25                1.0E-4    16        512         0.5  final_grid_model_11   \n",
      "26                1.0E-8   512       4096        0.87  final_grid_model_23   \n",
      "27                   0.0    64         64        0.65  final_grid_model_20   \n",
      "28                1.0E-4    32         64         0.7  final_grid_model_12   \n",
      "\n",
      "                   auc  \n",
      "0     0.63795926457345  \n",
      "1   0.6373763461875226  \n",
      "2   0.6362507718063551  \n",
      "3   0.6362255661108375  \n",
      "4   0.6361321832494178  \n",
      "5   0.6361293897621932  \n",
      "6    0.634889455239283  \n",
      "7   0.6334724940144612  \n",
      "8   0.6333649628436455  \n",
      "9   0.6325743336098042  \n",
      "10  0.6323529206065689  \n",
      "11  0.6322742769072387  \n",
      "12   0.630956707555924  \n",
      "13  0.6306395764163375  \n",
      "14  0.6278162129464621  \n",
      "15  0.6254189909284255  \n",
      "16  0.6206782381187481  \n",
      "17  0.6182102182820467  \n",
      "18  0.6176524613781701  \n",
      "19  0.6129812161578067  \n",
      "20  0.6047304647378791  \n",
      "21  0.6036184839880688  \n",
      "22  0.5985921925705813  \n",
      "23  0.5977048524070873  \n",
      "24  0.5966955674825803  \n",
      "25   0.585348157095882  \n",
      "26  0.5767907089145474  \n",
      "27  0.5605224522094225  \n",
      "28  0.5062159029762963  \n",
      "\n"
     ]
    }
   ],
   "source": [
    "sorted_final_grid = final_grid.get_grid(sort_by='auc',decreasing=True)\n",
    "\n",
    "print(sorted_final_grid)"
   ]
  },
  {
   "cell_type": "code",
   "execution_count": 155,
   "metadata": {},
   "outputs": [
    {
     "data": {
      "text/plain": [
       "((59521, 58), (535691, 58))"
      ]
     },
     "execution_count": 155,
     "metadata": {},
     "output_type": "execute_result"
    }
   ],
   "source": [
    "valid.shape, train.shape"
   ]
  },
  {
   "cell_type": "code",
   "execution_count": 158,
   "metadata": {
    "collapsed": true
   },
   "outputs": [],
   "source": [
    "train = train.rbind(valid)"
   ]
  },
  {
   "cell_type": "code",
   "execution_count": 159,
   "metadata": {},
   "outputs": [
    {
     "data": {
      "text/plain": [
       "(595212, 58)"
      ]
     },
     "execution_count": 159,
     "metadata": {},
     "output_type": "execute_result"
    }
   ],
   "source": [
    "best_model = h2o.get_model(sorted_final_grid.sorted_metric_table()['model_ids'][0])\n"
   ]
  },
  {
   "cell_type": "code",
   "execution_count": 161,
   "metadata": {},
   "outputs": [
    {
     "name": "stdout",
     "output_type": "stream",
     "text": [
      "gbm Model Build progress: |███████████████████████████████████████████████| 100%\n"
     ]
    }
   ],
   "source": [
    "best_model.train(x=covtype_X, y=covtype_y,\n",
    "           ## early stopping based on timeout (no model should take more than 1 hour - modify as needed)\n",
    "           max_runtime_secs = 3600, \n",
    "           training_frame = train)"
   ]
  },
  {
   "cell_type": "code",
   "execution_count": 164,
   "metadata": {},
   "outputs": [
    {
     "data": {
      "image/png": "[encoded data removed]",
      "text/plain": [
       "<matplotlib.figure.Figure at 0x7f5620cc7ef0>"
      ]
     },
     "metadata": {},
     "output_type": "display_data"
    }
   ],
   "source": [
    "best_model.varimp_plot()"
   ]
  },
  {
   "cell_type": "code",
   "execution_count": null,
   "metadata": {
    "collapsed": true
   },
   "outputs": [],
   "source": [
    "performance_best_model = best_model.model_performance(test)"
   ]
  },
  {
   "cell_type": "code",
   "execution_count": 141,
   "metadata": {},
   "outputs": [
    {
     "name": "stdout",
     "output_type": "stream",
     "text": [
      "gbm Grid Build progress: |████████████████████████████████████████████████| 100%\n",
      "     col_sample_rate col_sample_rate_change_per_level  \\\n",
      "0               0.63                              1.0   \n",
      "1                0.5                             0.99   \n",
      "2               0.57                              1.1   \n",
      "3                0.5                             1.02   \n",
      "4               0.47                             0.98   \n",
      "5               0.33                             1.06   \n",
      "6               0.44                             1.03   \n",
      "7               0.27                             1.07   \n",
      "8                0.6                              1.0   \n",
      "9                0.4                             0.91   \n",
      "10              0.91                             1.02   \n",
      "11              0.66                             1.01   \n",
      "12              0.55                             1.05   \n",
      "13              0.42                             1.08   \n",
      "14              0.67                             1.04   \n",
      "15               0.5                             0.94   \n",
      "16              0.75                             0.94   \n",
      "17              0.32                             1.02   \n",
      "18              0.95                             1.03   \n",
      "19              0.52                              1.1   \n",
      "20              0.75                             0.99   \n",
      "\n",
      "   col_sample_rate_per_tree   histogram_type max_depth  min_rows  \\\n",
      "0                      0.85       RoundRobin        27    2048.0   \n",
      "1                      0.81  QuantilesGlobal        22    2048.0   \n",
      "2                      0.68       RoundRobin        20   16384.0   \n",
      "3                      0.65       RoundRobin        22    1024.0   \n",
      "4                      0.68  UniformAdaptive         8       4.0   \n",
      "5                      0.69       RoundRobin        10    1024.0   \n",
      "6                      0.38  QuantilesGlobal        16     256.0   \n",
      "7                      0.39       RoundRobin        12      64.0   \n",
      "8                      0.89  UniformAdaptive        26    1024.0   \n",
      "9                      0.34  UniformAdaptive        14      64.0   \n",
      "10                     0.97  UniformAdaptive        21    1024.0   \n",
      "11                     0.22       RoundRobin         8   65536.0   \n",
      "12                      1.0  UniformAdaptive         9  131072.0   \n",
      "13                     0.45       RoundRobin        22   65536.0   \n",
      "14                     0.21  UniformAdaptive        27  131072.0   \n",
      "15                     0.92       RoundRobin        20      32.0   \n",
      "16                      0.6  QuantilesGlobal        21      16.0   \n",
      "17                     0.88  UniformAdaptive        23      32.0   \n",
      "18                     0.29  UniformAdaptive        22       2.0   \n",
      "19                     0.33  QuantilesGlobal        25       4.0   \n",
      "20                      0.8  UniformAdaptive        27      16.0   \n",
      "\n",
      "   min_split_improvement nbins nbins_cats sample_rate            model_ids  \\\n",
      "0                    0.0   128       4096        0.37   final_grid_model_5   \n",
      "1                 1.0E-6   256       4096        0.76   final_grid_model_3   \n",
      "2                    0.0    16       4096        0.58   final_grid_model_8   \n",
      "3                 1.0E-8   512        512        0.64   final_grid_model_0   \n",
      "4                 1.0E-8   128        128        0.87   final_grid_model_2   \n",
      "5                 1.0E-4    64        256        0.35  final_grid_model_18   \n",
      "6                 1.0E-6   256        512        0.55   final_grid_model_9   \n",
      "7                 1.0E-6    16         64        0.57   final_grid_model_1   \n",
      "8                    0.0    16        128        0.64   final_grid_model_6   \n",
      "9                    0.0    64       2048        0.48  final_grid_model_15   \n",
      "10                1.0E-6    64       2048        0.26   final_grid_model_4   \n",
      "11                1.0E-6    16       4096        0.59  final_grid_model_19   \n",
      "12                1.0E-4  1024       2048        0.86  final_grid_model_17   \n",
      "13                1.0E-6    16        256        0.35  final_grid_model_16   \n",
      "14                   0.0    32         64         0.6  final_grid_model_10   \n",
      "15                   0.0   128       2048        0.61  final_grid_model_14   \n",
      "16                1.0E-4    16        512         0.5  final_grid_model_11   \n",
      "17                1.0E-8   512       1024        0.46  final_grid_model_13   \n",
      "18                1.0E-4    32         64         0.7  final_grid_model_12   \n",
      "19                   0.0    64         64        0.65  final_grid_model_20   \n",
      "20                1.0E-6  1024        512         0.5   final_grid_model_7   \n",
      "\n",
      "                logloss  \n",
      "0   0.15207088107492894  \n",
      "1    0.1521268705359669  \n",
      "2    0.1521639084999803  \n",
      "3   0.15228869727514666  \n",
      "4   0.15231543891973745  \n",
      "5   0.15244773479310883  \n",
      "6   0.15247517980184438  \n",
      "7    0.1525058745644162  \n",
      "8   0.15257140863170435  \n",
      "9   0.15275473900483322  \n",
      "10  0.15278806650597518  \n",
      "11  0.15359445059531282  \n",
      "12  0.15372631453834693  \n",
      "13   0.1538375690054003  \n",
      "14  0.15419778312246601  \n",
      "15   0.1567485399392319  \n",
      "16  0.15736292709223676  \n",
      "17  0.16340432082918138  \n",
      "18  0.17399088545511485  \n",
      "19  0.18156958040420038  \n",
      "20  0.18263318847302848  \n",
      "\n"
     ]
    }
   ],
   "source": [
    "gbm_final_grid = H2OGradientBoostingEstimator(distribution='bernoulli',\n",
    "                    ## more trees is better if the learning rate is small enough \n",
    "                    ## here, use \"more than enough\" trees - we have early stopping\n",
    "                    ntrees=10000,\n",
    "                    ## smaller learning rate is better\n",
    "                    ## since we have learning_rate_annealing, we can afford to start with a \n",
    "                    #bigger learning rate\n",
    "                    learn_rate=0.05,\n",
    "                    ## learning rate annealing: learning_rate shrinks by 1% after every tree \n",
    "                    ## (use 1.00 to disable, but then lower the learning_rate)\n",
    "                    learn_rate_annealing = 0.99,\n",
    "                    ## score every 10 trees to make early stopping reproducible \n",
    "                    #(it depends on the scoring interval)\n",
    "                    score_tree_interval = 10,\n",
    "                    ## fix a random number generator seed for reproducibility\n",
    "                    seed = 1234,\n",
    "                    ## early stopping once the validation AUC doesn't improve by at least 0.01% for \n",
    "                    #5 consecutive scoring events\n",
    "                    stopping_rounds = 5,\n",
    "                    stopping_metric = \"AUC\",\n",
    "                    stopping_tolerance = 1e-4)\n",
    "            \n",
    "#Build grid search with previously made GBM and hyper parameters\n",
    "final_grid = H2OGridSearch(gbm_final_grid, hyper_params = hyper_params_tune,\n",
    "                                    grid_id = 'final_grid',\n",
    "                                    search_criteria = search_criteria_tune)\n",
    "#Train grid search\n",
    "final_grid.train(x=covtype_X, y=covtype_y,\n",
    "           ## early stopping based on timeout (no model should take more than 1 hour - modify as needed)\n",
    "           max_runtime_secs = 3600, \n",
    "           training_frame = train,\n",
    "           validation_frame = valid)\n",
    "\n",
    "print(final_grid)"
   ]
  },
  {
   "cell_type": "code",
   "execution_count": 142,
   "metadata": {},
   "outputs": [
    {
     "name": "stdout",
     "output_type": "stream",
     "text": [
      "     col_sample_rate col_sample_rate_change_per_level  \\\n",
      "0               0.47                             0.98   \n",
      "1               0.63                              1.0   \n",
      "2                0.5                             0.99   \n",
      "3               0.57                              1.1   \n",
      "4               0.27                             1.07   \n",
      "5               0.33                             1.06   \n",
      "6                0.5                             1.02   \n",
      "7                0.6                              1.0   \n",
      "8               0.44                             1.03   \n",
      "9                0.4                             0.91   \n",
      "10              0.91                             1.02   \n",
      "11              0.66                             1.01   \n",
      "12              0.42                             1.08   \n",
      "13              0.55                             1.05   \n",
      "14              0.67                             1.04   \n",
      "15               0.5                             0.94   \n",
      "16              0.75                             0.99   \n",
      "17              0.32                             1.02   \n",
      "18              0.75                             0.94   \n",
      "19              0.52                              1.1   \n",
      "20              0.95                             1.03   \n",
      "\n",
      "   col_sample_rate_per_tree   histogram_type max_depth  min_rows  \\\n",
      "0                      0.68  UniformAdaptive         8       4.0   \n",
      "1                      0.85       RoundRobin        27    2048.0   \n",
      "2                      0.81  QuantilesGlobal        22    2048.0   \n",
      "3                      0.68       RoundRobin        20   16384.0   \n",
      "4                      0.39       RoundRobin        12      64.0   \n",
      "5                      0.69       RoundRobin        10    1024.0   \n",
      "6                      0.65       RoundRobin        22    1024.0   \n",
      "7                      0.89  UniformAdaptive        26    1024.0   \n",
      "8                      0.38  QuantilesGlobal        16     256.0   \n",
      "9                      0.34  UniformAdaptive        14      64.0   \n",
      "10                     0.97  UniformAdaptive        21    1024.0   \n",
      "11                     0.22       RoundRobin         8   65536.0   \n",
      "12                     0.45       RoundRobin        22   65536.0   \n",
      "13                      1.0  UniformAdaptive         9  131072.0   \n",
      "14                     0.21  UniformAdaptive        27  131072.0   \n",
      "15                     0.92       RoundRobin        20      32.0   \n",
      "16                      0.8  UniformAdaptive        27      16.0   \n",
      "17                     0.88  UniformAdaptive        23      32.0   \n",
      "18                      0.6  QuantilesGlobal        21      16.0   \n",
      "19                     0.33  QuantilesGlobal        25       4.0   \n",
      "20                     0.29  UniformAdaptive        22       2.0   \n",
      "\n",
      "   min_split_improvement nbins nbins_cats sample_rate            model_ids  \\\n",
      "0                 1.0E-8   128        128        0.87   final_grid_model_2   \n",
      "1                    0.0   128       4096        0.37   final_grid_model_5   \n",
      "2                 1.0E-6   256       4096        0.76   final_grid_model_3   \n",
      "3                    0.0    16       4096        0.58   final_grid_model_8   \n",
      "4                 1.0E-6    16         64        0.57   final_grid_model_1   \n",
      "5                 1.0E-4    64        256        0.35  final_grid_model_18   \n",
      "6                 1.0E-8   512        512        0.64   final_grid_model_0   \n",
      "7                    0.0    16        128        0.64   final_grid_model_6   \n",
      "8                 1.0E-6   256        512        0.55   final_grid_model_9   \n",
      "9                    0.0    64       2048        0.48  final_grid_model_15   \n",
      "10                1.0E-6    64       2048        0.26   final_grid_model_4   \n",
      "11                1.0E-6    16       4096        0.59  final_grid_model_19   \n",
      "12                1.0E-6    16        256        0.35  final_grid_model_16   \n",
      "13                1.0E-4  1024       2048        0.86  final_grid_model_17   \n",
      "14                   0.0    32         64         0.6  final_grid_model_10   \n",
      "15                   0.0   128       2048        0.61  final_grid_model_14   \n",
      "16                1.0E-6  1024        512         0.5   final_grid_model_7   \n",
      "17                1.0E-8   512       1024        0.46  final_grid_model_13   \n",
      "18                1.0E-4    16        512         0.5  final_grid_model_11   \n",
      "19                   0.0    64         64        0.65  final_grid_model_20   \n",
      "20                1.0E-4    32         64         0.7  final_grid_model_12   \n",
      "\n",
      "                   auc  \n",
      "0     0.63795926457345  \n",
      "1   0.6373763461875226  \n",
      "2   0.6362507718063551  \n",
      "3   0.6362255661108375  \n",
      "4    0.634889455239283  \n",
      "5   0.6334724940144612  \n",
      "6   0.6333649628436455  \n",
      "7    0.630956707555924  \n",
      "8   0.6306395764163375  \n",
      "9   0.6278162129464621  \n",
      "10  0.6254189909284255  \n",
      "11  0.6206782381187481  \n",
      "12  0.6182102182820467  \n",
      "13  0.6176524613781701  \n",
      "14  0.6129812161578067  \n",
      "15  0.6036184839880688  \n",
      "16  0.5985921925705813  \n",
      "17  0.5966955674825803  \n",
      "18   0.585348157095882  \n",
      "19  0.5605224522094225  \n",
      "20  0.5062159029762963  \n",
      "\n"
     ]
    }
   ],
   "source": [
    "sorted_final_grid = final_grid.get_grid(sort_by='auc',decreasing=True)\n",
    "\n",
    "print(sorted_final_grid)"
   ]
  },
  {
   "cell_type": "code",
   "execution_count": 143,
   "metadata": {},
   "outputs": [
    {
     "name": "stdout",
     "output_type": "stream",
     "text": [
      "0.63795926457345\n"
     ]
    }
   ],
   "source": [
    "best_model = h2o.get_model(sorted_final_grid.sorted_metric_table()['model_ids'][0])\n",
    "performance_best_model = best_model.model_performance(test)\n"
   ]
  },
  {
   "cell_type": "code",
   "execution_count": 144,
   "metadata": {},
   "outputs": [
    {
     "name": "stdout",
     "output_type": "stream",
     "text": [
      "0.27591852914689996\n"
     ]
    }
   ],
   "source": [
    "print(performance_best_model.gini())"
   ]
  },
  {
   "cell_type": "code",
   "execution_count": 146,
   "metadata": {
    "scrolled": false
   },
   "outputs": [
    {
     "data": {
      "image/png": "[encoded data removed]",
      "text/plain": [
       "<matplotlib.figure.Figure at 0x7f5620b81b70>"
      ]
     },
     "metadata": {},
     "output_type": "display_data"
    }
   ],
   "source": [
    "best_model.varimp_plot()"
   ]
  },
  {
   "cell_type": "code",
   "execution_count": 67,
   "metadata": {
    "collapsed": true
   },
   "outputs": [],
   "source": [
    "rf_v1 = H2ORandomForestEstimator(model_id=\"rf_covType_v1\",\n",
    "                                 ntrees=100,\n",
    "                                 stopping_rounds=2,\n",
    "                                 score_each_iteration=True,\n",
    "                                 balance_classes=False,\n",
    "                                 fold_assignment='stratified',\n",
    "                                 nfolds=2,\n",
    "                                 seed=41)"
   ]
  },
  {
   "cell_type": "code",
   "execution_count": 69,
   "metadata": {},
   "outputs": [
    {
     "name": "stdout",
     "output_type": "stream",
     "text": [
      "drf Model Build progress: |███████████████████████████████████████████████| 100%\n"
     ]
    }
   ],
   "source": [
    "rf_v1.train(covtype_X, covtype_y, training_frame=train_bf)"
   ]
  },
  {
   "cell_type": "code",
   "execution_count": 70,
   "metadata": {},
   "outputs": [
    {
     "name": "stdout",
     "output_type": "stream",
     "text": [
      "Model Details\n",
      "=============\n",
      "H2ORandomForestEstimator :  Distributed Random Forest\n",
      "Model Key:  rf_covType_v1\n",
      "\n",
      "\n",
      "ModelMetricsBinomial: drf\n",
      "** Reported on train data. **\n",
      "\n",
      "MSE: 0.035727915040486086\n",
      "RMSE: 0.1890182928726373\n",
      "LogLoss: 0.1658345839127855\n",
      "Mean Per-Class Error: 0.44567585581007196\n",
      "AUC: 0.5723792205184614\n",
      "Gini: 0.1447584410369227\n",
      "Confusion Matrix (Act/Pred) for max f1 @ threshold = 0.06620780904253572: \n"
     ]
    },
    {
     "data": {
      "text/html": [
       "<div style=\"overflow:auto\"><table style=\"width:50%\"><tr><td><b></b></td>\n",
       "<td><b>0</b></td>\n",
       "<td><b>1</b></td>\n",
       "<td><b>Error</b></td>\n",
       "<td><b>Rate</b></td></tr>\n",
       "<tr><td>0</td>\n",
       "<td>478310.0</td>\n",
       "<td>95208.0</td>\n",
       "<td>0.166</td>\n",
       "<td> (95208.0/573518.0)</td></tr>\n",
       "<tr><td>1</td>\n",
       "<td>16203.0</td>\n",
       "<td>5491.0</td>\n",
       "<td>0.7469</td>\n",
       "<td> (16203.0/21694.0)</td></tr>\n",
       "<tr><td>Total</td>\n",
       "<td>494513.0</td>\n",
       "<td>100699.0</td>\n",
       "<td>0.1872</td>\n",
       "<td> (111411.0/595212.0)</td></tr></table></div>"
      ],
      "text/plain": [
       "       0       1       Error    Rate\n",
       "-----  ------  ------  -------  -------------------\n",
       "0      478310  95208   0.166    (95208.0/573518.0)\n",
       "1      16203   5491    0.7469   (16203.0/21694.0)\n",
       "Total  494513  100699  0.1872   (111411.0/595212.0)"
      ]
     },
     "metadata": {},
     "output_type": "display_data"
    },
    {
     "name": "stdout",
     "output_type": "stream",
     "text": [
      "Maximum Metrics: Maximum metrics at their respective thresholds\n",
      "\n"
     ]
    },
    {
     "data": {
      "text/html": [
       "<div style=\"overflow:auto\"><table style=\"width:50%\"><tr><td><b>metric</b></td>\n",
       "<td><b>threshold</b></td>\n",
       "<td><b>value</b></td>\n",
       "<td><b>idx</b></td></tr>\n",
       "<tr><td>max f1</td>\n",
       "<td>0.0662078</td>\n",
       "<td>0.0897274</td>\n",
       "<td>217.0</td></tr>\n",
       "<tr><td>max f2</td>\n",
       "<td>0.0232614</td>\n",
       "<td>0.1704588</td>\n",
       "<td>321.0</td></tr>\n",
       "<tr><td>max f0point5</td>\n",
       "<td>0.1091546</td>\n",
       "<td>0.0694082</td>\n",
       "<td>147.0</td></tr>\n",
       "<tr><td>max accuracy</td>\n",
       "<td>0.7983871</td>\n",
       "<td>0.9635542</td>\n",
       "<td>2.0</td></tr>\n",
       "<tr><td>max precision</td>\n",
       "<td>0.7983871</td>\n",
       "<td>0.6666667</td>\n",
       "<td>2.0</td></tr>\n",
       "<tr><td>max recall</td>\n",
       "<td>0.0001258</td>\n",
       "<td>1.0</td>\n",
       "<td>399.0</td></tr>\n",
       "<tr><td>max specificity</td>\n",
       "<td>0.8787879</td>\n",
       "<td>0.9999983</td>\n",
       "<td>0.0</td></tr>\n",
       "<tr><td>max absolute_mcc</td>\n",
       "<td>0.0662078</td>\n",
       "<td>0.0435394</td>\n",
       "<td>217.0</td></tr>\n",
       "<tr><td>max min_per_class_accuracy</td>\n",
       "<td>0.0276723</td>\n",
       "<td>0.5532405</td>\n",
       "<td>309.0</td></tr>\n",
       "<tr><td>max mean_per_class_accuracy</td>\n",
       "<td>0.0272901</td>\n",
       "<td>0.5543241</td>\n",
       "<td>310.0</td></tr></table></div>"
      ],
      "text/plain": [
       "metric                       threshold    value      idx\n",
       "---------------------------  -----------  ---------  -----\n",
       "max f1                       0.0662078    0.0897274  217\n",
       "max f2                       0.0232614    0.170459   321\n",
       "max f0point5                 0.109155     0.0694082  147\n",
       "max accuracy                 0.798387     0.963554   2\n",
       "max precision                0.798387     0.666667   2\n",
       "max recall                   0.000125821  1          399\n",
       "max specificity              0.878788     0.999998   0\n",
       "max absolute_mcc             0.0662078    0.0435394  217\n",
       "max min_per_class_accuracy   0.0276723    0.553241   309\n",
       "max mean_per_class_accuracy  0.0272901    0.554324   310"
      ]
     },
     "metadata": {},
     "output_type": "display_data"
    },
    {
     "name": "stdout",
     "output_type": "stream",
     "text": [
      "Gains/Lift Table: Avg response rate:  3.64 %\n",
      "\n"
     ]
    },
    {
     "data": {
      "text/html": [
       "<div style=\"overflow:auto\"><table style=\"width:50%\"><tr><td><b></b></td>\n",
       "<td><b>group</b></td>\n",
       "<td><b>cumulative_data_fraction</b></td>\n",
       "<td><b>lower_threshold</b></td>\n",
       "<td><b>lift</b></td>\n",
       "<td><b>cumulative_lift</b></td>\n",
       "<td><b>response_rate</b></td>\n",
       "<td><b>cumulative_response_rate</b></td>\n",
       "<td><b>capture_rate</b></td>\n",
       "<td><b>cumulative_capture_rate</b></td>\n",
       "<td><b>gain</b></td>\n",
       "<td><b>cumulative_gain</b></td></tr>\n",
       "<tr><td></td>\n",
       "<td>1</td>\n",
       "<td>0.0100015</td>\n",
       "<td>0.4719221</td>\n",
       "<td>27.4367106</td>\n",
       "<td>27.4367106</td>\n",
       "<td>1.0</td>\n",
       "<td>1.0</td>\n",
       "<td>0.2744077</td>\n",
       "<td>0.2744077</td>\n",
       "<td>2643.6710611</td>\n",
       "<td>2643.6710611</td></tr>\n",
       "<tr><td></td>\n",
       "<td>2</td>\n",
       "<td>0.0200013</td>\n",
       "<td>0.3489434</td>\n",
       "<td>27.4321009</td>\n",
       "<td>27.4344060</td>\n",
       "<td>0.9998320</td>\n",
       "<td>0.9999160</td>\n",
       "<td>0.2743155</td>\n",
       "<td>0.5487231</td>\n",
       "<td>2643.2100949</td>\n",
       "<td>2643.4405974</td></tr>\n",
       "<tr><td></td>\n",
       "<td>3</td>\n",
       "<td>0.0300011</td>\n",
       "<td>0.2179535</td>\n",
       "<td>27.3998333</td>\n",
       "<td>27.4228824</td>\n",
       "<td>0.9986559</td>\n",
       "<td>0.9994960</td>\n",
       "<td>0.2739928</td>\n",
       "<td>0.8227160</td>\n",
       "<td>2639.9833312</td>\n",
       "<td>2642.2882398</td></tr>\n",
       "<tr><td></td>\n",
       "<td>4</td>\n",
       "<td>0.0400009</td>\n",
       "<td>0.0876412</td>\n",
       "<td>15.9586512</td>\n",
       "<td>24.5569450</td>\n",
       "<td>0.5816532</td>\n",
       "<td>0.8950397</td>\n",
       "<td>0.1595833</td>\n",
       "<td>0.9822993</td>\n",
       "<td>1495.8651233</td>\n",
       "<td>2355.6944984</td></tr>\n",
       "<tr><td></td>\n",
       "<td>5</td>\n",
       "<td>0.0500007</td>\n",
       "<td>0.0710138</td>\n",
       "<td>0.8389586</td>\n",
       "<td>19.8135071</td>\n",
       "<td>0.0305780</td>\n",
       "<td>0.7221532</td>\n",
       "<td>0.0083894</td>\n",
       "<td>0.9906887</td>\n",
       "<td>-16.1041443</td>\n",
       "<td>1881.3507088</td></tr>\n",
       "<tr><td></td>\n",
       "<td>6</td>\n",
       "<td>0.1000013</td>\n",
       "<td>0.0499200</td>\n",
       "<td>0.1272224</td>\n",
       "<td>9.9703647</td>\n",
       "<td>0.0046369</td>\n",
       "<td>0.3633950</td>\n",
       "<td>0.0063612</td>\n",
       "<td>0.9970499</td>\n",
       "<td>-87.2777593</td>\n",
       "<td>897.0364748</td></tr>\n",
       "<tr><td></td>\n",
       "<td>7</td>\n",
       "<td>0.1500003</td>\n",
       "<td>0.0419082</td>\n",
       "<td>0.0331896</td>\n",
       "<td>6.6580472</td>\n",
       "<td>0.0012097</td>\n",
       "<td>0.2426693</td>\n",
       "<td>0.0016594</td>\n",
       "<td>0.9987093</td>\n",
       "<td>-96.6810431</td>\n",
       "<td>565.8047222</td></tr>\n",
       "<tr><td></td>\n",
       "<td>8</td>\n",
       "<td>0.2000010</td>\n",
       "<td>0.0368032</td>\n",
       "<td>0.0129066</td>\n",
       "<td>4.9967481</td>\n",
       "<td>0.0004704</td>\n",
       "<td>0.1821191</td>\n",
       "<td>0.0006453</td>\n",
       "<td>0.9993547</td>\n",
       "<td>-98.7093379</td>\n",
       "<td>399.6748117</td></tr>\n",
       "<tr><td></td>\n",
       "<td>9</td>\n",
       "<td>0.3000007</td>\n",
       "<td>0.0299870</td>\n",
       "<td>0.0036877</td>\n",
       "<td>3.3324040</td>\n",
       "<td>0.0001344</td>\n",
       "<td>0.1214579</td>\n",
       "<td>0.0003688</td>\n",
       "<td>0.9997234</td>\n",
       "<td>-99.6312332</td>\n",
       "<td>233.2403955</td></tr>\n",
       "<tr><td></td>\n",
       "<td>10</td>\n",
       "<td>0.4000003</td>\n",
       "<td>0.0252582</td>\n",
       "<td>0.0027658</td>\n",
       "<td>2.4999979</td>\n",
       "<td>0.0001008</td>\n",
       "<td>0.0911187</td>\n",
       "<td>0.0002766</td>\n",
       "<td>1.0</td>\n",
       "<td>-99.7234249</td>\n",
       "<td>149.9997900</td></tr>\n",
       "<tr><td></td>\n",
       "<td>11</td>\n",
       "<td>0.5</td>\n",
       "<td>0.0215302</td>\n",
       "<td>0.0</td>\n",
       "<td>2.0</td>\n",
       "<td>0.0</td>\n",
       "<td>0.0728950</td>\n",
       "<td>0.0</td>\n",
       "<td>1.0</td>\n",
       "<td>-100.0</td>\n",
       "<td>100.0</td></tr>\n",
       "<tr><td></td>\n",
       "<td>12</td>\n",
       "<td>0.5999997</td>\n",
       "<td>0.0184013</td>\n",
       "<td>0.0</td>\n",
       "<td>1.6666676</td>\n",
       "<td>0.0</td>\n",
       "<td>0.0607459</td>\n",
       "<td>0.0</td>\n",
       "<td>1.0</td>\n",
       "<td>-100.0</td>\n",
       "<td>66.6667600</td></tr>\n",
       "<tr><td></td>\n",
       "<td>13</td>\n",
       "<td>0.6999993</td>\n",
       "<td>0.0155446</td>\n",
       "<td>0.0</td>\n",
       "<td>1.4285728</td>\n",
       "<td>0.0</td>\n",
       "<td>0.0520679</td>\n",
       "<td>0.0</td>\n",
       "<td>1.0</td>\n",
       "<td>-100.0</td>\n",
       "<td>42.8572800</td></tr>\n",
       "<tr><td></td>\n",
       "<td>14</td>\n",
       "<td>0.7999990</td>\n",
       "<td>0.0127469</td>\n",
       "<td>0.0</td>\n",
       "<td>1.2500016</td>\n",
       "<td>0.0</td>\n",
       "<td>0.0455595</td>\n",
       "<td>0.0</td>\n",
       "<td>1.0</td>\n",
       "<td>-100.0</td>\n",
       "<td>25.0001575</td></tr>\n",
       "<tr><td></td>\n",
       "<td>15</td>\n",
       "<td>0.8999987</td>\n",
       "<td>0.0095900</td>\n",
       "<td>0.0</td>\n",
       "<td>1.1111128</td>\n",
       "<td>0.0</td>\n",
       "<td>0.0404973</td>\n",
       "<td>0.0</td>\n",
       "<td>1.0</td>\n",
       "<td>-100.0</td>\n",
       "<td>11.1112770</td></tr>\n",
       "<tr><td></td>\n",
       "<td>16</td>\n",
       "<td>1.0</td>\n",
       "<td>0.0</td>\n",
       "<td>0.0</td>\n",
       "<td>1.0</td>\n",
       "<td>0.0</td>\n",
       "<td>0.0364475</td>\n",
       "<td>0.0</td>\n",
       "<td>1.0</td>\n",
       "<td>-100.0</td>\n",
       "<td>0.0</td></tr></table></div>"
      ],
      "text/plain": [
       "    group    cumulative_data_fraction    lower_threshold    lift        cumulative_lift    response_rate    cumulative_response_rate    capture_rate    cumulative_capture_rate    gain      cumulative_gain\n",
       "--  -------  --------------------------  -----------------  ----------  -----------------  ---------------  --------------------------  --------------  -------------------------  --------  -----------------\n",
       "    1        0.0100015                   0.471922           27.4367     27.4367            1                1                           0.274408        0.274408                   2643.67   2643.67\n",
       "    2        0.0200013                   0.348943           27.4321     27.4344            0.999832         0.999916                    0.274315        0.548723                   2643.21   2643.44\n",
       "    3        0.0300011                   0.217954           27.3998     27.4229            0.998656         0.999496                    0.273993        0.822716                   2639.98   2642.29\n",
       "    4        0.0400009                   0.0876412          15.9587     24.5569            0.581653         0.89504                     0.159583        0.982299                   1495.87   2355.69\n",
       "    5        0.0500007                   0.0710138          0.838959    19.8135            0.030578         0.722153                    0.00838942      0.990689                   -16.1041  1881.35\n",
       "    6        0.100001                    0.04992            0.127222    9.97036            0.00463694       0.363395                    0.00636121      0.99705                    -87.2778  897.036\n",
       "    7        0.15                        0.0419082          0.0331896   6.65805            0.00120968       0.242669                    0.00165945      0.998709                   -96.681   565.805\n",
       "    8        0.200001                    0.0368032          0.0129066   4.99675            0.000470414      0.182119                    0.00064534      0.999355                   -98.7093  399.675\n",
       "    9        0.300001                    0.029987           0.00368767  3.3324             0.000134406      0.121458                    0.000368766     0.999723                   -99.6312  233.24\n",
       "    10       0.4                         0.0252582          0.00276575  2.5                0.000100805      0.0911187                   0.000276574     1                          -99.7234  150\n",
       "    11       0.5                         0.0215302          0           2                  0                0.072895                    0               1                          -100      100\n",
       "    12       0.6                         0.0184013          0           1.66667            0                0.0607459                   0               1                          -100      66.6668\n",
       "    13       0.699999                    0.0155446          0           1.42857            0                0.0520679                   0               1                          -100      42.8573\n",
       "    14       0.799999                    0.0127469          0           1.25               0                0.0455595                   0               1                          -100      25.0002\n",
       "    15       0.899999                    0.00959003         0           1.11111            0                0.0404973                   0               1                          -100      11.1113\n",
       "    16       1                           0                  0           1                  0                0.0364475                   0               1                          -100      0"
      ]
     },
     "metadata": {},
     "output_type": "display_data"
    },
    {
     "name": "stdout",
     "output_type": "stream",
     "text": [
      "\n",
      "\n",
      "ModelMetricsBinomial: drf\n",
      "** Reported on cross-validation data. **\n",
      "\n",
      "MSE: 0.035370003134324236\n",
      "RMSE: 0.18806914455679388\n",
      "LogLoss: 0.16004313777957466\n",
      "Mean Per-Class Error: 0.4394338987801236\n",
      "AUC: 0.583159998492616\n",
      "Gini: 0.16631999698523203\n",
      "Confusion Matrix (Act/Pred) for max f1 @ threshold = 0.07134924832930077: \n"
     ]
    },
    {
     "data": {
      "text/html": [
       "<div style=\"overflow:auto\"><table style=\"width:50%\"><tr><td><b></b></td>\n",
       "<td><b>0</b></td>\n",
       "<td><b>1</b></td>\n",
       "<td><b>Error</b></td>\n",
       "<td><b>Rate</b></td></tr>\n",
       "<tr><td>0</td>\n",
       "<td>502485.0</td>\n",
       "<td>71033.0</td>\n",
       "<td>0.1239</td>\n",
       "<td> (71033.0/573518.0)</td></tr>\n",
       "<tr><td>1</td>\n",
       "<td>17198.0</td>\n",
       "<td>4496.0</td>\n",
       "<td>0.7928</td>\n",
       "<td> (17198.0/21694.0)</td></tr>\n",
       "<tr><td>Total</td>\n",
       "<td>519683.0</td>\n",
       "<td>75529.0</td>\n",
       "<td>0.1482</td>\n",
       "<td> (88231.0/595212.0)</td></tr></table></div>"
      ],
      "text/plain": [
       "       0       1      Error    Rate\n",
       "-----  ------  -----  -------  ------------------\n",
       "0      502485  71033  0.1239   (71033.0/573518.0)\n",
       "1      17198   4496   0.7928   (17198.0/21694.0)\n",
       "Total  519683  75529  0.1482   (88231.0/595212.0)"
      ]
     },
     "metadata": {},
     "output_type": "display_data"
    },
    {
     "name": "stdout",
     "output_type": "stream",
     "text": [
      "Maximum Metrics: Maximum metrics at their respective thresholds\n",
      "\n"
     ]
    },
    {
     "data": {
      "text/html": [
       "<div style=\"overflow:auto\"><table style=\"width:50%\"><tr><td><b>metric</b></td>\n",
       "<td><b>threshold</b></td>\n",
       "<td><b>value</b></td>\n",
       "<td><b>idx</b></td></tr>\n",
       "<tr><td>max f1</td>\n",
       "<td>0.0713492</td>\n",
       "<td>0.0924884</td>\n",
       "<td>192.0</td></tr>\n",
       "<tr><td>max f2</td>\n",
       "<td>0.0340252</td>\n",
       "<td>0.1732797</td>\n",
       "<td>290.0</td></tr>\n",
       "<tr><td>max f0point5</td>\n",
       "<td>0.0974425</td>\n",
       "<td>0.0740940</td>\n",
       "<td>145.0</td></tr>\n",
       "<tr><td>max accuracy</td>\n",
       "<td>0.4285714</td>\n",
       "<td>0.9635558</td>\n",
       "<td>12.0</td></tr>\n",
       "<tr><td>max precision</td>\n",
       "<td>0.7435897</td>\n",
       "<td>0.6666667</td>\n",
       "<td>2.0</td></tr>\n",
       "<tr><td>max recall</td>\n",
       "<td>0.0003238</td>\n",
       "<td>1.0</td>\n",
       "<td>399.0</td></tr>\n",
       "<tr><td>max specificity</td>\n",
       "<td>0.7948718</td>\n",
       "<td>0.9999983</td>\n",
       "<td>0.0</td></tr>\n",
       "<tr><td>max absolute_mcc</td>\n",
       "<td>0.0509010</td>\n",
       "<td>0.0493122</td>\n",
       "<td>240.0</td></tr>\n",
       "<tr><td>max min_per_class_accuracy</td>\n",
       "<td>0.0345700</td>\n",
       "<td>0.5600713</td>\n",
       "<td>288.0</td></tr>\n",
       "<tr><td>max mean_per_class_accuracy</td>\n",
       "<td>0.0422922</td>\n",
       "<td>0.5605661</td>\n",
       "<td>264.0</td></tr></table></div>"
      ],
      "text/plain": [
       "metric                       threshold    value      idx\n",
       "---------------------------  -----------  ---------  -----\n",
       "max f1                       0.0713492    0.0924884  192\n",
       "max f2                       0.0340252    0.17328    290\n",
       "max f0point5                 0.0974425    0.074094   145\n",
       "max accuracy                 0.428571     0.963556   12\n",
       "max precision                0.74359      0.666667   2\n",
       "max recall                   0.000323824  1          399\n",
       "max specificity              0.794872     0.999998   0\n",
       "max absolute_mcc             0.050901     0.0493122  240\n",
       "max min_per_class_accuracy   0.03457      0.560071   288\n",
       "max mean_per_class_accuracy  0.0422922    0.560566   264"
      ]
     },
     "metadata": {},
     "output_type": "display_data"
    },
    {
     "name": "stdout",
     "output_type": "stream",
     "text": [
      "Gains/Lift Table: Avg response rate:  3.64 %\n",
      "\n"
     ]
    },
    {
     "data": {
      "text/html": [
       "<div style=\"overflow:auto\"><table style=\"width:50%\"><tr><td><b></b></td>\n",
       "<td><b>group</b></td>\n",
       "<td><b>cumulative_data_fraction</b></td>\n",
       "<td><b>lower_threshold</b></td>\n",
       "<td><b>lift</b></td>\n",
       "<td><b>cumulative_lift</b></td>\n",
       "<td><b>response_rate</b></td>\n",
       "<td><b>cumulative_response_rate</b></td>\n",
       "<td><b>capture_rate</b></td>\n",
       "<td><b>cumulative_capture_rate</b></td>\n",
       "<td><b>gain</b></td>\n",
       "<td><b>cumulative_gain</b></td></tr>\n",
       "<tr><td></td>\n",
       "<td>1</td>\n",
       "<td>0.0100015</td>\n",
       "<td>0.1475620</td>\n",
       "<td>2.4150573</td>\n",
       "<td>2.4150573</td>\n",
       "<td>0.0880228</td>\n",
       "<td>0.0880228</td>\n",
       "<td>0.0241541</td>\n",
       "<td>0.0241541</td>\n",
       "<td>141.5057343</td>\n",
       "<td>141.5057343</td></tr>\n",
       "<tr><td></td>\n",
       "<td>2</td>\n",
       "<td>0.0200013</td>\n",
       "<td>0.1263708</td>\n",
       "<td>1.8991809</td>\n",
       "<td>2.1571408</td>\n",
       "<td>0.0692204</td>\n",
       "<td>0.0786224</td>\n",
       "<td>0.0189914</td>\n",
       "<td>0.0431456</td>\n",
       "<td>89.9180909</td>\n",
       "<td>115.7140792</td></tr>\n",
       "<tr><td></td>\n",
       "<td>3</td>\n",
       "<td>0.0300011</td>\n",
       "<td>0.1140683</td>\n",
       "<td>1.8715229</td>\n",
       "<td>2.0619402</td>\n",
       "<td>0.0682124</td>\n",
       "<td>0.0751526</td>\n",
       "<td>0.0187149</td>\n",
       "<td>0.0618604</td>\n",
       "<td>87.1522935</td>\n",
       "<td>106.1940171</td></tr>\n",
       "<tr><td></td>\n",
       "<td>4</td>\n",
       "<td>0.0400009</td>\n",
       "<td>0.1052456</td>\n",
       "<td>1.6963558</td>\n",
       "<td>1.9705479</td>\n",
       "<td>0.0618280</td>\n",
       "<td>0.0718216</td>\n",
       "<td>0.0169632</td>\n",
       "<td>0.0788236</td>\n",
       "<td>69.6355764</td>\n",
       "<td>97.0547908</td></tr>\n",
       "<tr><td></td>\n",
       "<td>5</td>\n",
       "<td>0.0500007</td>\n",
       "<td>0.0986282</td>\n",
       "<td>1.7101848</td>\n",
       "<td>1.9184770</td>\n",
       "<td>0.0623320</td>\n",
       "<td>0.0699237</td>\n",
       "<td>0.0171015</td>\n",
       "<td>0.0959251</td>\n",
       "<td>71.0184751</td>\n",
       "<td>91.8477026</td></tr>\n",
       "<tr><td></td>\n",
       "<td>6</td>\n",
       "<td>0.1000013</td>\n",
       "<td>0.0781444</td>\n",
       "<td>1.4639796</td>\n",
       "<td>1.6912283</td>\n",
       "<td>0.0533584</td>\n",
       "<td>0.0616411</td>\n",
       "<td>0.0732000</td>\n",
       "<td>0.1691251</td>\n",
       "<td>46.3979586</td>\n",
       "<td>69.1228306</td></tr>\n",
       "<tr><td></td>\n",
       "<td>7</td>\n",
       "<td>0.1500003</td>\n",
       "<td>0.0664031</td>\n",
       "<td>1.3155976</td>\n",
       "<td>1.5660209</td>\n",
       "<td>0.0479503</td>\n",
       "<td>0.0570776</td>\n",
       "<td>0.0657786</td>\n",
       "<td>0.2349037</td>\n",
       "<td>31.5597649</td>\n",
       "<td>56.6020892</td></tr>\n",
       "<tr><td></td>\n",
       "<td>8</td>\n",
       "<td>0.2000010</td>\n",
       "<td>0.0578855</td>\n",
       "<td>1.2464108</td>\n",
       "<td>1.4861177</td>\n",
       "<td>0.0454286</td>\n",
       "<td>0.0541653</td>\n",
       "<td>0.0623214</td>\n",
       "<td>0.2972250</td>\n",
       "<td>24.6410831</td>\n",
       "<td>48.6117706</td></tr>\n",
       "<tr><td></td>\n",
       "<td>9</td>\n",
       "<td>0.3000007</td>\n",
       "<td>0.0460917</td>\n",
       "<td>1.1842024</td>\n",
       "<td>1.3854798</td>\n",
       "<td>0.0431612</td>\n",
       "<td>0.0504973</td>\n",
       "<td>0.1184198</td>\n",
       "<td>0.4156449</td>\n",
       "<td>18.4202375</td>\n",
       "<td>38.5479826</td></tr>\n",
       "<tr><td></td>\n",
       "<td>10</td>\n",
       "<td>0.4000003</td>\n",
       "<td>0.0375780</td>\n",
       "<td>0.9961313</td>\n",
       "<td>1.2881431</td>\n",
       "<td>0.0363065</td>\n",
       "<td>0.0469496</td>\n",
       "<td>0.0996128</td>\n",
       "<td>0.5152577</td>\n",
       "<td>-0.3868691</td>\n",
       "<td>28.8143105</td></tr>\n",
       "<tr><td></td>\n",
       "<td>11</td>\n",
       "<td>0.5</td>\n",
       "<td>0.0306870</td>\n",
       "<td>0.9680128</td>\n",
       "<td>1.2241173</td>\n",
       "<td>0.0352817</td>\n",
       "<td>0.0446160</td>\n",
       "<td>0.0968010</td>\n",
       "<td>0.6120586</td>\n",
       "<td>-3.1987159</td>\n",
       "<td>22.4117267</td></tr>\n",
       "<tr><td></td>\n",
       "<td>12</td>\n",
       "<td>0.5999997</td>\n",
       "<td>0.0248244</td>\n",
       "<td>0.8725944</td>\n",
       "<td>1.1655303</td>\n",
       "<td>0.0318039</td>\n",
       "<td>0.0424807</td>\n",
       "<td>0.0872591</td>\n",
       "<td>0.6993178</td>\n",
       "<td>-12.7405568</td>\n",
       "<td>16.5530292</td></tr>\n",
       "<tr><td></td>\n",
       "<td>13</td>\n",
       "<td>0.6999993</td>\n",
       "<td>0.0195900</td>\n",
       "<td>0.8154356</td>\n",
       "<td>1.1155169</td>\n",
       "<td>0.0297206</td>\n",
       "<td>0.0406578</td>\n",
       "<td>0.0815433</td>\n",
       "<td>0.7808611</td>\n",
       "<td>-18.4564421</td>\n",
       "<td>11.5516882</td></tr>\n",
       "<tr><td></td>\n",
       "<td>14</td>\n",
       "<td>0.7999990</td>\n",
       "<td>0.0142771</td>\n",
       "<td>0.8140527</td>\n",
       "<td>1.0778339</td>\n",
       "<td>0.0296702</td>\n",
       "<td>0.0392844</td>\n",
       "<td>0.0814050</td>\n",
       "<td>0.8622661</td>\n",
       "<td>-18.5947297</td>\n",
       "<td>7.7833939</td></tr>\n",
       "<tr><td></td>\n",
       "<td>15</td>\n",
       "<td>0.8999987</td>\n",
       "<td>0.0091209</td>\n",
       "<td>0.7181733</td>\n",
       "<td>1.0378717</td>\n",
       "<td>0.0261756</td>\n",
       "<td>0.0378278</td>\n",
       "<td>0.0718171</td>\n",
       "<td>0.9340832</td>\n",
       "<td>-28.1826664</td>\n",
       "<td>3.7871724</td></tr>\n",
       "<tr><td></td>\n",
       "<td>16</td>\n",
       "<td>1.0</td>\n",
       "<td>0.0</td>\n",
       "<td>0.6591596</td>\n",
       "<td>1.0</td>\n",
       "<td>0.0240247</td>\n",
       "<td>0.0364475</td>\n",
       "<td>0.0659168</td>\n",
       "<td>1.0</td>\n",
       "<td>-34.0840426</td>\n",
       "<td>0.0</td></tr></table></div>"
      ],
      "text/plain": [
       "    group    cumulative_data_fraction    lower_threshold    lift      cumulative_lift    response_rate    cumulative_response_rate    capture_rate    cumulative_capture_rate    gain       cumulative_gain\n",
       "--  -------  --------------------------  -----------------  --------  -----------------  ---------------  --------------------------  --------------  -------------------------  ---------  -----------------\n",
       "    1        0.0100015                   0.147562           2.41506   2.41506            0.0880228        0.0880228                   0.0241541       0.0241541                  141.506    141.506\n",
       "    2        0.0200013                   0.126371           1.89918   2.15714            0.0692204        0.0786224                   0.0189914       0.0431456                  89.9181    115.714\n",
       "    3        0.0300011                   0.114068           1.87152   2.06194            0.0682124        0.0751526                   0.0187149       0.0618604                  87.1523    106.194\n",
       "    4        0.0400009                   0.105246           1.69636   1.97055            0.061828         0.0718216                   0.0169632       0.0788236                  69.6356    97.0548\n",
       "    5        0.0500007                   0.0986282          1.71018   1.91848            0.062332         0.0699237                   0.0171015       0.0959251                  71.0185    91.8477\n",
       "    6        0.100001                    0.0781444          1.46398   1.69123            0.0533584        0.0616411                   0.0732          0.169125                   46.398     69.1228\n",
       "    7        0.15                        0.0664031          1.3156    1.56602            0.0479503        0.0570776                   0.0657786       0.234904                   31.5598    56.6021\n",
       "    8        0.200001                    0.0578855          1.24641   1.48612            0.0454286        0.0541653                   0.0623214       0.297225                   24.6411    48.6118\n",
       "    9        0.300001                    0.0460917          1.1842    1.38548            0.0431612        0.0504973                   0.11842         0.415645                   18.4202    38.548\n",
       "    10       0.4                         0.037578           0.996131  1.28814            0.0363065        0.0469496                   0.0996128       0.515258                   -0.386869  28.8143\n",
       "    11       0.5                         0.030687           0.968013  1.22412            0.0352817        0.044616                    0.096801        0.612059                   -3.19872   22.4117\n",
       "    12       0.6                         0.0248244          0.872594  1.16553            0.0318039        0.0424807                   0.0872591       0.699318                   -12.7406   16.553\n",
       "    13       0.699999                    0.01959            0.815436  1.11552            0.0297206        0.0406578                   0.0815433       0.780861                   -18.4564   11.5517\n",
       "    14       0.799999                    0.0142771          0.814053  1.07783            0.0296702        0.0392844                   0.081405        0.862266                   -18.5947   7.78339\n",
       "    15       0.899999                    0.00912095         0.718173  1.03787            0.0261756        0.0378278                   0.0718171       0.934083                   -28.1827   3.78717\n",
       "    16       1                           0                  0.65916   1                  0.0240247        0.0364475                   0.0659168       1                          -34.084    0"
      ]
     },
     "metadata": {},
     "output_type": "display_data"
    },
    {
     "name": "stdout",
     "output_type": "stream",
     "text": [
      "\n",
      "Cross-Validation Metrics Summary: \n"
     ]
    },
    {
     "data": {
      "text/html": [
       "<div style=\"overflow:auto\"><table style=\"width:50%\"><tr><td><b></b></td>\n",
       "<td><b>mean</b></td>\n",
       "<td><b>sd</b></td>\n",
       "<td><b>cv_1_valid</b></td>\n",
       "<td><b>cv_2_valid</b></td></tr>\n",
       "<tr><td>accuracy</td>\n",
       "<td>0.7984725</td>\n",
       "<td>0.0412245</td>\n",
       "<td>0.7401723</td>\n",
       "<td>0.8567728</td></tr>\n",
       "<tr><td>auc</td>\n",
       "<td>0.5831988</td>\n",
       "<td>0.0009886</td>\n",
       "<td>0.5845969</td>\n",
       "<td>0.5818008</td></tr>\n",
       "<tr><td>err</td>\n",
       "<td>0.2015275</td>\n",
       "<td>0.0412245</td>\n",
       "<td>0.2598278</td>\n",
       "<td>0.1432272</td></tr>\n",
       "<tr><td>err_count</td>\n",
       "<td>59975.5</td>\n",
       "<td>12267.949</td>\n",
       "<td>77325.0</td>\n",
       "<td>42626.0</td></tr>\n",
       "<tr><td>f0point5</td>\n",
       "<td>0.0671196</td>\n",
       "<td>0.0020680</td>\n",
       "<td>0.0641949</td>\n",
       "<td>0.0700442</td></tr>\n",
       "<tr><td>f1</td>\n",
       "<td>0.0928192</td>\n",
       "<td>0.0000181</td>\n",
       "<td>0.0928448</td>\n",
       "<td>0.0927936</td></tr>\n",
       "<tr><td>f2</td>\n",
       "<td>0.1525539</td>\n",
       "<td>0.0106953</td>\n",
       "<td>0.1676794</td>\n",
       "<td>0.1374285</td></tr>\n",
       "<tr><td>lift_top_group</td>\n",
       "<td>2.3728876</td>\n",
       "<td>0.0313486</td>\n",
       "<td>2.417221</td>\n",
       "<td>2.328554</td></tr>\n",
       "<tr><td>logloss</td>\n",
       "<td>0.1600431</td>\n",
       "<td>0.0001734</td>\n",
       "<td>0.1602883</td>\n",
       "<td>0.1597980</td></tr>\n",
       "<tr><td>max_per_class_error</td>\n",
       "<td>0.7176348</td>\n",
       "<td>0.0566137</td>\n",
       "<td>0.637571</td>\n",
       "<td>0.7976986</td></tr>\n",
       "<tr><td>mcc</td>\n",
       "<td>0.0493081</td>\n",
       "<td>0.0010604</td>\n",
       "<td>0.0508078</td>\n",
       "<td>0.0478084</td></tr>\n",
       "<tr><td>mean_per_class_accuracy</td>\n",
       "<td>0.5501623</td>\n",
       "<td>0.0058912</td>\n",
       "<td>0.5584936</td>\n",
       "<td>0.5418309</td></tr>\n",
       "<tr><td>mean_per_class_error</td>\n",
       "<td>0.4498378</td>\n",
       "<td>0.0058912</td>\n",
       "<td>0.4415064</td>\n",
       "<td>0.4581691</td></tr>\n",
       "<tr><td>mse</td>\n",
       "<td>0.0353700</td>\n",
       "<td>0.0001283</td>\n",
       "<td>0.0355515</td>\n",
       "<td>0.0351885</td></tr>\n",
       "<tr><td>precision</td>\n",
       "<td>0.0567232</td>\n",
       "<td>0.0024616</td>\n",
       "<td>0.0532420</td>\n",
       "<td>0.0602044</td></tr>\n",
       "<tr><td>r2</td>\n",
       "<td>-0.0071536</td>\n",
       "<td>0.0008424</td>\n",
       "<td>-0.0059623</td>\n",
       "<td>-0.0083449</td></tr>\n",
       "<tr><td>recall</td>\n",
       "<td>0.2823652</td>\n",
       "<td>0.0566137</td>\n",
       "<td>0.3624290</td>\n",
       "<td>0.2023014</td></tr>\n",
       "<tr><td>rmse</td>\n",
       "<td>0.1880685</td>\n",
       "<td>0.0003412</td>\n",
       "<td>0.1885510</td>\n",
       "<td>0.1875860</td></tr>\n",
       "<tr><td>specificity</td>\n",
       "<td>0.8179593</td>\n",
       "<td>0.0448313</td>\n",
       "<td>0.7545582</td>\n",
       "<td>0.8813604</td></tr></table></div>"
      ],
      "text/plain": [
       "                         mean        sd           cv_1_valid    cv_2_valid\n",
       "-----------------------  ----------  -----------  ------------  ------------\n",
       "accuracy                 0.798473    0.0412245    0.740172      0.856773\n",
       "auc                      0.583199    0.000988584  0.584597      0.581801\n",
       "err                      0.201527    0.0412245    0.259828      0.143227\n",
       "err_count                59975.5     12267.9      77325         42626\n",
       "f0point5                 0.0671196   0.00206804   0.0641949     0.0700442\n",
       "f1                       0.0928192   1.81113e-05  0.0928448     0.0927936\n",
       "f2                       0.152554    0.0106953    0.167679      0.137428\n",
       "lift_top_group           2.37289     0.0313486    2.41722       2.32855\n",
       "logloss                  0.160043    0.000173357  0.160288      0.159798\n",
       "max_per_class_error      0.717635    0.0566137    0.637571      0.797699\n",
       "mcc                      0.0493081   0.00106044   0.0508078     0.0478084\n",
       "mean_per_class_accuracy  0.550162    0.00589116   0.558494      0.541831\n",
       "mean_per_class_error     0.449838    0.00589116   0.441506      0.458169\n",
       "mse                      0.03537     0.000128336  0.0355515     0.0351885\n",
       "precision                0.0567232   0.00246156   0.053242      0.0602044\n",
       "r2                       -0.0071536  0.000842411  -0.00596225   -0.00834495\n",
       "recall                   0.282365    0.0566137    0.362429      0.202301\n",
       "rmse                     0.188069    0.000341195  0.188551      0.187586\n",
       "specificity              0.817959    0.0448313    0.754558      0.88136"
      ]
     },
     "metadata": {},
     "output_type": "display_data"
    },
    {
     "name": "stdout",
     "output_type": "stream",
     "text": [
      "Scoring History: \n"
     ]
    },
    {
     "data": {
      "text/html": [
       "<div style=\"overflow:auto\"><table style=\"width:50%\"><tr><td><b></b></td>\n",
       "<td><b>timestamp</b></td>\n",
       "<td><b>duration</b></td>\n",
       "<td><b>number_of_trees</b></td>\n",
       "<td><b>training_rmse</b></td>\n",
       "<td><b>training_logloss</b></td>\n",
       "<td><b>training_auc</b></td>\n",
       "<td><b>training_lift</b></td>\n",
       "<td><b>training_classification_error</b></td></tr>\n",
       "<tr><td></td>\n",
       "<td>2017-10-28 14:06:37</td>\n",
       "<td>10 min 41.637 sec</td>\n",
       "<td>0.0</td>\n",
       "<td>nan</td>\n",
       "<td>nan</td>\n",
       "<td>nan</td>\n",
       "<td>nan</td>\n",
       "<td>nan</td></tr>\n",
       "<tr><td></td>\n",
       "<td>2017-10-28 14:06:38</td>\n",
       "<td>10 min 42.466 sec</td>\n",
       "<td>1.0</td>\n",
       "<td>0.2377130</td>\n",
       "<td>1.5447877</td>\n",
       "<td>0.4964069</td>\n",
       "<td>17.2045147</td>\n",
       "<td>0.9634081</td></tr>\n",
       "<tr><td></td>\n",
       "<td>2017-10-28 14:06:39</td>\n",
       "<td>10 min 43.327 sec</td>\n",
       "<td>2.0</td>\n",
       "<td>0.2333571</td>\n",
       "<td>1.3633199</td>\n",
       "<td>0.4929565</td>\n",
       "<td>24.8160142</td>\n",
       "<td>0.9634181</td></tr>\n",
       "<tr><td></td>\n",
       "<td>2017-10-28 14:06:40</td>\n",
       "<td>10 min 44.422 sec</td>\n",
       "<td>3.0</td>\n",
       "<td>0.2278500</td>\n",
       "<td>1.1686886</td>\n",
       "<td>0.4977934</td>\n",
       "<td>26.5178998</td>\n",
       "<td>0.9634382</td></tr>\n",
       "<tr><td></td>\n",
       "<td>2017-10-28 14:06:41</td>\n",
       "<td>10 min 45.673 sec</td>\n",
       "<td>4.0</td>\n",
       "<td>0.2229796</td>\n",
       "<td>1.0047927</td>\n",
       "<td>0.4988478</td>\n",
       "<td>27.2016573</td>\n",
       "<td>0.1984915</td></tr>\n",
       "<tr><td>---</td>\n",
       "<td>---</td>\n",
       "<td>---</td>\n",
       "<td>---</td>\n",
       "<td>---</td>\n",
       "<td>---</td>\n",
       "<td>---</td>\n",
       "<td>---</td>\n",
       "<td>---</td></tr>\n",
       "<tr><td></td>\n",
       "<td>2017-10-28 14:10:05</td>\n",
       "<td>14 min  9.723 sec</td>\n",
       "<td>66.0</td>\n",
       "<td>0.1891661</td>\n",
       "<td>0.1670362</td>\n",
       "<td>0.5709584</td>\n",
       "<td>27.4367106</td>\n",
       "<td>0.1579891</td></tr>\n",
       "<tr><td></td>\n",
       "<td>2017-10-28 14:10:10</td>\n",
       "<td>14 min 15.197 sec</td>\n",
       "<td>67.0</td>\n",
       "<td>0.1891284</td>\n",
       "<td>0.1667545</td>\n",
       "<td>0.5714500</td>\n",
       "<td>27.4367106</td>\n",
       "<td>0.1713742</td></tr>\n",
       "<tr><td></td>\n",
       "<td>2017-10-28 14:10:16</td>\n",
       "<td>14 min 20.655 sec</td>\n",
       "<td>68.0</td>\n",
       "<td>0.1890865</td>\n",
       "<td>0.1662899</td>\n",
       "<td>0.5718321</td>\n",
       "<td>27.4367106</td>\n",
       "<td>0.1689028</td></tr>\n",
       "<tr><td></td>\n",
       "<td>2017-10-28 14:10:21</td>\n",
       "<td>14 min 26.229 sec</td>\n",
       "<td>69.0</td>\n",
       "<td>0.1890441</td>\n",
       "<td>0.1659761</td>\n",
       "<td>0.5722630</td>\n",
       "<td>27.4367106</td>\n",
       "<td>0.1694690</td></tr>\n",
       "<tr><td></td>\n",
       "<td>2017-10-28 14:10:27</td>\n",
       "<td>14 min 31.866 sec</td>\n",
       "<td>70.0</td>\n",
       "<td>0.1890183</td>\n",
       "<td>0.1658346</td>\n",
       "<td>0.5723792</td>\n",
       "<td>27.4367106</td>\n",
       "<td>0.1871787</td></tr></table></div>"
      ],
      "text/plain": [
       "     timestamp            duration           number_of_trees    training_rmse        training_logloss     training_auc         training_lift       training_classification_error\n",
       "---  -------------------  -----------------  -----------------  -------------------  -------------------  -------------------  ------------------  -------------------------------\n",
       "     2017-10-28 14:06:37  10 min 41.637 sec  0.0                nan                  nan                  nan                  nan                 nan\n",
       "     2017-10-28 14:06:38  10 min 42.466 sec  1.0                0.2377129555430416   1.5447876842886017   0.49640693586533685  17.204514669360808  0.9634080660179285\n",
       "     2017-10-28 14:06:39  10 min 43.327 sec  2.0                0.23335713730929897  1.3633198911426039   0.49295645685193346  24.816014230871478  0.9634180779113299\n",
       "     2017-10-28 14:06:40  10 min 44.422 sec  3.0                0.2278500058391986   1.1686886235083527   0.4977933919037204   26.51789983727148   0.9634382196315486\n",
       "     2017-10-28 14:06:41  10 min 45.673 sec  4.0                0.2229795820615141   1.0047926552433635   0.49884780958663993  27.201657320254164  0.19849148889803628\n",
       "---  ---                  ---                ---                ---                  ---                  ---                  ---                 ---\n",
       "     2017-10-28 14:10:05  14 min  9.723 sec  66.0               0.1891661160947015   0.16703624325132643  0.5709584419619904   27.43671061122891   0.15798908624154082\n",
       "     2017-10-28 14:10:10  14 min 15.197 sec  67.0               0.18912836568533928  0.16675452306633987  0.5714500094677344   27.43671061122891   0.17137423304637675\n",
       "     2017-10-28 14:10:16  14 min 20.655 sec  68.0               0.18908654061846195  0.1662899270589268   0.5718320885468218   27.43671061122891   0.16890284470071168\n",
       "     2017-10-28 14:10:21  14 min 26.229 sec  69.0               0.18904412220743752  0.16597612442446952  0.57226297761673     27.43671061122891   0.16946902952225426\n",
       "     2017-10-28 14:10:27  14 min 31.866 sec  70.0               0.1890182928726373   0.1658345839127855   0.5723792205184614   27.43671061122891   0.18717868591359046"
      ]
     },
     "metadata": {},
     "output_type": "display_data"
    },
    {
     "name": "stdout",
     "output_type": "stream",
     "text": [
      "\n",
      "See the whole table with table.as_data_frame()\n",
      "Variable Importances: \n"
     ]
    },
    {
     "data": {
      "text/html": [
       "<div style=\"overflow:auto\"><table style=\"width:50%\"><tr><td><b>variable</b></td>\n",
       "<td><b>relative_importance</b></td>\n",
       "<td><b>scaled_importance</b></td>\n",
       "<td><b>percentage</b></td></tr>\n",
       "<tr><td>ps_car_11_cat_ps_ind_05_cat_ps_car_13_cut0</td>\n",
       "<td>32760.5117188</td>\n",
       "<td>1.0</td>\n",
       "<td>0.0651410</td></tr>\n",
       "<tr><td>ps_car_11_cat_ps_ind_05_cat_ps_car_13_cut</td>\n",
       "<td>32051.1621094</td>\n",
       "<td>0.9783474</td>\n",
       "<td>0.0637306</td></tr>\n",
       "<tr><td>ps_car_11_cat</td>\n",
       "<td>28434.9042969</td>\n",
       "<td>0.8679628</td>\n",
       "<td>0.0565400</td></tr>\n",
       "<tr><td>ps_reg_02_cut</td>\n",
       "<td>25277.6835938</td>\n",
       "<td>0.7715900</td>\n",
       "<td>0.0502622</td></tr>\n",
       "<tr><td>ps_car_01_cat</td>\n",
       "<td>17443.4238281</td>\n",
       "<td>0.5324527</td>\n",
       "<td>0.0346845</td></tr>\n",
       "<tr><td>---</td>\n",
       "<td>---</td>\n",
       "<td>---</td>\n",
       "<td>---</td></tr>\n",
       "<tr><td>ps_ind_14</td>\n",
       "<td>905.8618774</td>\n",
       "<td>0.0276510</td>\n",
       "<td>0.0018012</td></tr>\n",
       "<tr><td>ps_ind_12_bin</td>\n",
       "<td>705.7554932</td>\n",
       "<td>0.0215429</td>\n",
       "<td>0.0014033</td></tr>\n",
       "<tr><td>ps_ind_11_bin</td>\n",
       "<td>213.5279694</td>\n",
       "<td>0.0065178</td>\n",
       "<td>0.0004246</td></tr>\n",
       "<tr><td>ps_ind_13_bin</td>\n",
       "<td>207.5963440</td>\n",
       "<td>0.0063368</td>\n",
       "<td>0.0004128</td></tr>\n",
       "<tr><td>ps_ind_10_bin</td>\n",
       "<td>103.0855637</td>\n",
       "<td>0.0031466</td>\n",
       "<td>0.0002050</td></tr></table></div>"
      ],
      "text/plain": [
       "variable                                    relative_importance    scaled_importance      percentage\n",
       "------------------------------------------  ---------------------  ---------------------  ----------------------\n",
       "ps_car_11_cat_ps_ind_05_cat_ps_car_13_cut0  32760.51171875         1.0                    0.06514104920386479\n",
       "ps_car_11_cat_ps_ind_05_cat_ps_car_13_cut   32051.162109375        0.9783474197392035     0.06373057740770562\n",
       "ps_car_11_cat                               28434.904296875        0.8679627638600254     0.056540005107728386\n",
       "ps_reg_02_cut                               25277.68359375         0.7715900108874882     0.050262182864432445\n",
       "ps_car_01_cat                               17443.423828125        0.5324527277802413     0.034684529339064726\n",
       "---                                         ---                    ---                    ---\n",
       "ps_ind_14                                   905.8618774414062      0.02765102954490633    0.0018012170761222623\n",
       "ps_ind_12_bin                               705.7554931640625      0.021542871467423803   0.0014033252502519888\n",
       "ps_ind_11_bin                               213.52796936035156     0.006517845972416296   0.00042457932519238194\n",
       "ps_ind_13_bin                               207.59634399414062     0.006336785755251982   0.00041278487267721887\n",
       "ps_ind_10_bin                               103.08556365966797     0.0031466408261464503  0.00020497548488289567"
      ]
     },
     "metadata": {},
     "output_type": "display_data"
    },
    {
     "name": "stdout",
     "output_type": "stream",
     "text": [
      "\n",
      "See the whole table with table.as_data_frame()\n"
     ]
    },
    {
     "data": {
      "text/plain": []
     },
     "execution_count": 70,
     "metadata": {},
     "output_type": "execute_result"
    }
   ],
   "source": [
    "rf_v1"
   ]
  },
  {
   "cell_type": "code",
   "execution_count": 71,
   "metadata": {},
   "outputs": [
    {
     "data": {
      "image/png": "[encoded data removed]",
      "text/plain": [
       "<matplotlib.figure.Figure at 0x7f82e36a5cc0>"
      ]
     },
     "metadata": {},
     "output_type": "display_data"
    }
   ],
   "source": [
    "rf_v1.varimp_plot()"
   ]
  },
  {
   "cell_type": "code",
   "execution_count": null,
   "metadata": {
    "collapsed": true
   },
   "outputs": [],
   "source": [
    "rf_performance = rf_v1.model_performance(test_bf)"
   ]
  },
  {
   "cell_type": "code",
   "execution_count": null,
   "metadata": {
    "collapsed": true
   },
   "outputs": [],
   "source": [
    "rf_performance.gini()"
   ]
  },
  {
   "cell_type": "code",
   "execution_count": null,
   "metadata": {
    "collapsed": true
   },
   "outputs": [],
   "source": [
    "#adding features\n"
   ]
  },
  {
   "cell_type": "code",
   "execution_count": null,
   "metadata": {
    "collapsed": true
   },
   "outputs": [],
   "source": [
    "train_bf"
   ]
  },
  {
   "cell_type": "code",
   "execution_count": null,
   "metadata": {
    "collapsed": true
   },
   "outputs": [],
   "source": [
    "train_bf.rbind(test_bf)"
   ]
  },
  {
   "cell_type": "code",
   "execution_count": 72,
   "metadata": {},
   "outputs": [
    {
     "name": "stdout",
     "output_type": "stream",
     "text": [
      "gbm Model Build progress: |███████████████████████████████████████████████| 100%\n"
     ]
    }
   ],
   "source": [
    "gbm_opt_2 = H2OGradientBoostingEstimator(ntrees=100,\n",
    "                                         learn_rate=0.05,\n",
    "                                         col_sample_rate=0.1,\n",
    "                                         max_depth=5,\n",
    "                                         sample_rate=1,\n",
    "                                         score_each_iteration=True,\n",
    "                                         balance_classes=False,\n",
    "                                         seed=41)\n",
    "gbm_opt_2.train(x=covtype_X,\n",
    "                y=covtype_y, \n",
    "                training_frame=train_bf)"
   ]
  },
  {
   "cell_type": "code",
   "execution_count": 75,
   "metadata": {},
   "outputs": [
    {
     "name": "stdout",
     "output_type": "stream",
     "text": [
      "Model Details\n",
      "=============\n",
      "H2OGradientBoostingEstimator :  Gradient Boosting Machine\n",
      "Model Key:  GBM_model_python_1509184042532_926\n",
      "\n",
      "\n",
      "ModelMetricsBinomial: gbm\n",
      "** Reported on train data. **\n",
      "\n",
      "MSE: 0.034190731478733895\n",
      "RMSE: 0.18490735917949264\n",
      "LogLoss: 0.14751502878928993\n",
      "Mean Per-Class Error: 0.3628611924491827\n",
      "AUC: 0.6918362094175966\n",
      "Gini: 0.3836724188351932\n",
      "Confusion Matrix (Act/Pred) for max f1 @ threshold = 0.06695111928427477: \n"
     ]
    },
    {
     "data": {
      "text/html": [
       "<div style=\"overflow:auto\"><table style=\"width:50%\"><tr><td><b></b></td>\n",
       "<td><b>0</b></td>\n",
       "<td><b>1</b></td>\n",
       "<td><b>Error</b></td>\n",
       "<td><b>Rate</b></td></tr>\n",
       "<tr><td>0</td>\n",
       "<td>540835.0</td>\n",
       "<td>32683.0</td>\n",
       "<td>0.057</td>\n",
       "<td> (32683.0/573518.0)</td></tr>\n",
       "<tr><td>1</td>\n",
       "<td>16884.0</td>\n",
       "<td>4810.0</td>\n",
       "<td>0.7783</td>\n",
       "<td> (16884.0/21694.0)</td></tr>\n",
       "<tr><td>Total</td>\n",
       "<td>557719.0</td>\n",
       "<td>37493.0</td>\n",
       "<td>0.0833</td>\n",
       "<td> (49567.0/595212.0)</td></tr></table></div>"
      ],
      "text/plain": [
       "       0       1      Error    Rate\n",
       "-----  ------  -----  -------  ------------------\n",
       "0      540835  32683  0.057    (32683.0/573518.0)\n",
       "1      16884   4810   0.7783   (16884.0/21694.0)\n",
       "Total  557719  37493  0.0833   (49567.0/595212.0)"
      ]
     },
     "metadata": {},
     "output_type": "display_data"
    },
    {
     "name": "stdout",
     "output_type": "stream",
     "text": [
      "Maximum Metrics: Maximum metrics at their respective thresholds\n",
      "\n"
     ]
    },
    {
     "data": {
      "text/html": [
       "<div style=\"overflow:auto\"><table style=\"width:50%\"><tr><td><b>metric</b></td>\n",
       "<td><b>threshold</b></td>\n",
       "<td><b>value</b></td>\n",
       "<td><b>idx</b></td></tr>\n",
       "<tr><td>max f1</td>\n",
       "<td>0.0669511</td>\n",
       "<td>0.1625357</td>\n",
       "<td>181.0</td></tr>\n",
       "<tr><td>max f2</td>\n",
       "<td>0.0454810</td>\n",
       "<td>0.2354744</td>\n",
       "<td>246.0</td></tr>\n",
       "<tr><td>max f0point5</td>\n",
       "<td>0.0990430</td>\n",
       "<td>0.1720883</td>\n",
       "<td>126.0</td></tr>\n",
       "<tr><td>max accuracy</td>\n",
       "<td>0.1910196</td>\n",
       "<td>0.9637827</td>\n",
       "<td>61.0</td></tr>\n",
       "<tr><td>max precision</td>\n",
       "<td>0.8004071</td>\n",
       "<td>1.0</td>\n",
       "<td>0.0</td></tr>\n",
       "<tr><td>max recall</td>\n",
       "<td>0.0134061</td>\n",
       "<td>1.0</td>\n",
       "<td>396.0</td></tr>\n",
       "<tr><td>max specificity</td>\n",
       "<td>0.8004071</td>\n",
       "<td>1.0</td>\n",
       "<td>0.0</td></tr>\n",
       "<tr><td>max absolute_mcc</td>\n",
       "<td>0.0623449</td>\n",
       "<td>0.1274862</td>\n",
       "<td>192.0</td></tr>\n",
       "<tr><td>max min_per_class_accuracy</td>\n",
       "<td>0.0362808</td>\n",
       "<td>0.6345072</td>\n",
       "<td>284.0</td></tr>\n",
       "<tr><td>max mean_per_class_accuracy</td>\n",
       "<td>0.0379772</td>\n",
       "<td>0.6371388</td>\n",
       "<td>275.0</td></tr></table></div>"
      ],
      "text/plain": [
       "metric                       threshold    value     idx\n",
       "---------------------------  -----------  --------  -----\n",
       "max f1                       0.0669511    0.162536  181\n",
       "max f2                       0.045481     0.235474  246\n",
       "max f0point5                 0.099043     0.172088  126\n",
       "max accuracy                 0.19102      0.963783  61\n",
       "max precision                0.800407     1         0\n",
       "max recall                   0.0134061    1         396\n",
       "max specificity              0.800407     1         0\n",
       "max absolute_mcc             0.0623449    0.127486  192\n",
       "max min_per_class_accuracy   0.0362808    0.634507  284\n",
       "max mean_per_class_accuracy  0.0379772    0.637139  275"
      ]
     },
     "metadata": {},
     "output_type": "display_data"
    },
    {
     "name": "stdout",
     "output_type": "stream",
     "text": [
      "Gains/Lift Table: Avg response rate:  3.64 %\n",
      "\n"
     ]
    },
    {
     "data": {
      "text/html": [
       "<div style=\"overflow:auto\"><table style=\"width:50%\"><tr><td><b></b></td>\n",
       "<td><b>group</b></td>\n",
       "<td><b>cumulative_data_fraction</b></td>\n",
       "<td><b>lower_threshold</b></td>\n",
       "<td><b>lift</b></td>\n",
       "<td><b>cumulative_lift</b></td>\n",
       "<td><b>response_rate</b></td>\n",
       "<td><b>cumulative_response_rate</b></td>\n",
       "<td><b>capture_rate</b></td>\n",
       "<td><b>cumulative_capture_rate</b></td>\n",
       "<td><b>gain</b></td>\n",
       "<td><b>cumulative_gain</b></td></tr>\n",
       "<tr><td></td>\n",
       "<td>1</td>\n",
       "<td>0.0100015</td>\n",
       "<td>0.1083329</td>\n",
       "<td>7.0515987</td>\n",
       "<td>7.0515987</td>\n",
       "<td>0.2570133</td>\n",
       "<td>0.2570133</td>\n",
       "<td>0.0705264</td>\n",
       "<td>0.0705264</td>\n",
       "<td>605.1598729</td>\n",
       "<td>605.1598729</td></tr>\n",
       "<tr><td></td>\n",
       "<td>2</td>\n",
       "<td>0.0200013</td>\n",
       "<td>0.0911830</td>\n",
       "<td>3.7199976</td>\n",
       "<td>5.3859381</td>\n",
       "<td>0.1355847</td>\n",
       "<td>0.1963041</td>\n",
       "<td>0.0371992</td>\n",
       "<td>0.1077256</td>\n",
       "<td>271.9997558</td>\n",
       "<td>438.5938068</td></tr>\n",
       "<tr><td></td>\n",
       "<td>3</td>\n",
       "<td>0.0300011</td>\n",
       "<td>0.0820794</td>\n",
       "<td>3.1944960</td>\n",
       "<td>4.6554983</td>\n",
       "<td>0.1164315</td>\n",
       "<td>0.1696814</td>\n",
       "<td>0.0319443</td>\n",
       "<td>0.1396700</td>\n",
       "<td>219.4496044</td>\n",
       "<td>365.5498300</td></tr>\n",
       "<tr><td></td>\n",
       "<td>4</td>\n",
       "<td>0.0400009</td>\n",
       "<td>0.0759525</td>\n",
       "<td>2.7750168</td>\n",
       "<td>4.1853977</td>\n",
       "<td>0.1011425</td>\n",
       "<td>0.1525474</td>\n",
       "<td>0.0277496</td>\n",
       "<td>0.1674196</td>\n",
       "<td>177.5016765</td>\n",
       "<td>318.5397662</td></tr>\n",
       "<tr><td></td>\n",
       "<td>5</td>\n",
       "<td>0.0500007</td>\n",
       "<td>0.0713920</td>\n",
       "<td>2.4892177</td>\n",
       "<td>3.8461731</td>\n",
       "<td>0.0907258</td>\n",
       "<td>0.1401835</td>\n",
       "<td>0.0248917</td>\n",
       "<td>0.1923112</td>\n",
       "<td>148.9217697</td>\n",
       "<td>284.6173068</td></tr>\n",
       "<tr><td></td>\n",
       "<td>6</td>\n",
       "<td>0.1000013</td>\n",
       "<td>0.0578718</td>\n",
       "<td>2.0539965</td>\n",
       "<td>2.9500848</td>\n",
       "<td>0.0748631</td>\n",
       "<td>0.1075233</td>\n",
       "<td>0.1027012</td>\n",
       "<td>0.2950124</td>\n",
       "<td>105.3996547</td>\n",
       "<td>195.0084807</td></tr>\n",
       "<tr><td></td>\n",
       "<td>7</td>\n",
       "<td>0.1500003</td>\n",
       "<td>0.0506747</td>\n",
       "<td>1.6198354</td>\n",
       "<td>2.5066783</td>\n",
       "<td>0.0590390</td>\n",
       "<td>0.0913622</td>\n",
       "<td>0.0809901</td>\n",
       "<td>0.3760026</td>\n",
       "<td>61.9835368</td>\n",
       "<td>150.6678261</td></tr>\n",
       "<tr><td></td>\n",
       "<td>8</td>\n",
       "<td>0.2000010</td>\n",
       "<td>0.0459415</td>\n",
       "<td>1.3939151</td>\n",
       "<td>2.2284851</td>\n",
       "<td>0.0508047</td>\n",
       "<td>0.0812228</td>\n",
       "<td>0.0696967</td>\n",
       "<td>0.4456993</td>\n",
       "<td>39.3915072</td>\n",
       "<td>122.8485126</td></tr>\n",
       "<tr><td></td>\n",
       "<td>9</td>\n",
       "<td>0.3000007</td>\n",
       "<td>0.0394501</td>\n",
       "<td>1.1689907</td>\n",
       "<td>1.8753223</td>\n",
       "<td>0.0426068</td>\n",
       "<td>0.0683508</td>\n",
       "<td>0.1168987</td>\n",
       "<td>0.5625980</td>\n",
       "<td>16.8990745</td>\n",
       "<td>87.5322310</td></tr>\n",
       "<tr><td></td>\n",
       "<td>10</td>\n",
       "<td>0.4000003</td>\n",
       "<td>0.0350467</td>\n",
       "<td>0.9905998</td>\n",
       "<td>1.6541426</td>\n",
       "<td>0.0361049</td>\n",
       "<td>0.0602894</td>\n",
       "<td>0.0990596</td>\n",
       "<td>0.6616576</td>\n",
       "<td>-0.9400193</td>\n",
       "<td>65.4142613</td></tr>\n",
       "<tr><td></td>\n",
       "<td>11</td>\n",
       "<td>0.5</td>\n",
       "<td>0.0316030</td>\n",
       "<td>0.8255767</td>\n",
       "<td>1.4884300</td>\n",
       "<td>0.0300902</td>\n",
       "<td>0.0542496</td>\n",
       "<td>0.0825574</td>\n",
       "<td>0.7442150</td>\n",
       "<td>-17.4423335</td>\n",
       "<td>48.8429981</td></tr>\n",
       "<tr><td></td>\n",
       "<td>12</td>\n",
       "<td>0.5999997</td>\n",
       "<td>0.0286129</td>\n",
       "<td>0.7029617</td>\n",
       "<td>1.3575190</td>\n",
       "<td>0.0256212</td>\n",
       "<td>0.0494782</td>\n",
       "<td>0.0702959</td>\n",
       "<td>0.8145109</td>\n",
       "<td>-29.7038294</td>\n",
       "<td>35.7518968</td></tr>\n",
       "<tr><td></td>\n",
       "<td>13</td>\n",
       "<td>0.6999993</td>\n",
       "<td>0.0258249</td>\n",
       "<td>0.6190673</td>\n",
       "<td>1.2520261</td>\n",
       "<td>0.0225635</td>\n",
       "<td>0.0456332</td>\n",
       "<td>0.0619065</td>\n",
       "<td>0.8764174</td>\n",
       "<td>-38.0932741</td>\n",
       "<td>25.2026120</td></tr>\n",
       "<tr><td></td>\n",
       "<td>14</td>\n",
       "<td>0.7999990</td>\n",
       "<td>0.0230502</td>\n",
       "<td>0.5250317</td>\n",
       "<td>1.1611520</td>\n",
       "<td>0.0191361</td>\n",
       "<td>0.0423211</td>\n",
       "<td>0.0525030</td>\n",
       "<td>0.9289204</td>\n",
       "<td>-47.4968274</td>\n",
       "<td>16.1152012</td></tr>\n",
       "<tr><td></td>\n",
       "<td>15</td>\n",
       "<td>0.8999987</td>\n",
       "<td>0.0199717</td>\n",
       "<td>0.4305352</td>\n",
       "<td>1.0799725</td>\n",
       "<td>0.0156919</td>\n",
       "<td>0.0393623</td>\n",
       "<td>0.0430534</td>\n",
       "<td>0.9719738</td>\n",
       "<td>-56.9464765</td>\n",
       "<td>7.9972521</td></tr>\n",
       "<tr><td></td>\n",
       "<td>16</td>\n",
       "<td>1.0</td>\n",
       "<td>0.0098234</td>\n",
       "<td>0.2802581</td>\n",
       "<td>1.0</td>\n",
       "<td>0.0102147</td>\n",
       "<td>0.0364475</td>\n",
       "<td>0.0280262</td>\n",
       "<td>1.0</td>\n",
       "<td>-71.9741943</td>\n",
       "<td>0.0</td></tr></table></div>"
      ],
      "text/plain": [
       "    group    cumulative_data_fraction    lower_threshold    lift      cumulative_lift    response_rate    cumulative_response_rate    capture_rate    cumulative_capture_rate    gain       cumulative_gain\n",
       "--  -------  --------------------------  -----------------  --------  -----------------  ---------------  --------------------------  --------------  -------------------------  ---------  -----------------\n",
       "    1        0.0100015                   0.108333           7.0516    7.0516             0.257013         0.257013                    0.0705264       0.0705264                  605.16     605.16\n",
       "    2        0.0200013                   0.091183           3.72      5.38594            0.135585         0.196304                    0.0371992       0.107726                   272        438.594\n",
       "    3        0.0300011                   0.0820794          3.1945    4.6555             0.116431         0.169681                    0.0319443       0.13967                    219.45     365.55\n",
       "    4        0.0400009                   0.0759525          2.77502   4.1854             0.101142         0.152547                    0.0277496       0.16742                    177.502    318.54\n",
       "    5        0.0500007                   0.071392           2.48922   3.84617            0.0907258        0.140183                    0.0248917       0.192311                   148.922    284.617\n",
       "    6        0.100001                    0.0578718          2.054     2.95008            0.0748631        0.107523                    0.102701        0.295012                   105.4      195.008\n",
       "    7        0.15                        0.0506747          1.61984   2.50668            0.059039         0.0913622                   0.0809901       0.376003                   61.9835    150.668\n",
       "    8        0.200001                    0.0459415          1.39392   2.22849            0.0508047        0.0812228                   0.0696967       0.445699                   39.3915    122.849\n",
       "    9        0.300001                    0.0394501          1.16899   1.87532            0.0426068        0.0683508                   0.116899        0.562598                   16.8991    87.5322\n",
       "    10       0.4                         0.0350467          0.9906    1.65414            0.0361049        0.0602894                   0.0990596       0.661658                   -0.940019  65.4143\n",
       "    11       0.5                         0.031603           0.825577  1.48843            0.0300902        0.0542496                   0.0825574       0.744215                   -17.4423   48.843\n",
       "    12       0.6                         0.0286129          0.702962  1.35752            0.0256212        0.0494782                   0.0702959       0.814511                   -29.7038   35.7519\n",
       "    13       0.699999                    0.0258249          0.619067  1.25203            0.0225635        0.0456332                   0.0619065       0.876417                   -38.0933   25.2026\n",
       "    14       0.799999                    0.0230502          0.525032  1.16115            0.0191361        0.0423211                   0.052503        0.92892                    -47.4968   16.1152\n",
       "    15       0.899999                    0.0199717          0.430535  1.07997            0.0156919        0.0393623                   0.0430534       0.971974                   -56.9465   7.99725\n",
       "    16       1                           0.00982336         0.280258  1                  0.0102147        0.0364475                   0.0280262       1                          -71.9742   0"
      ]
     },
     "metadata": {},
     "output_type": "display_data"
    },
    {
     "name": "stdout",
     "output_type": "stream",
     "text": [
      "\n",
      "Scoring History: \n"
     ]
    },
    {
     "data": {
      "text/html": [
       "<div style=\"overflow:auto\"><table style=\"width:50%\"><tr><td><b></b></td>\n",
       "<td><b>timestamp</b></td>\n",
       "<td><b>duration</b></td>\n",
       "<td><b>number_of_trees</b></td>\n",
       "<td><b>training_rmse</b></td>\n",
       "<td><b>training_logloss</b></td>\n",
       "<td><b>training_auc</b></td>\n",
       "<td><b>training_lift</b></td>\n",
       "<td><b>training_classification_error</b></td></tr>\n",
       "<tr><td></td>\n",
       "<td>2017-10-28 14:19:06</td>\n",
       "<td> 0.016 sec</td>\n",
       "<td>0.0</td>\n",
       "<td>0.1874009</td>\n",
       "<td>0.1564850</td>\n",
       "<td>0.5</td>\n",
       "<td>1.0</td>\n",
       "<td>0.9635525</td></tr>\n",
       "<tr><td></td>\n",
       "<td>2017-10-28 14:19:06</td>\n",
       "<td> 0.308 sec</td>\n",
       "<td>1.0</td>\n",
       "<td>0.1873405</td>\n",
       "<td>0.1561712</td>\n",
       "<td>0.6014939</td>\n",
       "<td>2.5729538</td>\n",
       "<td>0.1112914</td></tr>\n",
       "<tr><td></td>\n",
       "<td>2017-10-28 14:19:06</td>\n",
       "<td> 0.499 sec</td>\n",
       "<td>2.0</td>\n",
       "<td>0.1872755</td>\n",
       "<td>0.1558512</td>\n",
       "<td>0.6236079</td>\n",
       "<td>3.3130439</td>\n",
       "<td>0.1426668</td></tr>\n",
       "<tr><td></td>\n",
       "<td>2017-10-28 14:19:06</td>\n",
       "<td> 0.742 sec</td>\n",
       "<td>3.0</td>\n",
       "<td>0.1872190</td>\n",
       "<td>0.1555738</td>\n",
       "<td>0.6284878</td>\n",
       "<td>3.4003794</td>\n",
       "<td>0.1278015</td></tr>\n",
       "<tr><td></td>\n",
       "<td>2017-10-28 14:19:07</td>\n",
       "<td> 1.306 sec</td>\n",
       "<td>4.0</td>\n",
       "<td>0.1871492</td>\n",
       "<td>0.1552514</td>\n",
       "<td>0.6335828</td>\n",
       "<td>3.8324294</td>\n",
       "<td>0.1231091</td></tr>\n",
       "<tr><td>---</td>\n",
       "<td>---</td>\n",
       "<td>---</td>\n",
       "<td>---</td>\n",
       "<td>---</td>\n",
       "<td>---</td>\n",
       "<td>---</td>\n",
       "<td>---</td>\n",
       "<td>---</td></tr>\n",
       "<tr><td></td>\n",
       "<td>2017-10-28 14:21:37</td>\n",
       "<td> 2 min 30.798 sec</td>\n",
       "<td>96.0</td>\n",
       "<td>0.1849611</td>\n",
       "<td>0.1476600</td>\n",
       "<td>0.6905871</td>\n",
       "<td>6.9686387</td>\n",
       "<td>0.0878023</td></tr>\n",
       "<tr><td></td>\n",
       "<td>2017-10-28 14:21:39</td>\n",
       "<td> 2 min 33.389 sec</td>\n",
       "<td>97.0</td>\n",
       "<td>0.1849511</td>\n",
       "<td>0.1476321</td>\n",
       "<td>0.6908430</td>\n",
       "<td>6.9455943</td>\n",
       "<td>0.0874428</td></tr>\n",
       "<tr><td></td>\n",
       "<td>2017-10-28 14:21:42</td>\n",
       "<td> 2 min 35.994 sec</td>\n",
       "<td>98.0</td>\n",
       "<td>0.1849267</td>\n",
       "<td>0.1475720</td>\n",
       "<td>0.6913197</td>\n",
       "<td>6.9962921</td>\n",
       "<td>0.0879502</td></tr>\n",
       "<tr><td></td>\n",
       "<td>2017-10-28 14:21:44</td>\n",
       "<td> 2 min 38.642 sec</td>\n",
       "<td>99.0</td>\n",
       "<td>0.1849147</td>\n",
       "<td>0.1475380</td>\n",
       "<td>0.6916333</td>\n",
       "<td>7.0331632</td>\n",
       "<td>0.0858719</td></tr>\n",
       "<tr><td></td>\n",
       "<td>2017-10-28 14:21:47</td>\n",
       "<td> 2 min 41.367 sec</td>\n",
       "<td>100.0</td>\n",
       "<td>0.1849074</td>\n",
       "<td>0.1475150</td>\n",
       "<td>0.6918362</td>\n",
       "<td>7.0515987</td>\n",
       "<td>0.0832762</td></tr></table></div>"
      ],
      "text/plain": [
       "     timestamp            duration          number_of_trees    training_rmse        training_logloss     training_auc        training_lift       training_classification_error\n",
       "---  -------------------  ----------------  -----------------  -------------------  -------------------  ------------------  ------------------  -------------------------------\n",
       "     2017-10-28 14:19:06  0.016 sec         0.0                0.18740089727928144  0.15648496254016833  0.5                 1.0                 0.963552482140817\n",
       "     2017-10-28 14:19:06  0.308 sec         1.0                0.18734049289827837  0.1561712196770532   0.601493850622403   2.5729537506530225  0.11129143901668649\n",
       "     2017-10-28 14:19:06  0.499 sec         2.0                0.18727546513831111  0.1558511514223207   0.623607887524639   3.3130439075254974  0.14266681451314825\n",
       "     2017-10-28 14:19:06  0.742 sec         3.0                0.18721903541884008  0.1555737548304862   0.6284878334717221  3.400379406149369   0.12780152281876037\n",
       "     2017-10-28 14:19:07  1.306 sec         4.0                0.18714918238522668  0.1552513648480402   0.6335828106527193  3.83242941871134    0.12310907710194015\n",
       "---  ---                  ---               ---                ---                  ---                  ---                 ---                 ---\n",
       "     2017-10-28 14:21:37  2 min 30.798 sec  96.0               0.18496107421066116  0.14765996432039405  0.6905871073403782  6.968638744192527   0.0878023292541145\n",
       "     2017-10-28 14:21:39  2 min 33.389 sec  97.0               0.18495114558172376  0.1476320704061292   0.6908429692368713  6.945594303900885   0.0874427934920667\n",
       "     2017-10-28 14:21:42  2 min 35.994 sec  98.0               0.1849266820290793   0.147572033518093    0.6913197499731096  6.996292072542498   0.08795017573570425\n",
       "     2017-10-28 14:21:44  2 min 38.642 sec  99.0               0.18491467612046128  0.14753804772056764  0.6916333149558929  7.033163177009125   0.08587192462517557\n",
       "     2017-10-28 14:21:47  2 min 41.367 sec  100.0              0.18490735917949264  0.14751502878928993  0.6918362094175966  7.051598729242437   0.08327621082908275"
      ]
     },
     "metadata": {},
     "output_type": "display_data"
    },
    {
     "name": "stdout",
     "output_type": "stream",
     "text": [
      "\n",
      "See the whole table with table.as_data_frame()\n",
      "Variable Importances: \n"
     ]
    },
    {
     "data": {
      "text/html": [
       "<div style=\"overflow:auto\"><table style=\"width:50%\"><tr><td><b>variable</b></td>\n",
       "<td><b>relative_importance</b></td>\n",
       "<td><b>scaled_importance</b></td>\n",
       "<td><b>percentage</b></td></tr>\n",
       "<tr><td>ps_car_11_cat_ps_ind_05_cat_ps_car_13_cut</td>\n",
       "<td>1087.9299316</td>\n",
       "<td>1.0</td>\n",
       "<td>0.2332196</td></tr>\n",
       "<tr><td>ps_car_11_cat_ps_ind_05_cat_ps_car_13_cut0</td>\n",
       "<td>1073.5120850</td>\n",
       "<td>0.9867474</td>\n",
       "<td>0.2301289</td></tr>\n",
       "<tr><td>ps_car_11_cat</td>\n",
       "<td>367.7597351</td>\n",
       "<td>0.3380362</td>\n",
       "<td>0.0788367</td></tr>\n",
       "<tr><td>ps_ind_17_bin</td>\n",
       "<td>206.6352692</td>\n",
       "<td>0.1899344</td>\n",
       "<td>0.0442964</td></tr>\n",
       "<tr><td>ps_reg_02_cut</td>\n",
       "<td>153.0672760</td>\n",
       "<td>0.1406959</td>\n",
       "<td>0.0328130</td></tr>\n",
       "<tr><td>---</td>\n",
       "<td>---</td>\n",
       "<td>---</td>\n",
       "<td>---</td></tr>\n",
       "<tr><td>ps_calc_15_bin</td>\n",
       "<td>0.9678453</td>\n",
       "<td>0.0008896</td>\n",
       "<td>0.0002075</td></tr>\n",
       "<tr><td>ps_ind_12_bin</td>\n",
       "<td>0.7544561</td>\n",
       "<td>0.0006935</td>\n",
       "<td>0.0001617</td></tr>\n",
       "<tr><td>ps_ind_13_bin</td>\n",
       "<td>0.3666202</td>\n",
       "<td>0.0003370</td>\n",
       "<td>0.0000786</td></tr>\n",
       "<tr><td>ps_ind_10_bin</td>\n",
       "<td>0.2568902</td>\n",
       "<td>0.0002361</td>\n",
       "<td>0.0000551</td></tr>\n",
       "<tr><td>ps_ind_11_bin</td>\n",
       "<td>0.0705619</td>\n",
       "<td>0.0000649</td>\n",
       "<td>0.0000151</td></tr></table></div>"
      ],
      "text/plain": [
       "variable                                    relative_importance    scaled_importance       percentage\n",
       "------------------------------------------  ---------------------  ----------------------  ----------------------\n",
       "ps_car_11_cat_ps_ind_05_cat_ps_car_13_cut   1087.929931640625      1.0                     0.2332196451846082\n",
       "ps_car_11_cat_ps_ind_05_cat_ps_car_13_cut0  1073.5120849609375     0.9867474492057177      0.23012888999057465\n",
       "ps_car_11_cat                               367.7597351074219      0.33803623230848256     0.0788366901585261\n",
       "ps_ind_17_bin                               206.63526916503906     0.18993435436915318     0.04429642273434154\n",
       "ps_reg_02_cut                               153.06727600097656     0.14069589552531878     0.032813046833345544\n",
       "---                                         ---                    ---                     ---\n",
       "ps_calc_15_bin                              0.9678453207015991     0.0008896210064209417   0.00020747709546626607\n",
       "ps_ind_12_bin                               0.754456102848053      0.0006934785788183203   0.00016173282809513501\n",
       "ps_ind_13_bin                               0.36662015318870544    0.00033698875499806616  7.859239787185185e-05\n",
       "ps_ind_10_bin                               0.2568902373313904     0.00023612755735472193  5.506958514457647e-05\n",
       "ps_ind_11_bin                               0.07056187838315964    6.485884461028717e-05   1.5126356727094811e-05"
      ]
     },
     "metadata": {},
     "output_type": "display_data"
    },
    {
     "name": "stdout",
     "output_type": "stream",
     "text": [
      "\n",
      "See the whole table with table.as_data_frame()\n"
     ]
    },
    {
     "data": {
      "text/plain": []
     },
     "execution_count": 75,
     "metadata": {},
     "output_type": "execute_result"
    }
   ],
   "source": [
    "gbm_opt_2"
   ]
  },
  {
   "cell_type": "code",
   "execution_count": 76,
   "metadata": {},
   "outputs": [
    {
     "data": {
      "image/png": "[encoded data removed]",
      "text/plain": [
       "<matplotlib.figure.Figure at 0x7f82e36325f8>"
      ]
     },
     "metadata": {},
     "output_type": "display_data"
    }
   ],
   "source": [
    "gbm_opt_2.varimp_plot()"
   ]
  },
  {
   "cell_type": "code",
   "execution_count": 27,
   "metadata": {
    "collapsed": true
   },
   "outputs": [],
   "source": [
    "gbm_performance = gbm_opt_2.model_performance(test_bf)"
   ]
  },
  {
   "cell_type": "code",
   "execution_count": null,
   "metadata": {
    "collapsed": true
   },
   "outputs": [],
   "source": [
    "gbm_opt_1 = H2OGradientBoostingEstimator(ntrees=100,\n",
    "                                         learn_rate=0.05,\n",
    "                                         col_sample_rate=0.1,\n",
    "                                         max_depth=5,\n",
    "                                         sample_rate=1,\n",
    "                                         score_each_iteration=True,\n",
    "                                         balance_classes=False,\n",
    "                                         fold_assignment='stratified',\n",
    "                                         nfolds=5,\n",
    "                                         seed=41)\n",
    "gbm_opt_1.train(x=covtype_X,\n",
    "                y=covtype_y, \n",
    "                training_frame=covtype_df)"
   ]
  },
  {
   "cell_type": "code",
   "execution_count": null,
   "metadata": {
    "collapsed": true
   },
   "outputs": [],
   "source": [
    "sub = pd.DataFrame()\n",
    "sub['id'] = test_id\n",
    "sub['target'] = np.zeros_like(test_id)"
   ]
  },
  {
   "cell_type": "code",
   "execution_count": null,
   "metadata": {
    "collapsed": true
   },
   "outputs": [],
   "source": [
    "p = gbm_opt_2.predict(test_data=test_bf)"
   ]
  },
  {
   "cell_type": "code",
   "execution_count": null,
   "metadata": {
    "collapsed": true
   },
   "outputs": [],
   "source": [
    "sub['target'] = p['p1'].as_data_frame(True).values"
   ]
  },
  {
   "cell_type": "code",
   "execution_count": null,
   "metadata": {
    "collapsed": true
   },
   "outputs": [],
   "source": [
    "filename = 'GB_model_'+str(dt.datetime.now()).replace(' ','_').replace(':','').replace('.','')\n",
    "sub.id = sub.id.astype('Int32')\n",
    "sub.to_csv('../output/'+filename+'.csv', index=False)"
   ]
  },
  {
   "cell_type": "code",
   "execution_count": null,
   "metadata": {
    "collapsed": true
   },
   "outputs": [],
   "source": [
    "[x[0] for x in gbm_opt_1.varimp()][:10]"
   ]
  },
  {
   "cell_type": "code",
   "execution_count": null,
   "metadata": {
    "collapsed": true
   },
   "outputs": [],
   "source": [
    "gbm_opt_1.varimp_plot()"
   ]
  },
  {
   "cell_type": "code",
   "execution_count": null,
   "metadata": {
    "collapsed": true
   },
   "outputs": [],
   "source": [
    "gbm_opt_1.gini()"
   ]
  },
  {
   "cell_type": "code",
   "execution_count": null,
   "metadata": {
    "collapsed": true
   },
   "outputs": [],
   "source": [
    "gbm_opt_1.gini()"
   ]
  },
  {
   "cell_type": "code",
   "execution_count": null,
   "metadata": {
    "collapsed": true
   },
   "outputs": [],
   "source": [
    "gbm_opt_1.auc()"
   ]
  },
  {
   "cell_type": "code",
   "execution_count": null,
   "metadata": {
    "collapsed": true
   },
   "outputs": [],
   "source": [
    "gbm_opt_1.auc()"
   ]
  },
  {
   "cell_type": "code",
   "execution_count": null,
   "metadata": {
    "collapsed": true
   },
   "outputs": [],
   "source": [
    "gbm_opt_1.cross_validation_metrics_summary"
   ]
  },
  {
   "cell_type": "code",
   "execution_count": null,
   "metadata": {
    "collapsed": true
   },
   "outputs": [],
   "source": [
    "gbm_opt_1.cross_validation_metrics_summary"
   ]
  },
  {
   "cell_type": "code",
   "execution_count": null,
   "metadata": {
    "collapsed": true
   },
   "outputs": [],
   "source": [
    "gbm_opt_2.varimp_plot()"
   ]
  },
  {
   "cell_type": "code",
   "execution_count": null,
   "metadata": {
    "collapsed": true
   },
   "outputs": [],
   "source": [
    "gbm_v1 = H2OGradientBoostingEstimator(ntrees=100,\n",
    "                                     score_each_iteration=True,\n",
    "                                     balance_classes=False,\n",
    "                                     stopping_rounds=2,\n",
    "                                     fold_assignment='stratified',\n",
    "                                     stopping_metric = 'auc',\n",
    "                                     nfolds=2,\n",
    "                                     seed=41)"
   ]
  },
  {
   "cell_type": "code",
   "execution_count": null,
   "metadata": {
    "collapsed": true
   },
   "outputs": [],
   "source": [
    "gbm_params = {  'learn_rate': [0.01, 0.05,0.025,0.5,0.1], \n",
    "                'max_depth': [3, 5,7,11, 9],\n",
    "                'sample_rate': [0.8,0.85,0.9,0.095, 1.0],\n",
    "                'col_sample_rate': [0.1,0.15,0.2, 0.25,0.3]}\n",
    "\n",
    "search_criteria = {'strategy': 'RandomDiscrete', \"max_runtime_secs\": 60*60}\n",
    "\n",
    "gbm_grid1 = H2OGridSearch(model=gbm_v1,\n",
    "                          grid_id='gbm_grid1',\n",
    "                          hyper_params=gbm_params,\n",
    "                          search_criteria =search_criteria )\n",
    "\n",
    "gbm_grid1.train(x=covtype_X,\n",
    "                y=covtype_y, \n",
    "                training_frame=train_bf, \n",
    "                seed=1)\n"
   ]
  },
  {
   "cell_type": "code",
   "execution_count": null,
   "metadata": {
    "collapsed": true
   },
   "outputs": [],
   "source": [
    "gbm_grid1 = gbm_grid1.get_grid(sort_by='auc', decreasing=True)"
   ]
  },
  {
   "cell_type": "code",
   "execution_count": null,
   "metadata": {
    "collapsed": true
   },
   "outputs": [],
   "source": [
    "gbm_grid1"
   ]
  },
  {
   "cell_type": "code",
   "execution_count": null,
   "metadata": {
    "collapsed": true
   },
   "outputs": [],
   "source": [
    "gbm_grid1"
   ]
  },
  {
   "cell_type": "code",
   "execution_count": null,
   "metadata": {
    "collapsed": true
   },
   "outputs": [],
   "source": [
    "gbm_grid1"
   ]
  },
  {
   "cell_type": "code",
   "execution_count": null,
   "metadata": {
    "collapsed": true
   },
   "outputs": [],
   "source": [
    "#col_sample_rate learn_rate max_depth sample_rate          \n",
    "#              0.2       0.01         7         1.0  "
   ]
  },
  {
   "cell_type": "code",
   "execution_count": null,
   "metadata": {
    "collapsed": true
   },
   "outputs": [],
   "source": [
    "best_gbm_model = gbm_grid1.models[0]"
   ]
  },
  {
   "cell_type": "code",
   "execution_count": null,
   "metadata": {
    "collapsed": true
   },
   "outputs": [],
   "source": [
    "best_gbm_model.varimp_plot()"
   ]
  },
  {
   "cell_type": "code",
   "execution_count": null,
   "metadata": {
    "collapsed": true
   },
   "outputs": [],
   "source": [
    "gbm_perf = best_gbm_model.model_performance(test)\n",
    "print (gbm_perf.gini())\n",
    "print (gbm_perf.auc())"
   ]
  },
  {
   "cell_type": "code",
   "execution_count": null,
   "metadata": {
    "collapsed": true
   },
   "outputs": [],
   "source": [
    "best_gbm_model = gbm_grid1.models[0]"
   ]
  },
  {
   "cell_type": "code",
   "execution_count": null,
   "metadata": {
    "collapsed": true
   },
   "outputs": [],
   "source": [
    "gbm_perf = best_gbm_model.model_performance(test)\n",
    "print (gbm_perf.auc())"
   ]
  },
  {
   "cell_type": "code",
   "execution_count": null,
   "metadata": {
    "collapsed": true
   },
   "outputs": [],
   "source": [
    "gbm_perf"
   ]
  },
  {
   "cell_type": "code",
   "execution_count": null,
   "metadata": {
    "collapsed": true
   },
   "outputs": [],
   "source": [
    "gbm_perf.gini()"
   ]
  },
  {
   "cell_type": "code",
   "execution_count": null,
   "metadata": {
    "collapsed": true
   },
   "outputs": [],
   "source": [
    "gbm_v1.train(covtype_X, covtype_y, training_frame=train, validation_frame=valid)"
   ]
  },
  {
   "cell_type": "code",
   "execution_count": null,
   "metadata": {
    "collapsed": true
   },
   "outputs": [],
   "source": [
    "gbm_v1"
   ]
  },
  {
   "cell_type": "code",
   "execution_count": null,
   "metadata": {
    "collapsed": true
   },
   "outputs": [],
   "source": [
    "gbm_v1"
   ]
  },
  {
   "cell_type": "code",
   "execution_count": null,
   "metadata": {
    "collapsed": true
   },
   "outputs": [],
   "source": [
    "gbm_v1.varimp_plot()"
   ]
  },
  {
   "cell_type": "code",
   "execution_count": null,
   "metadata": {
    "collapsed": true
   },
   "outputs": [],
   "source": [
    "performance = gbm_v1.model_performance(test_data=test)"
   ]
  },
  {
   "cell_type": "code",
   "execution_count": null,
   "metadata": {
    "collapsed": true
   },
   "outputs": [],
   "source": [
    "performance"
   ]
  },
  {
   "cell_type": "code",
   "execution_count": null,
   "metadata": {
    "collapsed": true
   },
   "outputs": [],
   "source": [
    "performance"
   ]
  },
  {
   "cell_type": "code",
   "execution_count": null,
   "metadata": {
    "collapsed": true
   },
   "outputs": [],
   "source": [
    "gbm_v1"
   ]
  },
  {
   "cell_type": "code",
   "execution_count": 5,
   "metadata": {},
   "outputs": [
    {
     "name": "stdout",
     "output_type": "stream",
     "text": [
      "[WARNING] in <ipython-input-5-06c455af4589> line 1:\n",
      "    >>> h2o.shutdown(prompt=False)\n",
      "        ^^^^ Deprecated, use ``h2o.cluster().shutdown()``.\n"
     ]
    },
    {
     "ename": "H2OConnectionError",
     "evalue": "Not connected to a cluster. Did you run `h2o.connect()`?",
     "output_type": "error",
     "traceback": [
      "\u001b[0;31m---------------------------------------------------------------------------\u001b[0m",
      "\u001b[0;31mH2OConnectionError\u001b[0m                        Traceback (most recent call last)",
      "\u001b[0;32m<ipython-input-5-06c455af4589>\u001b[0m in \u001b[0;36m<module>\u001b[0;34m()\u001b[0m\n\u001b[0;32m----> 1\u001b[0;31m \u001b[0mh2o\u001b[0m\u001b[0;34m.\u001b[0m\u001b[0mshutdown\u001b[0m\u001b[0;34m(\u001b[0m\u001b[0mprompt\u001b[0m\u001b[0;34m=\u001b[0m\u001b[0;32mFalse\u001b[0m\u001b[0;34m)\u001b[0m\u001b[0;34m\u001b[0m\u001b[0m\n\u001b[0m",
      "\u001b[0;32m~/anaconda3/lib/python3.6/site-packages/h2o/utils/shared_utils.py\u001b[0m in \u001b[0;36mdecorator_invisible\u001b[0;34m(*args, **kwargs)\u001b[0m\n\u001b[1;32m    367\u001b[0m             \u001b[0mprint\u001b[0m\u001b[0;34m(\u001b[0m\u001b[0;34m\"    >>> %s\"\u001b[0m \u001b[0;34m%\u001b[0m \u001b[0;34m(\u001b[0m\u001b[0mstack\u001b[0m\u001b[0;34m[\u001b[0m\u001b[0;34m-\u001b[0m\u001b[0;36m2\u001b[0m\u001b[0;34m]\u001b[0m\u001b[0;34m[\u001b[0m\u001b[0;36m3\u001b[0m\u001b[0;34m]\u001b[0m \u001b[0;32mor\u001b[0m \u001b[0;34m\"????\"\u001b[0m\u001b[0;34m)\u001b[0m\u001b[0;34m)\u001b[0m\u001b[0;34m\u001b[0m\u001b[0m\n\u001b[1;32m    368\u001b[0m             \u001b[0mprint\u001b[0m\u001b[0;34m(\u001b[0m\u001b[0;34m\"        ^^^^ %s\"\u001b[0m \u001b[0;34m%\u001b[0m \u001b[0mmessage\u001b[0m\u001b[0;34m)\u001b[0m\u001b[0;34m\u001b[0m\u001b[0m\n\u001b[0;32m--> 369\u001b[0;31m             \u001b[0;32mreturn\u001b[0m \u001b[0mfun\u001b[0m\u001b[0;34m(\u001b[0m\u001b[0;34m*\u001b[0m\u001b[0margs\u001b[0m\u001b[0;34m,\u001b[0m \u001b[0;34m**\u001b[0m\u001b[0mkwargs\u001b[0m\u001b[0;34m)\u001b[0m\u001b[0;34m\u001b[0m\u001b[0m\n\u001b[0m\u001b[1;32m    370\u001b[0m \u001b[0;34m\u001b[0m\u001b[0m\n\u001b[1;32m    371\u001b[0m         \u001b[0mdecorator_invisible\u001b[0m\u001b[0;34m.\u001b[0m\u001b[0m__doc__\u001b[0m \u001b[0;34m=\u001b[0m \u001b[0mmessage\u001b[0m\u001b[0;34m\u001b[0m\u001b[0m\n",
      "\u001b[0;32m~/anaconda3/lib/python3.6/site-packages/h2o/h2o.py\u001b[0m in \u001b[0;36mshutdown\u001b[0;34m(prompt)\u001b[0m\n\u001b[1;32m   1324\u001b[0m \u001b[0;32mdef\u001b[0m \u001b[0mshutdown\u001b[0m\u001b[0;34m(\u001b[0m\u001b[0mprompt\u001b[0m\u001b[0;34m=\u001b[0m\u001b[0;32mFalse\u001b[0m\u001b[0;34m)\u001b[0m\u001b[0;34m:\u001b[0m\u001b[0;34m\u001b[0m\u001b[0m\n\u001b[1;32m   1325\u001b[0m     \u001b[0;34m\"\"\"Deprecated.\"\"\"\u001b[0m\u001b[0;34m\u001b[0m\u001b[0m\n\u001b[0;32m-> 1326\u001b[0;31m     \u001b[0m_check_connection\u001b[0m\u001b[0;34m(\u001b[0m\u001b[0;34m)\u001b[0m\u001b[0;34m\u001b[0m\u001b[0m\n\u001b[0m\u001b[1;32m   1327\u001b[0m     \u001b[0mcluster\u001b[0m\u001b[0;34m(\u001b[0m\u001b[0;34m)\u001b[0m\u001b[0;34m.\u001b[0m\u001b[0mshutdown\u001b[0m\u001b[0;34m(\u001b[0m\u001b[0mprompt\u001b[0m\u001b[0;34m)\u001b[0m\u001b[0;34m\u001b[0m\u001b[0m\n\u001b[1;32m   1328\u001b[0m \u001b[0;34m\u001b[0m\u001b[0m\n",
      "\u001b[0;32m~/anaconda3/lib/python3.6/site-packages/h2o/h2o.py\u001b[0m in \u001b[0;36m_check_connection\u001b[0;34m()\u001b[0m\n\u001b[1;32m   1279\u001b[0m \u001b[0;32mdef\u001b[0m \u001b[0m_check_connection\u001b[0m\u001b[0;34m(\u001b[0m\u001b[0;34m)\u001b[0m\u001b[0;34m:\u001b[0m\u001b[0;34m\u001b[0m\u001b[0m\n\u001b[1;32m   1280\u001b[0m     \u001b[0;32mif\u001b[0m \u001b[0;32mnot\u001b[0m \u001b[0mh2oconn\u001b[0m \u001b[0;32mor\u001b[0m \u001b[0;32mnot\u001b[0m \u001b[0mh2oconn\u001b[0m\u001b[0;34m.\u001b[0m\u001b[0mcluster\u001b[0m\u001b[0;34m:\u001b[0m\u001b[0;34m\u001b[0m\u001b[0m\n\u001b[0;32m-> 1281\u001b[0;31m         \u001b[0;32mraise\u001b[0m \u001b[0mH2OConnectionError\u001b[0m\u001b[0;34m(\u001b[0m\u001b[0;34m\"Not connected to a cluster. Did you run `h2o.connect()`?\"\u001b[0m\u001b[0;34m)\u001b[0m\u001b[0;34m\u001b[0m\u001b[0m\n\u001b[0m\u001b[1;32m   1282\u001b[0m \u001b[0;34m\u001b[0m\u001b[0m\n\u001b[1;32m   1283\u001b[0m \u001b[0;32mdef\u001b[0m \u001b[0m_connect_with_conf\u001b[0m\u001b[0;34m(\u001b[0m\u001b[0mconn_conf\u001b[0m\u001b[0;34m)\u001b[0m\u001b[0;34m:\u001b[0m\u001b[0;34m\u001b[0m\u001b[0m\n",
      "\u001b[0;31mH2OConnectionError\u001b[0m: Not connected to a cluster. Did you run `h2o.connect()`?"
     ]
    }
   ],
   "source": [
    "h2o.shutdown(prompt=False)"
   ]
  },
  {
   "cell_type": "code",
   "execution_count": null,
   "metadata": {
    "collapsed": true
   },
   "outputs": [],
   "source": []
  }
 ],
 "metadata": {
  "kernelspec": {
   "display_name": "Python 3",
   "language": "python",
   "name": "python3"
  },
  "language_info": {
   "codemirror_mode": {
    "name": "ipython",
    "version": 3
   },
   "file_extension": ".py",
   "mimetype": "text/x-python",
   "name": "python",
   "nbconvert_exporter": "python",
   "pygments_lexer": "ipython3",
   "version": "3.6.2"
  }
 },
 "nbformat": 4,
 "nbformat_minor": 2
}
