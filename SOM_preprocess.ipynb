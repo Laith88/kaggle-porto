{
 "cells": [
  {
   "cell_type": "code",
   "execution_count": 3,
   "metadata": {
    "collapsed": true
   },
   "outputs": [],
   "source": [
    "import time\n",
    "\n",
    "import numpy as np\n",
    "import pandas as pd\n",
    "import seaborn as sns\n",
    "import datetime as dt\n",
    "\n",
    "from matplotlib import pyplot as plt\n",
    "from matplotlib import patches as patches\n",
    "from matplotlib.pylab import rcParams\n",
    "rcParams['figure.figsize'] = 24, 8\n",
    "%matplotlib inline\n",
    "\n",
    "sns.set_context(context='notebook')\n",
    "\n",
    "from sklearn.model_selection import StratifiedKFold\n",
    "from sklearn.preprocessing import StandardScaler, RobustScaler, MaxAbsScaler, LabelEncoder, OneHotEncoder"
   ]
  },
  {
   "cell_type": "code",
   "execution_count": 4,
   "metadata": {
    "collapsed": true
   },
   "outputs": [],
   "source": [
    "def prepare_data():\n",
    "    non_imp = ['ps_ind_12_bin','ps_ind_13_bin','ps_ind_18_bin','ps_car_10_cat','ps_ind_11_bin','ps_ind_10_bin','ps_ind_14']\n",
    "    \n",
    "    train = (pd.read_csv('../data/train.csv', na_values=999)\n",
    "              .fillna(value=999))\n",
    "    unwanted = list((set(train.columns[train.columns.str.startswith('ps_calc_')])|set(non_imp)))\n",
    "    train.drop(unwanted, axis=1, inplace=True)\n",
    "            \n",
    "    test  = (pd.read_csv('../data/test.csv', na_values=999)\n",
    "              .fillna(value=999)\n",
    "              .drop(unwanted, axis=1)) \n",
    "    \n",
    "    y = train.target.values        \n",
    "    train = train.drop(['id', 'target'], axis=1)\n",
    "    \n",
    "    test_id = test.id.values\n",
    "    test = test.drop('id', axis=1)\n",
    "    \n",
    "    fl = train.columns.tolist()\n",
    "    \n",
    "    return train.values, y, test.values, test_id, fl"
   ]
  },
  {
   "cell_type": "code",
   "execution_count": 5,
   "metadata": {
    "collapsed": true
   },
   "outputs": [],
   "source": [
    "X, y, X_test, test_id, features = prepare_data()"
   ]
  },
  {
   "cell_type": "code",
   "execution_count": 69,
   "metadata": {
    "collapsed": true
   },
   "outputs": [],
   "source": [
    "import numpy as np\n",
    "raw_data = np.random.randint(0, 255, (25, 10000))"
   ]
  },
  {
   "cell_type": "code",
   "execution_count": 70,
   "metadata": {},
   "outputs": [],
   "source": [
    "network_dimensions = np.array([5, 5])\n",
    "n_iterations = 10000\n",
    "init_learning_rate = 0.01\n",
    "\n",
    "# size of the data \n",
    "m = raw_data.shape[0]\n",
    "n = raw_data.shape[1]\n",
    "\n",
    "#weight matrix\n",
    "\n",
    "net = np.random.random((network_dimensions[0], network_dimensions[0], m))\n",
    "\n",
    "#initial neighbourhood radius\n",
    "init_radius = max(network_dimensions[0], network_dimensions[1])/2\n",
    "\n",
    "#radius decay parameter\n",
    "time_constant = n_iterations / np.log(init_radius)"
   ]
  },
  {
   "cell_type": "code",
   "execution_count": 71,
   "metadata": {
    "collapsed": true
   },
   "outputs": [],
   "source": [
    "normalise_data = True\n",
    "\n",
    "# if True, assume all data is on common scale\n",
    "# if False, normalise to [0 1] range along each column\n",
    "normalise_by_column = True\n",
    "\n",
    "# we want to keep a copy of the raw data for later\n",
    "data = raw_data\n",
    "\n",
    "# check if data needs to be normalised\n",
    "if normalise_data:\n",
    "    if normalise_by_column:\n",
    "        # normalise along each column\n",
    "        col_maxes = raw_data.max(axis=0)\n",
    "        data = raw_data / col_maxes[np.newaxis, :]\n",
    "    else:\n",
    "        # normalise entire dataset\n",
    "        data = raw_data / data.max()"
   ]
  },
  {
   "cell_type": "markdown",
   "metadata": {},
   "source": [
    "### Learning\n",
    "#### for each iteration:\n",
    "1. find the neuron in the SOM whose associated n-D vector is associated to the our chosen n-D vector. At each step, this is called the Best Matching Unit(BMU).\n",
    "2. Move the BMU's n-D weight vector to the unput vector in n-D space\n",
    "3. Identify the 2D neihbours of the BMU and also move their n-D weight vector closer to the input vector, although by a samller amount\n",
    "4. update the learning rate, by reducing it at each iteration"
   ]
  },
  {
   "cell_type": "code",
   "execution_count": 61,
   "metadata": {
    "collapsed": true
   },
   "outputs": [],
   "source": [
    "def find_bmu(t, net, m):\n",
    "    \"\"\"\n",
    "        Find the best matching unit for a given vector, t, in the SOM\n",
    "        Returns: a (bmu, bmu_idx) tuple where bmu is the high-dimensional BMU\n",
    "                 and bmu_idx is the index of this vector in the SOM\n",
    "    \"\"\"\n",
    "    bmu_idx = np.array([0, 0])\n",
    "    # set the initial minimum distance to a huge number\n",
    "    min_dist = np.iinfo(np.int).max\n",
    "    # calculate the high-dimensional distance between each neuron and the input\n",
    "    for x in range(net.shape[0]):\n",
    "        for y in range(net.shape[1]):\n",
    "            w = net[x, y, :].reshape(m, 1)\n",
    "            # don't bother with actual Euclidean distance, to avoid expensive sqrt operation\n",
    "            sq_dist = np.sum((w - t) ** 2)\n",
    "            if sq_dist < min_dist:\n",
    "                min_dist = sq_dist\n",
    "                bmu_idx = np.array([x, y])\n",
    "    # get vector corresponding to bmu_idx\n",
    "    bmu = net[bmu_idx[0], bmu_idx[1], :].reshape(m, 1)\n",
    "    # return the (bmu, bmu_idx) tuple\n",
    "    return (bmu, bmu_idx)"
   ]
  },
  {
   "cell_type": "code",
   "execution_count": 42,
   "metadata": {
    "collapsed": true
   },
   "outputs": [],
   "source": [
    "def decay_radius(initial_radius, i, time_constant):\n",
    "    return initial_radius * np.exp(-i / time_constant)\n",
    "\n",
    "def decay_learning_rate(initial_learning_rate, i, n_iterations):\n",
    "    return initial_learning_rate * np.exp(-i / n_iterations)\n",
    "\n",
    "def calculate_influence(distance, radius):\n",
    "    return np.exp(-distance**2 / (2* (radius**2)))"
   ]
  },
  {
   "cell_type": "code",
   "execution_count": 73,
   "metadata": {},
   "outputs": [],
   "source": [
    "for i in range(n_iterations):\n",
    "    #print('Iteration %d' % i)\n",
    "    \n",
    "    # select a training example at random\n",
    "    t = data[:, np.random.randint(0, n)].reshape(np.array([m, 1]))\n",
    "    \n",
    "    # find its Best Matching Unit\n",
    "    bmu, bmu_idx = find_bmu(t, net, m)\n",
    "    \n",
    "    # decay the SOM parameters\n",
    "    r = decay_radius(init_radius, i, time_constant)\n",
    "    l = decay_learning_rate(init_learning_rate, i, n_iterations)\n",
    "    \n",
    "    # now we know the BMU, update its weight vector to move closer to input\n",
    "    # and move its neighbours in 2-D space closer\n",
    "    # by a factor proportional to their 2-D distance from the BMU\n",
    "    for x in range(net.shape[0]):\n",
    "        for y in range(net.shape[1]):\n",
    "            w = net[x, y, :].reshape(m, 1)\n",
    "            # get the 2-D distance (again, not the actual Euclidean distance)\n",
    "            w_dist = np.sum((np.array([x, y]) - bmu_idx) ** 2)\n",
    "            # if the distance is within the current neighbourhood radius\n",
    "            if w_dist <= r**2:\n",
    "                # calculate the degree of influence (based on the 2-D distance)\n",
    "                influence = calculate_influence(w_dist, r)\n",
    "                # now update the neuron's weight using the formula:\n",
    "                # new w = old w + (learning rate * influence * delta)\n",
    "                # where delta = input vector (t) - old w\n",
    "                new_w = w + (l * influence * (t - w))\n",
    "                # commit the new weight\n",
    "                net[x, y, :] = new_w.reshape(1, 25)"
   ]
  },
  {
   "cell_type": "code",
   "execution_count": 79,
   "metadata": {},
   "outputs": [
    {
     "data": {
      "text/plain": [
       "array([[[ 0.58081445,  0.54539462,  0.59856786,  0.41963622,  0.54740156,\n",
       "          0.42143873,  0.58349048,  0.63275224,  0.36809537,  0.33324687,\n",
       "          0.63441785,  0.57384142,  0.4847475 ,  0.61638532,  0.34536598,\n",
       "          0.53354172,  0.40126689,  0.5628721 ,  0.5652829 ,  0.53114855,\n",
       "          0.66083906,  0.39700517,  0.63966234,  0.59484201,  0.4556122 ],\n",
       "        [ 0.61982526,  0.4710445 ,  0.6327867 ,  0.4821647 ,  0.48885405,\n",
       "          0.4201074 ,  0.56288059,  0.5972559 ,  0.43410961,  0.42816687,\n",
       "          0.6671523 ,  0.53202365,  0.56397981,  0.58363696,  0.40375686,\n",
       "          0.59595898,  0.38241253,  0.63327382,  0.52088961,  0.5059136 ,\n",
       "          0.53132315,  0.40413397,  0.58331707,  0.64043547,  0.42390986],\n",
       "        [ 0.65498019,  0.40896361,  0.59524438,  0.51798529,  0.47794117,\n",
       "          0.49803435,  0.49376211,  0.53013038,  0.52912169,  0.58402132,\n",
       "          0.65572509,  0.48194209,  0.65761317,  0.50223236,  0.47974492,\n",
       "          0.59285691,  0.39750637,  0.63144078,  0.45679441,  0.45444993,\n",
       "          0.35918215,  0.4637461 ,  0.4585679 ,  0.66385603,  0.42691637],\n",
       "        [ 0.62128828,  0.4579936 ,  0.46283973,  0.42589604,  0.54397414,\n",
       "          0.51586842,  0.46853904,  0.53847248,  0.5789927 ,  0.60210091,\n",
       "          0.56187179,  0.52033665,  0.70436349,  0.41622751,  0.5140649 ,\n",
       "          0.59164419,  0.41643955,  0.45372778,  0.39372332,  0.4244539 ,\n",
       "          0.38791253,  0.49391342,  0.39069288,  0.6075732 ,  0.51927108],\n",
       "        [ 0.55075668,  0.52921065,  0.3540136 ,  0.38584108,  0.56836134,\n",
       "          0.50013775,  0.47643144,  0.54793674,  0.61738499,  0.54615297,\n",
       "          0.50246823,  0.55974621,  0.66402366,  0.38258275,  0.50334064,\n",
       "          0.58227226,  0.47996671,  0.30255865,  0.37642849,  0.42322072,\n",
       "          0.52779157,  0.48537234,  0.36794169,  0.55363687,  0.56799462]],\n",
       "\n",
       "       [[ 0.57488167,  0.64525224,  0.5500286 ,  0.44182   ,  0.55752795,\n",
       "          0.57135814,  0.54721983,  0.59107709,  0.35926055,  0.46841076,\n",
       "          0.59328557,  0.54911553,  0.39332087,  0.6063915 ,  0.3288491 ,\n",
       "          0.54872568,  0.49290959,  0.49240426,  0.60151094,  0.59648938,\n",
       "          0.60528853,  0.4163354 ,  0.58266501,  0.56526167,  0.47140745],\n",
       "        [ 0.59631679,  0.53100496,  0.56559258,  0.54458671,  0.50798874,\n",
       "          0.58823984,  0.54217942,  0.52653106,  0.42856098,  0.5519205 ,\n",
       "          0.57250491,  0.53062661,  0.45337904,  0.59373909,  0.40499776,\n",
       "          0.61432949,  0.53433279,  0.61004385,  0.55175357,  0.53940873,\n",
       "          0.49060054,  0.40883406,  0.51369463,  0.62176398,  0.3853486 ],\n",
       "        [ 0.62190786,  0.38581428,  0.57524679,  0.61055286,  0.47948852,\n",
       "          0.59122935,  0.50286463,  0.49333207,  0.52986762,  0.65348413,\n",
       "          0.55611762,  0.52615502,  0.5287533 ,  0.52711189,  0.49549469,\n",
       "          0.57738977,  0.56169103,  0.69565397,  0.50242042,  0.42890181,\n",
       "          0.38306039,  0.43139243,  0.44937302,  0.62806579,  0.37621451],\n",
       "        [ 0.62664559,  0.44268321,  0.49943904,  0.53717761,  0.50901403,\n",
       "          0.55515561,  0.51962074,  0.48634789,  0.59628518,  0.59286819,\n",
       "          0.51270072,  0.58268254,  0.57418941,  0.43987834,  0.56039625,\n",
       "          0.55618292,  0.56933024,  0.54410859,  0.43441372,  0.38723786,\n",
       "          0.52025478,  0.45602433,  0.37741773,  0.56604627,  0.50830822],\n",
       "        [ 0.56525771,  0.55080754,  0.40248757,  0.48609354,  0.5099543 ,\n",
       "          0.49687704,  0.54952345,  0.50591673,  0.65466762,  0.49691642,\n",
       "          0.52891113,  0.58303879,  0.52782663,  0.39679879,  0.52879623,\n",
       "          0.54349833,  0.5864878 ,  0.37129702,  0.41681108,  0.40625999,\n",
       "          0.67544106,  0.47412582,  0.36921015,  0.50080451,  0.59791979]],\n",
       "\n",
       "       [[ 0.56321119,  0.70747366,  0.53738073,  0.4902292 ,  0.56775055,\n",
       "          0.61946528,  0.5004935 ,  0.51884019,  0.4126266 ,  0.66459943,\n",
       "          0.50727512,  0.48633787,  0.3590843 ,  0.60152913,  0.41308673,\n",
       "          0.51853617,  0.5895583 ,  0.36447752,  0.62836379,  0.63136201,\n",
       "          0.49444172,  0.49646723,  0.50174   ,  0.51510684,  0.52039857],\n",
       "        [ 0.53616514,  0.55903339,  0.4965779 ,  0.58429272,  0.55899381,\n",
       "          0.62546779,  0.50122686,  0.50849924,  0.44458547,  0.66346306,\n",
       "          0.41032592,  0.49499683,  0.33917326,  0.61645414,  0.52590696,\n",
       "          0.53664243,  0.61913969,  0.50011238,  0.58218335,  0.55623224,\n",
       "          0.45315745,  0.47274812,  0.54620362,  0.53597555,  0.42632343],\n",
       "        [ 0.51933512,  0.37569615,  0.49379467,  0.64361457,  0.55104416,\n",
       "          0.59960484,  0.50328596,  0.48432447,  0.54023367,  0.60878777,\n",
       "          0.38423828,  0.55299061,  0.40991275,  0.5970083 ,  0.59596324,\n",
       "          0.48725854,  0.61909029,  0.67333351,  0.51721509,  0.43792457,\n",
       "          0.49234168,  0.45113881,  0.55431633,  0.54381348,  0.39676368],\n",
       "        [ 0.5608268 ,  0.42987528,  0.51899261,  0.63620342,  0.52625482,\n",
       "          0.55830221,  0.57192866,  0.46646515,  0.6298551 ,  0.48541387,\n",
       "          0.45577408,  0.59017952,  0.39471006,  0.51198589,  0.61354782,\n",
       "          0.47809546,  0.59402157,  0.67503106,  0.49360106,  0.39442815,\n",
       "          0.63925401,  0.46665644,  0.47923822,  0.46969411,  0.5272987 ],\n",
       "        [ 0.57610532,  0.55715645,  0.4797275 ,  0.60899389,  0.483932  ,\n",
       "          0.49305556,  0.61486205,  0.47221597,  0.69035096,  0.39890587,\n",
       "          0.57141906,  0.55700907,  0.3821655 ,  0.4621109 ,  0.57028842,\n",
       "          0.48357361,  0.61469243,  0.56316236,  0.49152012,  0.43361032,\n",
       "          0.7050566 ,  0.51812557,  0.39225897,  0.44101094,  0.60428168]],\n",
       "\n",
       "       [[ 0.53007543,  0.65363856,  0.64591474,  0.49262535,  0.53220214,\n",
       "          0.46483507,  0.4905081 ,  0.5051545 ,  0.47414297,  0.69117328,\n",
       "          0.47674622,  0.47625501,  0.47899845,  0.55307067,  0.52932438,\n",
       "          0.46280751,  0.61785391,  0.27228793,  0.63399289,  0.62008616,\n",
       "          0.45749126,  0.60665715,  0.50201838,  0.48616435,  0.52701452],\n",
       "        [ 0.46042706,  0.52269928,  0.52842805,  0.52575441,  0.53011533,\n",
       "          0.49116574,  0.49715324,  0.5105812 ,  0.47116949,  0.61004226,\n",
       "          0.37849021,  0.4845363 ,  0.46059567,  0.57028735,  0.63532917,\n",
       "          0.48246386,  0.58084378,  0.37077097,  0.55818777,  0.57755037,\n",
       "          0.51866221,  0.59745331,  0.63364813,  0.50405409,  0.44958294],\n",
       "        [ 0.39451452,  0.37513568,  0.4349527 ,  0.5507441 ,  0.52754725,\n",
       "          0.57355892,  0.48838239,  0.48087572,  0.50498025,  0.52727556,\n",
       "          0.35883336,  0.51580685,  0.47744083,  0.56702074,  0.67023436,\n",
       "          0.45657599,  0.5258616 ,  0.57636721,  0.48400544,  0.51204182,\n",
       "          0.57919234,  0.56044116,  0.71505861,  0.50250903,  0.45646887],\n",
       "        [ 0.43502091,  0.42701356,  0.42146958,  0.5338864 ,  0.51815178,\n",
       "          0.59044436,  0.54564566,  0.46808981,  0.57322012,  0.4094427 ,\n",
       "          0.45144176,  0.52459578,  0.47049992,  0.50429974,  0.62064478,\n",
       "          0.45225744,  0.5021121 ,  0.71228202,  0.50342264,  0.51866372,\n",
       "          0.58523598,  0.56751621,  0.58106042,  0.43900384,  0.55265957],\n",
       "        [ 0.4954749 ,  0.58188543,  0.42955945,  0.56683108,  0.51129759,\n",
       "          0.5388203 ,  0.59872485,  0.47723122,  0.63676995,  0.34649819,\n",
       "          0.60176524,  0.47853401,  0.43656462,  0.48737282,  0.52786455,\n",
       "          0.45822206,  0.54767308,  0.69493428,  0.54943996,  0.53482463,\n",
       "          0.52939149,  0.60762919,  0.41449756,  0.39248302,  0.60897055]],\n",
       "\n",
       "       [[ 0.4803849 ,  0.57230117,  0.74696194,  0.47904534,  0.53005976,\n",
       "          0.36126297,  0.47598996,  0.52755466,  0.49673992,  0.59393688,\n",
       "          0.45655019,  0.5105196 ,  0.6466956 ,  0.50756654,  0.58277526,\n",
       "          0.46894995,  0.59549403,  0.25529724,  0.61752292,  0.62202775,\n",
       "          0.47148881,  0.64008838,  0.52089496,  0.46850345,  0.51772577],\n",
       "        [ 0.41073822,  0.48045678,  0.64959638,  0.48391933,  0.51556093,\n",
       "          0.41988987,  0.46499957,  0.52754933,  0.47294611,  0.5061256 ,\n",
       "          0.40531917,  0.50842802,  0.6578476 ,  0.50845269,  0.6487502 ,\n",
       "          0.50473373,  0.51982109,  0.32326608,  0.551608  ,  0.6068565 ,\n",
       "          0.53605101,  0.65197077,  0.65567526,  0.46961166,  0.49918695],\n",
       "        [ 0.33084828,  0.38855104,  0.48171583,  0.46682867,  0.50988056,\n",
       "          0.54129167,  0.45768273,  0.50307578,  0.47002792,  0.45244261,\n",
       "          0.39004906,  0.52635995,  0.66440149,  0.52768596,  0.6293739 ,\n",
       "          0.51611502,  0.43504753,  0.51211627,  0.49011056,  0.59142608,\n",
       "          0.57833138,  0.62525159,  0.73671953,  0.45574622,  0.54394833],\n",
       "        [ 0.34339611,  0.46868893,  0.40561625,  0.46450092,  0.52796853,\n",
       "          0.60467134,  0.49152027,  0.49286933,  0.50480638,  0.39926674,\n",
       "          0.48421206,  0.49991632,  0.64328009,  0.50686764,  0.53086167,\n",
       "          0.49168527,  0.41899542,  0.68456084,  0.53464856,  0.59931286,\n",
       "          0.47745866,  0.62415827,  0.59583669,  0.38464952,  0.62906536],\n",
       "        [ 0.41286707,  0.57271415,  0.38482491,  0.50202704,  0.54480329,\n",
       "          0.57416319,  0.53720818,  0.50482944,  0.57389693,  0.36834489,\n",
       "          0.57505543,  0.46385115,  0.58448672,  0.51846623,  0.46470984,\n",
       "          0.46878591,  0.49175945,  0.73000947,  0.58459955,  0.6031147 ,\n",
       "          0.37449406,  0.64450393,  0.435216  ,  0.35392682,  0.62958174]]])"
      ]
     },
     "execution_count": 79,
     "metadata": {},
     "output_type": "execute_result"
    }
   ],
   "source": [
    "net"
   ]
  },
  {
   "cell_type": "code",
   "execution_count": 74,
   "metadata": {},
   "outputs": [
    {
     "ename": "ValueError",
     "evalue": "RGBA sequence should have length 3 or 4",
     "output_type": "error",
     "traceback": [
      "\u001b[0;31m---------------------------------------------------------------------------\u001b[0m",
      "\u001b[0;31mTypeError\u001b[0m                                 Traceback (most recent call last)",
      "\u001b[0;32m~/anaconda3/lib/python3.6/site-packages/matplotlib/colors.py\u001b[0m in \u001b[0;36mto_rgba\u001b[0;34m(c, alpha)\u001b[0m\n\u001b[1;32m    140\u001b[0m     \u001b[0;32mtry\u001b[0m\u001b[0;34m:\u001b[0m\u001b[0;34m\u001b[0m\u001b[0m\n\u001b[0;32m--> 141\u001b[0;31m         \u001b[0mrgba\u001b[0m \u001b[0;34m=\u001b[0m \u001b[0m_colors_full_map\u001b[0m\u001b[0;34m.\u001b[0m\u001b[0mcache\u001b[0m\u001b[0;34m[\u001b[0m\u001b[0mc\u001b[0m\u001b[0;34m,\u001b[0m \u001b[0malpha\u001b[0m\u001b[0;34m]\u001b[0m\u001b[0;34m\u001b[0m\u001b[0m\n\u001b[0m\u001b[1;32m    142\u001b[0m     \u001b[0;32mexcept\u001b[0m \u001b[0;34m(\u001b[0m\u001b[0mKeyError\u001b[0m\u001b[0;34m,\u001b[0m \u001b[0mTypeError\u001b[0m\u001b[0;34m)\u001b[0m\u001b[0;34m:\u001b[0m  \u001b[0;31m# Not in cache, or unhashable.\u001b[0m\u001b[0;34m\u001b[0m\u001b[0m\n",
      "\u001b[0;31mTypeError\u001b[0m: unhashable type: 'numpy.ndarray'",
      "\nDuring handling of the above exception, another exception occurred:\n",
      "\u001b[0;31mValueError\u001b[0m                                Traceback (most recent call last)",
      "\u001b[0;32m<ipython-input-74-a5fb8b4dd487>\u001b[0m in \u001b[0;36m<module>\u001b[0;34m()\u001b[0m\n\u001b[1;32m     11\u001b[0m         ax.add_patch(patches.Rectangle((x-0.5, y-0.5), 1, 1,\n\u001b[1;32m     12\u001b[0m                      \u001b[0mfacecolor\u001b[0m\u001b[0;34m=\u001b[0m\u001b[0mnet\u001b[0m\u001b[0;34m[\u001b[0m\u001b[0mx\u001b[0m\u001b[0;34m-\u001b[0m\u001b[0;36m1\u001b[0m\u001b[0;34m,\u001b[0m\u001b[0my\u001b[0m\u001b[0;34m-\u001b[0m\u001b[0;36m1\u001b[0m\u001b[0;34m,\u001b[0m\u001b[0;34m:\u001b[0m\u001b[0;34m]\u001b[0m\u001b[0;34m,\u001b[0m\u001b[0;34m\u001b[0m\u001b[0m\n\u001b[0;32m---> 13\u001b[0;31m                      edgecolor='none'))\n\u001b[0m\u001b[1;32m     14\u001b[0m \u001b[0mplt\u001b[0m\u001b[0;34m.\u001b[0m\u001b[0mshow\u001b[0m\u001b[0;34m(\u001b[0m\u001b[0;34m)\u001b[0m\u001b[0;34m\u001b[0m\u001b[0m\n",
      "\u001b[0;32m~/anaconda3/lib/python3.6/site-packages/matplotlib/patches.py\u001b[0m in \u001b[0;36m__init__\u001b[0;34m(self, xy, width, height, angle, **kwargs)\u001b[0m\n\u001b[1;32m    686\u001b[0m         \"\"\"\n\u001b[1;32m    687\u001b[0m \u001b[0;34m\u001b[0m\u001b[0m\n\u001b[0;32m--> 688\u001b[0;31m         \u001b[0mPatch\u001b[0m\u001b[0;34m.\u001b[0m\u001b[0m__init__\u001b[0m\u001b[0;34m(\u001b[0m\u001b[0mself\u001b[0m\u001b[0;34m,\u001b[0m \u001b[0;34m**\u001b[0m\u001b[0mkwargs\u001b[0m\u001b[0;34m)\u001b[0m\u001b[0;34m\u001b[0m\u001b[0m\n\u001b[0m\u001b[1;32m    689\u001b[0m \u001b[0;34m\u001b[0m\u001b[0m\n\u001b[1;32m    690\u001b[0m         \u001b[0mself\u001b[0m\u001b[0;34m.\u001b[0m\u001b[0m_x\u001b[0m \u001b[0;34m=\u001b[0m \u001b[0mfloat\u001b[0m\u001b[0;34m(\u001b[0m\u001b[0mxy\u001b[0m\u001b[0;34m[\u001b[0m\u001b[0;36m0\u001b[0m\u001b[0;34m]\u001b[0m\u001b[0;34m)\u001b[0m\u001b[0;34m\u001b[0m\u001b[0m\n",
      "\u001b[0;32m~/anaconda3/lib/python3.6/site-packages/matplotlib/patches.py\u001b[0m in \u001b[0;36m__init__\u001b[0;34m(self, edgecolor, facecolor, color, linewidth, linestyle, antialiased, hatch, fill, capstyle, joinstyle, **kwargs)\u001b[0m\n\u001b[1;32m    124\u001b[0m         \u001b[0;32melse\u001b[0m\u001b[0;34m:\u001b[0m\u001b[0;34m\u001b[0m\u001b[0m\n\u001b[1;32m    125\u001b[0m             \u001b[0mself\u001b[0m\u001b[0;34m.\u001b[0m\u001b[0mset_edgecolor\u001b[0m\u001b[0;34m(\u001b[0m\u001b[0medgecolor\u001b[0m\u001b[0;34m)\u001b[0m\u001b[0;34m\u001b[0m\u001b[0m\n\u001b[0;32m--> 126\u001b[0;31m             \u001b[0mself\u001b[0m\u001b[0;34m.\u001b[0m\u001b[0mset_facecolor\u001b[0m\u001b[0;34m(\u001b[0m\u001b[0mfacecolor\u001b[0m\u001b[0;34m)\u001b[0m\u001b[0;34m\u001b[0m\u001b[0m\n\u001b[0m\u001b[1;32m    127\u001b[0m         \u001b[0;31m# unscaled dashes.  Needed to scale dash patterns by lw\u001b[0m\u001b[0;34m\u001b[0m\u001b[0;34m\u001b[0m\u001b[0m\n\u001b[1;32m    128\u001b[0m         \u001b[0mself\u001b[0m\u001b[0;34m.\u001b[0m\u001b[0m_us_dashes\u001b[0m \u001b[0;34m=\u001b[0m \u001b[0;32mNone\u001b[0m\u001b[0;34m\u001b[0m\u001b[0m\n",
      "\u001b[0;32m~/anaconda3/lib/python3.6/site-packages/matplotlib/patches.py\u001b[0m in \u001b[0;36mset_facecolor\u001b[0;34m(self, color)\u001b[0m\n\u001b[1;32m    332\u001b[0m         \"\"\"\n\u001b[1;32m    333\u001b[0m         \u001b[0mself\u001b[0m\u001b[0;34m.\u001b[0m\u001b[0m_original_facecolor\u001b[0m \u001b[0;34m=\u001b[0m \u001b[0mcolor\u001b[0m\u001b[0;34m\u001b[0m\u001b[0m\n\u001b[0;32m--> 334\u001b[0;31m         \u001b[0mself\u001b[0m\u001b[0;34m.\u001b[0m\u001b[0m_set_facecolor\u001b[0m\u001b[0;34m(\u001b[0m\u001b[0mcolor\u001b[0m\u001b[0;34m)\u001b[0m\u001b[0;34m\u001b[0m\u001b[0m\n\u001b[0m\u001b[1;32m    335\u001b[0m \u001b[0;34m\u001b[0m\u001b[0m\n\u001b[1;32m    336\u001b[0m     \u001b[0;32mdef\u001b[0m \u001b[0mset_fc\u001b[0m\u001b[0;34m(\u001b[0m\u001b[0mself\u001b[0m\u001b[0;34m,\u001b[0m \u001b[0mcolor\u001b[0m\u001b[0;34m)\u001b[0m\u001b[0;34m:\u001b[0m\u001b[0;34m\u001b[0m\u001b[0m\n",
      "\u001b[0;32m~/anaconda3/lib/python3.6/site-packages/matplotlib/patches.py\u001b[0m in \u001b[0;36m_set_facecolor\u001b[0;34m(self, color)\u001b[0m\n\u001b[1;32m    322\u001b[0m             \u001b[0mcolor\u001b[0m \u001b[0;34m=\u001b[0m \u001b[0mmpl\u001b[0m\u001b[0;34m.\u001b[0m\u001b[0mrcParams\u001b[0m\u001b[0;34m[\u001b[0m\u001b[0;34m'patch.facecolor'\u001b[0m\u001b[0;34m]\u001b[0m\u001b[0;34m\u001b[0m\u001b[0m\n\u001b[1;32m    323\u001b[0m         \u001b[0malpha\u001b[0m \u001b[0;34m=\u001b[0m \u001b[0mself\u001b[0m\u001b[0;34m.\u001b[0m\u001b[0m_alpha\u001b[0m \u001b[0;32mif\u001b[0m \u001b[0mself\u001b[0m\u001b[0;34m.\u001b[0m\u001b[0m_fill\u001b[0m \u001b[0;32melse\u001b[0m \u001b[0;36m0\u001b[0m\u001b[0;34m\u001b[0m\u001b[0m\n\u001b[0;32m--> 324\u001b[0;31m         \u001b[0mself\u001b[0m\u001b[0;34m.\u001b[0m\u001b[0m_facecolor\u001b[0m \u001b[0;34m=\u001b[0m \u001b[0mcolors\u001b[0m\u001b[0;34m.\u001b[0m\u001b[0mto_rgba\u001b[0m\u001b[0;34m(\u001b[0m\u001b[0mcolor\u001b[0m\u001b[0;34m,\u001b[0m \u001b[0malpha\u001b[0m\u001b[0;34m)\u001b[0m\u001b[0;34m\u001b[0m\u001b[0m\n\u001b[0m\u001b[1;32m    325\u001b[0m         \u001b[0mself\u001b[0m\u001b[0;34m.\u001b[0m\u001b[0mstale\u001b[0m \u001b[0;34m=\u001b[0m \u001b[0;32mTrue\u001b[0m\u001b[0;34m\u001b[0m\u001b[0m\n\u001b[1;32m    326\u001b[0m \u001b[0;34m\u001b[0m\u001b[0m\n",
      "\u001b[0;32m~/anaconda3/lib/python3.6/site-packages/matplotlib/colors.py\u001b[0m in \u001b[0;36mto_rgba\u001b[0;34m(c, alpha)\u001b[0m\n\u001b[1;32m    141\u001b[0m         \u001b[0mrgba\u001b[0m \u001b[0;34m=\u001b[0m \u001b[0m_colors_full_map\u001b[0m\u001b[0;34m.\u001b[0m\u001b[0mcache\u001b[0m\u001b[0;34m[\u001b[0m\u001b[0mc\u001b[0m\u001b[0;34m,\u001b[0m \u001b[0malpha\u001b[0m\u001b[0;34m]\u001b[0m\u001b[0;34m\u001b[0m\u001b[0m\n\u001b[1;32m    142\u001b[0m     \u001b[0;32mexcept\u001b[0m \u001b[0;34m(\u001b[0m\u001b[0mKeyError\u001b[0m\u001b[0;34m,\u001b[0m \u001b[0mTypeError\u001b[0m\u001b[0;34m)\u001b[0m\u001b[0;34m:\u001b[0m  \u001b[0;31m# Not in cache, or unhashable.\u001b[0m\u001b[0;34m\u001b[0m\u001b[0m\n\u001b[0;32m--> 143\u001b[0;31m         \u001b[0mrgba\u001b[0m \u001b[0;34m=\u001b[0m \u001b[0m_to_rgba_no_colorcycle\u001b[0m\u001b[0;34m(\u001b[0m\u001b[0mc\u001b[0m\u001b[0;34m,\u001b[0m \u001b[0malpha\u001b[0m\u001b[0;34m)\u001b[0m\u001b[0;34m\u001b[0m\u001b[0m\n\u001b[0m\u001b[1;32m    144\u001b[0m         \u001b[0;32mtry\u001b[0m\u001b[0;34m:\u001b[0m\u001b[0;34m\u001b[0m\u001b[0m\n\u001b[1;32m    145\u001b[0m             \u001b[0m_colors_full_map\u001b[0m\u001b[0;34m.\u001b[0m\u001b[0mcache\u001b[0m\u001b[0;34m[\u001b[0m\u001b[0mc\u001b[0m\u001b[0;34m,\u001b[0m \u001b[0malpha\u001b[0m\u001b[0;34m]\u001b[0m \u001b[0;34m=\u001b[0m \u001b[0mrgba\u001b[0m\u001b[0;34m\u001b[0m\u001b[0m\n",
      "\u001b[0;32m~/anaconda3/lib/python3.6/site-packages/matplotlib/colors.py\u001b[0m in \u001b[0;36m_to_rgba_no_colorcycle\u001b[0;34m(c, alpha)\u001b[0m\n\u001b[1;32m    196\u001b[0m     \u001b[0mc\u001b[0m \u001b[0;34m=\u001b[0m \u001b[0mtuple\u001b[0m\u001b[0;34m(\u001b[0m\u001b[0mc\u001b[0m\u001b[0;34m.\u001b[0m\u001b[0mastype\u001b[0m\u001b[0;34m(\u001b[0m\u001b[0mfloat\u001b[0m\u001b[0;34m)\u001b[0m\u001b[0;34m)\u001b[0m\u001b[0;34m\u001b[0m\u001b[0m\n\u001b[1;32m    197\u001b[0m     \u001b[0;32mif\u001b[0m \u001b[0mlen\u001b[0m\u001b[0;34m(\u001b[0m\u001b[0mc\u001b[0m\u001b[0;34m)\u001b[0m \u001b[0;32mnot\u001b[0m \u001b[0;32min\u001b[0m \u001b[0;34m[\u001b[0m\u001b[0;36m3\u001b[0m\u001b[0;34m,\u001b[0m \u001b[0;36m4\u001b[0m\u001b[0;34m]\u001b[0m\u001b[0;34m:\u001b[0m\u001b[0;34m\u001b[0m\u001b[0m\n\u001b[0;32m--> 198\u001b[0;31m         \u001b[0;32mraise\u001b[0m \u001b[0mValueError\u001b[0m\u001b[0;34m(\u001b[0m\u001b[0;34m\"RGBA sequence should have length 3 or 4\"\u001b[0m\u001b[0;34m)\u001b[0m\u001b[0;34m\u001b[0m\u001b[0m\n\u001b[0m\u001b[1;32m    199\u001b[0m     \u001b[0;32mif\u001b[0m \u001b[0mlen\u001b[0m\u001b[0;34m(\u001b[0m\u001b[0mc\u001b[0m\u001b[0;34m)\u001b[0m \u001b[0;34m==\u001b[0m \u001b[0;36m3\u001b[0m \u001b[0;32mand\u001b[0m \u001b[0malpha\u001b[0m \u001b[0;32mis\u001b[0m \u001b[0;32mNone\u001b[0m\u001b[0;34m:\u001b[0m\u001b[0;34m\u001b[0m\u001b[0m\n\u001b[1;32m    200\u001b[0m         \u001b[0malpha\u001b[0m \u001b[0;34m=\u001b[0m \u001b[0;36m1\u001b[0m\u001b[0;34m\u001b[0m\u001b[0m\n",
      "\u001b[0;31mValueError\u001b[0m: RGBA sequence should have length 3 or 4"
     ]
    },
    {
     "data": {
      "image/png": "[encoded data removed]",
      "text/plain": [
       "<matplotlib.figure.Figure at 0x7fbc6debdfd0>"
      ]
     },
     "metadata": {},
     "output_type": "display_data"
    }
   ],
   "source": [
    "fig = plt.figure()\n",
    "# setup axes\n",
    "ax = fig.add_subplot(111, aspect='equal')\n",
    "ax.set_xlim((0, net.shape[0]+1))\n",
    "ax.set_ylim((0, net.shape[1]+1))\n",
    "ax.set_title('Self-Organising Map after %d iterations' % n_iterations)\n",
    "\n",
    "# plot the rectangles\n",
    "for x in range(1, net.shape[0] + 1):\n",
    "    for y in range(1, net.shape[1] + 1):\n",
    "        ax.add_patch(patches.Rectangle((x-0.5, y-0.5), 1, 1,\n",
    "                     facecolor=net[x-1,y-1,:],\n",
    "                     edgecolor='none'))\n",
    "plt.show()"
   ]
  },
  {
   "cell_type": "code",
   "execution_count": 68,
   "metadata": {},
   "outputs": [
    {
     "data": {
      "text/plain": [
       "array([[[ 0.99973436,  0.28004059,  0.28313012],\n",
       "        [ 0.71647879,  0.28624641,  0.62209146],\n",
       "        [ 0.40200367,  0.25303241,  0.96888949],\n",
       "        [ 0.59763212,  0.23471966,  0.96351302],\n",
       "        [ 0.88856447,  0.23994822,  0.91461378]],\n",
       "\n",
       "       [[ 0.98927031,  0.52203057,  0.27642215],\n",
       "        [ 0.94552401,  0.61051511,  0.47841547],\n",
       "        [ 0.65004297,  0.52354363,  0.84180305],\n",
       "        [ 0.81457957,  0.52819805,  0.95477648],\n",
       "        [ 0.91732874,  0.38721162,  0.92355721]],\n",
       "\n",
       "       [[ 0.90177235,  0.86222781,  0.22811794],\n",
       "        [ 0.92887081,  0.87012218,  0.46101708],\n",
       "        [ 0.8788804 ,  0.90631532,  0.73821168],\n",
       "        [ 0.84763906,  0.83966328,  0.90204132],\n",
       "        [ 0.81530141,  0.67716017,  0.95900721]],\n",
       "\n",
       "       [[ 0.62945298,  0.97255248,  0.19837252],\n",
       "        [ 0.6157919 ,  0.98355975,  0.42647518],\n",
       "        [ 0.63671212,  0.97323429,  0.7175133 ],\n",
       "        [ 0.54680988,  0.90744025,  0.91544542],\n",
       "        [ 0.4562802 ,  0.74137183,  0.98645756]],\n",
       "\n",
       "       [[ 0.34898171,  0.99985807,  0.23466298],\n",
       "        [ 0.31238357,  0.99999085,  0.41696867],\n",
       "        [ 0.30845092,  0.99485863,  0.70394731],\n",
       "        [ 0.25281285,  0.89963032,  0.90637322],\n",
       "        [ 0.22266743,  0.77687973,  0.97978358]]])"
      ]
     },
     "execution_count": 68,
     "metadata": {},
     "output_type": "execute_result"
    }
   ],
   "source": [
    "net"
   ]
  },
  {
   "cell_type": "code",
   "execution_count": 64,
   "metadata": {},
   "outputs": [],
   "source": [
    "in_data =  np.random.randint(0, 255, (3, 1))/255"
   ]
  },
  {
   "cell_type": "code",
   "execution_count": 65,
   "metadata": {},
   "outputs": [
    {
     "data": {
      "text/plain": [
       "array([[ 168.],\n",
       "       [ 101.],\n",
       "       [  58.]])"
      ]
     },
     "execution_count": 65,
     "metadata": {},
     "output_type": "execute_result"
    }
   ],
   "source": [
    "in_data*255"
   ]
  },
  {
   "cell_type": "code",
   "execution_count": 67,
   "metadata": {},
   "outputs": [
    {
     "data": {
      "image/png": "[encoded data removed]",
      "text/plain": [
       "<matplotlib.figure.Figure at 0x7fbc6ea3e5f8>"
      ]
     },
     "metadata": {},
     "output_type": "display_data"
    }
   ],
   "source": [
    "im = np.dot(net,in_data).reshape(5,5)\n",
    "plt.imshow(im)\n",
    "plt.show()"
   ]
  },
  {
   "cell_type": "code",
   "execution_count": 21,
   "metadata": {},
   "outputs": [
    {
     "data": {
      "text/plain": [
       "array([[ 323.6234959 ,  305.787009  ,  280.00407509,  241.96359005,\n",
       "         218.67678382],\n",
       "       [ 342.02401852,  316.9119777 ,  243.71147545,  220.871569  ,\n",
       "         195.9801987 ],\n",
       "       [ 342.539344  ,  297.52267018,  234.21662838,  190.44194787,\n",
       "         156.0596191 ],\n",
       "       [ 318.71103838,  302.54092268,  226.99089959,  182.97940291,\n",
       "         150.2789833 ],\n",
       "       [ 283.55759823,  260.03806044,  235.57138074,  213.82466634,\n",
       "         169.55970146]])"
      ]
     },
     "execution_count": 21,
     "metadata": {},
     "output_type": "execute_result"
    }
   ],
   "source": [
    "im"
   ]
  },
  {
   "cell_type": "code",
   "execution_count": null,
   "metadata": {
    "collapsed": true
   },
   "outputs": [],
   "source": []
  }
 ],
 "metadata": {
  "kernelspec": {
   "display_name": "Python 3",
   "language": "python",
   "name": "python3"
  },
  "language_info": {
   "codemirror_mode": {
    "name": "ipython",
    "version": 3
   },
   "file_extension": ".py",
   "mimetype": "text/x-python",
   "name": "python",
   "nbconvert_exporter": "python",
   "pygments_lexer": "ipython3",
   "version": "3.6.2"
  }
 },
 "nbformat": 4,
 "nbformat_minor": 2
}
