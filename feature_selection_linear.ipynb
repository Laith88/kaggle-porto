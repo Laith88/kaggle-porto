{
 "cells": [
  {
   "cell_type": "code",
   "execution_count": 42,
   "metadata": {
    "collapsed": true
   },
   "outputs": [],
   "source": [
    "import pandas as pd\n",
    "import numpy as np\n",
    "from sklearn.linear_model import LinearRegression, Lasso, Ridge\n",
    "from sklearn.metrics import r2_score,mean_squared_error\n",
    "from sklearn.model_selection import cross_val_score,  train_test_split\n",
    "from sklearn.preprocessing import StandardScaler, OneHotEncoder\n",
    "from sklearn.ensemble import GradientBoostingRegressor"
   ]
  },
  {
   "cell_type": "code",
   "execution_count": 26,
   "metadata": {
    "collapsed": true
   },
   "outputs": [],
   "source": [
    "def prepare_data():\n",
    "    train = (pd.read_csv('../data/train.csv', na_values=-1)\n",
    "           .fillna(value=999))\n",
    "            \n",
    "    test  = (pd.read_csv('../data/test.csv', na_values=-1)\n",
    "               .fillna(value=999)) \n",
    "    test_id = test.id\n",
    "    y = train.target.values\n",
    "    train = train.drop(['id','target'], axis=1)\n",
    "    \n",
    "    \n",
    "    features = train.columns\n",
    "    features_bin = [i for i in features if set(i)&set('bin')==set('bin')]\n",
    "    features_cat = [i for i in features if set(i)&set('cat')==set('cat')]\n",
    "    features_con = list(set(features) - (set(features_bin)|set(features_cat)))\n",
    "    \n",
    "    \n",
    "    train_cat = np.array(train[features_cat])\n",
    "    train_cat[:,:] = np.add(train_cat[:,:],np.ones((train_cat.shape[0],train_cat.shape[1])))\n",
    "    test_cat  = np.array(test[features_cat])\n",
    "    test_cat[:,:] =  np.add(test_cat[:,:],np.ones((test_cat.shape[0],train_cat.shape[1])))\n",
    "\n",
    "    OH = OneHotEncoder()\n",
    "    OH.fit(np.array(list(train_cat) + list(test_cat)))\n",
    "    train_cat = OH.transform(train_cat).toarray()\n",
    "    test_cat = OH.transform(test_cat).toarray()\n",
    "\n",
    "    train_con = np.array(train[features_con])\n",
    "    test_con  = np.array(test[features_con])\n",
    "    RS = StandardScaler()\n",
    "    RS.fit(list(train_con) + list(test_con))\n",
    "    train_con = RS.transform(train_con)\n",
    "    train_con = RS.transform(train_con)\n",
    "\n",
    "    train_bin = np.array(train[features_bin])\n",
    "    test_bin = np.array(test[features_bin])\n",
    "\n",
    "\n",
    "    X = np.hstack((train_cat,train_con,train_bin))\n",
    "\n",
    "    X_test = np.hstack((test_cat,test_con,test_bin))\n",
    "    \n",
    "    return X, y, X_test, test_id"
   ]
  },
  {
   "cell_type": "code",
   "execution_count": 27,
   "metadata": {},
   "outputs": [],
   "source": [
    "X, y, _, _ = prepare_data()"
   ]
  },
  {
   "cell_type": "code",
   "execution_count": 28,
   "metadata": {
    "collapsed": true
   },
   "outputs": [],
   "source": [
    "lr = LinearRegression()"
   ]
  },
  {
   "cell_type": "code",
   "execution_count": 29,
   "metadata": {},
   "outputs": [
    {
     "data": {
      "text/plain": [
       "LinearRegression(copy_X=True, fit_intercept=True, n_jobs=1, normalize=False)"
      ]
     },
     "execution_count": 29,
     "metadata": {},
     "output_type": "execute_result"
    }
   ],
   "source": [
    "lr.fit(X, y)"
   ]
  },
  {
   "cell_type": "code",
   "execution_count": 30,
   "metadata": {},
   "outputs": [
    {
     "name": "stdout",
     "output_type": "stream",
     "text": [
      "CV accuracy scores: [-0.03512252 -0.03444842 -0.04563677 -0.03464486 -0.03491672]\n",
      "\n",
      "CV accuracy: -0.037 +/- 0.004\n"
     ]
    }
   ],
   "source": [
    "scores = cross_val_score(estimator=lr, X=X, y=y, cv=5, n_jobs=-2, scoring='neg_mean_squared_error')\n",
    "print('CV accuracy scores: %s' % scores); print()\n",
    "print('CV accuracy: %.3f +/- %.3f' % (np.mean(scores), np.std(scores)))"
   ]
  },
  {
   "cell_type": "code",
   "execution_count": 33,
   "metadata": {},
   "outputs": [
    {
     "data": {
      "text/plain": [
       "Lasso(alpha=0.5, copy_X=True, fit_intercept=True, max_iter=1000,\n",
       "   normalize=False, positive=False, precompute=False, random_state=None,\n",
       "   selection='cyclic', tol=0.0001, warm_start=False)"
      ]
     },
     "execution_count": 33,
     "metadata": {},
     "output_type": "execute_result"
    }
   ],
   "source": [
    "lasso = Lasso(alpha=.5)\n",
    "lasso.fit(X, y)"
   ]
  },
  {
   "cell_type": "code",
   "execution_count": 34,
   "metadata": {},
   "outputs": [
    {
     "name": "stdout",
     "output_type": "stream",
     "text": [
      "CV accuracy scores: [-0.03543986 -0.03474675 -0.03521423 -0.03496502 -0.03522981]\n",
      "\n",
      "CV accuracy: -0.035 +/- 0.000\n"
     ]
    }
   ],
   "source": [
    "scores = cross_val_score(estimator=lasso, X=X, y=y, cv=5, n_jobs=-1, scoring='neg_mean_squared_error')\n",
    "print('CV accuracy scores: %s' % scores); print()\n",
    "print('CV accuracy: %.3f +/- %.3f' % (np.mean(scores), np.std(scores)))"
   ]
  },
  {
   "cell_type": "code",
   "execution_count": 37,
   "metadata": {
    "collapsed": true
   },
   "outputs": [],
   "source": [
    "ridge = Ridge(alpha=10)\n",
    "scores = cross_val_score(estimator=lasso, X=X, y=y, cv=5, n_jobs=-1, scoring='neg_mean_squared_error')\n"
   ]
  },
  {
   "cell_type": "code",
   "execution_count": 38,
   "metadata": {},
   "outputs": [
    {
     "name": "stdout",
     "output_type": "stream",
     "text": [
      "CV accuracy scores: [-0.03543986 -0.03474675 -0.03521423 -0.03496502 -0.03522981]\n",
      "\n",
      "CV accuracy: -0.035 +/- 0.000\n"
     ]
    }
   ],
   "source": [
    "print('CV accuracy scores: %s' % scores); print()\n",
    "print('CV accuracy: %.3f +/- %.3f' % (np.mean(scores), np.std(scores)))"
   ]
  },
  {
   "cell_type": "code",
   "execution_count": 40,
   "metadata": {
    "collapsed": true
   },
   "outputs": [],
   "source": [
    "X_train, X_test, y_train, y_test = train_test_split(X, y, random_state=42)"
   ]
  },
  {
   "cell_type": "code",
   "execution_count": null,
   "metadata": {},
   "outputs": [],
   "source": [
    "params = {'n_estimators': 500, 'max_depth': 4, 'min_samples_split': 2,\n",
    "          'learning_rate': 0.01, 'loss': 'ls'}\n",
    "clf = GradientBoostingRegressor(**params)\n",
    "\n",
    "clf.fit(X_train, y_train)\n",
    "mse = mean_squared_error(y_test, clf.predict(X_test))\n",
    "print(\"MSE: %.4f\" % mse)"
   ]
  },
  {
   "cell_type": "code",
   "execution_count": null,
   "metadata": {
    "collapsed": true
   },
   "outputs": [],
   "source": []
  }
 ],
 "metadata": {
  "kernelspec": {
   "display_name": "Python 3",
   "language": "python",
   "name": "python3"
  },
  "language_info": {
   "codemirror_mode": {
    "name": "ipython",
    "version": 3
   },
   "file_extension": ".py",
   "mimetype": "text/x-python",
   "name": "python",
   "nbconvert_exporter": "python",
   "pygments_lexer": "ipython3",
   "version": "3.6.2"
  }
 },
 "nbformat": 4,
 "nbformat_minor": 2
}
